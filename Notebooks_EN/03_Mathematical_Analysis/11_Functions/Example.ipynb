{
  "nbformat": 4,
  "nbformat_minor": 0,
  "metadata": {
    "colab": {
      "provenance": []
    },
    "kernelspec": {
      "name": "python3",
      "display_name": "Python 3"
    },
    "language_info": {
      "name": "python"
    }
  },
  "cells": [
    {
      "cell_type": "markdown",
      "source": [
        "## 18. Functions\n",
        "\n",
        "1. Draw in a single Geogebra notebook the following functions:\n",
        "   - $f(x) = x^2$\n",
        "   - $g(x) = \\sqrt{x}$\n",
        "   - $h(x) = \\frac{1}{x}$\n",
        "   - $j(x) = \\sin(x)$\n",
        "\n",
        "Find value of all the above functions at $x = 2$.\n",
        "\n",
        "2. Let $f(x) = 3x - 1$ and $g(x) = \\sqrt{x}$. Find:\n",
        "   - $f(g(x))$\n",
        "   - $g(f(x))$\n",
        "   - $f(f(x))$\n",
        "   - $g(g(x))$\n",
        "\n",
        "and visualize functions in a single Geogebra notebook.\n",
        "\n",
        "3. Let $f(x) = e^x$ and $g(x) = \\ln(x)$. Check: $f(g(x))$ and $g(f(x))$. What do you notice?\n",
        "\n",
        "4. We have function $f=\\{(1,7), (2,9), (3,11)\\}$. Give inverse function $f^{-1}$.\n",
        "\n",
        "5. We have function $f=\\{(1,7), (2,7), (3,11)\\}$. Give inverse function $f^{-1}$.\n",
        "\n",
        "6. We have function $f(x)= x-1$. Give inverse function $f^{-1}$. Show both functions on the same Geogebra notebook."
      ],
      "metadata": {
        "id": "SVa9rLOXgzJe"
      }
    },
    {
      "cell_type": "markdown",
      "source": [
        "# Solutions\n",
        "\n",
        "## Exercise 1\n",
        "\n",
        "Evaluate Functions at \\( x = 2 \\)\n",
        "\n",
        "1. $( f(x) = x^2 )$:  \n",
        "   $$ f(2) = 2^2 = 4 $$\n",
        "\n",
        "2. $( g(x) = \\sqrt{x} )$:  \n",
        "   $$ g(2) = \\sqrt{2} \\approx 1.414 $$\n",
        "\n",
        "3. $( h(x) = \\frac{1}{x} )$:  \n",
        "   $$ h(2) = \\frac{1}{2} = 0.5 $$\n",
        "\n",
        "4. $( j(x) = \\sin(x) )$:  \n",
        "   $$ j(2) \\approx 0.909 $$\n",
        "\n",
        "   https://www.geogebra.org/calculator/yh4x73ec"
      ],
      "metadata": {
        "id": "n_cH_gOM12c0"
      }
    },
    {
      "cell_type": "markdown",
      "source": [
        "# Exercise 2\n",
        "\n",
        "## Steps for Solving Composite Functions\n",
        "\n",
        "1. **Given Functions**  \n",
        "   - $f(x) = 3x - 1$  \n",
        "   - $g(x) = \\sqrt{x}$  \n",
        "\n",
        "2. **Find Each Composite Function**:\n",
        "\n",
        "   - **$f(g(x))$**:  \n",
        "     Substitute $g(x) = \\sqrt{x}$ into $f(x) = 3x - 1$:  \n",
        "     $$ f(g(x)) = f(\\sqrt{x}) = 3\\sqrt{x} - 1 $$  \n",
        "\n",
        "   - **$g(f(x))$**:  \n",
        "     Substitute $f(x) = 3x - 1$ into $g(x) = \\sqrt{x}$:  \n",
        "     $$ g(f(x)) = g(3x - 1) = \\sqrt{3x - 1} $$  \n",
        "\n",
        "   - **$f(f(x))$**:  \n",
        "     Substitute $f(x) = 3x - 1$ into itself:  \n",
        "     $$ f(f(x)) = f(3x - 1) = 3(3x - 1) - 1 = 9x - 4 $$  \n",
        "\n",
        "   - **$g(g(x))$**:  \n",
        "     Substitute $g(x) = \\sqrt{x}$ into itself:  \n",
        "     $$ g(g(x)) = g(\\sqrt{x}) = \\sqrt{\\sqrt{x}} = x^{1/4} $$  \n",
        "\n",
        "## Final Results\n",
        "\n",
        "1. $f(g(x)) = 3\\sqrt{x} - 1$  \n",
        "2. $g(f(x)) = \\sqrt{3x - 1}$  \n",
        "3. $f(f(x)) = 9x - 4$  \n",
        "4. $g(g(x)) = x^{1/4}$\n",
        "\n",
        "https://www.geogebra.org/calculator/kyctjm2q"
      ],
      "metadata": {
        "id": "YnaLqKfB6mmM"
      }
    },
    {
      "cell_type": "markdown",
      "source": [
        "## Exercise 3\n",
        "\n",
        "\n",
        "## Given:\n",
        "- $f(x) = e^x$\n",
        "- $g(x) = \\ln(x)$\n",
        "\n",
        "We need to calculate:\n",
        "1. $f(g(x))$\n",
        "2. $g(f(x))$\n",
        "\n",
        "\n",
        "\n",
        "## Step 1: Compute $f(g(x))$\n",
        "Substitute $g(x) = \\ln(x)$ into $f(x) = e^x$:\n",
        "$$ f(g(x)) = f(\\ln(x)) = e^{\\ln(x)} $$\n",
        "\n",
        "Using the property of exponents and logarithms:\n",
        "$$ e^{\\ln(x)} = x \\quad \\text{(for $x > 0$)} $$\n",
        "\n",
        "Thus:\n",
        "$$ f(g(x)) = x $$\n",
        "\n",
        "\n",
        "\n",
        "## Step 2: Compute $g(f(x))$\n",
        "Substitute $f(x) = e^x$ into $g(x) = \\ln(x)$:\n",
        "$$ g(f(x)) = g(e^x) = \\ln(e^x) $$\n",
        "\n",
        "Using the logarithmic property:\n",
        "$$ \\ln(e^x) = x $$\n",
        "\n",
        "Thus:\n",
        "$$ g(f(x)) = x $$\n",
        "\n",
        "\n",
        "## Observation:\n",
        "1. $f(g(x)) = x$\n",
        "2. $g(f(x)) = x$\n",
        "\n",
        "This shows that $f(x)$ and $g(x)$ are **inverse functions** of each other. When composed in either order, they return the input $x$ (within their respective domains):\n",
        "- $f(g(x)) = x$ for $x > 0$ (domain of $\\ln(x)$).\n",
        "- $g(f(x)) = x$ for all real $x$ (domain of $e^x$).\n",
        "\n",
        "\n",
        "https://www.geogebra.org/calculator/zwqgungn"
      ],
      "metadata": {
        "id": "4NEQugMpBqYs"
      }
    },
    {
      "cell_type": "markdown",
      "source": [
        "# Exercise 4\n",
        "\n",
        "\n",
        "\n",
        "\n",
        "$$f = \\{(1,7), (2,9), (3,11)\\}$$\n",
        "\n",
        "$$f^{-1} = \\{(7,1), (9,2), (11,3)\\}$$\n",
        "\n",
        "\n",
        "\n",
        "\n",
        "\n",
        "https://www.geogebra.org/calculator/kkzs8tzw"
      ],
      "metadata": {
        "id": "Uh6kRnobJUNU"
      }
    },
    {
      "cell_type": "markdown",
      "source": [
        "#Exercise 5\n",
        "\n",
        "$$f = \\{(1,7), (2,7), (3,11)\\}$$\n",
        "\n",
        "$$f^{-1} = \\{(7,1), (7,2), (11,3)\\}$$\n",
        "\n",
        "\n",
        "\n",
        "https://www.geogebra.org/calculator/keu5yhwy"
      ],
      "metadata": {
        "id": "OX_v2zNrMi79"
      }
    },
    {
      "cell_type": "markdown",
      "source": [
        "#Exercise 6\n",
        "\n",
        "\n",
        "$$f = x-1$$\n",
        "$$f^-1 = x+1$$\n",
        "https://www.geogebra.org/calculator/vmgyukzz"
      ],
      "metadata": {
        "id": "iBWjX3eNN1bd"
      }
    }
  ]
}