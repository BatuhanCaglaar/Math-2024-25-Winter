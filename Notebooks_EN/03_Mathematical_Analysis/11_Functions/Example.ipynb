{
  "nbformat": 4,
  "nbformat_minor": 0,
  "metadata": {
    "colab": {
      "provenance": []
    },
    "kernelspec": {
      "name": "python3",
      "display_name": "Python 3"
    },
    "language_info": {
      "name": "python"
    }
  },
  "cells": [
    {
      "cell_type": "markdown",
      "source": [
        "# 20. Limits of Real Functions\n",
        "\n",
        "1. Compute:\n",
        "   - $\\displaystyle\\lim_{x \\to \\infty} \\frac{x^3 + 2x^2}{x^4 - 3x^3}$\n",
        "\n",
        "2. Find:\n",
        "   \n",
        "   - $\\displaystyle \\lim_{x \\to 0} \\frac{\\sin(3x)}{2x+1}$.\n",
        "\n",
        "3. Find the asymptotes of the function:\n",
        "  \n",
        "   - $f(x) = \\frac{x^2 - 1}{x^2 + 1}$\n",
        "   - $g(x) = \\frac{\\sin(x)}{x^2+1}$\n",
        "\n"
      ],
      "metadata": {
        "id": "SVa9rLOXgzJe"
      }
    },
    {
      "cell_type": "markdown",
      "source": [
        "#Solutions\n",
        "\n",
        "##Exercise 1\n",
        "\n",
        "### Given,\n",
        "\n",
        "$$\n",
        "\\lim_{x \\to \\infty} \\frac{x^3 + 2x^2}{x^4 - 3x^3}.\n",
        "$$\n",
        "\n",
        "\n",
        "## Solution:\n",
        "\n",
        "\n",
        "$$\n",
        "\\frac{x^3 + 2x^2}{x^4 - 3x^3} = \\frac{x^4 \\left(\\frac{1}{x} + \\frac{2}{x^2}\\right)}{x^4 \\left(1 - \\frac{3}{x}\\right)}.\n",
        "$$\n",
        "\\\n",
        "$$\n",
        "\\frac{\\frac{1}{x} + \\frac{2}{x^2}}{1 - \\frac{3}{x}}.\n",
        "$$\n",
        "\\\n",
        "$$\n",
        "\\frac{0 + 0}{1 - 0} = 0.\n",
        "$$\n",
        "\\\n",
        "$$\n",
        "\\lim_{x \\to \\infty} \\frac{x^3 + 2x^2}{x^4 - 3x^3} = 0.\n",
        "$$\n"
      ],
      "metadata": {
        "id": "kLGFKa3fjUTC"
      }
    },
    {
      "cell_type": "markdown",
      "source": [
        "## Exercise 2\n",
        "\n",
        "### Given,\n",
        "\n",
        "$$\n",
        "\\lim_{x \\to 0} \\frac{\\sin(3x)}{2x + 1}.\n",
        "$$\n",
        "\n",
        "\n",
        "## Solution:\n",
        "\n",
        "$$\n",
        "\\frac{\\sin(3 \\cdot 0)}{2 \\cdot 0 + 1} = \\frac{\\sin(0)}{1} = \\frac{0}{1} = 0.\n",
        "$$\n",
        "\\\n",
        "$$\n",
        "\\lim_{x \\to 0} \\frac{\\sin(3x)}{2x + 1} = 0.\n",
        "$$\n"
      ],
      "metadata": {
        "id": "GLAuIuK7ki3R"
      }
    },
    {
      "cell_type": "markdown",
      "source": [
        "## Exercise 3\n",
        "\n",
        "### Given,\n",
        "\n",
        "\n",
        "1. $$ f(x) = \\frac{x^2 - 1}{x^2 + 1} $$\n",
        "2. $$ g(x) = \\frac{\\sin(x)}{x^2 + 1} $$\n",
        "\n",
        "\n",
        "\n",
        "## Solution:\n",
        "\n",
        "### 1. Asymptotes of $f(x) = \\frac{x^2 - 1}{x^2 + 1}$\n",
        "\n",
        "\n",
        "\n",
        "$$\n",
        "x^2 + 1 = 0 \\quad \\Rightarrow \\quad x^2 = -1.\n",
        "$$\n",
        "\n",
        "Since there is no real solution to this equation, **there are no vertical asymptotes** for this function.\n",
        "\n",
        "#### Step 2: Check Horizontal Asymptotes\n",
        "\n",
        "\n",
        "\n",
        "$$\n",
        "f(x) = \\frac{x^2 - 1}{x^2 + 1} = \\frac{1 - \\frac{1}{x^2}}{1 + \\frac{1}{x^2}}.\n",
        "$$\n",
        "\\\n",
        "$$\n",
        "f(x) \\to \\frac{1}{1} = 1.\n",
        "$$\n",
        "\n",
        "So, **there is a horizontal asymptote at $y = 1$**.\n",
        "\n",
        "\n",
        "\n",
        "### 2. Asymptotes of $g(x) = \\frac{\\sin(x)}{x^2 + 1}$\n",
        "\n",
        "#### Step 1: Check Vertical Asymptotes\n",
        "\n",
        "For vertical asymptotes, we check the denominator $x^2 + 1$ for values of $x$ that make it zero. However, as shown before, the equation $x^2 + 1 = 0$ has no real solutions. Therefore, **there are no vertical asymptotes** for this function.\n",
        "\n",
        "#### Step 2: Check Horizontal Asymptotes\n",
        "\n",
        "\n",
        "\n",
        "$$\n",
        "g(x) = \\frac{\\sin(x)}{x^2 + 1}.\n",
        "$$\n",
        "\\\n",
        "$$\n",
        "g(x) \\to 0 \\quad \\text{as} \\quad x \\to \\infty \\quad \\text{or} \\quad x \\to -\\infty.\n",
        "$$\n",
        "\n",
        "So, **there is a horizontal asymptote at $y = 0$**.\n",
        "\n",
        "\n",
        "## Final Answers:\n",
        "\n",
        "- For $f(x) = \\frac{x^2 - 1}{x^2 + 1}$, the horizontal asymptote is $y = 1$ and there are **no vertical asymptotes**.\n",
        "- For $g(x) = \\frac{\\sin(x)}{x^2 + 1}$, the horizontal asymptote is $y = 0$ and there are **no vertical asymptotes**.\n",
        "\\\n",
        "https://www.geogebra.org/calculator/kdtdc6w3"
      ],
      "metadata": {
        "id": "Z6GEbn5YluVr"
      }
    }
  ]
}