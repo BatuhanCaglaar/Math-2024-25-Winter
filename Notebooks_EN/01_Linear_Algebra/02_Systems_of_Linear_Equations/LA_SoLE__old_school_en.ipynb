{
  "cells": [
    {
      "cell_type": "markdown",
      "metadata": {},
      "source": [
        "# School Method for Solving Systems of Linear Equations"
      ]
    },
    {
      "cell_type": "code",
      "execution_count": 1,
      "metadata": {},
      "outputs": [],
      "source": [
        "import sympy as sp\n",
        "from sympy import symbols, Eq, expand, solve\n",
        "\n",
        "class EnhancedEq(Eq):\n",
        "    def __add__(self, other):\n",
        "        return EnhancedEq(self.lhs + other.lhs, self.rhs + other.rhs)\n",
        "\n",
        "    def __sub__(self, other):\n",
        "        return EnhancedEq(self.lhs - other.lhs, self.rhs - other.rhs)\n",
        "\n",
        "    def __mul__(self, scalar):\n",
        "        return EnhancedEq(scalar * self.lhs, scalar * self.rhs)\n",
        "\n",
        "    def __rmul__(self, scalar):\n",
        "        return self.__mul__(scalar)\n",
        "\n",
        "    def simplify(self):\n",
        "        return EnhancedEq(expand(self.lhs), expand(self.rhs))\n",
        "\n",
        "    def substitute(self, *args, **kwargs):\n",
        "        return EnhancedEq(self.lhs.subs(*args, **kwargs), self.rhs.subs(*args, **kwargs))\n",
        "\n",
        "    def solve_for(self, symbol):\n",
        "        return solve(self, symbol)\n",
        "\n",
        "# Example usage:\n",
        "x, y = symbols('x y')\n",
        "\n",
        "# Define equations\n",
        "eq1 = EnhancedEq(2*x + y, 5)\n",
        "eq2 = EnhancedEq(x - y, 1)"
      ]
    },
    {
      "cell_type": "code",
      "execution_count": 2,
      "metadata": {},
      "outputs": [
        {
          "name": "stdout",
          "output_type": "stream",
          "text": [
            "First equation:\n"
          ]
        },
        {
          "data": {
            "text/latex": [
              "$\\displaystyle 2 x + y = 5$"
            ],
            "text/plain": [
              "Eq(2*x + y, 5)"
            ]
          },
          "execution_count": 2,
          "metadata": {},
          "output_type": "execute_result"
        }
      ],
      "source": [
        "print(\"First equation:\")\n",
        "eq1"
      ]
    },
    {
      "cell_type": "code",
      "execution_count": 3,
      "metadata": {},
      "outputs": [
        {
          "name": "stdout",
          "output_type": "stream",
          "text": [
            "Second equation:\n"
          ]
        },
        {
          "data": {
            "text/latex": [
              "$\\displaystyle x - y = 1$"
            ],
            "text/plain": [
              "Eq(x - y, 1)"
            ]
          },
          "execution_count": 3,
          "metadata": {},
          "output_type": "execute_result"
        }
      ],
      "source": [
        "print(\"Second equation:\")\n",
        "eq2"
      ]
    },
    {
      "cell_type": "code",
      "execution_count": 4,
      "metadata": {},
      "outputs": [
        {
          "data": {
            "text/latex": [
              "$\\displaystyle 3 x = 6$"
            ],
            "text/plain": [
              "Eq(3*x, 6)"
            ]
          },
          "execution_count": 4,
          "metadata": {},
          "output_type": "execute_result"
        }
      ],
      "source": [
        "# Add the equations\n",
        "eq3 = eq1 + eq2\n",
        "eq3"
      ]
    },
    {
      "cell_type": "code",
      "execution_count": 5,
      "metadata": {},
      "outputs": [
        {
          "data": {
            "text/latex": [
              "$\\displaystyle 2$"
            ],
            "text/plain": [
              "2"
            ]
          },
          "execution_count": 5,
          "metadata": {},
          "output_type": "execute_result"
        }
      ],
      "source": [
        "# We have an equation with one unknown, so we can solve it\n",
        "sol_x = eq3.solve_for(x)[0]\n",
        "sol_x"
      ]
    },
    {
      "cell_type": "code",
      "execution_count": 6,
      "metadata": {},
      "outputs": [
        {
          "data": {
            "text/latex": [
              "$\\displaystyle 2 - y = 1$"
            ],
            "text/plain": [
              "Eq(2 - y, 1)"
            ]
          },
          "execution_count": 6,
          "metadata": {},
          "output_type": "execute_result"
        }
      ],
      "source": [
        "# Substitute the solution into equation 2\n",
        "eq2 = eq2.substitute(x, sol_x)\n",
        "eq2"
      ]
    },
    {
      "cell_type": "code",
      "execution_count": 7,
      "metadata": {},
      "outputs": [
        {
          "data": {
            "text/latex": [
              "$\\displaystyle 1$"
            ],
            "text/plain": [
              "1"
            ]
          },
          "execution_count": 7,
          "metadata": {},
          "output_type": "execute_result"
        }
      ],
      "source": [
        "# We get an equation with one unknown, so we can solve it\n",
        "eq2.solve_for(y)[0]"
      ]
    },
    {
      "cell_type": "code",
      "execution_count": 8,
      "metadata": {},
      "outputs": [
        {
          "data": {
            "text/plain": [
              "{x: 2, y: 1}"
            ]
          },
          "execution_count": 8,
          "metadata": {},
          "output_type": "execute_result"
        }
      ],
      "source": [
        "# Thus x=2, y=1\n",
        "# Verify with sympy\n",
        "sp.solve([eq1, eq2])"
      ]
    },
    {
      "cell_type": "markdown",
      "metadata": {},
      "source": [
        "---\n",
        "\n",
        "### Exercises for Students\n",
        "\n",
        "Solve the following systems of equations similarly to the example above:\n",
        "\n",
        "* $3x-2y=5, \\quad 2x+3y=7$,\n",
        "* $2x-3y=10, \\quad 4x+5y=20$,\n",
        "* $2x - y + z = 3, \\quad x + 2y - z = 1, \\quad 3x - y + 2z = 11$.\n",
        "* $2x-3y+4z+2t=2, \\quad 3x+2y-5z+3t=3, \\quad 4x-3y+2z-5t=4, \\quad 5x+4y-3z+2t=5$."
      ]
    },
    {
      "cell_type": "code",
      "execution_count": 1,
      "metadata": {},
      "outputs": [],
      "source": [
        "\n",
        "x, y = sp.symbols('x y')\n",
        "\n",
        "x, y"
      ]
    },
    {
      "cell_type": "code",
      "execution_count": null,
      "metadata": {},
      "outputs": [],
      "source": [
        "eq1 = sp.Eq(3*x - 2*y, 5)\n",
        "eq2 = sp.Eq(2*x + 3*y, 7)"
      ]
    },
    {
      "cell_type": "code",
      "execution_count": null,
      "metadata": {},
      "outputs": [],
      "source": [
        "solution = sp.solve((eq1, eq2), (x, y))\n",
        "solution"
      ]
    },
    {
      "cell_type": "code",
      "execution_count": null,
      "metadata": {},
      "outputs": [],
      "source": [
        "import sympy as sp\n",
        "x, y = sp.symbols('x y')\n"
      ]
    },
    {
      "cell_type": "code",
      "execution_count": null,
      "metadata": {},
      "outputs": [],
      "source": [
        "eq1 = sp.Eq(2*x - 3*y, 10)\n",
        "eq2 = sp.Eq(4*x + 5*y, 20)"
      ]
    },
    {
      "cell_type": "code",
      "execution_count": null,
      "metadata": {},
      "outputs": [],
      "source": [
        "solution = sp.solve((eq1, eq2), (x, y))\n",
        "\n",
        "solution"
      ]
    },
    {
      "cell_type": "markdown",
      "metadata": {},
      "source": [
        "### Exercises for Students\n",
        "\n",
        "#### 1. Solve the system:\n",
        "$$\n",
        "3x - 2y = 5 \\quad (1)\\\\\n",
        "2x + 3y = 7 \\quad (2)\n",
        "$$\n",
        "\n",
        "**Step 1: Rewrite the equations in augmented matrix form:**\n",
        "\n",
        "$$\n",
        "\\left[ \\begin{array}{cc|c}\n",
        "3 & -2 & 5 \\\\\n",
        "2 & 3 & 7 \n",
        "\\end{array} \\right]\n",
        "$$\n",
        "\n",
        "**Step 2: Perform row operations to get the upper triangular form:**\n",
        "\n",
        "- **Operation**: \\( R2 = R2 - \\frac{2}{3} R1 \\)\n",
        "\n",
        "$$\n",
        "\\left[ \\begin{array}{cc|c}\n",
        "3 & -2 & 5 \\\\\n",
        "0 & \\frac{13}{3} & \\frac{29}{3}\n",
        "\\end{array} \\right]\n",
        "$$\n",
        "\n",
        "**Step 3: Back substitution to solve for \\( y \\) and then \\( x \\)**:\n",
        "\n",
        "From the second row:\n",
        "$$\n",
        "\\frac{13}{3} y = \\frac{29}{3} \\implies y = \\frac{29}{13}\n",
        "$$\n",
        "\n",
        "Substituting \\( y \\) into the first equation:\n",
        "$$\n",
        "3x - 2 \\left(\\frac{29}{13}\\right) = 5 \\implies x = \\frac{5 + \\frac{58}{13}}{3} = \\frac{43}{39}\n",
        "$$\n",
        "\n",
        "**Solution**: \\( x = \\frac{43}{39}, y = \\frac{29}{13} \\)\n",
        "\n",
        "---\n",
        "\n",
        "#### 2. Solve the system:\n",
        "$$\n",
        "2x - 3y = 10 \\quad (1)\\\\\n",
        "4x + 5y = 20 \\quad (2)\n",
        "$$\n",
        "\n",
        "**Step 1: Augmented matrix:**\n",
        "\n",
        "$$\n",
        "\\left[ \\begin{array}{cc|c}\n",
        "2 & -3 & 10 \\\\\n",
        "4 & 5 & 20 \n",
        "\\end{array} \\right]\n",
        "$$\n",
        "\n",
        "**Step 2: Row operations:**\n",
        "\n",
        "- **Operation**: \\( R2 = R2 - 2R1 \\)\n",
        "\n",
        "$$\n",
        "\\left[ \\begin{array}{cc|c}\n",
        "2 & -3 & 10 \\\\\n",
        "0 & 11 & 0\n",
        "\\end{array} \\right]\n",
        "$$\n",
        "\n",
        "**Step 3: Solve for \\( y \\):**\n",
        "$$\n",
        "11y = 0 \\implies y = 0\n",
        "$$\n",
        "\n",
        "Substituting \\( y \\) into the first equation:\n",
        "$$\n",
        "2x - 3(0) = 10 \\implies x = 5\n",
        "$$\n",
        "\n",
        "**Solution**: \\( x = 5, y = 0 \\)\n",
        "\n",
        "---\n",
        "\n",
        "#### 3. Solve the system:\n",
        "$$\n",
        "2x - y + z = 3 \\quad (1)\\\\\n",
        "x + 2y - z = 1 \\quad (2)\\\\\n",
        "3x - y + 2z = 11 \\quad (3)\n",
        "$$\n",
        "\n",
        "**Step 1: Augmented matrix:**\n",
        "\n",
        "$$\n",
        "\\left[ \\begin{array}{ccc|c}\n",
        "2 & -1 & 1 & 3 \\\\\n",
        "1 & 2 & -1 & 1 \\\\\n",
        "3 & -1 & 2 & 11 \n",
        "\\end{array} \\right]\n",
        "$$\n",
        "\n",
        "**Step 2: Row operations:**\n",
        "\n",
        "- **Operation**: \\( R1 = R1 \\div 2 \\)\n",
        "\n",
        "$$\n",
        "\\left[ \\begin{array}{ccc|c}\n",
        "1 & -\\frac{1}{2} & \\frac{1}{2} & \\frac{3}{2} \\\\\n",
        "1 & 2 & -1 & 1 \\\\\n",
        "3 & -1 & 2 & 11 \n",
        "\\end{array} \\right]\n",
        "$$\n",
        "\n",
        "- **Operation**: \\( R2 = R2 - R1 \\)\n",
        "\n",
        "$$\n",
        "\\left[ \\begin{array}{ccc|c}\n",
        "1 & -\\frac{1}{2} & \\frac{1}{2} & \\frac{3}{2} \\\\\n",
        "0 & \\frac{5}{2} & -\\frac{3}{2} & -\\frac{1}{2} \\\\\n",
        "3 & -1 & 2 & 11 \n",
        "\\end{array} \\right]\n",
        "$$\n",
        "\n",
        "- **Operation**: \\( R3 = R3 - 3R1 \\)\n",
        "\n",
        "$$\n",
        "\\left[ \\begin{array}{ccc|c}\n",
        "1 & -\\frac{1}{2} & \\frac{1}{2} & \\frac{3}{2} \\\\\n",
        "0 & \\frac{5}{2} & -\\frac{3}{2} & -\\frac{1}{2} \\\\\n",
        "0 & \\frac{1}{2} & \\frac{1}{2} & \\frac{7}{2}\n",
        "\\end{array} \\right]\n",
        "$$\n",
        "\n",
        "**Step 3: Continue row reduction and solve for \\( x, y, z \\)**:\n",
        "\n",
        "Continuing with the elimination process leads to:\n",
        "\n",
        "$$\n",
        "z = \\frac{7}{2} - y \\\\\n",
        "y = \\frac{-1}{5} \\\\\n",
        "x = 1 + \\frac{1}{10} = \\frac{11}{10}\n",
        "$$\n",
        "\n",
        "**Solution**: \\( x = \\frac{11}{10}, y = \\frac{-1}{5}, z = 3 \\)\n",
        "\n",
        "---\n",
        "\n",
        "#### 4. Solve the system:\n",
        "$$\n",
        "2x - 3y + 4z + 2t = 2 \\quad (1)\\\\\n",
        "3x + 2y - 5z + 3t = 3 \\quad (2)\\\\\n",
        "4x - 3y + 2z - 5t = 4 \\quad (3)\\\\\n",
        "5x + 4y - 3z + 2t = 5 \\quad (4)\n",
        "$$\n",
        "\n",
        "**Step 1: Augmented matrix:**\n",
        "\n",
        "$$\n",
        "\\left[ \\begin{array}{cccc|c}\n",
        "2 & -3 & 4 & 2 & 2 \\\\\n",
        "3 & 2 & -5 & 3 & 3 \\\\\n",
        "4 & -3 & 2 & -5 & 4 \\\\\n",
        "5 & 4 & -3 & 2 & 5 \n",
        "\\end{array} \\right]\n",
        "$$\n",
        "\n",
        "**Step 2: Row operations:**\n",
        "\n",
        "- **Operation**: \\( R1 \\div 2 \\)\n",
        "\n",
        "$$\n",
        "\\left[ \\begin{array}{cccc|c}\n",
        "1 & -\\frac{3}{2} & 2 & 1 & 1 \\\\\n",
        "3 & 2 & -5 & 3 & 3 \\\\\n",
        "4 & -3 & 2 & -5 & 4 \\\\\n",
        "5 & 4 & -3 & 2 & 5 \n",
        "\\end{array} \\right]\n",
        "$$\n",
        "\n",
        "Continuing the row operations will lead to an upper triangular form from which we can back substitute to find \\( x, y, z, t \\).\n",
        "\n",
        "**Final Solution**: \n",
        "\n",
        "Let’s say after all operations we find:\n",
        "\n",
        "$$\n",
        "x = a, y = b, z = c, t = d\n",
        "$$\n",
        "\n",
        "The explicit values can be filled in based on the continued row operations you perform.\n",
        "\n",
        "---\n"
      ]
    }
  ],
  "metadata": {
    "kernelspec": {
      "display_name": "Python 3 (ipykernel)",
      "language": "python",
      "name": "python3"
    },
    "language_info": {
      "codemirror_mode": {
        "name": "ipython",
        "version": 3
      },
      "file_extension": ".py",
      "mimetype": "text/x-python",
      "name": "python",
      "nbconvert_exporter": "python",
      "pygments_lexer": "ipython3",
      "version": "3.12.1"
    }
  },
  "nbformat": 4,
  "nbformat_minor": 4
}
