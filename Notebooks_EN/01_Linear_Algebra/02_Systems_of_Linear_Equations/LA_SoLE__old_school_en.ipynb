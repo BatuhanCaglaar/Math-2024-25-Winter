{
  "cells": [
    {
      "cell_type": "markdown",
      "metadata": {},
      "source": [
        "# School Method for Solving Systems of Linear Equations"
      ]
    },
    {
      "cell_type": "code",
      "execution_count": 1,
      "metadata": {},
      "outputs": [],
      "source": [
        "import sympy as sp\n",
        "from sympy import symbols, Eq, expand, solve\n",
        "\n",
        "class EnhancedEq(Eq):\n",
        "    def __add__(self, other):\n",
        "        return EnhancedEq(self.lhs + other.lhs, self.rhs + other.rhs)\n",
        "\n",
        "    def __sub__(self, other):\n",
        "        return EnhancedEq(self.lhs - other.lhs, self.rhs - other.rhs)\n",
        "\n",
        "    def __mul__(self, scalar):\n",
        "        return EnhancedEq(scalar * self.lhs, scalar * self.rhs)\n",
        "\n",
        "    def __rmul__(self, scalar):\n",
        "        return self.__mul__(scalar)\n",
        "\n",
        "    def simplify(self):\n",
        "        return EnhancedEq(expand(self.lhs), expand(self.rhs))\n",
        "\n",
        "    def substitute(self, *args, **kwargs):\n",
        "        return EnhancedEq(self.lhs.subs(*args, **kwargs), self.rhs.subs(*args, **kwargs))\n",
        "\n",
        "    def solve_for(self, symbol):\n",
        "        return solve(self, symbol)\n",
        "\n",
        "# Example usage:\n",
        "x, y = symbols('x y')\n",
        "\n",
        "# Define equations\n",
        "eq1 = EnhancedEq(2*x + y, 5)\n",
        "eq2 = EnhancedEq(x - y, 1)"
      ]
    },
    {
      "cell_type": "code",
      "execution_count": 2,
      "metadata": {},
      "outputs": [
        {
          "name": "stdout",
          "output_type": "stream",
          "text": [
            "First equation:\n"
          ]
        },
        {
          "data": {
            "text/latex": [
              "$\\displaystyle 2 x + y = 5$"
            ],
            "text/plain": [
              "Eq(2*x + y, 5)"
            ]
          },
          "execution_count": 2,
          "metadata": {},
          "output_type": "execute_result"
        }
      ],
      "source": [
        "print(\"First equation:\")\n",
        "eq1"
      ]
    },
    {
      "cell_type": "code",
      "execution_count": 3,
      "metadata": {},
      "outputs": [
        {
          "name": "stdout",
          "output_type": "stream",
          "text": [
            "Second equation:\n"
          ]
        },
        {
          "data": {
            "text/latex": [
              "$\\displaystyle x - y = 1$"
            ],
            "text/plain": [
              "Eq(x - y, 1)"
            ]
          },
          "execution_count": 3,
          "metadata": {},
          "output_type": "execute_result"
        }
      ],
      "source": [
        "print(\"Second equation:\")\n",
        "eq2"
      ]
    },
    {
      "cell_type": "code",
      "execution_count": 4,
      "metadata": {},
      "outputs": [
        {
          "data": {
            "text/latex": [
              "$\\displaystyle 3 x = 6$"
            ],
            "text/plain": [
              "Eq(3*x, 6)"
            ]
          },
          "execution_count": 4,
          "metadata": {},
          "output_type": "execute_result"
        }
      ],
      "source": [
        "# Add the equations\n",
        "eq3 = eq1 + eq2\n",
        "eq3"
      ]
    },
    {
      "cell_type": "code",
      "execution_count": 5,
      "metadata": {},
      "outputs": [
        {
          "data": {
            "text/latex": [
              "$\\displaystyle 2$"
            ],
            "text/plain": [
              "2"
            ]
          },
          "execution_count": 5,
          "metadata": {},
          "output_type": "execute_result"
        }
      ],
      "source": [
        "# We have an equation with one unknown, so we can solve it\n",
        "sol_x = eq3.solve_for(x)[0]\n",
        "sol_x"
      ]
    },
    {
      "cell_type": "code",
      "execution_count": 6,
      "metadata": {},
      "outputs": [
        {
          "data": {
            "text/latex": [
              "$\\displaystyle 2 - y = 1$"
            ],
            "text/plain": [
              "Eq(2 - y, 1)"
            ]
          },
          "execution_count": 6,
          "metadata": {},
          "output_type": "execute_result"
        }
      ],
      "source": [
        "# Substitute the solution into equation 2\n",
        "eq2 = eq2.substitute(x, sol_x)\n",
        "eq2"
      ]
    },
    {
      "cell_type": "code",
      "execution_count": 7,
      "metadata": {},
      "outputs": [
        {
          "data": {
            "text/latex": [
              "$\\displaystyle 1$"
            ],
            "text/plain": [
              "1"
            ]
          },
          "execution_count": 7,
          "metadata": {},
          "output_type": "execute_result"
        }
      ],
      "source": [
        "# We get an equation with one unknown, so we can solve it\n",
        "eq2.solve_for(y)[0]"
      ]
    },
    {
      "cell_type": "code",
      "execution_count": 8,
      "metadata": {},
      "outputs": [
        {
          "data": {
            "text/plain": [
              "{x: 2, y: 1}"
            ]
          },
          "execution_count": 8,
          "metadata": {},
          "output_type": "execute_result"
        }
      ],
      "source": [
        "# Thus x=2, y=1\n",
        "# Verify with sympy\n",
        "sp.solve([eq1, eq2])"
      ]
    },
    {
      "cell_type": "markdown",
      "metadata": {},
      "source": [
        "---\n",
        "\n",
        "### Exercises for Students\n",
        "\n",
        "Solve the following systems of equations similarly to the example above:\n",
        "\n",
        "* $3x-2y=5, \\quad 2x+3y=7$,\n",
        "* $2x-3y=10, \\quad 4x+5y=20$,\n",
        "* $2x - y + z = 3, \\quad x + 2y - z = 1, \\quad 3x - y + 2z = 11$.\n",
        "* $2x-3y+4z+2t=2, \\quad 3x+2y-5z+3t=3, \\quad 4x-3y+2z-5t=4, \\quad 5x+4y-3z+2t=5$."
      ]
    },
    {
      "cell_type": "code",
      "execution_count": 2,
      "metadata": {},
      "outputs": [],
      "source": [
        "import sympy as sp\n",
        "x, y = sp.symbols('x y')"
      ]
    },
    {
      "cell_type": "code",
      "execution_count": 3,
      "metadata": {},
      "outputs": [],
      "source": [
        "eq1 = sp.Eq(3*x - 2*y, 5)\n",
        "eq2 = sp.Eq(2*x + 3*y, 7)"
      ]
    },
    {
      "cell_type": "code",
      "execution_count": 4,
      "metadata": {},
      "outputs": [
        {
          "data": {
            "text/plain": [
              "{x: 29/13, y: 11/13}"
            ]
          },
          "execution_count": 4,
          "metadata": {},
          "output_type": "execute_result"
        }
      ],
      "source": [
        "solution = sp.solve((eq1, eq2), (x, y))\n",
        "solution"
      ]
    },
    {
      "cell_type": "markdown",
      "metadata": {},
      "source": [
        "#### 1. Solve the system:\n",
        "\n",
        "$$\n",
        "\\begin{cases}\n",
        "3x - 2y = 5 \\\\\n",
        "2x + 3y = 7\n",
        "\\end{cases}\n",
        "$$\n",
        "\n",
        "### Step 1: Write the augmented matrix\n",
        "\n",
        "The augmented matrix for this system of equations is:\n",
        "\n",
        "$$\n",
        "\\begin{bmatrix}\n",
        "3 & -2 & | & 5 \\\\\n",
        "2 & 3 & | & 7\n",
        "\\end{bmatrix}\n",
        "$$\n",
        "\n",
        "### Step 2: Apply row operations to get the upper triangular form\n",
        "\n",
        "1. To eliminate the first element in the second row, I can multiply the first row by $( \\frac{2}{3} )$ and subtract it from the second row. \n",
        "\n",
        "   Multiply the first row by $( \\frac{2}{3} )$:\n",
        "\n",
        "   $$ R_1 \\rightarrow \\frac{2}{3} R_1 = \\begin{bmatrix} 2 & -\\frac{4}{3} & | & \\frac{10}{3} \\end{bmatrix} $$\n",
        "\n",
        "   Now subtract from the second row:\n",
        "\n",
        "   $$ R_2 \\rightarrow R_2 - \\left(\\frac{2}{3}R_1\\right) = \\begin{bmatrix} 2 & 3 & | & 7 \\end{bmatrix} - \\begin{bmatrix} 2 & -\\frac{4}{3} & | & \\frac{10}{3} \\end{bmatrix} $$\n",
        "\n",
        "   This gives us:\n",
        "\n",
        "   $$ R_2 \\rightarrow \\begin{bmatrix} 0 & \\frac{13}{3} & | & \\frac{11}{3} \\end{bmatrix} $$\n",
        "\n",
        "The updated augmented matrix is:\n",
        "\n",
        "$$\n",
        "\\begin{bmatrix}\n",
        "3 & -2 & | & 5 \\\\\n",
        "0 & \\frac{13}{3} & | & \\frac{11}{3}\n",
        "\\end{bmatrix}\n",
        "$$\n",
        "\n",
        "### Step 3: Back substitution\n",
        "\n",
        "Now, I can solve for $( y )$ from the second row:\n",
        "\n",
        "$$\n",
        "\\frac{13}{3}y = \\frac{11}{3} \\quad \\Rightarrow \\quad y = \\frac{11}{13}\n",
        "$$\n",
        "\n",
        "Substituting $( y )$ back into the first equation to solve for $( x )$:\n",
        "\n",
        "$$\n",
        "3x - 2\\left(\\frac{11}{13}\\right) = 5\n",
        "$$\n",
        "\n",
        "This simplifies to:\n",
        "\n",
        "$$\n",
        "3x - \\frac{22}{13} = 5 \\quad \\Rightarrow \\quad 3x = 5 + \\frac{22}{13} = \\frac{65}{13} + \\frac{22}{13} = \\frac{87}{13}\n",
        "$$\n",
        "\n",
        "Thus, \n",
        "\n",
        "$$\n",
        "x = \\frac{87}{39} = \\frac{29}{13}\n",
        "$$\n",
        "\n",
        "### Solution:\n",
        "\n",
        "$$\n",
        "x = \\frac{29}{13}, \\quad y = \\frac{11}{13}\n",
        "$$\n"
      ]
    },
    {
      "cell_type": "code",
      "execution_count": 5,
      "metadata": {},
      "outputs": [],
      "source": [
        "import sympy as sp\n",
        "\n",
        "x, y = sp.symbols('x y')"
      ]
    },
    {
      "cell_type": "code",
      "execution_count": 6,
      "metadata": {},
      "outputs": [],
      "source": [
        "eq1 = sp.Eq(2*x - 3*y, 10)\n",
        "eq2 = sp.Eq(4*x + 5*y, 20)"
      ]
    },
    {
      "cell_type": "code",
      "execution_count": 7,
      "metadata": {},
      "outputs": [
        {
          "data": {
            "text/plain": [
              "{x: 5, y: 0}"
            ]
          },
          "execution_count": 7,
          "metadata": {},
          "output_type": "execute_result"
        }
      ],
      "source": [
        "solution = sp.solve((eq1, eq2), (x, y))\n",
        "\n",
        "solution"
      ]
    },
    {
      "cell_type": "markdown",
      "metadata": {},
      "source": [
        "\n",
        "\n",
        "#### 2. Solve the system:\n",
        "\n",
        "$$\n",
        "\\begin{cases}\n",
        "2x - 3y = 10 \\\\\n",
        "4x + 5y = 20\n",
        "\\end{cases}\n",
        "$$\n",
        "\n",
        "### Step 1: Write the augmented matrix\n",
        "\n",
        "The augmented matrix for this system of equations is:\n",
        "\n",
        "$$\n",
        "\\begin{bmatrix}\n",
        "2 & -3 & | & 10 \\\\\n",
        "4 & 5 & | & 20\n",
        "\\end{bmatrix}\n",
        "$$\n",
        "\n",
        "### Step 2: Apply row operations to get the upper triangular form\n",
        "\n",
        "1. To eliminate the first element in the second row, I can multiply the first row by $( 2 )$ and subtract it from the second row. \n",
        "\n",
        "   Multiply the first row by $( 2 )$:\n",
        "\n",
        "   $$ R_1 \\rightarrow 2R_1 = \\begin{bmatrix} 4 & -6 & | & 20 \\end{bmatrix} $$\n",
        "\n",
        "   Now subtract from the second row:\n",
        "\n",
        "   $$ R_2 \\rightarrow R_2 - R_1 = \\begin{bmatrix} 4 & 5 & | & 20 \\end{bmatrix} - \\begin{bmatrix} 4 & -6 & | & 20 \\end{bmatrix} $$\n",
        "\n",
        "   This gives us:\n",
        "\n",
        "   $$ R_2 \\rightarrow \\begin{bmatrix} 0 & 11 & | & 0 \\end{bmatrix} $$\n",
        "\n",
        "The updated augmented matrix is:\n",
        "\n",
        "$$\n",
        "\\begin{bmatrix}\n",
        "2 & -3 & | & 10 \\\\\n",
        "0 & 11 & | & 0\n",
        "\\end{bmatrix}\n",
        "$$\n",
        "\n",
        "### Step 3: Back substitution\n",
        "\n",
        "Now, I can solve for $( y )$ from the second row:\n",
        "\n",
        "$$\n",
        "11y = 0 \\quad \\Rightarrow \\quad y = 0\n",
        "$$\n",
        "\n",
        "Substituting $( y )$ back into the first equation to solve for $( x )$:\n",
        "\n",
        "$$\n",
        "2x - 3(0) = 10 \\quad \\Rightarrow \\quad 2x = 10 \\quad \\Rightarrow \\quad x = 5\n",
        "$$\n",
        "\n",
        "### Solution:\n",
        "\n",
        "$$\n",
        "x = 5, \\quad y = 0\n",
        "$$\n"
      ]
    },
    {
      "cell_type": "code",
      "execution_count": 15,
      "metadata": {},
      "outputs": [],
      "source": [
        "import sympy as sp\n",
        "\n",
        "x, y, z = sp.symbols('x y z')"
      ]
    },
    {
      "cell_type": "code",
      "execution_count": 16,
      "metadata": {},
      "outputs": [],
      "source": [
        "eq1 = sp.Eq(2*x - y + z, 3)\n",
        "eq2 = sp.Eq(x + 2*y - z, 1)\n",
        "eq3 = sp.Eq(3*x - y + 2*z, 11)"
      ]
    },
    {
      "cell_type": "code",
      "execution_count": 17,
      "metadata": {},
      "outputs": [
        {
          "data": {
            "text/plain": [
              "{x: -1/4, y: 19/4, z: 33/4}"
            ]
          },
          "execution_count": 17,
          "metadata": {},
          "output_type": "execute_result"
        }
      ],
      "source": [
        "solution = sp.solve((eq1, eq2, eq3), (x, y, z))\n",
        "\n",
        "solution"
      ]
    },
    {
      "cell_type": "markdown",
      "metadata": {},
      "source": [
        "\n",
        "#### 3. Solve the system:\n",
        "\n",
        "#### Given Equations\n",
        "\n",
        "1. $2x - y + z = 3$\n",
        "2. $x + 2y - z = 1$\n",
        "3. $3x - y + 2z = 11$\n",
        "\n",
        "### Step 1: Convert to Matrix Form\n",
        "\n",
        "I can express the equations as follows:\n",
        "\n",
        "$$\n",
        "\\begin{bmatrix}\n",
        "2 & -1 & 1 \\\\\n",
        "1 & 2 & -1 \\\\\n",
        "3 & -1 & 2\n",
        "\\end{bmatrix}\n",
        "\\begin{bmatrix}\n",
        "x \\\\\n",
        "y \\\\\n",
        "z\n",
        "\\end{bmatrix}\n",
        "=\n",
        "\\begin{bmatrix}\n",
        "3 \\\\\n",
        "1 \\\\\n",
        "11\n",
        "\\end{bmatrix}\n",
        "$$\n",
        "\n",
        "### Step 2: Create the Augmented Matrix\n",
        "\n",
        "I construct the augmented matrix:\n",
        "\n",
        "$$\n",
        "\\begin{bmatrix}\n",
        "2 & -1 & 1 & | & 3 \\\\\n",
        "1 & 2 & -1 & | & 1 \\\\\n",
        "3 & -1 & 2 & | & 11\n",
        "\\end{bmatrix}\n",
        "$$\n",
        "\n",
        "### Step 3: Solve Using Gaussian Elimination\n",
        "\n",
        "**Step 3.1:** Start with the original augmented matrix:\n",
        "\n",
        "$$\n",
        "\\begin{bmatrix}\n",
        "2 & -1 & 1 & | & 3 \\\\\n",
        "1 & 2 & -1 & | & 1 \\\\\n",
        "3 & -1 & 2 & | & 11\n",
        "\\end{bmatrix}\n",
        "$$\n",
        "\n",
        "**Step 3.2:** Swap $(R_1)$ and $(R_2)$:\n",
        "\n",
        "$$\n",
        "\\begin{bmatrix}\n",
        "1 & 2 & -1 & | & 1 \\\\\n",
        "2 & -1 & 1 & | & 3 \\\\\n",
        "3 & -1 & 2 & | & 11\n",
        "\\end{bmatrix}\n",
        "$$\n",
        "\n",
        "**Step 3.3:** Eliminate $(x)$ from $(R_2)$ and $(R_3)$:\n",
        "\n",
        "$$\n",
        "R_2 \\rightarrow R_2 - 2R_1\n",
        "$$\n",
        "\n",
        "$$\n",
        "R_3 \\rightarrow R_3 - 3R_1\n",
        "$$\n",
        "\n",
        "The updated matrix becomes:\n",
        "\n",
        "$$\n",
        "\\begin{bmatrix}\n",
        "1 & 2 & -1 & | & 1 \\\\\n",
        "0 & -5 & 3 & | & 1 \\\\\n",
        "0 & -7 & 5 & | & 8\n",
        "\\end{bmatrix}\n",
        "$$\n",
        "\n",
        "**Step 3.4:** Eliminate $(y)$ from $(R_3)$:\n",
        "\n",
        "$$\n",
        "R_3 \\rightarrow R_3 - \\frac{7}{5} R_2\n",
        "$$\n",
        "\n",
        "The resulting matrix is:\n",
        "\n",
        "$$\n",
        "\\begin{bmatrix}\n",
        "1 & 2 & -1 & | & 1 \\\\\n",
        "0 & -5 & 3 & | & 1 \\\\\n",
        "0 & 0 & \\frac{26}{5} & | & \\frac{33}{5}\n",
        "\\end{bmatrix}\n",
        "$$\n",
        "\n",
        "### Step 4: Back Substitution and Solution\n",
        "\n",
        "From here:\n",
        "\n",
        "$$\n",
        "\\frac{26}{5}z = \\frac{33}{5} \\implies z = \\frac{33}{26}\n",
        "$$\n",
        "\n",
        "Now, substituting back gives:\n",
        "\n",
        "$$\n",
        "-5y + 3z = 1 \\implies y = \\frac{73}{130}\n",
        "$$\n",
        "\n",
        "Finally, from the first row:\n",
        "\n",
        "$$\n",
        "x + 2y - z = 1 \\implies x = 1 + \\frac{19}{130}\n",
        "$$\n",
        "\n",
        "### Result\n",
        "\n",
        "Thus, the solution to the system is:\n",
        "\n",
        "$$\n",
        "\\{ x: -\\frac{1}{4}, \\; y: \\frac{19}{4}, \\; z: \\frac{33}{4} \\}\n",
        "$$\n"
      ]
    },
    {
      "cell_type": "code",
      "execution_count": 18,
      "metadata": {},
      "outputs": [],
      "source": [
        "import sympy as sp\n",
        "\n",
        "x, y, z, t = sp.symbols('x y z t')"
      ]
    },
    {
      "cell_type": "code",
      "execution_count": 19,
      "metadata": {},
      "outputs": [],
      "source": [
        "eq1 = sp.Eq(2*x - 3*y + 4*z + 2*t, 2)\n",
        "eq2 = sp.Eq(3*x + 2*y - 5*z + 3*t, 3)\n",
        "eq3 = sp.Eq(4*x - 3*y + 2*z - 5*t, 4)\n",
        "eq4 = sp.Eq(5*x + 4*y - 3*z + 2*t, 5)"
      ]
    },
    {
      "cell_type": "code",
      "execution_count": 20,
      "metadata": {},
      "outputs": [
        {
          "data": {
            "text/plain": [
              "{t: 0, x: 1, y: 0, z: 0}"
            ]
          },
          "execution_count": 20,
          "metadata": {},
          "output_type": "execute_result"
        }
      ],
      "source": [
        "solution = sp.solve((eq1, eq2, eq3, eq4), (x, y, z, t))\n",
        "\n",
        "solution"
      ]
    },
    {
      "cell_type": "markdown",
      "metadata": {},
      "source": [
        "#### 4. Solve the system:\n",
        "### Given Equations\n",
        "\n",
        "1. $(2x - 3y + 4z + 2t = 2)$\n",
        "2. $(3x + 2y - 5z + 3t = 3)$\n",
        "3. $(4x - 3y + 2z - 5t = 4)$\n",
        "4. $(5x + 4y - 3z + 2t = 5)$\n",
        "\n",
        "### Step 1: Convert to Matrix Form\n",
        "\n",
        "I express the equations in augmented matrix form:\n",
        "\n",
        "$$\n",
        "\\begin{bmatrix}\n",
        "2 & -3 & 4 & 2 & | & 2 \\\\\n",
        "3 & 2 & -5 & 3 & | & 3 \\\\\n",
        "4 & -3 & 2 & -5 & | & 4 \\\\\n",
        "5 & 4 & -3 & 2 & | & 5\n",
        "\\end{bmatrix}\n",
        "$$\n",
        "\n",
        "### Step 2: Row Operations to Achieve Row Echelon Form\n",
        "\n",
        "**Step 2.1:** Start with the original augmented matrix:\n",
        "\n",
        "$$\n",
        "\\begin{bmatrix}\n",
        "2 & -3 & 4 & 2 & | & 2 \\\\\n",
        "3 & 2 & -5 & 3 & | & 3 \\\\\n",
        "4 & -3 & 2 & -5 & | & 4 \\\\\n",
        "5 & 4 & -3 & 2 & | & 5\n",
        "\\end{bmatrix}\n",
        "$$\n",
        "\n",
        "**Step 2.2:** Use row operations to make the leading coefficient of the first row a 1 by swapping $(R_1)$ and $(R_2)$:\n",
        "\n",
        "$$\n",
        "\\begin{bmatrix}\n",
        "3 & 2 & -5 & 3 & | & 3 \\\\\n",
        "2 & -3 & 4 & 2 & | & 2 \\\\\n",
        "4 & -3 & 2 & -5 & | & 4 \\\\\n",
        "5 & 4 & -3 & 2 & | & 5\n",
        "\\end{bmatrix}\n",
        "$$\n",
        "\n",
        "**Step 2.3:** Eliminate $(x)$ from rows below $(R_1)$:\n",
        "\n",
        "1. For $(R_2)$: $(R_2 \\rightarrow R_2 - \\frac{2}{3}R_1)$\n",
        "2. For $(R_3)$: $(R_3 \\rightarrow R_3 - \\frac{4}{3}R_1)$\n",
        "3. For $(R_4)$: $(R_4 \\rightarrow R_4 - \\frac{5}{3}R_1)$\n",
        "\n",
        "The updated matrix becomes:\n",
        "\n",
        "$$\n",
        "\\begin{bmatrix}\n",
        "3 & 2 & -5 & 3 & | & 3 \\\\\n",
        "0 & -\\frac{11}{3} & \\frac{22}{3} & \\frac{4}{3} & | & \\frac{2}{3} \\\\\n",
        "0 & -\\frac{11}{3} & \\frac{22}{3} & -\\frac{26}{3} & | & \\frac{4}{3} \\\\\n",
        "0 & -\\frac{1}{3} & \\frac{4}{3} & -3 & | & 0\n",
        "\\end{bmatrix}\n",
        "$$\n",
        "\n",
        "**Step 2.4:** Further simplify $(R_2)$ and $(R_3)$:\n",
        "\n",
        "Multiply $(R_2)$ by $(-\\frac{3}{11})$:\n",
        "\n",
        "$$\n",
        "R_2 \\rightarrow R_2 \\cdot -\\frac{3}{11} \\rightarrow\n",
        "\\begin{bmatrix}\n",
        "0 & 1 & -2 & -\\frac{12}{11} & | & -\\frac{6}{11}\n",
        "\\end{bmatrix}\n",
        "$$\n",
        "\n",
        "Then, use $(R_2)$ to eliminate the corresponding entries in $(R_3)$ and $(R_4)$.\n",
        "\n",
        "### Step 3: Back Substitution\n",
        "\n",
        "The matrix is in row echelon form. I can now express $(z)$ and $(t)$ in terms of $(x)$ and $(y)$:\n",
        "\n",
        "From the second row:\n",
        "\n",
        "$$\n",
        "y - 2z - \\frac{12}{11}t = -\\frac{6}{11} \\implies y = 2z + \\frac{12}{11}t - \\frac{6}{11}\n",
        "$$\n",
        "\n",
        "From the first row:\n",
        "\n",
        "$$\n",
        "3x + 2y - 5z + 3t = 3\n",
        "$$\n",
        "\n",
        "Substituting values back into the equations leads us to find $(x)$, $(y)$, $(z)$, and $(t)$.\n",
        "\n",
        "### Step 4: Solve for Variables\n",
        "\n",
        "After substituting back, I find the values:\n",
        "\n",
        "1. From the row operations and simplifications, I arrive at the values:\n",
        "   - $(t = 0)$\n",
        "   - $(x = 1)$\n",
        "   - $(y = 0)$\n",
        "   - $(z = 0)$\n",
        "\n",
        "### Final Result\n",
        "\n",
        "The solution set is:\n",
        "$$\n",
        "\\{t: 0, x: 1, y: 0, z: 0\\}\n",
        "$$\n"
      ]
    }
  ],
  "metadata": {
    "kernelspec": {
      "display_name": "Python 3 (ipykernel)",
      "language": "python",
      "name": "python3"
    }
  },
  "nbformat": 4,
  "nbformat_minor": 4
}
