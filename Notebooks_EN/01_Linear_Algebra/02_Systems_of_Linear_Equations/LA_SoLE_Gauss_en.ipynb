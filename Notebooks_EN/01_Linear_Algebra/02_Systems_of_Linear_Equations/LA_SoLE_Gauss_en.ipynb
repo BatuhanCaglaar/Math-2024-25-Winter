{
  "cells": [
    {
      "cell_type": "markdown",
      "metadata": {
        "id": "itfWxIRNFQ9L"
      },
      "source": [
        "# Gaussian Elimination Method\n",
        "\n",
        "Solving a system of linear equations using the Gaussian elimination method involves transforming the coefficient matrix of the system into an upper triangular matrix, followed by solving the system using back substitution.\n",
        "\n",
        "This is one of the most fundamental methods for solving systems of linear equations, especially in cases where the number of unknowns is different from the number of equations."
      ]
    },
    {
      "cell_type": "code",
      "execution_count": null,
      "metadata": {
        "id": "0xE4h8QEFQ9M",
        "outputId": "5dfaa5ff-64a8-4364-f267-acb127281be8",
        "colab": {
          "base_uri": "https://localhost:8080/",
          "height": 152
        }
      },
      "outputs": [
        {
          "output_type": "display_data",
          "data": {
            "text/plain": [
              "<IPython.core.display.Markdown object>"
            ],
            "text/markdown": "**Initial equations:**"
          },
          "metadata": {}
        },
        {
          "output_type": "display_data",
          "data": {
            "text/plain": [
              "<IPython.core.display.Markdown object>"
            ],
            "text/markdown": "System of equations:"
          },
          "metadata": {}
        },
        {
          "output_type": "display_data",
          "data": {
            "text/plain": [
              "<IPython.core.display.Markdown object>"
            ],
            "text/markdown": "$$\\begin{aligned} 1 x_{1} + 2 x_{2} + 3 x_{3} = 10 \\\\ 4 x_{1} + 5 x_{2} + 6 x_{3} = 11 \\\\ 7 x_{1} + 8 x_{2} + 12 x_{3} = 18 \\end{aligned}$$"
          },
          "metadata": {}
        }
      ],
      "source": [
        "from sympy import Matrix, symbols, Eq, latex\n",
        "from IPython.display import display, Markdown\n",
        "import sympy as sp\n",
        "\n",
        "class SymbolicMatrix:\n",
        "    def __init__(self, matrix, column_labels=None, free_terms=None, display_mode=\"table\"):\n",
        "        self.matrix = Matrix(matrix)\n",
        "        self.operations = []\n",
        "        self.display_mode = display_mode\n",
        "\n",
        "        if column_labels:\n",
        "            if len(column_labels) != self.matrix.cols:\n",
        "                raise ValueError(\"The number of column labels must be equal to the number of columns in the matrix.\")\n",
        "            self.column_labels = column_labels\n",
        "        else:\n",
        "            self.column_labels = [f\"x{i+1}\" for i in range(self.matrix.cols)]\n",
        "\n",
        "        if free_terms:\n",
        "            if len(free_terms) != self.matrix.rows:\n",
        "                raise ValueError(\"The number of free terms must be equal to the number of rows in the matrix.\")\n",
        "            self.free_terms = free_terms\n",
        "        else:\n",
        "            self.free_terms = [0 for _ in range(self.matrix.rows)]\n",
        "\n",
        "        display(Markdown(\"**Initial equations:**\"))\n",
        "        self.display_matrix()\n",
        "\n",
        "    def set_display_mode(self, mode):\n",
        "        if mode not in [\"table\", \"equations\"]:\n",
        "            raise ValueError(\"Display mode must be 'table' or 'equations'.\")\n",
        "        self.display_mode = mode\n",
        "\n",
        "    def display_matrix(self):\n",
        "        if self.display_mode == \"table\":\n",
        "            self._display_table()\n",
        "        elif self.display_mode == \"equations\":\n",
        "            self._display_equations()\n",
        "\n",
        "    def _display_table(self):\n",
        "        matrix_with_free_terms = self.matrix.row_join(Matrix(self.free_terms))\n",
        "        headers = self.column_labels + [\"Free term\"]\n",
        "        display(Markdown(self._matrix_to_markdown(matrix_with_free_terms, headers)))\n",
        "\n",
        "    def _matrix_to_markdown(self, matrix, headers):\n",
        "        markdown_str = \"| \" + \" | \".join(headers) + \" |\\n\"\n",
        "        markdown_str += \"| \" + \" | \".join([\"---\"] * len(headers)) + \" |\\n\"\n",
        "        for i in range(matrix.rows):\n",
        "            row = [str(matrix[i, j]) for j in range(matrix.cols)]\n",
        "            markdown_str += \"| \" + \" | \".join(row) + \" |\\n\"\n",
        "        return markdown_str\n",
        "\n",
        "    def _display_equations(self):\n",
        "        equations = []\n",
        "        for i in range(self.matrix.rows):\n",
        "            terms = []\n",
        "            for j in range(self.matrix.cols):\n",
        "                coef = self.matrix[i, j]\n",
        "                var = symbols(self.column_labels[j])\n",
        "\n",
        "                # Check if the coefficient is positive, negative, or zero\n",
        "                if coef > 0:\n",
        "                    if j == 0:\n",
        "                        terms.append(f\"{latex(coef)} {latex(var)}\")\n",
        "                    else:\n",
        "                        terms.append(f\"+ {latex(coef)} {latex(var)}\")\n",
        "                elif coef < 0:\n",
        "                    terms.append(f\"- {latex(abs(coef))} {latex(var)}\")\n",
        "                elif coef == 0:\n",
        "                    if j == 0:\n",
        "                        terms.append(f\"0 {latex(var)}\")\n",
        "                    else:\n",
        "                        terms.append(f\"+0 {latex(var)}\")\n",
        "\n",
        "            lhs = \" \".join(terms)\n",
        "            rhs = latex(self.free_terms[i])\n",
        "\n",
        "            equation = f\"{lhs} = {rhs}\"\n",
        "            equations.append(equation)\n",
        "\n",
        "        display(Markdown(\"System of equations:\"))\n",
        "        display(Markdown(f\"$$\\\\begin{{aligned}} {self._equations_to_latex(equations)} \\\\end{{aligned}}$$\"))\n",
        "\n",
        "    def _equations_to_latex(self, equations):\n",
        "        return \" \\\\\\\\ \".join(equations)\n",
        "\n",
        "    def add_row(self, target_row, source_row, coefficient):\n",
        "        target_idx = self._validate_row_number(target_row)\n",
        "        source_idx = self._validate_row_number(source_row)\n",
        "\n",
        "        # Operation on the matrix\n",
        "        self.matrix.row_op(target_idx, lambda v, j: v + coefficient * self.matrix[source_idx, j])\n",
        "\n",
        "        # Operation on the free terms\n",
        "        self.free_terms[target_idx] += coefficient * self.free_terms[source_idx]\n",
        "\n",
        "        operation_str = f\"r{target_row} = r{target_row} + {coefficient}*r{source_row}\"\n",
        "        self.operations.append(operation_str)\n",
        "        display(Markdown(f\"**Operation:** {operation_str}\"))\n",
        "        self.display_matrix()\n",
        "\n",
        "    def multiply_row(self, row, coefficient):\n",
        "        row_idx = self._validate_row_number(row)\n",
        "\n",
        "        # Operation on the matrix\n",
        "        self.matrix.row_op(row_idx, lambda v, _: coefficient * v)\n",
        "\n",
        "        # Operation on the free terms\n",
        "        self.free_terms[row_idx] *= coefficient\n",
        "\n",
        "        operation_str = f\"r{row} = {coefficient}*r{row}\"\n",
        "        self.operations.append(operation_str)\n",
        "        display(Markdown(f\"**Operation:** {operation_str}\"))\n",
        "        self.display_matrix()\n",
        "\n",
        "    def swap_rows(self, row1, row2):\n",
        "        row1_idx = self._validate_row_number(row1)\n",
        "        row2_idx = self._validate_row_number(row2)\n",
        "\n",
        "        self.matrix.row_swap(row1_idx, row2_idx)\n",
        "        self.free_terms[row1_idx], self.free_terms[row2_idx] = self.free_terms[row2_idx], self.free_terms[row1_idx]\n",
        "\n",
        "        operation_str = f\"Swap r{row1} <-> r{row2}\"\n",
        "        self.operations.append(operation_str)\n",
        "        display(Markdown(f\"**Operation:** {operation_str}\"))\n",
        "        self.display_matrix()\n",
        "\n",
        "    def swap_columns(self, col1, col2):\n",
        "        col1_idx = self._validate_col_number(col1)\n",
        "        col2_idx = self._validate_col_number(col2)\n",
        "\n",
        "        self.matrix.col_swap(col1_idx, col2_idx)\n",
        "        self.column_labels[col1_idx], self.column_labels[col2_idx] = self.column_labels[col2_idx], self.column_labels[col1_idx]\n",
        "\n",
        "        operation_str = f\"Swap col{col1} <-> col{col2}\"\n",
        "        self.operations.append(operation_str)\n",
        "        display(Markdown(f\"**Operation:** {operation_str}\"))\n",
        "        self.display_matrix()\n",
        "\n",
        "    def _validate_row_number(self, row):\n",
        "        if not isinstance(row, int):\n",
        "            raise TypeError(\"Row number must be an integer.\")\n",
        "        if row < 1 or row > self.matrix.rows:\n",
        "            raise IndexError(f\"Row number must be between 1 and {self.matrix.rows}.\")\n",
        "        return row - 1\n",
        "\n",
        "    def _validate_col_number(self, col):\n",
        "        if not isinstance(col, int):\n",
        "            raise TypeError(\"Column number must be an integer.\")\n",
        "        if col < 1 or col > self.matrix.cols:\n",
        "            raise IndexError(f\"Column number must be between 1 and {self.matrix.cols}.\")\n",
        "        return col - 1\n",
        "\n",
        "    def print_operations(self):\n",
        "        display(Markdown(\"**Performed operations:**\"))\n",
        "        for op in self.operations:\n",
        "            print(op)\n",
        "\n",
        "# Example usage:\n",
        "m = SymbolicMatrix([[1,2,3], [4,5,6], [7,8,12]], column_labels=[\"x1\", \"x2\", \"x3\"], free_terms=[10, 11, 18], display_mode=\"equations\")\n"
      ]
    },
    {
      "cell_type": "code",
      "execution_count": null,
      "metadata": {
        "id": "gzvbNXINFQ9N",
        "outputId": "2240698d-56d1-4dc9-ace9-7ac6780ac47f",
        "colab": {
          "base_uri": "https://localhost:8080/",
          "height": 152
        }
      },
      "outputs": [
        {
          "output_type": "display_data",
          "data": {
            "text/plain": [
              "<IPython.core.display.Markdown object>"
            ],
            "text/markdown": "**Operation:** r2 = r2 + -4*r1"
          },
          "metadata": {}
        },
        {
          "output_type": "display_data",
          "data": {
            "text/plain": [
              "<IPython.core.display.Markdown object>"
            ],
            "text/markdown": "System of equations:"
          },
          "metadata": {}
        },
        {
          "output_type": "display_data",
          "data": {
            "text/plain": [
              "<IPython.core.display.Markdown object>"
            ],
            "text/markdown": "$$\\begin{aligned} 1 x_{1} + 2 x_{2} + 3 x_{3} = 10 \\\\ 0 x_{1} - 3 x_{2} - 6 x_{3} = -29 \\\\ 0 x_{1} - 6 x_{2} - 9 x_{3} = -52 \\end{aligned}$$"
          },
          "metadata": {}
        }
      ],
      "source": [
        "m.add_row(2, 1, -4)"
      ]
    },
    {
      "cell_type": "code",
      "execution_count": null,
      "metadata": {
        "id": "JnS6sNeZFQ9N",
        "outputId": "f5649986-4da3-4eb5-ca3a-2d9aced58a5a",
        "colab": {
          "base_uri": "https://localhost:8080/",
          "height": 152
        }
      },
      "outputs": [
        {
          "output_type": "display_data",
          "data": {
            "text/plain": [
              "<IPython.core.display.Markdown object>"
            ],
            "text/markdown": "**Operation:** r3 = r3 + -7*r1"
          },
          "metadata": {}
        },
        {
          "output_type": "display_data",
          "data": {
            "text/plain": [
              "<IPython.core.display.Markdown object>"
            ],
            "text/markdown": "System of equations:"
          },
          "metadata": {}
        },
        {
          "output_type": "display_data",
          "data": {
            "text/plain": [
              "<IPython.core.display.Markdown object>"
            ],
            "text/markdown": "$$\\begin{aligned} 1 x_{1} + 2 x_{2} + 3 x_{3} = 10 \\\\ 4 x_{1} + 5 x_{2} + 6 x_{3} = 11 \\\\ 0 x_{1} - 6 x_{2} - 9 x_{3} = -52 \\end{aligned}$$"
          },
          "metadata": {}
        }
      ],
      "source": [
        "m.add_row(3, 1, -7)"
      ]
    },
    {
      "cell_type": "code",
      "execution_count": null,
      "metadata": {
        "id": "rboBBnoWFQ9N",
        "outputId": "7d48d554-0c82-497b-f17e-0b55b7aa6b51"
      },
      "outputs": [
        {
          "data": {
            "text/markdown": [
              "**Operation:** r3 = r3 + -2*r2"
            ],
            "text/plain": [
              "<IPython.core.display.Markdown object>"
            ]
          },
          "metadata": {},
          "output_type": "display_data"
        },
        {
          "data": {
            "text/markdown": [
              "System of equations:"
            ],
            "text/plain": [
              "<IPython.core.display.Markdown object>"
            ]
          },
          "metadata": {},
          "output_type": "display_data"
        },
        {
          "data": {
            "text/markdown": [
              "$$\\begin{aligned} 1 x_{1} + 2 x_{2} + 3 x_{3} = 10 \\\\ 0 x_{1} - 3 x_{2} - 6 x_{3} = -29 \\\\ 0 x_{1} +0 x_{2} + 3 x_{3} = 6 \\end{aligned}$$"
            ],
            "text/plain": [
              "<IPython.core.display.Markdown object>"
            ]
          },
          "metadata": {},
          "output_type": "display_data"
        }
      ],
      "source": [
        "m.add_row(3, 2, -2)"
      ]
    },
    {
      "cell_type": "code",
      "execution_count": null,
      "metadata": {
        "id": "ieQvKgs5FQ9N"
      },
      "outputs": [],
      "source": [
        "# We have 3 equations, so we end the operation\n",
        "# Define symbols\n",
        "x1, x2, x3 = symbols('x1 x2 x3')\n",
        "# Define equations\n",
        "eq1 = Eq(x1 + 2*x2 + 3*x3, 10)\n",
        "eq2 = Eq(-3*x2 - 6*x3, -29)\n",
        "eq3 = Eq(3*x3, 6)"
      ]
    },
    {
      "cell_type": "code",
      "execution_count": null,
      "metadata": {
        "id": "2Ud7F-f4FQ9N",
        "outputId": "2b868ba2-f902-4cb6-8c4f-cc85f8c9bd4a"
      },
      "outputs": [
        {
          "data": {
            "text/latex": [
              "$\\displaystyle 2$"
            ],
            "text/plain": [
              "2"
            ]
          },
          "execution_count": 14,
          "metadata": {},
          "output_type": "execute_result"
        }
      ],
      "source": [
        "sol_x3 = sp.solve(eq3, x3)[0]\n",
        "sol_x3"
      ]
    },
    {
      "cell_type": "code",
      "execution_count": null,
      "metadata": {
        "id": "cKyHVR0bFQ9O",
        "outputId": "1240910c-6862-4d95-dfb2-4d5f5c8364b1"
      },
      "outputs": [
        {
          "data": {
            "text/latex": [
              "$\\displaystyle \\frac{17}{3}$"
            ],
            "text/plain": [
              "17/3"
            ]
          },
          "execution_count": 15,
          "metadata": {},
          "output_type": "execute_result"
        }
      ],
      "source": [
        "# Substitute solution x3 into equation 2\n",
        "eq2 = eq2.subs(x3, sol_x3)\n",
        "# Solve equation 2\n",
        "sol_x2 = sp.solve(eq2, x2)[0]\n",
        "sol_x2"
      ]
    },
    {
      "cell_type": "code",
      "execution_count": null,
      "metadata": {
        "id": "1Pg74D19FQ9O",
        "outputId": "df512d22-9db7-494d-aed3-6059421557f7"
      },
      "outputs": [
        {
          "data": {
            "text/latex": [
              "$\\displaystyle - \\frac{22}{3}$"
            ],
            "text/plain": [
              "-22/3"
            ]
          },
          "execution_count": 16,
          "metadata": {},
          "output_type": "execute_result"
        }
      ],
      "source": [
        "# Substitute solutions x2 and x3 into equation 1\n",
        "eq1 = eq1.subs({x2: sol_x2, x3: sol_x3})\n",
        "# Solve equation 1\n",
        "sol_x1 = sp.solve(eq1, x1)[0]\n",
        "sol_x1"
      ]
    },
    {
      "cell_type": "markdown",
      "metadata": {
        "id": "abFcu7reFQ9O"
      },
      "source": [
        "---\n",
        "\n",
        "## Exercises for Students\n",
        "\n",
        "$$\n",
        "\\left\\{\\begin{array}{c}{x+2 y-2 z=4} \\\\ {2 x+y+z=0} \\\\ {3 x+2 y+z=1}\\end{array}\\right.\\quad\n",
        "\\left\\{\\begin{array}{c}{x+y+z-t=2} \\\\ {2 x+y+z=3} \\\\ {-x+z-t=0} \\\\ {3 x+2 y-z+2 t=-1}\\end{array}\\right.\\quad\n",
        "\\left\\{\\begin{array}{c}{x+y-z-t=0} \\\\ {2 x+3 y-2 z+t=4} \\\\ {3 x+5 z=0} \\\\ {-x+y-3 z+2 t=3}\\end{array}\\right.\n",
        "$$"
      ]
    },
    {
      "cell_type": "markdown",
      "metadata": {
        "id": "54nUjGcqFQ9O"
      },
      "source": []
    },
    {
      "cell_type": "markdown",
      "metadata": {
        "id": "ImDOWdXGFQ9O"
      },
      "source": []
    },
    {
      "cell_type": "markdown",
      "metadata": {
        "id": "dKHHOnfyFQ9O"
      },
      "source": []
    },
    {
      "cell_type": "code",
      "source": [
        "## Given System of Equations\n",
        "import sympy as sp\n",
        "from sympy import Matrix\n",
        "x, y, z = sp.symbols('x y z')"
      ],
      "metadata": {
        "id": "V6l0Km_rhaOd"
      },
      "execution_count": 7,
      "outputs": []
    },
    {
      "cell_type": "code",
      "source": [
        "equations = [x + 2*y - 2*z - 4 , 2*x + y + z , 3*x + 2*y + z - 1]\n",
        "equations"
      ],
      "metadata": {
        "id": "ZLQEnuxSlD4U",
        "outputId": "eec6ff93-135c-4b49-95eb-cc082d1ef0e3",
        "colab": {
          "base_uri": "https://localhost:8080/"
        }
      },
      "execution_count": 26,
      "outputs": [
        {
          "output_type": "execute_result",
          "data": {
            "text/plain": [
              "[x + 2*y - 2*z - 4, 2*x + y + z, 3*x + 2*y + z - 1]"
            ]
          },
          "metadata": {},
          "execution_count": 26
        }
      ]
    },
    {
      "cell_type": "code",
      "source": [
        "#Exercises 1\n",
        "#Formation of the Augmented Matrix\n",
        "augmented_matrix = Matrix([[1, 2, -2, 4], [2, 1, 1, 0], [3, 2, 1, 1]])\n",
        "augmented_matrix"
      ],
      "metadata": {
        "id": "qbHodgBAPNw9",
        "outputId": "4b2f5757-3d34-403e-dca6-f69aa2b3f7ef",
        "colab": {
          "base_uri": "https://localhost:8080/",
          "height": 78
        }
      },
      "execution_count": null,
      "outputs": [
        {
          "output_type": "execute_result",
          "data": {
            "text/plain": [
              "Matrix([\n",
              "[1, 2, -2, 4],\n",
              "[2, 1,  1, 0],\n",
              "[3, 2,  1, 1]])"
            ],
            "text/latex": "$\\displaystyle \\left[\\begin{matrix}1 & 2 & -2 & 4\\\\2 & 1 & 1 & 0\\\\3 & 2 & 1 & 1\\end{matrix}\\right]$"
          },
          "metadata": {},
          "execution_count": 236
        }
      ]
    },
    {
      "cell_type": "code",
      "source": [
        "augmented_matrix[1, :] = augmented_matrix[1, :] - 2 * augmented_matrix[0, :] # r2 -2*r1\n",
        "augmented_matrix"
      ],
      "metadata": {
        "id": "o1HdwV9KPd2L",
        "outputId": "e677b80f-78a5-4152-97b7-efbf378ee1dd",
        "colab": {
          "base_uri": "https://localhost:8080/",
          "height": 78
        }
      },
      "execution_count": null,
      "outputs": [
        {
          "output_type": "execute_result",
          "data": {
            "text/plain": [
              "Matrix([\n",
              "[1,  2, -2,  4],\n",
              "[0, -3,  5, -8],\n",
              "[3,  2,  1,  1]])"
            ],
            "text/latex": "$\\displaystyle \\left[\\begin{matrix}1 & 2 & -2 & 4\\\\0 & -3 & 5 & -8\\\\3 & 2 & 1 & 1\\end{matrix}\\right]$"
          },
          "metadata": {},
          "execution_count": 237
        }
      ]
    },
    {
      "cell_type": "code",
      "source": [
        "augmented_matrix[2, :] = augmented_matrix[2, :] - 3 * augmented_matrix[0, :] #r3-3*r1\n",
        "augmented_matrix"
      ],
      "metadata": {
        "id": "NeWUMGEYQdaT",
        "outputId": "889a34c9-e47e-4475-8e91-286ee4738827",
        "colab": {
          "base_uri": "https://localhost:8080/",
          "height": 78
        }
      },
      "execution_count": null,
      "outputs": [
        {
          "output_type": "execute_result",
          "data": {
            "text/plain": [
              "Matrix([\n",
              "[1,  2, -2,   4],\n",
              "[0, -3,  5,  -8],\n",
              "[0, -4,  7, -11]])"
            ],
            "text/latex": "$\\displaystyle \\left[\\begin{matrix}1 & 2 & -2 & 4\\\\0 & -3 & 5 & -8\\\\0 & -4 & 7 & -11\\end{matrix}\\right]$"
          },
          "metadata": {},
          "execution_count": 238
        }
      ]
    },
    {
      "cell_type": "code",
      "source": [
        "augmented_matrix[2, :] = augmented_matrix[2, :] - (4/3) * augmented_matrix[1, :] #r3-(4/3)*r2\n",
        "augmented_matrix"
      ],
      "metadata": {
        "id": "AT6hsHWWUcrL",
        "outputId": "298538a6-2609-415a-cea2-cc9a99b3a338",
        "colab": {
          "base_uri": "https://localhost:8080/",
          "height": 78
        }
      },
      "execution_count": null,
      "outputs": [
        {
          "output_type": "execute_result",
          "data": {
            "text/plain": [
              "Matrix([\n",
              "[1,  2,                -2,                  4],\n",
              "[0, -3,                 5,                 -8],\n",
              "[0,  0, 0.333333333333334, -0.333333333333334]])"
            ],
            "text/latex": "$\\displaystyle \\left[\\begin{matrix}1 & 2 & -2 & 4\\\\0 & -3 & 5 & -8\\\\0 & 0 & 0.333333333333334 & -0.333333333333334\\end{matrix}\\right]$"
          },
          "metadata": {},
          "execution_count": 239
        }
      ]
    },
    {
      "cell_type": "code",
      "source": [
        "augmented_matrix[2, :] = augmented_matrix[2, :] / augmented_matrix[2, 2] #r3/(1/3)  = 0/(1/3) , 0/(1/3) , (1/3)/(1/3) , -(1/3) / (1/3) = R3 = (0,0,1,-1)\n",
        "augmented_matrix"
      ],
      "metadata": {
        "id": "oLgAdcCcWfyk",
        "outputId": "8fdeb2fd-3559-4733-95be-543bc5e7bc43",
        "colab": {
          "base_uri": "https://localhost:8080/",
          "height": 78
        }
      },
      "execution_count": null,
      "outputs": [
        {
          "output_type": "execute_result",
          "data": {
            "text/plain": [
              "Matrix([\n",
              "[1,  2,  -2,    4],\n",
              "[0, -3,   5,   -8],\n",
              "[0,  0, 1.0, -1.0]])"
            ],
            "text/latex": "$\\displaystyle \\left[\\begin{matrix}1 & 2 & -2 & 4\\\\0 & -3 & 5 & -8\\\\0 & 0 & 1.0 & -1.0\\end{matrix}\\right]$"
          },
          "metadata": {},
          "execution_count": 240
        }
      ]
    },
    {
      "cell_type": "code",
      "source": [
        "augmented_matrix[1, :] = augmented_matrix[1, :] - augmented_matrix[1, 2] * augmented_matrix[2, :] #r2-5*r3 = 0-5*0 , -3-5*0 , 5-5*1 , -8-5*-1 = R2 = (0,-3,0,-3)\n",
        "\n",
        "augmented_matrix"
      ],
      "metadata": {
        "id": "sUDUHtQGWytv",
        "outputId": "89d963a0-9689-4c76-f8c9-1e6f852774cf",
        "colab": {
          "base_uri": "https://localhost:8080/",
          "height": 78
        }
      },
      "execution_count": null,
      "outputs": [
        {
          "output_type": "execute_result",
          "data": {
            "text/plain": [
              "Matrix([\n",
              "[1,  2,  -2,    4],\n",
              "[0, -3,   0, -3.0],\n",
              "[0,  0, 1.0, -1.0]])"
            ],
            "text/latex": "$\\displaystyle \\left[\\begin{matrix}1 & 2 & -2 & 4\\\\0 & -3 & 0 & -3.0\\\\0 & 0 & 1.0 & -1.0\\end{matrix}\\right]$"
          },
          "metadata": {},
          "execution_count": 241
        }
      ]
    },
    {
      "cell_type": "code",
      "source": [
        "augmented_matrix[1, :] = augmented_matrix[1, :] / augmented_matrix[1, 1] #r2/-3 = 0/-3 , -3/-3 , 0/-3 , -3/-3 = R2 = (0,1,0,1)\n",
        "augmented_matrix"
      ],
      "metadata": {
        "id": "J5VUYiiXuYyo",
        "outputId": "3f36c390-00df-4e2e-8ef3-2027f0149ace",
        "colab": {
          "base_uri": "https://localhost:8080/",
          "height": 78
        }
      },
      "execution_count": null,
      "outputs": [
        {
          "output_type": "execute_result",
          "data": {
            "text/plain": [
              "Matrix([\n",
              "[1, 2,  -2,    4],\n",
              "[0, 1,   0,  1.0],\n",
              "[0, 0, 1.0, -1.0]])"
            ],
            "text/latex": "$\\displaystyle \\left[\\begin{matrix}1 & 2 & -2 & 4\\\\0 & 1 & 0 & 1.0\\\\0 & 0 & 1.0 & -1.0\\end{matrix}\\right]$"
          },
          "metadata": {},
          "execution_count": 242
        }
      ]
    },
    {
      "cell_type": "code",
      "source": [
        "augmented_matrix[0, :] = augmented_matrix[0, :] - augmented_matrix[0, 2] * augmented_matrix[2, :] #R1-(-2)*R3 = 1-(-2)*0 , 2-(-2)*0 , -2-(-2)*1 , 4-(-2)*-1 = R1 = (1,2,0,2)\n",
        "augmented_matrix"
      ],
      "metadata": {
        "id": "rfwijFVQW1FI",
        "outputId": "3c65a34c-d82c-4080-ef0e-27ee0f6d8ec6",
        "colab": {
          "base_uri": "https://localhost:8080/",
          "height": 78
        }
      },
      "execution_count": null,
      "outputs": [
        {
          "output_type": "execute_result",
          "data": {
            "text/plain": [
              "Matrix([\n",
              "[1, 2,   0,  2.0],\n",
              "[0, 1,   0,  1.0],\n",
              "[0, 0, 1.0, -1.0]])"
            ],
            "text/latex": "$\\displaystyle \\left[\\begin{matrix}1 & 2 & 0 & 2.0\\\\0 & 1 & 0 & 1.0\\\\0 & 0 & 1.0 & -1.0\\end{matrix}\\right]$"
          },
          "metadata": {},
          "execution_count": 243
        }
      ]
    },
    {
      "cell_type": "code",
      "source": [
        "augmented_matrix[0, :] = augmented_matrix[0, :] - augmented_matrix[0, 1] * augmented_matrix[1, :] #R1-2*R2 = 1-2*0 , 2-2*1 , 0-2*0 , 2-2*1 = R1 = 1,0,0,0\n",
        "augmented_matrix"
      ],
      "metadata": {
        "id": "sUPCNOZnyHTr",
        "outputId": "44087907-bd0e-49ae-80a2-3f17b9ac23bd",
        "colab": {
          "base_uri": "https://localhost:8080/",
          "height": 78
        }
      },
      "execution_count": null,
      "outputs": [
        {
          "output_type": "execute_result",
          "data": {
            "text/plain": [
              "Matrix([\n",
              "[1, 0,   0,    0],\n",
              "[0, 1,   0,  1.0],\n",
              "[0, 0, 1.0, -1.0]])"
            ],
            "text/latex": "$\\displaystyle \\left[\\begin{matrix}1 & 0 & 0 & 0\\\\0 & 1 & 0 & 1.0\\\\0 & 0 & 1.0 & -1.0\\end{matrix}\\right]$"
          },
          "metadata": {},
          "execution_count": 230
        }
      ]
    },
    {
      "cell_type": "code",
      "source": [
        "solution = augmented_matrix[:, -1] #x=0 , y=1 , z=-1\n",
        "solution"
      ],
      "metadata": {
        "id": "zll5ZCvEXA2O",
        "outputId": "65a442a9-8ad4-4f71-eb14-d506c6ee7386",
        "colab": {
          "base_uri": "https://localhost:8080/",
          "height": 78
        }
      },
      "execution_count": null,
      "outputs": [
        {
          "output_type": "execute_result",
          "data": {
            "text/plain": [
              "Matrix([\n",
              "[   0],\n",
              "[ 1.0],\n",
              "[-1.0]])"
            ],
            "text/latex": "$\\displaystyle \\left[\\begin{matrix}0\\\\1.0\\\\-1.0\\end{matrix}\\right]$"
          },
          "metadata": {},
          "execution_count": 231
        }
      ]
    },
    {
      "cell_type": "markdown",
      "source": [
        "\n",
        "\n",
        "## Given System of Equations\n",
        "\n",
        "$$\n",
        "\\begin{cases}\n",
        "x + 2y - 2z = 4 \\quad (1) \\\\\n",
        "2x + y + z = 0 \\quad (2) \\\\\n",
        "3x + 2y + z = 1 \\quad (3)\n",
        "\\end{cases}\n",
        "$$\n",
        "\n",
        "## 1. Formation of the Augmented Matrix\n",
        "\n",
        "I converted our system to expanded matrix format\n",
        "\n",
        "$$\n",
        "\\begin{pmatrix}\n",
        "1 & 2 & -2 & | & 4 \\\\\n",
        "2 & 1 & 1 & | & 0 \\\\\n",
        "3 & 2 & 1 & | & 1\n",
        "\\end{pmatrix}\n",
        "$$\n",
        "\n",
        "## 2. Forward Elimination\n",
        "\n",
        "I performed row operations to bring our matrix to upper triangular form.\n",
        "\n",
        "\n",
        "1. **I updated R2**:\n",
        "   $$\n",
        "   R2 = R2 - 2R1 \\quad \\Rightarrow \\quad (2, 1, 1 | 0) - 2(1, 2, -2 | 4) = (0, -3, 5 | -8)\n",
        "   $$\n",
        "\n",
        "2. **I updated R3**:\n",
        "   $$\n",
        "   R3 = R3 - 3R1 \\quad \\Rightarrow \\quad (3, 2, 1 | 1) - 3(1, 2, -2 | 4) = (0, -4, 7 | -11)\n",
        "   $$\n",
        "\n",
        "New Matrix :\n",
        "\n",
        "$$\n",
        "\\begin{pmatrix}\n",
        "1 & 2 & -2 & | & 4 \\\\\n",
        "0 & -3 & 5 & | & -8 \\\\\n",
        "0 & -4 & 7 & | & -11\n",
        "\\end{pmatrix}\n",
        "$$\n",
        "\n",
        "**2. Second Pivot (2nd Column)**\n",
        "\n",
        "1. **I updated R3**:\n",
        "   $$\n",
        "   R3 = R3 - \\frac{4}{3}R2 \\quad \\Rightarrow \\quad (0, -4, 7 | -11) - \\frac{4}{3}(0, -3, 5 | -8) = \\left(0, 0, \\frac{1}{3} | \\frac{1}{3}\\right)\n",
        "   $$\n",
        "\n",
        "New Matrix:\n",
        "\n",
        "$$\n",
        "\\begin{pmatrix}\n",
        "1 & 2 & -2 & | & 4 \\\\\n",
        "0 & -3 & 5 & | & -8 \\\\\n",
        "0 & 0 & \\frac{1}{3} & | & \\frac{1}{3}\n",
        "\\end{pmatrix}\n",
        "$$\n",
        "\n",
        "## 3. Back Substitution\n",
        "\n",
        "Now I will perform back substitution with our upper triangular matrix.\n",
        "\n",
        "**1. Solving the Third Equation**\n",
        "\n",
        "From the third line I found $z$:\n",
        "$$\n",
        "\\frac{1}{3}z = \\frac{1}{3} \\quad \\Rightarrow \\quad z = 1\n",
        "$$\n",
        "\n",
        "**2. Solving the Second Equation**\n",
        "\n",
        "I placed the value $z$ in the second line:\n",
        "\n",
        "$$\n",
        "-3y + 5(1) = -8 \\\\\n",
        "-3y + 5 = -8 \\\\\n",
        "-3y = -13 \\\\\n",
        "y = \\frac{13}{3} \\approx 4.33\n",
        "$$\n",
        "\n",
        "**3. Solving the First Equation**\n",
        "\n",
        "Finally, I placed the $y$ and $z$ values ​​in the first row:\n",
        "\n",
        "$$\n",
        "x + 2\\left(\\frac{13}{3}\\right) - 2(1) = 4 \\\\\n",
        "x + \\frac{26}{3} - 2 = 4 \\\\\n",
        "x + \\frac{26}{3} - \\frac{6}{3} = 4 \\\\\n",
        "x + \\frac{20}{3} = 4 \\\\\n",
        "x = 4 - \\frac{20}{3} = \\frac{12}{3} - \\frac{20}{3} = -\\frac{8}{3} \\approx -2.67\n",
        "$$\n",
        "\n",
        "## Result\n",
        "\n",
        "$$\n",
        "x \\approx 0, \\quad y = 1, \\quad z = -1\n",
        "$$\n",
        "\n"
      ],
      "metadata": {
        "id": "8Np4Er9ic_0P"
      }
    },
    {
      "cell_type": "code",
      "source": [
        "## Given System of Equations\n",
        "import sympy as sp\n",
        "from sympy import Matrix , solve_linear_system\n",
        "x, y, z, t = sp.symbols('x y z t')"
      ],
      "metadata": {
        "id": "O8vzQVcC2ieH"
      },
      "execution_count": 146,
      "outputs": []
    },
    {
      "cell_type": "code",
      "source": [
        "augmented_matrix = Matrix([[1, 1, 1, -1 , 2], [2, 1, 1, 0, 3], [-1, 0, 1, -1, 0], [3, 2, -1, 2, -1]])\n",
        "augmented_matrix"
      ],
      "metadata": {
        "id": "nxXWvWecX0Uf",
        "outputId": "41a6bbf7-4635-457d-d27a-9b73d35f005a",
        "colab": {
          "base_uri": "https://localhost:8080/",
          "height": 98
        }
      },
      "execution_count": 147,
      "outputs": [
        {
          "output_type": "execute_result",
          "data": {
            "text/plain": [
              "Matrix([\n",
              "[ 1, 1,  1, -1,  2],\n",
              "[ 2, 1,  1,  0,  3],\n",
              "[-1, 0,  1, -1,  0],\n",
              "[ 3, 2, -1,  2, -1]])"
            ],
            "text/latex": "$\\displaystyle \\left[\\begin{matrix}1 & 1 & 1 & -1 & 2\\\\2 & 1 & 1 & 0 & 3\\\\-1 & 0 & 1 & -1 & 0\\\\3 & 2 & -1 & 2 & -1\\end{matrix}\\right]$"
          },
          "metadata": {},
          "execution_count": 147
        }
      ]
    },
    {
      "cell_type": "code",
      "source": [
        "augmented_matrix[1, :] = augmented_matrix[1, :] - 2 * augmented_matrix[0, :] # r2 -2*r1\n",
        "augmented_matrix"
      ],
      "metadata": {
        "id": "0untUvkGYQo2",
        "outputId": "268a6ad0-0365-4b17-bab6-849f907920a0",
        "colab": {
          "base_uri": "https://localhost:8080/",
          "height": 98
        }
      },
      "execution_count": 148,
      "outputs": [
        {
          "output_type": "execute_result",
          "data": {
            "text/plain": [
              "Matrix([\n",
              "[ 1,  1,  1, -1,  2],\n",
              "[ 0, -1, -1,  2, -1],\n",
              "[-1,  0,  1, -1,  0],\n",
              "[ 3,  2, -1,  2, -1]])"
            ],
            "text/latex": "$\\displaystyle \\left[\\begin{matrix}1 & 1 & 1 & -1 & 2\\\\0 & -1 & -1 & 2 & -1\\\\-1 & 0 & 1 & -1 & 0\\\\3 & 2 & -1 & 2 & -1\\end{matrix}\\right]$"
          },
          "metadata": {},
          "execution_count": 148
        }
      ]
    },
    {
      "cell_type": "code",
      "source": [
        "augmented_matrix[2, :] = augmented_matrix[2, :] + augmented_matrix[0, :] # r3+r1\n",
        "augmented_matrix"
      ],
      "metadata": {
        "id": "zABhCfzqapXL",
        "outputId": "3737e74b-26d4-4555-c3b2-17e114ca3a58",
        "colab": {
          "base_uri": "https://localhost:8080/",
          "height": 98
        }
      },
      "execution_count": 149,
      "outputs": [
        {
          "output_type": "execute_result",
          "data": {
            "text/plain": [
              "Matrix([\n",
              "[1,  1,  1, -1,  2],\n",
              "[0, -1, -1,  2, -1],\n",
              "[0,  1,  2, -2,  2],\n",
              "[3,  2, -1,  2, -1]])"
            ],
            "text/latex": "$\\displaystyle \\left[\\begin{matrix}1 & 1 & 1 & -1 & 2\\\\0 & -1 & -1 & 2 & -1\\\\0 & 1 & 2 & -2 & 2\\\\3 & 2 & -1 & 2 & -1\\end{matrix}\\right]$"
          },
          "metadata": {},
          "execution_count": 149
        }
      ]
    },
    {
      "cell_type": "code",
      "source": [
        "augmented_matrix[3, :] = augmented_matrix[3, :] - 3 * augmented_matrix[0, :] # r4 -3 * r1\n",
        "augmented_matrix"
      ],
      "metadata": {
        "id": "F2TNIZv8bETz",
        "outputId": "716ae6d4-6e3e-4776-e578-4028e7c92510",
        "colab": {
          "base_uri": "https://localhost:8080/",
          "height": 98
        }
      },
      "execution_count": 150,
      "outputs": [
        {
          "output_type": "execute_result",
          "data": {
            "text/plain": [
              "Matrix([\n",
              "[1,  1,  1, -1,  2],\n",
              "[0, -1, -1,  2, -1],\n",
              "[0,  1,  2, -2,  2],\n",
              "[0, -1, -4,  5, -7]])"
            ],
            "text/latex": "$\\displaystyle \\left[\\begin{matrix}1 & 1 & 1 & -1 & 2\\\\0 & -1 & -1 & 2 & -1\\\\0 & 1 & 2 & -2 & 2\\\\0 & -1 & -4 & 5 & -7\\end{matrix}\\right]$"
          },
          "metadata": {},
          "execution_count": 150
        }
      ]
    },
    {
      "cell_type": "code",
      "source": [
        "augmented_matrix[2, :] = augmented_matrix[2, :] + augmented_matrix[1, :] # r3+ r2\n",
        "augmented_matrix"
      ],
      "metadata": {
        "id": "L1vE19gfbama",
        "outputId": "369a5518-93b1-4c68-ef9f-abcc641b49bc",
        "colab": {
          "base_uri": "https://localhost:8080/",
          "height": 98
        }
      },
      "execution_count": 151,
      "outputs": [
        {
          "output_type": "execute_result",
          "data": {
            "text/plain": [
              "Matrix([\n",
              "[1,  1,  1, -1,  2],\n",
              "[0, -1, -1,  2, -1],\n",
              "[0,  0,  1,  0,  1],\n",
              "[0, -1, -4,  5, -7]])"
            ],
            "text/latex": "$\\displaystyle \\left[\\begin{matrix}1 & 1 & 1 & -1 & 2\\\\0 & -1 & -1 & 2 & -1\\\\0 & 0 & 1 & 0 & 1\\\\0 & -1 & -4 & 5 & -7\\end{matrix}\\right]$"
          },
          "metadata": {},
          "execution_count": 151
        }
      ]
    },
    {
      "cell_type": "code",
      "source": [
        "augmented_matrix[3, :] = augmented_matrix[3, :] - augmented_matrix[1, :] # r4 -r2\n",
        "augmented_matrix"
      ],
      "metadata": {
        "id": "_fjjI6JGB9B7",
        "outputId": "43fb9f04-4f44-438b-bee5-81eb49687081",
        "colab": {
          "base_uri": "https://localhost:8080/",
          "height": 98
        }
      },
      "execution_count": 152,
      "outputs": [
        {
          "output_type": "execute_result",
          "data": {
            "text/plain": [
              "Matrix([\n",
              "[1,  1,  1, -1,  2],\n",
              "[0, -1, -1,  2, -1],\n",
              "[0,  0,  1,  0,  1],\n",
              "[0,  0, -3,  3, -6]])"
            ],
            "text/latex": "$\\displaystyle \\left[\\begin{matrix}1 & 1 & 1 & -1 & 2\\\\0 & -1 & -1 & 2 & -1\\\\0 & 0 & 1 & 0 & 1\\\\0 & 0 & -3 & 3 & -6\\end{matrix}\\right]$"
          },
          "metadata": {},
          "execution_count": 152
        }
      ]
    },
    {
      "cell_type": "code",
      "source": [
        "augmented_matrix[3, :] = augmented_matrix[3, :] +3* augmented_matrix[2, :] # r4 -3*r3\n",
        "augmented_matrix"
      ],
      "metadata": {
        "id": "tabpZqnoEbt7",
        "outputId": "f349143d-0500-4b3a-d2df-ed9bc2234127",
        "colab": {
          "base_uri": "https://localhost:8080/",
          "height": 98
        }
      },
      "execution_count": 153,
      "outputs": [
        {
          "output_type": "execute_result",
          "data": {
            "text/plain": [
              "Matrix([\n",
              "[1,  1,  1, -1,  2],\n",
              "[0, -1, -1,  2, -1],\n",
              "[0,  0,  1,  0,  1],\n",
              "[0,  0,  0,  3, -3]])"
            ],
            "text/latex": "$\\displaystyle \\left[\\begin{matrix}1 & 1 & 1 & -1 & 2\\\\0 & -1 & -1 & 2 & -1\\\\0 & 0 & 1 & 0 & 1\\\\0 & 0 & 0 & 3 & -3\\end{matrix}\\right]$"
          },
          "metadata": {},
          "execution_count": 153
        }
      ]
    },
    {
      "cell_type": "code",
      "source": [
        "augmented_matrix[3, :] = augmented_matrix[3, :] / 3 # r4 / 3\n",
        "augmented_matrix"
      ],
      "metadata": {
        "id": "1AagFSYyEryH",
        "outputId": "a77be243-29d1-46e9-ef51-4ef248eb7910",
        "colab": {
          "base_uri": "https://localhost:8080/",
          "height": 98
        }
      },
      "execution_count": 154,
      "outputs": [
        {
          "output_type": "execute_result",
          "data": {
            "text/plain": [
              "Matrix([\n",
              "[1,  1,  1, -1,  2],\n",
              "[0, -1, -1,  2, -1],\n",
              "[0,  0,  1,  0,  1],\n",
              "[0,  0,  0,  1, -1]])"
            ],
            "text/latex": "$\\displaystyle \\left[\\begin{matrix}1 & 1 & 1 & -1 & 2\\\\0 & -1 & -1 & 2 & -1\\\\0 & 0 & 1 & 0 & 1\\\\0 & 0 & 0 & 1 & -1\\end{matrix}\\right]$"
          },
          "metadata": {},
          "execution_count": 154
        }
      ]
    },
    {
      "cell_type": "code",
      "source": [
        "z = 1\n",
        "t = -1\n",
        "\n",
        "# -y - z + 2t = -1\n",
        "# -y - 1 + 2(-1) = -1\n",
        "# -y - 1 - 2 = -1\n",
        "# -y - 3 = -1\n",
        "# -y = 2\n",
        "# y = -2"
      ],
      "metadata": {
        "id": "-BVQP5JVc1ca"
      },
      "execution_count": 155,
      "outputs": []
    },
    {
      "cell_type": "code",
      "source": [
        "z = 1\n",
        "t = -1\n",
        "y = -2\n",
        "\n",
        "x = 2 - (y + z - t)\n",
        "x = 2 - (-2 + 1 - (-1))\n",
        "x = 2 - ( -2 + 1 + 1)\n",
        "x = 2 - 0\n",
        "x = 2"
      ],
      "metadata": {
        "id": "K3o-_N6xhVK0"
      },
      "execution_count": 156,
      "outputs": []
    },
    {
      "cell_type": "code",
      "source": [
        "\n",
        "x = 2\n",
        "y = -2\n",
        "z = 1\n",
        "t = -1\n"
      ],
      "metadata": {
        "id": "uQDfhYghh4Ua"
      },
      "execution_count": 157,
      "outputs": []
    },
    {
      "cell_type": "code",
      "source": [
        "import sympy as sp  #accuracy of the solution\n",
        "x, y, z, t = sp.symbols('x y z t')"
      ],
      "metadata": {
        "id": "6QCpldGypsOf"
      },
      "execution_count": 159,
      "outputs": []
    },
    {
      "cell_type": "code",
      "source": [
        "equations = [\n",
        "    x + y + z - t - 2,\n",
        "    2*x + y + z - 3,\n",
        "    -x + z - t,\n",
        "    3*x + 2*y - z + 2*t + 1\n",
        "]"
      ],
      "metadata": {
        "id": "MirvnyBEpxG_"
      },
      "execution_count": 160,
      "outputs": []
    },
    {
      "cell_type": "code",
      "source": [
        "solution = sp.solve(equations, (x, y, z, t)) #accuracy of the solution\n",
        "solution"
      ],
      "metadata": {
        "id": "_G2FQZZ-mZS7",
        "outputId": "6a9f43c4-3b9e-4373-c2d5-7f2d4810ea20",
        "colab": {
          "base_uri": "https://localhost:8080/"
        }
      },
      "execution_count": 161,
      "outputs": [
        {
          "output_type": "execute_result",
          "data": {
            "text/plain": [
              "{t: -1, x: 2, y: -2, z: 1}"
            ]
          },
          "metadata": {},
          "execution_count": 161
        }
      ]
    },
    {
      "cell_type": "markdown",
      "source": [
        "## Given System of Equations\n",
        "\n",
        "The given system is:\n",
        "\n",
        "$$\n",
        "\\begin{cases}\n",
        "x + y + z - t = 2 \\\\\n",
        "2x + y + z = 3 \\\\\n",
        "-x + z - t = 0 \\\\\n",
        "3x + 2y - z + 2t = -1\n",
        "\\end{cases}\n",
        "$$\n",
        "\n",
        "### Step 1: Form the Augmented Matrix\n",
        "\n",
        "The system is converted to augmented matrix form:\n",
        "\n",
        "$$\n",
        "\\begin{pmatrix}\n",
        "1 & 1 & 1 & -1 & | & 2 \\\\\n",
        "2 & 1 & 1 & 0 & | & 3 \\\\\n",
        "-1 & 0 & 1 & -1 & | & 0 \\\\\n",
        "3 & 2 & -1 & 2 & | & -1\n",
        "\\end{pmatrix}\n",
        "$$\n",
        "\n",
        "### Step 2: Gauss Elimination\n",
        "\n",
        "1. **Updating $ R2 $:**\n",
        "   $$\n",
        "   R2 = R2 - 2R1 \\quad \\Rightarrow \\quad (2, 1, 1, 0, | 3) - 2 \\times (1, 1, 1, -1, | 2) = (0, -1, -1, 2, | -1)\n",
        "   $$\n",
        "\n",
        "   **Updating $ R3 $:**\n",
        "   $$\n",
        "   R3 = R3 - R1 \\quad \\Rightarrow \\quad (-1, 0, 1, -1, | 0) + (1, 1, 1, -1, | 2) = (0, 1, 2, -2, | 2)\n",
        "   $$\n",
        "\n",
        "   **Updating $ R4 $:**\n",
        "   $$\n",
        "   R4 = R4 - 3R1 \\quad \\Rightarrow \\quad (3, 2, -1, 2, | -1) - 3 \\times (1, 1, 1, -1, | 2) = (0, -1, -4, 5, | -7)\n",
        "   $$\n",
        "\n",
        "   New matrix:\n",
        "\n",
        "   $$\n",
        "   \\begin{pmatrix}\n",
        "   1 & 1 & 1 & -1 & | & 2 \\\\\n",
        "   0 & -1 & -1 & 2 & | & -1 \\\\\n",
        "   0 & 1 & 2 & -2 & | & 2 \\\\\n",
        "   0 & -1 & -4 & 5 & | & -7\n",
        "   \\end{pmatrix}\n",
        "   $$\n",
        "\n",
        "2. **Updating $ R3 $:**\n",
        "   $$\n",
        "   R3 = R3 + R2 \\quad \\Rightarrow \\quad (0, 1, 2, -2, | 2) + (0, -1, -1, 2, | -1) = (0, 0, 1, 0, | 1)\n",
        "   $$\n",
        "\n",
        "   **Updating $ R4 $:**\n",
        "   $$\n",
        "   R4 = R4 - R2 \\quad \\Rightarrow \\quad (0, -1, -4, 5, | -7) - (0, -1, -1, 2, | -1) = (0, 0, -3, 3, | -6)\n",
        "   $$\n",
        "\n",
        "   Updated matrix:\n",
        "\n",
        "   $$\n",
        "   \\begin{pmatrix}\n",
        "   1 & 1 & 1 & -1 & | & 2 \\\\\n",
        "   0 & -1 & -1 & 2 & | & -1 \\\\\n",
        "   0 & 0 & 1 & 0 & | & 1 \\\\\n",
        "   0 & 0 & -3 & 3 & | & -3\n",
        "   \\end{pmatrix}\n",
        "   $$\n",
        "\n",
        "3. **Updating $ R4 $:**\n",
        "   $$\n",
        "   R4 = R4 + 3R3 \\quad \\Rightarrow \\quad (0, 0, -3, 3, | -6) + 3 \\times (0, 0, 1, 0, | 1) = (0, 0, 0, 3, | -3)\n",
        "   $$\n",
        "\n",
        "   New matrix:\n",
        "\n",
        "   $$\n",
        "   \\begin{pmatrix}\n",
        "   1 & 1 & 1 & -1 & | & 2 \\\\\n",
        "   0 & -1 & -1 & 2 & | & -1 \\\\\n",
        "   0 & 0 & 1 & 0 & | & 1 \\\\\n",
        "   0 & 0 & 0 & 1 & | & -1\n",
        "   \\end{pmatrix}\n",
        "   $$\n",
        "\n",
        "4. **Scaling $ R4 $:**\n",
        "   $$\n",
        "   R4 = R4 / 3 \\quad \\Rightarrow \\quad (0, 0, 0, 1, | -1)\n",
        "   $$\n",
        "\n",
        "   Final matrix form:\n",
        "\n",
        "   $$\n",
        "   \\begin{pmatrix}\n",
        "   1 & 1 & 1 & -1 & | & 2 \\\\\n",
        "   0 & -1 & -1 & 2 & | & -1 \\\\\n",
        "   0 & 0 & 1 & 0 & | & 1 \\\\\n",
        "   0 & 0 & 0 & 1 & | & -1\n",
        "   \\end{pmatrix}\n",
        "   $$\n",
        "\n",
        "### Step 3: Back Substitution\n",
        "\n",
        "1. From the 4th row: $ t = -1 $\n",
        "2. From the 3rd row: $ z = 1 $\n",
        "3. From the 2nd row:\n",
        "   $$\n",
        "   -y - z + 2t = -1 \\implies -y - 1 + 2(-1) = -1 \\implies -y = 2 \\implies y = -2\n",
        "   $$\n",
        "4. From the 1st row:\n",
        "   $$\n",
        "   x + y + z - t = 2 \\implies x + (-2) + 1 - (-1) = 2 \\implies x = 2\n",
        "   $$\n",
        "\n",
        "### Solution\n",
        "\n",
        "The solution to the system is:\n",
        "\n",
        "$$\n",
        "x = 2, \\quad y = -2, \\quad z = 1, \\quad t = -1\n",
        "$$\n"
      ],
      "metadata": {
        "id": "faiT6vZTBm59"
      }
    }
  ],
  "metadata": {
    "kernelspec": {
      "display_name": ".venv",
      "language": "python",
      "name": "python3"
    },
    "language_info": {
      "codemirror_mode": {
        "name": "ipython",
        "version": 3
      },
      "file_extension": ".py",
      "mimetype": "text/x-python",
      "name": "python",
      "nbconvert_exporter": "python",
      "pygments_lexer": "ipython3",
      "version": "3.11.9"
    },
    "colab": {
      "provenance": []
    }
  },
  "nbformat": 4,
  "nbformat_minor": 0
}