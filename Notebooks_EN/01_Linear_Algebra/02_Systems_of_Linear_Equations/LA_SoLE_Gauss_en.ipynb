{
  "cells": [
    {
      "cell_type": "markdown",
      "metadata": {
        "id": "itfWxIRNFQ9L"
      },
      "source": [
        "# Gaussian Elimination Method\n",
        "\n",
        "Solving a system of linear equations using the Gaussian elimination method involves transforming the coefficient matrix of the system into an upper triangular matrix, followed by solving the system using back substitution.\n",
        "\n",
        "This is one of the most fundamental methods for solving systems of linear equations, especially in cases where the number of unknowns is different from the number of equations."
      ]
    },
    {
      "cell_type": "code",
      "execution_count": 38,
      "metadata": {
        "id": "0xE4h8QEFQ9M",
        "outputId": "5dfaa5ff-64a8-4364-f267-acb127281be8",
        "colab": {
          "base_uri": "https://localhost:8080/",
          "height": 152
        }
      },
      "outputs": [
        {
          "output_type": "display_data",
          "data": {
            "text/plain": [
              "<IPython.core.display.Markdown object>"
            ],
            "text/markdown": "**Initial equations:**"
          },
          "metadata": {}
        },
        {
          "output_type": "display_data",
          "data": {
            "text/plain": [
              "<IPython.core.display.Markdown object>"
            ],
            "text/markdown": "System of equations:"
          },
          "metadata": {}
        },
        {
          "output_type": "display_data",
          "data": {
            "text/plain": [
              "<IPython.core.display.Markdown object>"
            ],
            "text/markdown": "$$\\begin{aligned} 1 x_{1} + 2 x_{2} + 3 x_{3} = 10 \\\\ 4 x_{1} + 5 x_{2} + 6 x_{3} = 11 \\\\ 7 x_{1} + 8 x_{2} + 12 x_{3} = 18 \\end{aligned}$$"
          },
          "metadata": {}
        }
      ],
      "source": [
        "from sympy import Matrix, symbols, Eq, latex\n",
        "from IPython.display import display, Markdown\n",
        "import sympy as sp\n",
        "\n",
        "class SymbolicMatrix:\n",
        "    def __init__(self, matrix, column_labels=None, free_terms=None, display_mode=\"table\"):\n",
        "        self.matrix = Matrix(matrix)\n",
        "        self.operations = []\n",
        "        self.display_mode = display_mode\n",
        "\n",
        "        if column_labels:\n",
        "            if len(column_labels) != self.matrix.cols:\n",
        "                raise ValueError(\"The number of column labels must be equal to the number of columns in the matrix.\")\n",
        "            self.column_labels = column_labels\n",
        "        else:\n",
        "            self.column_labels = [f\"x{i+1}\" for i in range(self.matrix.cols)]\n",
        "\n",
        "        if free_terms:\n",
        "            if len(free_terms) != self.matrix.rows:\n",
        "                raise ValueError(\"The number of free terms must be equal to the number of rows in the matrix.\")\n",
        "            self.free_terms = free_terms\n",
        "        else:\n",
        "            self.free_terms = [0 for _ in range(self.matrix.rows)]\n",
        "\n",
        "        display(Markdown(\"**Initial equations:**\"))\n",
        "        self.display_matrix()\n",
        "\n",
        "    def set_display_mode(self, mode):\n",
        "        if mode not in [\"table\", \"equations\"]:\n",
        "            raise ValueError(\"Display mode must be 'table' or 'equations'.\")\n",
        "        self.display_mode = mode\n",
        "\n",
        "    def display_matrix(self):\n",
        "        if self.display_mode == \"table\":\n",
        "            self._display_table()\n",
        "        elif self.display_mode == \"equations\":\n",
        "            self._display_equations()\n",
        "\n",
        "    def _display_table(self):\n",
        "        matrix_with_free_terms = self.matrix.row_join(Matrix(self.free_terms))\n",
        "        headers = self.column_labels + [\"Free term\"]\n",
        "        display(Markdown(self._matrix_to_markdown(matrix_with_free_terms, headers)))\n",
        "\n",
        "    def _matrix_to_markdown(self, matrix, headers):\n",
        "        markdown_str = \"| \" + \" | \".join(headers) + \" |\\n\"\n",
        "        markdown_str += \"| \" + \" | \".join([\"---\"] * len(headers)) + \" |\\n\"\n",
        "        for i in range(matrix.rows):\n",
        "            row = [str(matrix[i, j]) for j in range(matrix.cols)]\n",
        "            markdown_str += \"| \" + \" | \".join(row) + \" |\\n\"\n",
        "        return markdown_str\n",
        "\n",
        "    def _display_equations(self):\n",
        "        equations = []\n",
        "        for i in range(self.matrix.rows):\n",
        "            terms = []\n",
        "            for j in range(self.matrix.cols):\n",
        "                coef = self.matrix[i, j]\n",
        "                var = symbols(self.column_labels[j])\n",
        "\n",
        "                # Check if the coefficient is positive, negative, or zero\n",
        "                if coef > 0:\n",
        "                    if j == 0:\n",
        "                        terms.append(f\"{latex(coef)} {latex(var)}\")\n",
        "                    else:\n",
        "                        terms.append(f\"+ {latex(coef)} {latex(var)}\")\n",
        "                elif coef < 0:\n",
        "                    terms.append(f\"- {latex(abs(coef))} {latex(var)}\")\n",
        "                elif coef == 0:\n",
        "                    if j == 0:\n",
        "                        terms.append(f\"0 {latex(var)}\")\n",
        "                    else:\n",
        "                        terms.append(f\"+0 {latex(var)}\")\n",
        "\n",
        "            lhs = \" \".join(terms)\n",
        "            rhs = latex(self.free_terms[i])\n",
        "\n",
        "            equation = f\"{lhs} = {rhs}\"\n",
        "            equations.append(equation)\n",
        "\n",
        "        display(Markdown(\"System of equations:\"))\n",
        "        display(Markdown(f\"$$\\\\begin{{aligned}} {self._equations_to_latex(equations)} \\\\end{{aligned}}$$\"))\n",
        "\n",
        "    def _equations_to_latex(self, equations):\n",
        "        return \" \\\\\\\\ \".join(equations)\n",
        "\n",
        "    def add_row(self, target_row, source_row, coefficient):\n",
        "        target_idx = self._validate_row_number(target_row)\n",
        "        source_idx = self._validate_row_number(source_row)\n",
        "\n",
        "        # Operation on the matrix\n",
        "        self.matrix.row_op(target_idx, lambda v, j: v + coefficient * self.matrix[source_idx, j])\n",
        "\n",
        "        # Operation on the free terms\n",
        "        self.free_terms[target_idx] += coefficient * self.free_terms[source_idx]\n",
        "\n",
        "        operation_str = f\"r{target_row} = r{target_row} + {coefficient}*r{source_row}\"\n",
        "        self.operations.append(operation_str)\n",
        "        display(Markdown(f\"**Operation:** {operation_str}\"))\n",
        "        self.display_matrix()\n",
        "\n",
        "    def multiply_row(self, row, coefficient):\n",
        "        row_idx = self._validate_row_number(row)\n",
        "\n",
        "        # Operation on the matrix\n",
        "        self.matrix.row_op(row_idx, lambda v, _: coefficient * v)\n",
        "\n",
        "        # Operation on the free terms\n",
        "        self.free_terms[row_idx] *= coefficient\n",
        "\n",
        "        operation_str = f\"r{row} = {coefficient}*r{row}\"\n",
        "        self.operations.append(operation_str)\n",
        "        display(Markdown(f\"**Operation:** {operation_str}\"))\n",
        "        self.display_matrix()\n",
        "\n",
        "    def swap_rows(self, row1, row2):\n",
        "        row1_idx = self._validate_row_number(row1)\n",
        "        row2_idx = self._validate_row_number(row2)\n",
        "\n",
        "        self.matrix.row_swap(row1_idx, row2_idx)\n",
        "        self.free_terms[row1_idx], self.free_terms[row2_idx] = self.free_terms[row2_idx], self.free_terms[row1_idx]\n",
        "\n",
        "        operation_str = f\"Swap r{row1} <-> r{row2}\"\n",
        "        self.operations.append(operation_str)\n",
        "        display(Markdown(f\"**Operation:** {operation_str}\"))\n",
        "        self.display_matrix()\n",
        "\n",
        "    def swap_columns(self, col1, col2):\n",
        "        col1_idx = self._validate_col_number(col1)\n",
        "        col2_idx = self._validate_col_number(col2)\n",
        "\n",
        "        self.matrix.col_swap(col1_idx, col2_idx)\n",
        "        self.column_labels[col1_idx], self.column_labels[col2_idx] = self.column_labels[col2_idx], self.column_labels[col1_idx]\n",
        "\n",
        "        operation_str = f\"Swap col{col1} <-> col{col2}\"\n",
        "        self.operations.append(operation_str)\n",
        "        display(Markdown(f\"**Operation:** {operation_str}\"))\n",
        "        self.display_matrix()\n",
        "\n",
        "    def _validate_row_number(self, row):\n",
        "        if not isinstance(row, int):\n",
        "            raise TypeError(\"Row number must be an integer.\")\n",
        "        if row < 1 or row > self.matrix.rows:\n",
        "            raise IndexError(f\"Row number must be between 1 and {self.matrix.rows}.\")\n",
        "        return row - 1\n",
        "\n",
        "    def _validate_col_number(self, col):\n",
        "        if not isinstance(col, int):\n",
        "            raise TypeError(\"Column number must be an integer.\")\n",
        "        if col < 1 or col > self.matrix.cols:\n",
        "            raise IndexError(f\"Column number must be between 1 and {self.matrix.cols}.\")\n",
        "        return col - 1\n",
        "\n",
        "    def print_operations(self):\n",
        "        display(Markdown(\"**Performed operations:**\"))\n",
        "        for op in self.operations:\n",
        "            print(op)\n",
        "\n",
        "# Example usage:\n",
        "m = SymbolicMatrix([[1,2,3], [4,5,6], [7,8,12]], column_labels=[\"x1\", \"x2\", \"x3\"], free_terms=[10, 11, 18], display_mode=\"equations\")\n"
      ]
    },
    {
      "cell_type": "code",
      "execution_count": 42,
      "metadata": {
        "id": "gzvbNXINFQ9N",
        "outputId": "2240698d-56d1-4dc9-ace9-7ac6780ac47f",
        "colab": {
          "base_uri": "https://localhost:8080/",
          "height": 152
        }
      },
      "outputs": [
        {
          "output_type": "display_data",
          "data": {
            "text/plain": [
              "<IPython.core.display.Markdown object>"
            ],
            "text/markdown": "**Operation:** r2 = r2 + -4*r1"
          },
          "metadata": {}
        },
        {
          "output_type": "display_data",
          "data": {
            "text/plain": [
              "<IPython.core.display.Markdown object>"
            ],
            "text/markdown": "System of equations:"
          },
          "metadata": {}
        },
        {
          "output_type": "display_data",
          "data": {
            "text/plain": [
              "<IPython.core.display.Markdown object>"
            ],
            "text/markdown": "$$\\begin{aligned} 1 x_{1} + 2 x_{2} + 3 x_{3} = 10 \\\\ 0 x_{1} - 3 x_{2} - 6 x_{3} = -29 \\\\ 0 x_{1} - 6 x_{2} - 9 x_{3} = -52 \\end{aligned}$$"
          },
          "metadata": {}
        }
      ],
      "source": [
        "m.add_row(2, 1, -4)"
      ]
    },
    {
      "cell_type": "code",
      "execution_count": 39,
      "metadata": {
        "id": "JnS6sNeZFQ9N",
        "outputId": "f5649986-4da3-4eb5-ca3a-2d9aced58a5a",
        "colab": {
          "base_uri": "https://localhost:8080/",
          "height": 152
        }
      },
      "outputs": [
        {
          "output_type": "display_data",
          "data": {
            "text/plain": [
              "<IPython.core.display.Markdown object>"
            ],
            "text/markdown": "**Operation:** r3 = r3 + -7*r1"
          },
          "metadata": {}
        },
        {
          "output_type": "display_data",
          "data": {
            "text/plain": [
              "<IPython.core.display.Markdown object>"
            ],
            "text/markdown": "System of equations:"
          },
          "metadata": {}
        },
        {
          "output_type": "display_data",
          "data": {
            "text/plain": [
              "<IPython.core.display.Markdown object>"
            ],
            "text/markdown": "$$\\begin{aligned} 1 x_{1} + 2 x_{2} + 3 x_{3} = 10 \\\\ 4 x_{1} + 5 x_{2} + 6 x_{3} = 11 \\\\ 0 x_{1} - 6 x_{2} - 9 x_{3} = -52 \\end{aligned}$$"
          },
          "metadata": {}
        }
      ],
      "source": [
        "m.add_row(3, 1, -7)"
      ]
    },
    {
      "cell_type": "code",
      "execution_count": null,
      "metadata": {
        "id": "rboBBnoWFQ9N",
        "outputId": "7d48d554-0c82-497b-f17e-0b55b7aa6b51"
      },
      "outputs": [
        {
          "data": {
            "text/markdown": [
              "**Operation:** r3 = r3 + -2*r2"
            ],
            "text/plain": [
              "<IPython.core.display.Markdown object>"
            ]
          },
          "metadata": {},
          "output_type": "display_data"
        },
        {
          "data": {
            "text/markdown": [
              "System of equations:"
            ],
            "text/plain": [
              "<IPython.core.display.Markdown object>"
            ]
          },
          "metadata": {},
          "output_type": "display_data"
        },
        {
          "data": {
            "text/markdown": [
              "$$\\begin{aligned} 1 x_{1} + 2 x_{2} + 3 x_{3} = 10 \\\\ 0 x_{1} - 3 x_{2} - 6 x_{3} = -29 \\\\ 0 x_{1} +0 x_{2} + 3 x_{3} = 6 \\end{aligned}$$"
            ],
            "text/plain": [
              "<IPython.core.display.Markdown object>"
            ]
          },
          "metadata": {},
          "output_type": "display_data"
        }
      ],
      "source": [
        "m.add_row(3, 2, -2)"
      ]
    },
    {
      "cell_type": "code",
      "execution_count": null,
      "metadata": {
        "id": "ieQvKgs5FQ9N"
      },
      "outputs": [],
      "source": [
        "# We have 3 equations, so we end the operation\n",
        "# Define symbols\n",
        "x1, x2, x3 = symbols('x1 x2 x3')\n",
        "# Define equations\n",
        "eq1 = Eq(x1 + 2*x2 + 3*x3, 10)\n",
        "eq2 = Eq(-3*x2 - 6*x3, -29)\n",
        "eq3 = Eq(3*x3, 6)"
      ]
    },
    {
      "cell_type": "code",
      "execution_count": null,
      "metadata": {
        "id": "2Ud7F-f4FQ9N",
        "outputId": "2b868ba2-f902-4cb6-8c4f-cc85f8c9bd4a"
      },
      "outputs": [
        {
          "data": {
            "text/latex": [
              "$\\displaystyle 2$"
            ],
            "text/plain": [
              "2"
            ]
          },
          "execution_count": 14,
          "metadata": {},
          "output_type": "execute_result"
        }
      ],
      "source": [
        "sol_x3 = sp.solve(eq3, x3)[0]\n",
        "sol_x3"
      ]
    },
    {
      "cell_type": "code",
      "execution_count": null,
      "metadata": {
        "id": "cKyHVR0bFQ9O",
        "outputId": "1240910c-6862-4d95-dfb2-4d5f5c8364b1"
      },
      "outputs": [
        {
          "data": {
            "text/latex": [
              "$\\displaystyle \\frac{17}{3}$"
            ],
            "text/plain": [
              "17/3"
            ]
          },
          "execution_count": 15,
          "metadata": {},
          "output_type": "execute_result"
        }
      ],
      "source": [
        "# Substitute solution x3 into equation 2\n",
        "eq2 = eq2.subs(x3, sol_x3)\n",
        "# Solve equation 2\n",
        "sol_x2 = sp.solve(eq2, x2)[0]\n",
        "sol_x2"
      ]
    },
    {
      "cell_type": "code",
      "execution_count": null,
      "metadata": {
        "id": "1Pg74D19FQ9O",
        "outputId": "df512d22-9db7-494d-aed3-6059421557f7"
      },
      "outputs": [
        {
          "data": {
            "text/latex": [
              "$\\displaystyle - \\frac{22}{3}$"
            ],
            "text/plain": [
              "-22/3"
            ]
          },
          "execution_count": 16,
          "metadata": {},
          "output_type": "execute_result"
        }
      ],
      "source": [
        "# Substitute solutions x2 and x3 into equation 1\n",
        "eq1 = eq1.subs({x2: sol_x2, x3: sol_x3})\n",
        "# Solve equation 1\n",
        "sol_x1 = sp.solve(eq1, x1)[0]\n",
        "sol_x1"
      ]
    },
    {
      "cell_type": "markdown",
      "metadata": {
        "id": "abFcu7reFQ9O"
      },
      "source": [
        "---\n",
        "\n",
        "## Exercises for Students\n",
        "\n",
        "$$\n",
        "\\left\\{\\begin{array}{c}{x+2 y-2 z=4} \\\\ {2 x+y+z=0} \\\\ {3 x+2 y+z=1}\\end{array}\\right.\\quad\n",
        "\\left\\{\\begin{array}{c}{x+y+z-t=2} \\\\ {2 x+y+z=3} \\\\ {-x+z-t=0} \\\\ {3 x+2 y-z+2 t=-1}\\end{array}\\right.\\quad\n",
        "\\left\\{\\begin{array}{c}{x+y-z-t=0} \\\\ {2 x+3 y-2 z+t=4} \\\\ {3 x+5 z=0} \\\\ {-x+y-3 z+2 t=3}\\end{array}\\right.\n",
        "$$"
      ]
    },
    {
      "cell_type": "markdown",
      "metadata": {
        "id": "54nUjGcqFQ9O"
      },
      "source": []
    },
    {
      "cell_type": "markdown",
      "metadata": {
        "id": "ImDOWdXGFQ9O"
      },
      "source": []
    },
    {
      "cell_type": "markdown",
      "metadata": {
        "id": "dKHHOnfyFQ9O"
      },
      "source": []
    },
    {
      "cell_type": "code",
      "source": [
        "#Exercises 1\n",
        "#Given Matrix\n",
        "\n",
        "augmented_matrix = Matrix([[1, 2, -2, 4], [2, 1, 1, 0], [3, 2, 1, 1]])\n",
        "augmented_matrix"
      ],
      "metadata": {
        "id": "qbHodgBAPNw9",
        "outputId": "ce308483-2bec-4e75-85a0-270fdef8878c",
        "colab": {
          "base_uri": "https://localhost:8080/",
          "height": 78
        }
      },
      "execution_count": 75,
      "outputs": [
        {
          "output_type": "execute_result",
          "data": {
            "text/plain": [
              "Matrix([\n",
              "[1, 2, -2, 4],\n",
              "[2, 1,  1, 0],\n",
              "[3, 2,  1, 1]])"
            ],
            "text/latex": "$\\displaystyle \\left[\\begin{matrix}1 & 2 & -2 & 4\\\\2 & 1 & 1 & 0\\\\3 & 2 & 1 & 1\\end{matrix}\\right]$"
          },
          "metadata": {},
          "execution_count": 75
        }
      ]
    },
    {
      "cell_type": "code",
      "source": [
        "augmented_matrix[1, :] = augmented_matrix[1, :] - 2 * augmented_matrix[0, :] # r2 -2*r1\n",
        "augmented_matrix"
      ],
      "metadata": {
        "id": "o1HdwV9KPd2L",
        "outputId": "2db1ec8b-8e65-4afe-fe4c-f388c2a5bbaf",
        "colab": {
          "base_uri": "https://localhost:8080/",
          "height": 78
        }
      },
      "execution_count": 76,
      "outputs": [
        {
          "output_type": "execute_result",
          "data": {
            "text/plain": [
              "Matrix([\n",
              "[1,  2, -2,  4],\n",
              "[0, -3,  5, -8],\n",
              "[3,  2,  1,  1]])"
            ],
            "text/latex": "$\\displaystyle \\left[\\begin{matrix}1 & 2 & -2 & 4\\\\0 & -3 & 5 & -8\\\\3 & 2 & 1 & 1\\end{matrix}\\right]$"
          },
          "metadata": {},
          "execution_count": 76
        }
      ]
    },
    {
      "cell_type": "code",
      "source": [
        "augmented_matrix[2, :] = augmented_matrix[2, :] - 3 * augmented_matrix[0, :] #r3-3*r1\n",
        "augmented_matrix"
      ],
      "metadata": {
        "id": "NeWUMGEYQdaT",
        "outputId": "2ab79c9a-4081-48cd-9df3-be89e0ace10a",
        "colab": {
          "base_uri": "https://localhost:8080/",
          "height": 78
        }
      },
      "execution_count": 77,
      "outputs": [
        {
          "output_type": "execute_result",
          "data": {
            "text/plain": [
              "Matrix([\n",
              "[1,  2, -2,   4],\n",
              "[0, -3,  5,  -8],\n",
              "[0, -4,  7, -11]])"
            ],
            "text/latex": "$\\displaystyle \\left[\\begin{matrix}1 & 2 & -2 & 4\\\\0 & -3 & 5 & -8\\\\0 & -4 & 7 & -11\\end{matrix}\\right]$"
          },
          "metadata": {},
          "execution_count": 77
        }
      ]
    },
    {
      "cell_type": "code",
      "source": [
        "augmented_matrix[2, :] = augmented_matrix[2, :] - (4/3) * augmented_matrix[1, :] #r3-(4/3)*r2\n",
        "augmented_matrix"
      ],
      "metadata": {
        "id": "AT6hsHWWUcrL",
        "outputId": "148f45eb-7426-47bc-c6a5-a25ccd39e358",
        "colab": {
          "base_uri": "https://localhost:8080/",
          "height": 78
        }
      },
      "execution_count": 78,
      "outputs": [
        {
          "output_type": "execute_result",
          "data": {
            "text/plain": [
              "Matrix([\n",
              "[1,  2,                -2,                  4],\n",
              "[0, -3,                 5,                 -8],\n",
              "[0,  0, 0.333333333333334, -0.333333333333334]])"
            ],
            "text/latex": "$\\displaystyle \\left[\\begin{matrix}1 & 2 & -2 & 4\\\\0 & -3 & 5 & -8\\\\0 & 0 & 0.333333333333334 & -0.333333333333334\\end{matrix}\\right]$"
          },
          "metadata": {},
          "execution_count": 78
        }
      ]
    },
    {
      "cell_type": "code",
      "source": [
        "augmented_matrix[2, :] = augmented_matrix[2, :] / augmented_matrix[2, 2]\n",
        "augmented_matrix"
      ],
      "metadata": {
        "id": "oLgAdcCcWfyk",
        "outputId": "2787edc6-28dc-4798-d0e4-74a2b677ecfc",
        "colab": {
          "base_uri": "https://localhost:8080/",
          "height": 78
        }
      },
      "execution_count": 79,
      "outputs": [
        {
          "output_type": "execute_result",
          "data": {
            "text/plain": [
              "Matrix([\n",
              "[1,  2,  -2,    4],\n",
              "[0, -3,   5,   -8],\n",
              "[0,  0, 1.0, -1.0]])"
            ],
            "text/latex": "$\\displaystyle \\left[\\begin{matrix}1 & 2 & -2 & 4\\\\0 & -3 & 5 & -8\\\\0 & 0 & 1.0 & -1.0\\end{matrix}\\right]$"
          },
          "metadata": {},
          "execution_count": 79
        }
      ]
    },
    {
      "cell_type": "code",
      "source": [
        "augmented_matrix[1, :] = augmented_matrix[1, :] - augmented_matrix[1, 2] * augmented_matrix[2, :]\n",
        "augmented_matrix[1, :] = augmented_matrix[1, :] / augmented_matrix[1, 1]\n",
        "augmented_matrix"
      ],
      "metadata": {
        "id": "sUDUHtQGWytv",
        "outputId": "3cfbaf6d-bb59-44a8-958d-282ec55cd7dc",
        "colab": {
          "base_uri": "https://localhost:8080/",
          "height": 78
        }
      },
      "execution_count": 80,
      "outputs": [
        {
          "output_type": "execute_result",
          "data": {
            "text/plain": [
              "Matrix([\n",
              "[1, 2,  -2,    4],\n",
              "[0, 1,   0,  1.0],\n",
              "[0, 0, 1.0, -1.0]])"
            ],
            "text/latex": "$\\displaystyle \\left[\\begin{matrix}1 & 2 & -2 & 4\\\\0 & 1 & 0 & 1.0\\\\0 & 0 & 1.0 & -1.0\\end{matrix}\\right]$"
          },
          "metadata": {},
          "execution_count": 80
        }
      ]
    },
    {
      "cell_type": "code",
      "source": [
        "augmented_matrix[0, :] = augmented_matrix[0, :] - augmented_matrix[0, 2] * augmented_matrix[2, :]\n",
        "augmented_matrix[0, :] = augmented_matrix[0, :] - augmented_matrix[0, 1] * augmented_matrix[1, :]\n",
        "augmented_matrix"
      ],
      "metadata": {
        "id": "rfwijFVQW1FI",
        "outputId": "ac9f5af2-2d20-4ac4-8480-bba8683de3ba",
        "colab": {
          "base_uri": "https://localhost:8080/",
          "height": 78
        }
      },
      "execution_count": 81,
      "outputs": [
        {
          "output_type": "execute_result",
          "data": {
            "text/plain": [
              "Matrix([\n",
              "[1, 0,   0,    0],\n",
              "[0, 1,   0,  1.0],\n",
              "[0, 0, 1.0, -1.0]])"
            ],
            "text/latex": "$\\displaystyle \\left[\\begin{matrix}1 & 0 & 0 & 0\\\\0 & 1 & 0 & 1.0\\\\0 & 0 & 1.0 & -1.0\\end{matrix}\\right]$"
          },
          "metadata": {},
          "execution_count": 81
        }
      ]
    },
    {
      "cell_type": "code",
      "source": [
        "solution = augmented_matrix[:, -1]\n",
        "solution"
      ],
      "metadata": {
        "id": "zll5ZCvEXA2O",
        "outputId": "68370ff8-c745-442c-9719-db68f4b8a285",
        "colab": {
          "base_uri": "https://localhost:8080/",
          "height": 78
        }
      },
      "execution_count": 82,
      "outputs": [
        {
          "output_type": "execute_result",
          "data": {
            "text/plain": [
              "Matrix([\n",
              "[   0],\n",
              "[ 1.0],\n",
              "[-1.0]])"
            ],
            "text/latex": "$\\displaystyle \\left[\\begin{matrix}0\\\\1.0\\\\-1.0\\end{matrix}\\right]$"
          },
          "metadata": {},
          "execution_count": 82
        }
      ]
    }
  ],
  "metadata": {
    "kernelspec": {
      "display_name": ".venv",
      "language": "python",
      "name": "python3"
    },
    "language_info": {
      "codemirror_mode": {
        "name": "ipython",
        "version": 3
      },
      "file_extension": ".py",
      "mimetype": "text/x-python",
      "name": "python",
      "nbconvert_exporter": "python",
      "pygments_lexer": "ipython3",
      "version": "3.11.9"
    },
    "colab": {
      "provenance": []
    }
  },
  "nbformat": 4,
  "nbformat_minor": 0
}