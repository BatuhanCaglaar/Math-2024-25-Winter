{
  "cells": [
    {
      "cell_type": "markdown",
      "metadata": {},
      "source": [
        "# Cramer's Rule - Examples for 2x2, 3x3, and 4x4 Systems\n",
        "\n",
        "Cramer's rule is used only when the number of equations is equal to the number of unknowns. In other words, the coefficient matrix must be a square matrix.\n",
        "\n",
        "**These formulas are used only** when the **determinant** of the coefficient matrix is **non-zero**. Otherwise, the system of equations is either inconsistent or indeterminate.\n",
        "\n",
        "## 2x2 System of Equations\n",
        "\n",
        "Consider a system of two equations with two unknowns:\n",
        "\n",
        "$$\n",
        "\\begin{cases}\n",
        "a_{11}x_1 + a_{12}x_2 = b_1 \\\\\n",
        "a_{21}x_1 + a_{22}x_2 = b_2\n",
        "\\end{cases}\n",
        "$$\n",
        "\n",
        "Cramer's rule for the unknowns $ x_1 $ and $ x_2 $ is as follows:\n",
        "\n",
        "$$\n",
        "x_1 = \\frac{\\det(A_1)}{\\det(A)} \\quad \\text{and} \\quad x_2 = \\frac{\\det(A_2)}{\\det(A)}\n",
        "$$\n",
        "\n",
        "Where:\n",
        "\n",
        "$$\n",
        "\\det(A) = \n",
        "\\begin{vmatrix}\n",
        "a_{11} & a_{12} \\\\\n",
        "a_{21} & a_{22}\n",
        "\\end{vmatrix} \n",
        "= a_{11}a_{22} - a_{12}a_{21}\n",
        "$$\n",
        "\n",
        "$$\n",
        "\\det(A_1) = \n",
        "\\begin{vmatrix}\n",
        "b_1 & a_{12} \\\\\n",
        "b_2 & a_{22}\n",
        "\\end{vmatrix} \n",
        "= b_1a_{22} - a_{12}b_2\n",
        "$$\n",
        "\n",
        "$$\n",
        "\\det(A_2) = \n",
        "\\begin{vmatrix}\n",
        "a_{11} & b_1 \\\\\n",
        "a_{21} & b_2\n",
        "\\end{vmatrix} \n",
        "= a_{11}b_2 - b_1a_{21}\n",
        "$$\n",
        "\n",
        "## 3x3 System of Equations\n",
        "\n",
        "Consider a system of three equations with three unknowns:\n",
        "\n",
        "$$\n",
        "\\begin{cases}\n",
        "a_{11}x_1 + a_{12}x_2 + a_{13}x_3 = b_1 \\\\\n",
        "a_{21}x_1 + a_{22}x_2 + a_{23}x_3 = b_2 \\\\\n",
        "a_{31}x_1 + a_{32}x_2 + a_{33}x_3 = b_3\n",
        "\\end{cases}\n",
        "$$\n",
        "\n",
        "Cramer's rule for $ x_1 $, $ x_2 $, and $ x_3 $:\n",
        "\n",
        "$$\n",
        "x_1 = \\frac{\\det(A_1)}{\\det(A)} \\quad x_2 = \\frac{\\det(A_2)}{\\det(A)} \\quad x_3 = \\frac{\\det(A_3)}{\\det(A)}\n",
        "$$\n",
        "\n",
        "Where:\n",
        "\n",
        "$$\n",
        "\\det(A) = \n",
        "\\begin{vmatrix}\n",
        "a_{11} & a_{12} & a_{13} \\\\\n",
        "a_{21} & a_{22} & a_{23} \\\\\n",
        "a_{31} & a_{32} & a_{33}\n",
        "\\end{vmatrix}\n",
        "$$\n",
        "\n",
        "$$\n",
        "\\det(A_1) = \n",
        "\\begin{vmatrix}\n",
        "b_1 & a_{12} & a_{13} \\\\\n",
        "b_2 & a_{22} & a_{23} \\\\\n",
        "b_3 & a_{32} & a_{33}\n",
        "\\end{vmatrix}\n",
        "$$\n",
        "\n",
        "$$\n",
        "\\det(A_2) = \n",
        "\\begin{vmatrix}\n",
        "a_{11} & b_1 & a_{13} \\\\\n",
        "a_{21} & b_2 & a_{23} \\\\\n",
        "a_{31} & b_3 & a_{33}\n",
        "\\end{vmatrix}\n",
        "$$\n",
        "\n",
        "$$\n",
        "\\det(A_3) = \n",
        "\\begin{vmatrix}\n",
        "a_{11} & a_{12} & b_1 \\\\\n",
        "a_{21} & a_{22} & b_2 \\\\\n",
        "a_{31} & a_{32} & b_3\n",
        "\\end{vmatrix}\n",
        "$$\n",
        "\n",
        "## 4x4 System of Equations\n",
        "\n",
        "Consider a system of four equations with four unknowns:\n",
        "\n",
        "$$\n",
        "\\begin{cases}\n",
        "a_{11}x_1 + a_{12}x_2 + a_{13}x_3 + a_{14}x_4 = b_1 \\\\\n",
        "a_{21}x_1 + a_{22}x_2 + a_{23}x_3 + a_{24}x_4 = b_2 \\\\\n",
        "a_{31}x_1 + a_{32}x_2 + a_{33}x_3 + a_{34}x_4 = b_3 \\\\\n",
        "a_{41}x_1 + a_{42}x_2 + a_{43}x_3 + a_{44}x_4 = b_4\n",
        "\\end{cases}\n",
        "$$\n",
        "\n",
        "Cramer's rule for $ x_1 $, $ x_2 $, $ x_3 $, and $ x_4 $:\n",
        "\n",
        "$$\n",
        "x_1 = \\frac{\\det(A_1)}{\\det(A)} \\quad x_2 = \\frac{\\det(A_2)}{\\det(A)} \\quad x_3 = \\frac{\\det(A_3)}{\\det(A)} \\quad x_4 = \\frac{\\det(A_4)}{\\det(A)}\n",
        "$$\n",
        "\n",
        "Where:\n",
        "\n",
        "$$\n",
        "\\det(A) = \n",
        "\\begin{vmatrix}\n",
        "a_{11} & a_{12} & a_{13} & a_{14} \\\\\n",
        "a_{21} & a_{22} & a_{23} & a_{24} \\\\\n",
        "a_{31} & a_{32} & a_{33} & a_{34} \\\\\n",
        "a_{41} & a_{42} & a_{43} & a_{44}\n",
        "\\end{vmatrix}\n",
        "$$\n",
        "\n",
        "$$\n",
        "\\det(A_1) = \n",
        "\\begin{vmatrix}\n",
        "b_1 & a_{12} & a_{13} & a_{14} \\\\\n",
        "b_2 & a_{22} & a_{23} & a_{24} \\\\\n",
        "b_3 & a_{32} & a_{33} & a_{34} \\\\\n",
        "b_4 & a_{42} & a_{43} & a_{44}\n",
        "\\end{vmatrix}\n",
        "$$\n",
        "\n",
        "$$\n",
        "\\det(A_2) = \n",
        "\\begin{vmatrix}\n",
        "a_{11} & b_1 & a_{13} & a_{14} \\\\\n",
        "a_{21} & b_2 & a_{23} & a_{24} \\\\\n",
        "a_{31} & b_3 & a_{33} & a_{34} \\\\\n",
        "a_{41} & b_4 & a_{43} & a_{44}\n",
        "\\end{vmatrix}\n",
        "$$\n",
        "\n",
        "$$\n",
        "\\det(A_3) = \n",
        "\\begin{vmatrix}\n",
        "a_{11} & a_{12} & b_1 & a_{14} \\\\\n",
        "a_{21} & a_{22} & b_2 & a_{24} \\\\\n",
        "a_{31} & a_{32} & b_3 & a_{34} \\\\\n",
        "a_{41} & a_{42} & b_4 & a_{44}\n",
        "\\end{vmatrix}\n",
        "$$\n",
        "\n",
        "$$\n",
        "\\det(A_4) = \n",
        "\\begin{vmatrix}\n",
        "a_{11} & a_{12} & a_{13} & b_1 \\\\\n",
        "a_{21} & a_{22} & a_{23} & b_2 \\\\\n",
        "a_{31} & a_{32} & a_{33} & b_3 \\\\\n",
        "a_{41} & a_{42} & a_{43} & b_4\n",
        "\\end{vmatrix}\n",
        "$$\n",
        "\n",
        "## Example"
      ]
    },
    {
      "cell_type": "code",
      "execution_count": 1,
      "metadata": {},
      "outputs": [],
      "source": [
        "import sympy as sp\n",
        "\n",
        "# Define symbols\n",
        "x, y, z = sp.symbols('x y z')\n",
        "\n",
        "# Define the system of equations\n",
        "eq1 = sp.Eq(2*x + 3*y + z, 1)\n",
        "eq2 = sp.Eq(3*x + 2*y + 2*z, 2) \n",
        "eq3 = sp.Eq(x + y + z, 3)\n",
        "\n",
        "# Coefficient matrix of the system\n",
        "A = sp.Matrix([[2, 3, 1], [3, 2, 2], [1, 1, 1]])\n",
        "# Free terms vector\n",
        "b = sp.Matrix([1, 2, 3])"
      ]
    },
    {
      "cell_type": "code",
      "execution_count": 2,
      "metadata": {},
      "outputs": [
        {
          "data": {
            "text/latex": [
              "$\\displaystyle \\left[\\begin{matrix}2 & 3 & 1\\\\3 & 2 & 2\\\\1 & 1 & 1\\end{matrix}\\right]$"
            ],
            "text/plain": [
              "Matrix([\n",
              "[2, 3, 1],\n",
              "[3, 2, 2],\n",
              "[1, 1, 1]])"
            ]
          },
          "execution_count": 2,
          "metadata": {},
          "output_type": "execute_result"
        }
      ],
      "source": [
        "A"
      ]
    },
    {
      "cell_type": "code",
      "execution_count": 3,
      "metadata": {},
      "outputs": [
        {
          "data": {
            "text/latex": [
              "$\\displaystyle \\left[\\begin{matrix}1\\\\2\\\\3\\end{matrix}\\right]$"
            ],
            "text/plain": [
              "Matrix([\n",
              "[1],\n",
              "[2],\n",
              "[3]])"
            ]
          },
          "execution_count": 3,
          "metadata": {},
          "output_type": "execute_result"
        }
      ],
      "source": [
        "b"
      ]
    },
    {
      "cell_type": "code",
      "execution_count": 4,
      "metadata": {},
      "outputs": [
        {
          "data": {
            "text/latex": [
              "$\\displaystyle \\left[\\begin{matrix}1 & 3 & 1\\\\2 & 2 & 2\\\\3 & 1 & 1\\end{matrix}\\right]$"
            ],
            "text/plain": [
              "Matrix([\n",
              "[1, 3, 1],\n",
              "[2, 2, 2],\n",
              "[3, 1, 1]])"
            ]
          },
          "execution_count": 4,
          "metadata": {},
          "output_type": "execute_result"
        }
      ],
      "source": [
        "# Define matrix A_1\n",
        "A_1 = A.copy() # Copy matrix A\n",
        "A_1[:, 0] = b # Replace the first column of A with vector b\n",
        "A_1 # Check if the replacement was successful"
      ]
    },
    {
      "cell_type": "code",
      "execution_count": 5,
      "metadata": {},
      "outputs": [
        {
          "data": {
            "text/latex": [
              "$\\displaystyle -4$"
            ],
            "text/plain": [
              "-4"
            ]
          },
          "execution_count": 5,
          "metadata": {},
          "output_type": "execute_result"
        }
      ],
      "source": [
        "det_A_1 = A_1.det() # Calculate determinant of A_1\n",
        "sol_x = det_A_1 / A.det() # Calculate x_1\n",
        "sol_x # Calculated value of x_1"
      ]
    },
    {
      "cell_type": "code",
      "execution_count": 6,
      "metadata": {},
      "outputs": [
        {
          "data": {
            "text/latex": [
              "$\\displaystyle \\left[\\begin{matrix}2 & 1 & 1\\\\3 & 2 & 2\\\\1 & 3 & 1\\end{matrix}\\right]$"
            ],
            "text/plain": [
              "Matrix([\n",
              "[2, 1, 1],\n",
              "[3, 2, 2],\n",
              "[1, 3, 1]])"
            ]
          },
          "execution_count": 6,
          "metadata": {},
          "output_type": "execute_result"
        }
      ],
      "source": [
        "# Similarly for y\n",
        "A_2 = A.copy()\n",
        "A_2[:, 1] = b\n",
        "A_2 # Check if the replacement was successful"
      ]
    },
    {
      "cell_type": "code",
      "execution_count": 7,
      "metadata": {},
      "outputs": [
        {
          "data": {
            "text/latex": [
              "$\\displaystyle 1$"
            ],
            "text/plain": [
              "1"
            ]
          },
          "execution_count": 7,
          "metadata": {},
          "output_type": "execute_result"
        }
      ],
      "source": [
        "det_A_2 = A_2.det()\n",
        "sol_y = det_A_2 / A.det()\n",
        "sol_y"
      ]
    },
    {
      "cell_type": "code",
      "execution_count": 8,
      "metadata": {},
      "outputs": [
        {
          "data": {
            "text/latex": [
              "$\\displaystyle 6$"
            ],
            "text/plain": [
              "6"
            ]
          },
          "execution_count": 8,
          "metadata": {},
          "output_type": "execute_result"
        }
      ],
      "source": [
        "# Finally for z\n",
        "A_3 = A.copy()\n",
        "A_3[:, 2] = b\n",
        "det_A_3 = A_3.det()\n",
        "sol_z = det_A_3 / A.det()\n",
        "sol_z"
      ]
    },
    {
      "cell_type": "code",
      "execution_count": 9,
      "metadata": {},
      "outputs": [
        {
          "data": {
            "text/plain": [
              "{x: -4, y: 1, z: 6}"
            ]
          },
          "execution_count": 9,
          "metadata": {},
          "output_type": "execute_result"
        }
      ],
      "source": [
        "# Solve the system of equations\n",
        "sp.solve((eq1, eq2, eq3), (x, y, z))"
      ]
    },
    {
      "cell_type": "markdown",
      "metadata": {},
      "source": [
        "\"\"---\n",
        "\n",
        "## Exercises for Students\n",
        "\n",
        "1. Solve the system of equations:\n",
        "   $$\n",
        "   \\begin{cases}\n",
        "   2x_1 - 3x_2 = 7 \\\\\n",
        "   3x_1 + 5x_2 = 2\n",
        "   \\end{cases}\n",
        "   $$\n",
        "\n",
        "2. Solve the system of equations:\n",
        "   $$\n",
        "   \\begin{cases}\n",
        "   2x + y - z = 1 \\\\\n",
        "   x - y + 2z = 4 \\\\\n",
        "   3x - 2z = -1\n",
        "   \\end{cases}\n",
        "   $$\n",
        "\n",
        "3. Solve the system of equations:\n",
        "   $$\n",
        "   \\begin{cases}\n",
        "   x + y + z - t = 2 \\\\\n",
        "   x - z + 2t = 6 \\\\\n",
        "   2x - 3y + t = 4 \\\\\n",
        "   3x + y + 3z - 4t = -2\n",
        "   \\end{cases}\n",
        "   $$\n",
        "\n",
        "4. Why can't the following system of equations be solved using Cramer's rule?\n",
        "$$\n",
        "\\begin{cases}\n",
        "x_1 + 2x_2 + 3x_3 = 3 \\\\\n",
        "4x_1 + 5x_2 + 6x_3 = 2 \\\\\n",
        "7x_1 + 8x_2 + 9x_3 = 1\n",
        "\\end{cases}\n",
        "$$"
      ]
    },
    {
      "cell_type": "code",
      "execution_count": 4,
      "metadata": {},
      "outputs": [],
      "source": [
        "import sympy as sp\n",
        "\n",
        "#Exercises 1\n",
        "\n",
        "x1, x2 = sp.symbols('x1 x2')"
      ]
    },
    {
      "cell_type": "code",
      "execution_count": 17,
      "metadata": {},
      "outputs": [],
      "source": [
        "eq1 = sp.Eq(2*x1 - 3*x2, 7)\n",
        "eq2 = sp.Eq(3*x1 + 5*x2, 2)"
      ]
    },
    {
      "cell_type": "code",
      "execution_count": 18,
      "metadata": {},
      "outputs": [
        {
          "data": {
            "text/plain": [
              "{x1: 41/19, x2: -17/19}"
            ]
          },
          "execution_count": 18,
          "metadata": {},
          "output_type": "execute_result"
        }
      ],
      "source": [
        "solution = sp.solve((eq1, eq2), (x1, x2))\n",
        "\n",
        "solution"
      ]
    },
    {
      "cell_type": "markdown",
      "metadata": {},
      "source": [
        "### 1. Solve the system of equations:\n",
        "\n",
        "\n",
        "$$\n",
        "\\begin{cases}\n",
        "2x_1 - 3x_2 = 7 \\\\\n",
        "3x_1 + 5x_2 = 2\n",
        "\\end{cases}\n",
        "$$\n",
        "\n",
        "### Steps to Solve:\n",
        "\n",
        "1. **Express one variable in terms of the other:**\n",
        "\n",
        "From the first equation:\n",
        "$$\n",
        "2x_1 = 7 + 3x_2\n",
        "$$\n",
        "$$\n",
        "x_1 = \\frac{7 + 3x_2}{2}\n",
        "$$\n",
        "\n",
        "2. **Substitute this expression into the second equation:**\n",
        "\n",
        "Substitute $( x_1 = \\frac{7 + 3x_2}{2} )$ into $( 3x_1 + 5x_2 = 2 )$:\n",
        "$$\n",
        "3\\left(\\frac{7 + 3x_2}{2}\\right) + 5x_2 = 2\n",
        "$$\n",
        "Multiply both sides by 2 to eliminate the fraction:\n",
        "$$\n",
        "3(7 + 3x_2) + 10x_2 = 4\n",
        "$$\n",
        "Expand:\n",
        "$$\n",
        "21 + 9x_2 + 10x_2 = 4\n",
        "$$\n",
        "Simplify:\n",
        "$$\n",
        "21 + 19x_2 = 4\n",
        "$$\n",
        "Subtract 21 from both sides:\n",
        "$$\n",
        "19x_2 = -17\n",
        "$$\n",
        "Solve for $( x_2 )$:\n",
        "$$\n",
        "x_2 = \\frac{-17}{19}\n",
        "$$\n",
        "\n",
        "3. **Substitute $( x_2 )$ back into the expression for $( x_1 )$:**\n",
        "\n",
        "$$\n",
        "x_1 = \\frac{7 + 3\\left(\\frac{-17}{19}\\right)}{2}\n",
        "$$\n",
        "Simplify the expression:\n",
        "$$\n",
        "x_1 = \\frac{7 + \\frac{-51}{19}}{2}\n",
        "$$\n",
        "Find a common denominator:\n",
        "$$\n",
        "x_1 = \\frac{\\frac{133}{19} - \\frac{51}{19}}{2} = \\frac{\\frac{82}{19}}{2}\n",
        "$$\n",
        "Simplify further:\n",
        "$$\n",
        "x_1 = \\frac{41}{19}\n",
        "$$\n",
        "\n",
        "### Solution:\n",
        "\n",
        "$$\n",
        "x_1 = \\frac{41}{19}, \\quad x_2 = \\frac{-17}{19}\n",
        "$$\n"
      ]
    },
    {
      "cell_type": "code",
      "execution_count": 30,
      "metadata": {},
      "outputs": [],
      "source": [
        "import sympy as sp\n",
        "\n",
        "#Exercises 2\n",
        "\n",
        "x, y, z = sp.symbols('x y z')"
      ]
    },
    {
      "cell_type": "code",
      "execution_count": 31,
      "metadata": {},
      "outputs": [],
      "source": [
        "eq1 = sp.Eq(2*x + y - z, 1)\n",
        "eq2 = sp.Eq(x - y + 2*z, 4)\n",
        "eq3 = sp.Eq(3*x - 2*z, -1)"
      ]
    },
    {
      "cell_type": "code",
      "execution_count": 32,
      "metadata": {},
      "outputs": [
        {
          "data": {
            "text/plain": [
              "{x: 1, y: 1, z: 2}"
            ]
          },
          "execution_count": 32,
          "metadata": {},
          "output_type": "execute_result"
        }
      ],
      "source": [
        "solution = sp.solve((eq1, eq2, eq3), (x, y, z))\n",
        "\n",
        "solution"
      ]
    },
    {
      "cell_type": "markdown",
      "metadata": {},
      "source": [
        "### 2. Solve the system of equations:\n",
        "\n",
        "$$\n",
        "\\begin{cases}\n",
        "2x + y - z = 1 \\\\\n",
        "x - y + 2z = 4 \\\\\n",
        "3x - 2z = -1\n",
        "\\end{cases}\n",
        "$$\n",
        "\n",
        "### Step 1: Express one variable in terms of others from the third equation\n",
        "\n",
        "From the third equation:\n",
        "$$\n",
        "3x - 2z = -1\n",
        "$$\n",
        "Solve for $( x )$:\n",
        "$$\n",
        "x = \\frac{-1 + 2z}{3}\n",
        "$$\n",
        "\n",
        "### Step 2: Substitute this expression for $( x )$ into the first and second equations\n",
        "\n",
        "Substitute $( x = \\frac{-1 + 2z}{3} )$ into the first equation:\n",
        "$$\n",
        "2\\left(\\frac{-1 + 2z}{3}\\right) + y - z = 1\n",
        "$$\n",
        "Multiply by 3 to clear the denominator:\n",
        "$$\n",
        "2(-1 + 2z) + 3y - 3z = 3\n",
        "$$\n",
        "Simplify:\n",
        "$$\n",
        "-2 + 4z + 3y - 3z = 3\n",
        "$$\n",
        "Combine like terms:\n",
        "$$\n",
        "z + 3y = 5\n",
        "$$\n",
        "This gives us the equation:\n",
        "$$\n",
        "z = 5 - 3y \\quad \\text{(Equation 1)}\n",
        "$$\n",
        "\n",
        "Substitute $( x = \\frac{-1 + 2z}{3} )$ into the second equation:\n",
        "$$\n",
        "\\frac{-1 + 2z}{3} - y + 2z = 4\n",
        "$$\n",
        "Multiply by 3:\n",
        "$$\n",
        "-1 + 2z - 3y + 6z = 12\n",
        "$$\n",
        "Simplify:\n",
        "$$\n",
        "8z - 3y = 13\n",
        "$$\n",
        "This gives us:\n",
        "$$\n",
        "z = \\frac{13 + 3y}{8} \\quad \\text{(Equation 2)}\n",
        "$$\n",
        "\n",
        "### Step 3: Set the two expressions for $( z )$ equal to each other\n",
        "\n",
        "Set the two expressions for $( z )$ from Equation 1 and Equation 2 equal:\n",
        "$$\n",
        "5 - 3y = \\frac{13 + 3y}{8}\n",
        "$$\n",
        "Multiply both sides by 8:\n",
        "$$\n",
        "8(5 - 3y) = 13 + 3y\n",
        "$$\n",
        "Simplify:\n",
        "$$\n",
        "40 - 24y = 13 + 3y\n",
        "$$\n",
        "Move all terms involving $( y )$ to one side:\n",
        "$$\n",
        "40 - 13 = 24y + 3y\n",
        "$$\n",
        "Simplify:\n",
        "$$\n",
        "27 = 27y\n",
        "$$\n",
        "Solve for $( y ):\n",
        "$$\n",
        "y = 1\n",
        "$$\n",
        "\n",
        "### Step 4: Substitute $( y = 1 )$ back into the equation for $( z )$\n",
        "\n",
        "Substitute $( y = 1 )$ into $( z = 5 - 3y )$:\n",
        "$$\n",
        "z = 5 - 3(1) = 2\n",
        "$$\n",
        "\n",
        "### Step 5: Substitute $( z = 2 )$ into the expression for $( x )$\n",
        "\n",
        "Substitute $( z = 2 )$ into $( x = \\frac{-1 + 2z}{3} )$:\n",
        "$$\n",
        "x = \\frac{-1 + 2(2)}{3} = \\frac{-1 + 4}{3} = \\frac{3}{3} = 1\n",
        "$$\n",
        "\n",
        "### Solution:\n",
        "\n",
        "$$\n",
        "x = 1, \\quad y = 1, \\quad z = 2\n",
        "$$\n"
      ]
    },
    {
      "cell_type": "code",
      "execution_count": 41,
      "metadata": {},
      "outputs": [],
      "source": [
        "import sympy as sp\n",
        "\n",
        "#Exercises 3\n",
        "\n",
        "x, y, z, t = sp.symbols('x y z t')"
      ]
    },
    {
      "cell_type": "code",
      "execution_count": 42,
      "metadata": {},
      "outputs": [],
      "source": [
        "eq1 = sp.Eq(x + y + z - t, 2)\n",
        "eq2 = sp.Eq(x - z + 2*t, 6)\n",
        "eq3 = sp.Eq(2*x - 3*y + t, 4)\n",
        "eq4 = sp.Eq(3*x + y + 3*z - 4*t, -2)"
      ]
    },
    {
      "cell_type": "code",
      "execution_count": 43,
      "metadata": {},
      "outputs": [
        {
          "data": {
            "text/plain": [
              "{t: 6, x: 1/2, y: 1, z: 13/2}"
            ]
          },
          "execution_count": 43,
          "metadata": {},
          "output_type": "execute_result"
        }
      ],
      "source": [
        "solution = sp.solve((eq1, eq2, eq3, eq4), (x, y, z, t))\n",
        "\n",
        "solution"
      ]
    },
    {
      "cell_type": "markdown",
      "metadata": {},
      "source": [
        "\n",
        "\n",
        "### 3. Solve the system of equations:\n",
        "### System of Equations:\n",
        "\n",
        "$$\n",
        "\\begin{cases}\n",
        "x + y + z - t = 2 \\\\\n",
        "x - z + 2t = 6 \\\\\n",
        "2x - 3y + t = 4 \\\\\n",
        "3x + y + 3z - 4t = -2\n",
        "\\end{cases}\n",
        "$$\n",
        "\n",
        "### Step 1: Rearrange equations\n",
        "\n",
        "1. From the first equation:\n",
        "   $$\n",
        "   x + y + z - t = 2 \\quad \\Rightarrow \\quad x + y + z = t + 2 \\quad \\text{(Equation 1)}\n",
        "   $$\n",
        "\n",
        "2. From the second equation:\n",
        "   $$\n",
        "   x - z + 2t = 6 \\quad \\Rightarrow \\quad x - z = 6 - 2t \\quad \\text{(Equation 2)}\n",
        "   $$\n",
        "\n",
        "3. The third equation remains as is:\n",
        "   $$\n",
        "   2x - 3y + t = 4 \\quad \\text{(Equation 3)}\n",
        "   $$\n",
        "\n",
        "4. From the fourth equation:\n",
        "   $$\n",
        "   3x + y + 3z - 4t = -2 \\quad \\Rightarrow \\quad 3x + y + 3z = 4t - 2 \\quad \\text{(Equation 4)}\n",
        "   $$\n",
        "\n",
        "### Step 2: Solve for $( z )$\n",
        "\n",
        "From Equation 2, we can express $( z )$ in terms of $( x )$ and $( t )$:\n",
        "$$\n",
        "z = x - (6 - 2t) = x + 2t - 6 \\quad \\text{(Substituting into Equation 1)}\n",
        "$$\n",
        "\n",
        "Substituting $( z )$ into Equation 1:\n",
        "$$\n",
        "x + y + (x + 2t - 6) = t + 2\n",
        "$$\n",
        "Combine terms:\n",
        "$$\n",
        "2x + y + 2t - 6 = t + 2\n",
        "$$\n",
        "Rearranging gives:\n",
        "$$\n",
        "2x + y + t = 8 \\quad \\text{(Equation 5)}\n",
        "$$\n",
        "\n",
        "### Step 3: Substitute into Equation 3\n",
        "\n",
        "Now substitute $( z )$ into Equation 3:\n",
        "$$\n",
        "2x - 3y + t = 4\n",
        "$$\n",
        "\n",
        "### Step 4: Solve the system with Equations 5 and 3\n",
        "\n",
        "We now have two equations (Equation 5 and Equation 3):\n",
        "1. $( 2x + y + t = 8 )$ (Equation 5)\n",
        "2. $( 2x - 3y + t = 4 )$ (Equation 3)\n",
        "\n",
        "Subtract Equation 3 from Equation 5:\n",
        "$$\n",
        "(2x + y + t) - (2x - 3y + t) = 8 - 4\n",
        "$$\n",
        "Simplifying gives:\n",
        "$$\n",
        "4y = 4 \\quad \\Rightarrow \\quad y = 1\n",
        "$$\n",
        "\n",
        "### Step 5: Substitute $( y )$ back into the equations\n",
        "\n",
        "Substituting $( y = 1 )$ into Equation 5:\n",
        "$$\n",
        "2x + 1 + t = 8\n",
        "$$\n",
        "Rearranging gives:\n",
        "$$\n",
        "2x + t = 7 \\quad \\Rightarrow \\quad t = 7 - 2x \\quad \\text{(Equation 6)}\n",
        "$$\n",
        "\n",
        "### Step 6: Substitute $( y )$ and $( t )$ into $( z )$\n",
        "\n",
        "Substituting $( y = 1 )$ into the expression for $( z )$:\n",
        "$$\n",
        "z = x + 2(7 - 2x) - 6\n",
        "$$\n",
        "Simplifying gives:\n",
        "$$\n",
        "z = x + 14 - 4x - 6 = -3x + 8 \\quad \\text{(Equation 7)}\n",
        "$$\n",
        "\n",
        "### Step 7: Substitute $( z )$ back into Equation 4\n",
        "\n",
        "Substituting $( z = -3x + 8 )$ into Equation 4:\n",
        "$$\n",
        "3x + 1 + 3(-3x + 8) = 4(7 - 2x) - 2\n",
        "$$\n",
        "Expanding gives:\n",
        "$$\n",
        "3x + 1 - 9x + 24 = 28 - 8x - 2\n",
        "$$\n",
        "Combine like terms:\n",
        "$$\n",
        "-6x + 25 = 26 - 8x\n",
        "$$\n",
        "Rearranging gives:\n",
        "$$\n",
        "2x = 1 \\quad \\Rightarrow \\quad x = \\frac{1}{2}\n",
        "$$\n",
        "\n",
        "### Step 8: Calculate $( y )$, $( z )$, and $( t )$\n",
        "\n",
        "Substituting $( x = \\frac{1}{2} )$ back into Equations 6 and 7:\n",
        "1. Calculate $( t )$:\n",
        "   $$\n",
        "   t = 7 - 2\\left(\\frac{1}{2}\\right) = 7 - 1 = 6\n",
        "   $$\n",
        "\n",
        "2. Calculate $( z )$:\n",
        "   $$\n",
        "   z = -3\\left(\\frac{1}{2}\\right) + 8 = -\\frac{3}{2} + 8 = \\frac{13}{2}\n",
        "   $$\n",
        "\n",
        "3. We already have $( y )$:\n",
        "   $$\n",
        "   y = 1\n",
        "   $$\n",
        "\n",
        "### Solution:\n",
        "\n",
        "$$\n",
        "t = 6,  \\quad x = \\frac{1}{2}, \\quad y = 1, \\quad z = \\frac{13}{2}\n",
        "$$"
      ]
    },
    {
      "cell_type": "code",
      "execution_count": 49,
      "metadata": {},
      "outputs": [],
      "source": [
        "import sympy as sp\n",
        "\n",
        "#Exercises 4\n",
        "\n",
        "x1, x2, x3 = sp.symbols('x1 x2 x3')"
      ]
    },
    {
      "cell_type": "code",
      "execution_count": 50,
      "metadata": {},
      "outputs": [
        {
          "data": {
            "text/latex": [
              "$\\displaystyle \\left[\\begin{matrix}1 & 2 & 3\\\\4 & 5 & 6\\\\7 & 8 & 9\\end{matrix}\\right]$"
            ],
            "text/plain": [
              "Matrix([\n",
              "[1, 2, 3],\n",
              "[4, 5, 6],\n",
              "[7, 8, 9]])"
            ]
          },
          "execution_count": 50,
          "metadata": {},
          "output_type": "execute_result"
        }
      ],
      "source": [
        "A = sp.Matrix([[1, 2, 3] , [4, 5, 6] , [7, 8, 9]])\n",
        "A"
      ]
    },
    {
      "cell_type": "code",
      "execution_count": 51,
      "metadata": {},
      "outputs": [],
      "source": [
        "B = sp.Matrix([3, 2, 1])"
      ]
    },
    {
      "cell_type": "code",
      "execution_count": 52,
      "metadata": {},
      "outputs": [
        {
          "data": {
            "text/latex": [
              "$\\displaystyle 0$"
            ],
            "text/plain": [
              "0"
            ]
          },
          "execution_count": 52,
          "metadata": {},
          "output_type": "execute_result"
        }
      ],
      "source": [
        "det_A = A.det()\n",
        "A.det()"
      ]
    },
    {
      "cell_type": "markdown",
      "metadata": {},
      "source": [
        "### 4. Solve the system of equations:\n",
        "\n",
        "The system of equations:\n",
        "\n",
        "$$\n",
        "\\begin{cases}\n",
        "x_1 + 2x_2 + 3x_3 = 3 \\\\\n",
        "4x_1 + 5x_2 + 6x_3 = 2 \\\\\n",
        "7x_1 + 8x_2 + 9x_3 = 1\n",
        "\\end{cases}\n",
        "$$\n",
        "\n",
        "**cannot be solved using Cramer's rule** because **the determinant of the coefficient matrix is zero**.\n",
        "\n",
        "### Coefficient Matrix:\n",
        "$$\n",
        "A = \\begin{bmatrix}\n",
        "1 & 2 & 3 \\\\\n",
        "4 & 5 & 6 \\\\\n",
        "7 & 8 & 9\n",
        "\\end{bmatrix}\n",
        "$$\n",
        "\n",
        "To use Cramer's rule, the determinant of the coefficient matrix $(A)$ must be non-zero. Let's calculate the determinant of $(A)$:\n",
        "\n",
        "$$\n",
        "\\text{det}(A) = 1 \\times \\begin{vmatrix} 5 & 6 \\\\ 8 & 9 \\end{vmatrix} - 2 \\times \\begin{vmatrix} 4 & 6 \\\\ 7 & 9 \\end{vmatrix} + 3 \\times \\begin{vmatrix} 4 & 5 \\\\ 7 & 8 \\end{vmatrix}\n",
        "$$\n",
        "\n",
        "Calculating the 2x2 determinants:\n",
        "\n",
        "$$\n",
        "\\begin{vmatrix} 5 & 6 \\\\ 8 & 9 \\end{vmatrix} = (5 \\times 9) - (6 \\times 8) = 45 - 48 = -3\n",
        "$$\n",
        "\n",
        "$$\n",
        "\\begin{vmatrix} 4 & 6 \\\\ 7 & 9 \\end{vmatrix} = (4 \\times 9) - (6 \\times 7) = 36 - 42 = -6\n",
        "$$\n",
        "\n",
        "$$\n",
        "\\begin{vmatrix} 4 & 5 \\\\ 7 & 8 \\end{vmatrix} = (4 \\times 8) - (5 \\times 7) = 32 - 35 = -3\n",
        "$$\n",
        "\n",
        "Substituting into the determinant calculation:\n",
        "\n",
        "$$\n",
        "\\text{det}(A) = 1 \\times (-3) - 2 \\times (-6) + 3 \\times (-3) = -3 + 12 - 9 = 0\n",
        "$$\n",
        "\n",
        "### Conclusion:\n",
        "Since the determinant of the matrix $(A)$ is zero, the system of equations is **singular** and does not have a unique solution. This is why Cramer's rule cannot be applied to solve this system. The system may either have no solution or an infinite number of solutions, but Cramer's rule only works when there is a unique solution.\n"
      ]
    }
  ],
  "metadata": {
    "kernelspec": {
      "display_name": "Python 3 (ipykernel)",
      "language": "python",
      "name": "python3"
    },
    "language_info": {
      "codemirror_mode": {
        "name": "ipython",
        "version": 3
      },
      "file_extension": ".py",
      "mimetype": "text/x-python",
      "name": "python",
      "nbconvert_exporter": "python",
      "pygments_lexer": "ipython3",
      "version": "3.12.1"
    }
  },
  "nbformat": 4,
  "nbformat_minor": 4
}
