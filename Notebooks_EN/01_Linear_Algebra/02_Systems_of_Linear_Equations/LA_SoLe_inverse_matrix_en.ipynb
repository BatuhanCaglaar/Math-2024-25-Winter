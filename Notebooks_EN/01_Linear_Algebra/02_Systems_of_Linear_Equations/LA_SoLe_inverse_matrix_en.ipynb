{
  "cells": [
    {
      "cell_type": "markdown",
      "metadata": {
        "id": "1bwTjXF7lURD"
      },
      "source": [
        "# Solving Systems of Linear Equations Using the Inverse Matrix Method\n",
        "\n",
        "Converting a system of linear equations to matrix form allows the use of the inverse matrix to find the solution.\n",
        "\n",
        "As an example, consider $A \\cdot X = B$, where the matrix $A_{n \\times n}$ is square and non-singular, and $X$ and $B$ are column matrices:\n",
        "\n",
        "$$\n",
        "X = \\begin{bmatrix} x_1 \\\\ x_2 \\\\ \\vdots \\\\ x_n \\end{bmatrix}, \\qquad B = \\begin{bmatrix} b_1 \\\\ b_2 \\\\ \\vdots \\\\ b_n \\end{bmatrix}\n",
        "$$\n",
        "\n",
        "The solution of the system can be found by multiplying the inverse of $A$ by $B$ on the left side:\n",
        "\n",
        "$$(A^{-1} \\cdot A) \\cdot X = A^{-1} \\cdot B$$\n",
        "\n",
        "$$1 \\cdot X = A^{-1} \\cdot B$$\n",
        "\n",
        "$$X = A^{-1} \\cdot B$$\n",
        "\n",
        "**Example**\n",
        "\n",
        "Consider the system of equations:\n",
        "\n",
        "$$\n",
        "\\begin{cases}\n",
        "x + 2z = 3, \\\\\n",
        "2x + 3y + z = 0, \\\\\n",
        "x + 3z = 1.\n",
        "\\end{cases}\n",
        "$$\n",
        "\n",
        "First, write the system of equations in matrix form:\n",
        "\n",
        "$$\n",
        "\\begin{cases}\n",
        "1 \\cdot x + 0 \\cdot y + 2 \\cdot z = 3, \\\\\n",
        "2 \\cdot x + 3 \\cdot y + 1 \\cdot z = 0, \\\\\n",
        "1 \\cdot x + 0 \\cdot y + 3 \\cdot z = 1.\n",
        "\\end{cases}\n",
        "$$\n",
        "\n",
        "$$\n",
        "\\begin{bmatrix}\n",
        "1 & 0 & 2 \\\\\n",
        "2 & 3 & 1 \\\\\n",
        "1 & 0 & 3\n",
        "\\end{bmatrix}\n",
        "\\begin{bmatrix}\n",
        "x \\\\\n",
        "y \\\\\n",
        "z\n",
        "\\end{bmatrix}\n",
        "=\n",
        "\\begin{bmatrix}\n",
        "3 \\\\\n",
        "0 \\\\\n",
        "1\n",
        "\\end{bmatrix}\n",
        "$$\n",
        "\n",
        "Solve the system by multiplying by the inverse matrix (on the correct side!):\n",
        "\n",
        "$$\n",
        "\\begin{bmatrix}\n",
        "x \\\\\n",
        "y \\\\\n",
        "z\n",
        "\\end{bmatrix}\n",
        "=\n",
        "\\begin{bmatrix}\n",
        "1 & 0 & 2 \\\\\n",
        "2 & 3 & 1 \\\\\n",
        "1 & 0 & 3\n",
        "\\end{bmatrix}^{-1}\n",
        "\\begin{bmatrix}\n",
        "3 \\\\\n",
        "0 \\\\\n",
        "1\n",
        "\\end{bmatrix}\n",
        "$$\n",
        "\n",
        "Calculate the inverse matrix:\n",
        "\n",
        "$$\n",
        "\\begin{bmatrix}\n",
        "1 & 0 & 2 \\\\\n",
        "2 & 3 & 1 \\\\\n",
        "1 & 0 & 3\n",
        "\\end{bmatrix}^{-1}\n",
        "=\n",
        "\\begin{bmatrix}\n",
        " 4 &  0 & -2 \\\\\n",
        "-3 &  1 &  1 \\\\\n",
        "-1 &  0 &  1\n",
        "\\end{bmatrix}\n",
        "$$\n",
        "\n",
        "Multiply the matrices:\n",
        "\n",
        "$$\n",
        "\\begin{bmatrix}\n",
        "x \\\\\n",
        "y \\\\\n",
        "z\n",
        "\\end{bmatrix}\n",
        "=\n",
        "\\begin{bmatrix}\n",
        " 4 &  0 & -2 \\\\\n",
        "-3 &  1 &  1 \\\\\n",
        "-1 &  0 &  1\n",
        "\\end{bmatrix}\n",
        "\\begin{bmatrix}\n",
        "3 \\\\\n",
        "0 \\\\\n",
        "1\n",
        "\\end{bmatrix}\n",
        "=\n",
        "\\begin{bmatrix}\n",
        "7 \\\\\n",
        "-4 \\\\\n",
        "-2\n",
        "\\end{bmatrix}\n",
        "$$"
      ]
    },
    {
      "cell_type": "code",
      "execution_count": null,
      "metadata": {
        "id": "PdQkxPADlURE",
        "outputId": "5a50ce42-7a8a-42b0-d0d1-48466dab2928"
      },
      "outputs": [
        {
          "data": {
            "text/latex": [
              "$\\displaystyle \\left[\\begin{matrix}7\\\\-4\\\\-2\\end{matrix}\\right]$"
            ],
            "text/plain": [
              "Matrix([\n",
              "[ 7],\n",
              "[-4],\n",
              "[-2]])"
            ]
          },
          "execution_count": 1,
          "metadata": {},
          "output_type": "execute_result"
        }
      ],
      "source": [
        "# ## Solving Systems of Linear Equations Using the Inverse Matrix Method\n",
        "\n",
        "import sympy as sp\n",
        "\n",
        "# Coefficient matrix\n",
        "A = sp.Matrix([\n",
        "    [1, 0, 2],\n",
        "    [2, 3, 1],\n",
        "    [1, 0, 3]\n",
        "])\n",
        "\n",
        "# Constant terms vector\n",
        "B =  sp.Matrix([\n",
        "    [3],\n",
        "    [0],\n",
        "    [1]\n",
        "])\n",
        "# Inverse matrix\n",
        "A_inv = A.inv()\n",
        "\n",
        "# Solution of the system of equations\n",
        "X = A_inv * B\n",
        "X"
      ]
    },
    {
      "cell_type": "markdown",
      "metadata": {
        "id": "FuJj8DuqlURF"
      },
      "source": [
        "---\n",
        "\n",
        "## Exercises for Students\n",
        "\n",
        "1. Solve the system of linear equations using the inverse matrix method:\n",
        "\n",
        "$$\n",
        "\\begin{cases}\n",
        "x + 2y + 3z = 5, \\\\\n",
        "2y + 3z = 4, \\\\\n",
        "3z = 3.\n",
        "\\end{cases}\n",
        "$$\n",
        "\n",
        "2. Solve the system of linear equations using the inverse matrix method:\n",
        "\n",
        "$$\n",
        "\\begin{cases}\n",
        "x_1 + 2x_2 + 3x_3 = 41, \\\\\n",
        "4x_1 + 5x_2 + 6x_3 = 93, \\\\\n",
        "7x_1 + 8x_2 + 9x_3 = 145.\n",
        "\\end{cases}\n",
        "$$"
      ]
    },
    {
      "cell_type": "code",
      "source": [
        "import sympy as sp\n",
        "\n",
        "A = sp.Matrix([[1, 2, 3],[0, 2, 3],[0, 0, 3]])\n",
        "A"
      ],
      "metadata": {
        "colab": {
          "base_uri": "https://localhost:8080/",
          "height": 78
        },
        "id": "0VZUeKTbqLep",
        "outputId": "642d6874-9af7-48c2-d303-d892fbb497d2"
      },
      "execution_count": 2,
      "outputs": [
        {
          "output_type": "execute_result",
          "data": {
            "text/plain": [
              "Matrix([\n",
              "[1, 2, 3],\n",
              "[0, 2, 3],\n",
              "[0, 0, 3]])"
            ],
            "text/latex": "$\\displaystyle \\left[\\begin{matrix}1 & 2 & 3\\\\0 & 2 & 3\\\\0 & 0 & 3\\end{matrix}\\right]$"
          },
          "metadata": {},
          "execution_count": 2
        }
      ]
    },
    {
      "cell_type": "code",
      "source": [
        "B = sp.Matrix([5, 4, 3])\n",
        "B"
      ],
      "metadata": {
        "colab": {
          "base_uri": "https://localhost:8080/",
          "height": 78
        },
        "id": "evkDCp79p7m8",
        "outputId": "52ea227f-a226-4b8b-ad79-84f8d8c1ec4a"
      },
      "execution_count": 3,
      "outputs": [
        {
          "output_type": "execute_result",
          "data": {
            "text/plain": [
              "Matrix([\n",
              "[5],\n",
              "[4],\n",
              "[3]])"
            ],
            "text/latex": "$\\displaystyle \\left[\\begin{matrix}5\\\\4\\\\3\\end{matrix}\\right]$"
          },
          "metadata": {},
          "execution_count": 3
        }
      ]
    },
    {
      "cell_type": "code",
      "source": [
        "det_A = A.det()\n",
        "det_A"
      ],
      "metadata": {
        "colab": {
          "base_uri": "https://localhost:8080/",
          "height": 37
        },
        "id": "CECxLWtG5nDR",
        "outputId": "82344911-7739-4b2e-cf81-c55dcfb1afb5"
      },
      "execution_count": 4,
      "outputs": [
        {
          "output_type": "execute_result",
          "data": {
            "text/plain": [
              "6"
            ],
            "text/latex": "$\\displaystyle 6$"
          },
          "metadata": {},
          "execution_count": 4
        }
      ]
    },
    {
      "cell_type": "code",
      "source": [
        "A_inv = A.inv()\n",
        "A_inv"
      ],
      "metadata": {
        "colab": {
          "base_uri": "https://localhost:8080/",
          "height": 78
        },
        "id": "wWFh06be0pvR",
        "outputId": "8f1f2652-72d8-4745-96e2-cbf5336f9a32"
      },
      "execution_count": 5,
      "outputs": [
        {
          "output_type": "execute_result",
          "data": {
            "text/plain": [
              "Matrix([\n",
              "[1,  -1,    0],\n",
              "[0, 1/2, -1/2],\n",
              "[0,   0,  1/3]])"
            ],
            "text/latex": "$\\displaystyle \\left[\\begin{matrix}1 & -1 & 0\\\\0 & \\frac{1}{2} & - \\frac{1}{2}\\\\0 & 0 & \\frac{1}{3}\\end{matrix}\\right]$"
          },
          "metadata": {},
          "execution_count": 5
        }
      ]
    },
    {
      "cell_type": "code",
      "source": [
        "X = A_inv * B\n",
        "X"
      ],
      "metadata": {
        "colab": {
          "base_uri": "https://localhost:8080/",
          "height": 78
        },
        "id": "R_-WAd9Z010m",
        "outputId": "91efa637-9a2c-43ef-9892-6b432b4235f7"
      },
      "execution_count": 6,
      "outputs": [
        {
          "output_type": "execute_result",
          "data": {
            "text/plain": [
              "Matrix([\n",
              "[  1],\n",
              "[1/2],\n",
              "[  1]])"
            ],
            "text/latex": "$\\displaystyle \\left[\\begin{matrix}1\\\\\\frac{1}{2}\\\\1\\end{matrix}\\right]$"
          },
          "metadata": {},
          "execution_count": 6
        }
      ]
    },
    {
      "cell_type": "markdown",
      "source": [
        "### Given System of Equations\n",
        "\n",
        "We are given the following system of equations:\n",
        "\n",
        "$$\n",
        "\\begin{cases}\n",
        "x + 2y + 3z = 5 \\\\\n",
        "2y + 3z = 4 \\\\\n",
        "3z = 3\n",
        "\\end{cases}\n",
        "$$\n",
        "\n",
        "### Step 1: Formulating the Augmented Matrix\n",
        "\n",
        "This system can be represented in matrix form as:\n",
        "\n",
        "$$\n",
        "\\begin{pmatrix}\n",
        "1 & 2 & 3 \\\\\n",
        "0 & 2 & 3 \\\\\n",
        "0 & 0 & 3\n",
        "\\end{pmatrix}\n",
        "\\begin{pmatrix}\n",
        "x \\\\\n",
        "y \\\\\n",
        "z\n",
        "\\end{pmatrix}\n",
        "=\n",
        "\\begin{pmatrix}\n",
        "5 \\\\\n",
        "4 \\\\\n",
        "3\n",
        "\\end{pmatrix}\n",
        "$$\n",
        "\n",
        "Here, **A** is the coefficient matrix, and **B** is the constant matrix:\n",
        "\n",
        "$$\n",
        "A = \\begin{pmatrix} 1 & 2 & 3 \\\\ 0 & 2 & 3 \\\\ 0 & 0 & 3 \\end{pmatrix}, \\quad B = \\begin{pmatrix} 5 \\\\ 4 \\\\ 3 \\end{pmatrix}\n",
        "$$\n",
        "\n",
        "\n",
        "### Calculate the Determinant\n",
        "$$\n",
        "A = \\begin{bmatrix}\n",
        "a & b & c \\\\\n",
        "d & e & f \\\\\n",
        "g & h & i\n",
        "\\end{bmatrix}\\\\\n",
        "$$\n",
        "\n",
        "$$\n",
        "\\det(A) = a \\cdot (e \\cdot i - f \\cdot h) - b \\cdot (d \\cdot i - f \\cdot g) + c \\cdot (d \\cdot h - e \\cdot g)\\\\\n",
        "$$\n",
        "\n",
        "\n",
        "$$\n",
        "A = \\begin{bmatrix}\n",
        "1 & 2 & 3 \\\\\n",
        "0 & 2 & 3 \\\\\n",
        "0 & 0 & 3\n",
        "\\end{bmatrix}\n",
        "$$\n",
        "\n",
        "### Calculated Determinant\n",
        "$$\n",
        "\\det(A) = 1 \\cdot(2 \\cdot 3 - 3 \\cdot 0) - 2(0 \\cdot 3 - 3 \\cdot 0) + 3(0 \\cdot 0 - 2 \\cdot 0) \\\\\n",
        "\\\\\n",
        "\\det(A) = 6 - 0 + 0\n",
        "\\\\\n",
        "\\det(A) = 6\n",
        "$$\n",
        "\n",
        "\n",
        "#### Minor Matrix\n",
        "\n",
        "<span style=\"color: red;\">My Note : I calculated the minor matrix for each element to get the values needed to form the cofactor matrix.</span>\n",
        "\n",
        "\n",
        "$$\n",
        "M=\n",
        "\n",
        "\\begin{pmatrix}\n",
        "(e \\cdot i - f \\cdot h) & , (d \\cdot i - f \\cdot g) & , (d \\cdot h - e \\cdot g) \\\\\n",
        "(b \\cdot i - c \\cdot h) & , (a \\cdot i - c \\cdot g) & , (a \\cdot h - b \\cdot g) \\\\\n",
        "(b \\cdot f - c \\cdot e) & , (a \\cdot f - c \\cdot d) & , (a \\cdot e - b \\cdot d)\n",
        "\\end{pmatrix}\n",
        "$$\n",
        "\n",
        "\n",
        "#### Calculated Minor Matrix\n",
        "\n",
        "\n",
        "$$\n",
        "A=\n",
        "\\begin{bmatrix}\n",
        "1 & 2 & 3 \\\\\n",
        "0 & 2 & 3 \\\\\n",
        "0 & 0 & 3\n",
        "\\end{bmatrix}\n",
        "$$\n",
        "\n",
        "$$\n",
        "M=\n",
        "\\begin{pmatrix}\n",
        "(2 \\cdot 3 - 3 \\cdot 0) & (0 \\cdot 3 - 3 \\cdot 0) & (0 \\cdot 0 - 2 \\cdot 0) \\\\\n",
        "(2 \\cdot 3 - 3 \\cdot 0) & (1 \\cdot 3 - 3 \\cdot 0) & (1 \\cdot 0 - 2 \\cdot 0) \\\\\n",
        "(2 \\cdot 3 - 3 \\cdot 2) & (1 \\cdot 3 - 3 \\cdot 0) & (1 \\cdot 2 - 2 \\cdot 0)\n",
        "\\end{pmatrix}\n",
        "$$\n",
        "\n",
        "$$\n",
        "M=\n",
        "\\begin{bmatrix}\n",
        "6 & 0 & 0 \\\\\n",
        "6 & 3 & 0 \\\\\n",
        "0 & 3 & 2\n",
        "\\end{bmatrix}\n",
        "$$\n",
        "\n",
        "###Cofactor Matrix\n",
        "\n",
        "<span style=\"color: red;\">My Note : By applying signs to the minor matrix, I created the cofactor matrix, which is necessary for finding the inverse matrix.</span>\n",
        "\n",
        "\n",
        "### Sign Matrix\n",
        "\n",
        "$$\n",
        "\\begin{bmatrix}\n",
        "+ & - & + \\\\\n",
        "- & + & - \\\\\n",
        "+ & - & +\n",
        "\\end{bmatrix}\n",
        "$$\n",
        "\n",
        "#### Calculated Cofactor Matrix\n",
        "\n",
        "$$\n",
        "\\begin{bmatrix}\n",
        "+ & - & + \\\\\n",
        "- & + & - \\\\\n",
        "+ & - & +\n",
        "\\end{bmatrix} \\cdot\n",
        "\\begin{bmatrix}\n",
        "6 & 0 & 0 \\\\\n",
        "6 & 3 & 0 \\\\\n",
        "0 & 3 & 2\n",
        "\\end{bmatrix}\n",
        "$$\n",
        "\n",
        "\n",
        "$$\n",
        "C=\n",
        "\\begin{bmatrix}\n",
        "6 & 0 & 0 \\\\\n",
        "-6 & 3 & 0 \\\\\n",
        "0 & -3 & 2\n",
        "\\end{bmatrix}\n",
        "$$\n",
        "\n",
        "\n",
        "\n",
        "### Transpoze\n",
        "\n",
        "<span style=\"color: red;\">My Note : I took the transpose of the cofactor matrix to find the adjoint matrix, which is the next step in calculating the inverse.</span>\n",
        "\n",
        "$$\n",
        "C = \\begin{bmatrix}\n",
        "a & b & c \\\\\n",
        "d & e & f \\\\\n",
        "g & h & i\n",
        "\\end{bmatrix}\n",
        "$$\n",
        "\n",
        "$$\n",
        "C^{T} = \\begin{bmatrix}\n",
        "a & d & g \\\\\n",
        "b & e & h \\\\\n",
        "c & f & i\n",
        "\\end{bmatrix}\n",
        "$$\n",
        "\n",
        "### Calculated the transpoze\n",
        "\n",
        "$$\n",
        "C^{T} = \\begin{bmatrix}\n",
        "6 & -6 & 0 \\\\\n",
        "0 & 3 & -3 \\\\\n",
        "0 & 0 & 2\n",
        "\\end{bmatrix}\n",
        "$$\n",
        "\n",
        "### Inverse\n",
        "\n",
        "<span style=\"color: red;\">My Note : By dividing the adjoint matrix by the determinant, I found the inverse of the given matrix.</span>\n",
        "\n",
        "\n",
        "### Calculate the Inverse\n",
        "\n",
        "\n",
        "$$\n",
        "A^{-1} = \\frac{1}{\\det(A)} \\cdot \\begin{bmatrix}\n",
        "6 & -6 & 0 \\\\\n",
        "0 & 3 & -3 \\\\\n",
        "0 & 0 & 2\n",
        "\\end{bmatrix}\n",
        "$$\n",
        "### Calculated the Inverse\n",
        "$$\n",
        "A^{-1} =\n",
        "\\begin{bmatrix}\n",
        "6 \\cdot \\frac{1}{6} & -6 \\cdot \\frac{1}{6} & 0 \\cdot \\frac{1}{6} \\\\\n",
        "0 \\cdot \\frac{1}{6} & 3 \\cdot \\frac{1}{6} & -3 \\cdot \\frac{1}{6} \\\\\n",
        "0 \\cdot \\frac{1}{6} & 0 \\cdot \\frac{1}{6} & 2 \\cdot \\frac{1}{6}\n",
        "\\end{bmatrix}\n",
        "=\n",
        "\\begin{bmatrix}\n",
        "1 & -1 & 0 \\\\\n",
        "0 & \\frac{1}{2} & \\frac{-1}{2} \\\\\n",
        "0 & 0 & \\frac{-1}{3}\n",
        "\\end{bmatrix}\n",
        "$$\n",
        "\n",
        "## Solution to the System of Linear Equations\n",
        "\n",
        "My Note : To find the solution of the system of linear equations, I first calculate the inverse of matrix $( A )$ and then multiply it by matrix $( B )$.\n",
        "\n",
        "\n",
        "$$\n",
        "A^{-1} =\n",
        "\\begin{bmatrix}\n",
        "1 & -1 & 0 \\\\\n",
        "0 & \\frac{1}{2} & \\frac{-1}{2} \\\\\n",
        "0 & 0 & \\frac{1}{3}\n",
        "\\end{bmatrix}\\cdot\n",
        "\\begin{bmatrix}\n",
        "5 \\\\\n",
        "4\\\\\n",
        "3\n",
        "\\end{bmatrix}\n",
        "$$\n",
        "\n",
        "\n",
        "$$\n",
        "A^{-1} \\cdot B =\n",
        "5 \\cdot(1) + 4\\cdot(-1) + 3\\cdot(0) = x \\\\\n",
        "5 - 4 + 0 = x \\\\\n",
        "x = 1 \\\\\n",
        "$$\n",
        "$$\n",
        "5 \\cdot(0) + 4\\cdot\\left(\\frac{1}{2}\\right) + 3\\cdot\\left(\\frac{-1}{2}\\right) = y \\\\\n",
        "0 + 2 - \\frac{3}{2} = y \\\\\n",
        "y = \\frac{1}{2} \\\\\n",
        "$$\n",
        "$$\n",
        "5 \\cdot(0) + 4\\cdot(0) + 3\\cdot\\left(\\frac{1}{3}\\right) = z \\\\\n",
        "0 + 0 + 1 = z \\\\\n",
        "z = 1\n",
        "$$\n",
        "\n",
        "\n",
        "\n",
        "\n",
        "### Solution\n",
        "\n",
        "The solution to the system is:\n",
        "\n",
        "$$\n",
        "x = 1, \\quad y = \\frac{1}{2}, \\quad z = 1\n",
        "$$\n"
      ],
      "metadata": {
        "id": "HbMhNIRip8I3"
      }
    },
    {
      "cell_type": "code",
      "source": [
        "import sympy as sp #Exercises 2\n",
        "\n",
        "A = sp.Matrix([[1, 2, 3],[4 ,5 ,6 ],[7, 8, 9]])\n",
        "A"
      ],
      "metadata": {
        "id": "y-m5xTe_Tbq0",
        "outputId": "cda90cce-dcf1-405d-af41-5d4d0f67b79b",
        "colab": {
          "base_uri": "https://localhost:8080/",
          "height": 78
        }
      },
      "execution_count": 10,
      "outputs": [
        {
          "output_type": "execute_result",
          "data": {
            "text/plain": [
              "Matrix([\n",
              "[1, 2, 3],\n",
              "[4, 5, 6],\n",
              "[7, 8, 9]])"
            ],
            "text/latex": "$\\displaystyle \\left[\\begin{matrix}1 & 2 & 3\\\\4 & 5 & 6\\\\7 & 8 & 9\\end{matrix}\\right]$"
          },
          "metadata": {},
          "execution_count": 10
        }
      ]
    },
    {
      "cell_type": "code",
      "source": [
        "b= sp.Matrix([41, 93, 145])\n",
        "b"
      ],
      "metadata": {
        "id": "6CSS_FJYTx7M",
        "outputId": "ca626a0f-b920-4346-d609-8079acb5cfe9",
        "colab": {
          "base_uri": "https://localhost:8080/",
          "height": 78
        }
      },
      "execution_count": 11,
      "outputs": [
        {
          "output_type": "execute_result",
          "data": {
            "text/plain": [
              "Matrix([\n",
              "[ 41],\n",
              "[ 93],\n",
              "[145]])"
            ],
            "text/latex": "$\\displaystyle \\left[\\begin{matrix}41\\\\93\\\\145\\end{matrix}\\right]$"
          },
          "metadata": {},
          "execution_count": 11
        }
      ]
    },
    {
      "cell_type": "code",
      "source": [
        "det_A = A.det() #  The determinant being zero means that matrix ( A ) does not have an inverse. Therefore, it is not possible to solve the given system of equations using the inverse matrix method.\n",
        "det_A"
      ],
      "metadata": {
        "id": "qZFJ1lYoT2mQ",
        "outputId": "e035065f-aa8e-41e8-9459-7f7338af29db",
        "colab": {
          "base_uri": "https://localhost:8080/",
          "height": 37
        }
      },
      "execution_count": 13,
      "outputs": [
        {
          "output_type": "execute_result",
          "data": {
            "text/plain": [
              "0"
            ],
            "text/latex": "$\\displaystyle 0$"
          },
          "metadata": {},
          "execution_count": 13
        }
      ]
    }
  ],
  "metadata": {
    "kernelspec": {
      "display_name": "Python 3",
      "language": "python",
      "name": "python3"
    },
    "language_info": {
      "codemirror_mode": {
        "name": "ipython",
        "version": 3
      },
      "file_extension": ".py",
      "mimetype": "text/x-python",
      "name": "python",
      "nbconvert_exporter": "python",
      "pygments_lexer": "ipython3",
      "version": "3.11.9"
    },
    "colab": {
      "provenance": []
    }
  },
  "nbformat": 4,
  "nbformat_minor": 0
}