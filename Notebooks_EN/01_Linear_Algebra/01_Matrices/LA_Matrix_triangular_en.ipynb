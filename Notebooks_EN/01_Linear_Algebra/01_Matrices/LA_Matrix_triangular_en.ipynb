{
  "cells": [
    {
      "cell_type": "markdown",
      "metadata": {},
      "source": [
        "# Triangular Matrices and determinant calculation"
      ]
    },
    {
      "cell_type": "code",
      "execution_count": 1,
      "metadata": {},
      "outputs": [
        {
          "data": {
            "text/markdown": [
              "**Initial Matrix:**"
            ],
            "text/plain": [
              "<IPython.core.display.Markdown object>"
            ]
          },
          "metadata": {},
          "output_type": "display_data"
        },
        {
          "data": {
            "text/latex": [
              "$\\displaystyle \\left[\\begin{matrix}1 & 2 & 3\\\\2 & 5 & 3\\\\3 & 2 & 1\\end{matrix}\\right]$"
            ],
            "text/plain": [
              "Matrix([\n",
              "[1, 2, 3],\n",
              "[2, 5, 3],\n",
              "[3, 2, 1]])"
            ]
          },
          "metadata": {},
          "output_type": "display_data"
        }
      ],
      "source": [
        "import sympy as sp\n",
        "from sympy import Matrix, symbols, Rational\n",
        "from IPython.display import display, Markdown\n",
        "\n",
        "class SymbolicMatrix:\n",
        "    def __init__(self, matrix):\n",
        "        self.matrix = Matrix(matrix).applyfunc(Rational)\n",
        "        self.operations = []\n",
        "        display(Markdown(\"**Initial Matrix:**\"))\n",
        "        display(self.matrix)  # Display the matrix upon initialization\n",
        "\n",
        "    def __repr__(self):\n",
        "        return repr(self.matrix)  # Use Matrix's repr\n",
        "\n",
        "    def __str__(self):\n",
        "        return str(self.matrix)  # Use Matrix's str\n",
        "\n",
        "    def _repr_latex_(self):\n",
        "        return self.matrix._repr_latex_()  # Delegate LaTeX display\n",
        "\n",
        "    def _validate_row_number(self, row):\n",
        "        if not isinstance(row, int):\n",
        "            raise TypeError(\"Row number must be an integer.\")\n",
        "        if row < 1 or row > self.matrix.rows:\n",
        "            raise IndexError(f\"Row number must be in the range from 1 to {self.matrix.rows}.\")\n",
        "        return row - 1\n",
        "\n",
        "    def _validate_col_number(self, col):\n",
        "        if not isinstance(col, int):\n",
        "            raise TypeError(\"Column number must be an integer.\")\n",
        "        if col < 1 or col > self.matrix.cols:\n",
        "            raise IndexError(f\"Column number must be in the range from 1 to {self.matrix.cols}.\")\n",
        "        return col - 1\n",
        "\n",
        "    # Row operations\n",
        "    def add_row(self, target_row, source_row, coefficient):\n",
        "        target_idx = self._validate_row_number(target_row)\n",
        "        source_idx = self._validate_row_number(source_row)\n",
        "        coefficient = Rational(coefficient)\n",
        "\n",
        "        self.matrix.row_op(target_idx, lambda v, j: v + coefficient * self.matrix[source_idx, j])\n",
        "        operation_str = f\"r{target_row} = r{target_row} + {coefficient}*r{source_row}\"\n",
        "        self.operations.append(operation_str)\n",
        "        display(Markdown(f\"**Operation:** {operation_str}\"))\n",
        "        display(self.matrix)\n",
        "\n",
        "    def multiply_row(self, row, coefficient):\n",
        "        row_idx = self._validate_row_number(row)\n",
        "        coefficient = Rational(coefficient)\n",
        "        self.matrix.row_op(row_idx, lambda v, _: coefficient * v)\n",
        "        operation_str = f\"r{row} = {coefficient}*r{row}\"\n",
        "        self.operations.append(operation_str)\n",
        "        display(Markdown(f\"**Operation:** {operation_str}\"))\n",
        "        display(self.matrix)\n",
        "\n",
        "    def swap_rows(self, row1, row2):\n",
        "        row1_idx = self._validate_row_number(row1)\n",
        "        row2_idx = self._validate_row_number(row2)\n",
        "        self.matrix.row_swap(row1_idx, row2_idx)\n",
        "        operation_str = f\"Swap r{row1} <-> r{row2}\"\n",
        "        self.operations.append(operation_str)\n",
        "        display(Markdown(f\"**Operation:** {operation_str}\"))\n",
        "        display(self.matrix)\n",
        "\n",
        "    # Column operations\n",
        "    def add_col(self, target_col, source_col, coefficient):\n",
        "        target_idx = self._validate_col_number(target_col)\n",
        "        source_idx = self._validate_col_number(source_col)\n",
        "        self.matrix.col_op(target_idx, lambda v, i: v + coefficient * self.matrix[i, source_idx])\n",
        "        operation_str = f\"c{target_col} = c{target_col} + {coefficient}*c{source_col}\"\n",
        "        self.operations.append(operation_str)\n",
        "        display(Markdown(f\"**Operation:** {operation_str}\"))\n",
        "        display(self.matrix)\n",
        "\n",
        "    def multiply_col(self, col, coefficient):\n",
        "        col_idx = self._validate_col_number(col)\n",
        "        self.matrix.col_op(col_idx, lambda v, _: coefficient * v)\n",
        "        operation_str = f\"c{col} = {coefficient}*c{col}\"\n",
        "        self.operations.append(operation_str)\n",
        "        display(Markdown(f\"**Operation:** {operation_str}\"))\n",
        "        display(self.matrix)\n",
        "\n",
        "    def swap_cols(self, col1, col2):\n",
        "        col1_idx = self._validate_col_number(col1)\n",
        "        col2_idx = self._validate_col_number(col2)\n",
        "        self.matrix.col_swap(col1_idx, col2_idx)\n",
        "        operation_str = f\"Swap c{col1} <-> c{col2}\"\n",
        "        self.operations.append(operation_str)\n",
        "        display(Markdown(f\"**Operation:** {operation_str}\"))\n",
        "        display(self.matrix)\n",
        "\n",
        "    # Display the operations performed\n",
        "    def print_operations(self):\n",
        "        display(Markdown(\"**Performed Operations:**\"))\n",
        "        for op in self.operations:\n",
        "            print(op)\n",
        "\n",
        "# Example usage\n",
        "mat = [[1, 2, 3], [2, 5, 3], [3, 2, 1]]\n",
        "\n",
        "m = SymbolicMatrix(mat) # instance of SymbolicMatrix class\n",
        "\n",
        "# define the same matrix for computation check\n",
        "original_matrix = sp.Matrix(mat)"
      ]
    },
    {
      "cell_type": "code",
      "execution_count": null,
      "metadata": {},
      "outputs": [
        {
          "ename": "NameError",
          "evalue": "name 'm' is not defined",
          "output_type": "error",
          "traceback": [
            "\u001b[0;31m---------------------------------------------------------------------------\u001b[0m",
            "\u001b[0;31mNameError\u001b[0m                                 Traceback (most recent call last)",
            "Cell \u001b[0;32mIn[14], line 1\u001b[0m\n\u001b[0;32m----> 1\u001b[0m \u001b[43mm\u001b[49m\u001b[38;5;241m.\u001b[39madd_row(\u001b[38;5;241m2\u001b[39m, \u001b[38;5;241m1\u001b[39m, \u001b[38;5;241m-\u001b[39m\u001b[38;5;241m2\u001b[39m)\n",
            "\u001b[0;31mNameError\u001b[0m: name 'm' is not defined"
          ]
        }
      ],
      "source": [
        "m.add_row(2, 1, -2)"
      ]
    },
    {
      "cell_type": "code",
      "execution_count": 3,
      "metadata": {},
      "outputs": [
        {
          "data": {
            "text/markdown": [
              "**Operation:** r3 = r3 + -3*r1"
            ],
            "text/plain": [
              "<IPython.core.display.Markdown object>"
            ]
          },
          "metadata": {},
          "output_type": "display_data"
        },
        {
          "data": {
            "text/latex": [
              "$\\displaystyle \\left[\\begin{matrix}1 & 2 & 3\\\\0 & 1 & -3\\\\0 & -4 & -8\\end{matrix}\\right]$"
            ],
            "text/plain": [
              "Matrix([\n",
              "[1,  2,  3],\n",
              "[0,  1, -3],\n",
              "[0, -4, -8]])"
            ]
          },
          "metadata": {},
          "output_type": "display_data"
        }
      ],
      "source": [
        "m.add_row(3, 1, -3)"
      ]
    },
    {
      "cell_type": "code",
      "execution_count": 4,
      "metadata": {},
      "outputs": [
        {
          "data": {
            "text/markdown": [
              "**Operation:** r3 = r3 + 4*r2"
            ],
            "text/plain": [
              "<IPython.core.display.Markdown object>"
            ]
          },
          "metadata": {},
          "output_type": "display_data"
        },
        {
          "data": {
            "text/latex": [
              "$\\displaystyle \\left[\\begin{matrix}1 & 2 & 3\\\\0 & 1 & -3\\\\0 & 0 & -20\\end{matrix}\\right]$"
            ],
            "text/plain": [
              "Matrix([\n",
              "[1, 2,   3],\n",
              "[0, 1,  -3],\n",
              "[0, 0, -20]])"
            ]
          },
          "metadata": {},
          "output_type": "display_data"
        }
      ],
      "source": [
        "m.add_row(3, 2, 4)"
      ]
    },
    {
      "cell_type": "markdown",
      "metadata": {},
      "source": [
        "The resulting matrix is an upper triangular matrix.\n",
        "\n",
        "### Determinant of a Triangular Matrix\n",
        "\n",
        "For a triangular matrix, the determinant is equal to the product of the elements on its diagonal."
      ]
    },
    {
      "cell_type": "code",
      "execution_count": 5,
      "metadata": {},
      "outputs": [
        {
          "data": {
            "text/plain": [
              "True"
            ]
          },
          "execution_count": 5,
          "metadata": {},
          "output_type": "execute_result"
        }
      ],
      "source": [
        "# The determinant of a triangular matrix is the product of the diagonal elements!\n",
        "original_matrix.det() == 1 * 1 * (-20)"
      ]
    },
    {
      "cell_type": "markdown",
      "metadata": {},
      "source": [
        "---\n",
        "\n",
        "## Exercises for Students\n",
        "\n",
        "Perform row and column operations to reduce the following matrices to an upper triangular form and calculate their determinants by taking the product of the diagonal elements.\n",
        "\n",
        "1. \n",
        "$$\n",
        "A = \\begin{bmatrix}\n",
        "12 & 3 \\\\\n",
        "-18 & -4\n",
        "\\end{bmatrix}\n",
        "$$\n",
        "\n",
        "2.\n",
        "\n",
        "$$\n",
        "B = \\begin{bmatrix} \n",
        "1 & 2 & 3 \\\\\n",
        "4 & 5 & 6 \\\\\n",
        "7 & 8 & 9 \n",
        "\\end{bmatrix}\n",
        "$$"
      ]
    },
    {
      "cell_type": "markdown",
      "metadata": {},
      "source": []
    },
    {
      "cell_type": "code",
      "execution_count": 8,
      "metadata": {},
      "outputs": [
        {
          "data": {
            "text/latex": [
              "$\\displaystyle \\left[\\begin{matrix}12 & 3\\\\-18 & -4\\end{matrix}\\right]$"
            ],
            "text/plain": [
              "Matrix([\n",
              "[ 12,  3],\n",
              "[-18, -4]])"
            ]
          },
          "execution_count": 8,
          "metadata": {},
          "output_type": "execute_result"
        }
      ],
      "source": [
        "import sympy as sp\n",
        "\n",
        "A = sp.Matrix([[12, 3], [-18, -4]])\n",
        "A"
      ]
    },
    {
      "cell_type": "code",
      "execution_count": 11,
      "metadata": {},
      "outputs": [],
      "source": [
        "A_rref, A_pivots = A.rref()"
      ]
    },
    {
      "cell_type": "code",
      "execution_count": 13,
      "metadata": {},
      "outputs": [
        {
          "data": {
            "text/latex": [
              "$\\displaystyle 6$"
            ],
            "text/plain": [
              "6"
            ]
          },
          "execution_count": 13,
          "metadata": {},
          "output_type": "execute_result"
        }
      ],
      "source": [
        "det_A = A.det()\n",
        "A.det()"
      ]
    },
    {
      "cell_type": "markdown",
      "metadata": {},
      "source": [
        "### Exercise: Matrix $( A )$\n",
        "\n",
        "Given matrix $( A )$:\n",
        "$$\n",
        "A = \\begin{bmatrix}\n",
        "12 & 3 \\\\\n",
        "-18 & -4\n",
        "\\end{bmatrix}\n",
        "$$\n",
        "\n",
        "#### Step 1: Row Operations to get Upper Triangular Form\n",
        "\n",
        "I aim to eliminate the lower left element $( -18 )$. To do that, I can perform the following row operation:\n",
        "\n",
        "- **Operation**: $( R2 = R2 + \\frac{3}{2} R1 )$\n",
        "\n",
        "\n",
        "\n",
        "Performing the operation:\n",
        "\n",
        "$$\n",
        "R2 = \\begin{bmatrix} -18 & -4 \\end{bmatrix} + \\frac{3}{2} \\times \\begin{bmatrix} 12 & 3 \\end{bmatrix} = \\begin{bmatrix} 0 & \\frac{1}{2} \\end{bmatrix}\n",
        "$$\n",
        "\n",
        "The resulting matrix is:\n",
        "\n",
        "$$\n",
        "\\text{Upper triangular } A = \\begin{bmatrix}\n",
        "12 & 3 \\\\\n",
        "0 & \\frac{1}{2}\n",
        "\\end{bmatrix}\n",
        "$$\n",
        "\n",
        "#### Step 2: Calculate the Determinant\n",
        "\n",
        "To calculate the determinant, take the product of the diagonal elements:\n",
        "\n",
        "$$\n",
        "\\det(A) = 12 \\times \\frac{1}{2} = 6\n",
        "$$\n"
      ]
    },
    {
      "cell_type": "code",
      "execution_count": null,
      "metadata": {},
      "outputs": [],
      "source": [
        "import sympy as sp\n",
        "\n",
        "A = sp.Matrix([[1,2,3], [4,5,6], [7,8,9]])\n",
        "A"
      ]
    },
    {
      "cell_type": "code",
      "execution_count": null,
      "metadata": {},
      "outputs": [],
      "source": [
        "B_rref, B_pivots = B.rref()"
      ]
    },
    {
      "cell_type": "code",
      "execution_count": null,
      "metadata": {},
      "outputs": [],
      "source": [
        "det_B = B.det()"
      ]
    },
    {
      "cell_type": "markdown",
      "metadata": {},
      "source": [
        "### Exercise: Matrix $( B )$\n",
        "\n",
        "Given matrix $( B )$:\n",
        "$$\n",
        "B = \\begin{bmatrix} \n",
        "1 & 2 & 3 \\\\\n",
        "4 & 5 & 6 \\\\\n",
        "7 & 8 & 9 \n",
        "\\end{bmatrix}\n",
        "$$\n",
        "\n",
        "#### Step 1: Row Operations to get Upper Triangular Form\n",
        "\n",
        "I aim to eliminate the elements below the diagonal.\n",
        "\n",
        "- **Operation**: $( R2 = R2 - 4 \\times R1 )$\n",
        "\n",
        "$$\n",
        "R2 = \\begin{bmatrix} 4 & 5 & 6 \\end{bmatrix} - 4 \\times \\begin{bmatrix} 1 & 2 & 3 \\end{bmatrix} = \\begin{bmatrix} 0 & -3 & -6 \\end{bmatrix}\n",
        "$$\n",
        "\n",
        "- **Operation**: $( R3 = R3 - 7 \\times R1 )$\n",
        "\n",
        "$$\n",
        "R3 = \\begin{bmatrix} 7 & 8 & 9 \\end{bmatrix} - 7 \\times \\begin{bmatrix} 1 & 2 & 3 \\end{bmatrix} = \\begin{bmatrix} 0 & -6 & -12 \\end{bmatrix}\n",
        "$$\n",
        "\n",
        "Next, eliminate the element in the third row and second column:\n",
        "\n",
        "- **Operation**: $( R3 = R3 - 2 \\times R2 )$\n",
        "\n",
        "$$\n",
        "R3 = \\begin{bmatrix} 0 & -6 & -12 \\end{bmatrix} - 2 \\times \\begin{bmatrix} 0 & -3 & -6 \\end{bmatrix} = \\begin{bmatrix} 0 & 0 & 0 \\end{bmatrix}\n",
        "$$\n",
        "\n",
        "The resulting matrix is:\n",
        "\n",
        "$$\n",
        "\\text{Upper triangular } B = \\begin{bmatrix}\n",
        "1 & 2 & 3 \\\\\n",
        "0 & -3 & -6 \\\\\n",
        "0 & 0 & 0\n",
        "\\end{bmatrix}\n",
        "$$\n",
        "\n",
        "#### Step 2: Calculate the Determinant\n",
        "\n",
        "The determinant of matrix $( B )$ is the product of the diagonal elements:\n",
        "\n",
        "$$\n",
        "\\det(B) = 1 \\times (-3) \\times 0 = 0\n",
        "$$\n",
        "\n",
        "Therefore, the determinant of $( B )$ is 0.\n"
      ]
    }
  ],
  "metadata": {
    "kernelspec": {
      "display_name": "Python 3 (ipykernel)",
      "language": "python",
      "name": "python3"
    }
  },
  "nbformat": 4,
  "nbformat_minor": 4
}
