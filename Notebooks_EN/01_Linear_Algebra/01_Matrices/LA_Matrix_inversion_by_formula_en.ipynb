{
  "cells": [
    {
      "cell_type": "markdown",
      "metadata": {},
      "source": [
        "# Matrix Inversion\n",
        "\n",
        "The inverse of a matrix $A$ is a matrix $A^{-1}$ such that $A \\cdot A^{-1} = A^{-1} \\cdot A = I$, where $I$ is the identity matrix.\n",
        "\n",
        "**Example 1:**"
      ]
    },
    {
      "cell_type": "code",
      "execution_count": 32,
      "metadata": {},
      "outputs": [
        {
          "data": {
            "text/latex": [
              "$\\displaystyle \\left[\\begin{matrix}2 & 1 & 2\\\\5 & 3 & 1\\\\1 & 1 & 5\\end{matrix}\\right]$"
            ],
            "text/plain": [
              "Matrix([\n",
              "[2, 1, 2],\n",
              "[5, 3, 1],\n",
              "[1, 1, 5]])"
            ]
          },
          "execution_count": 32,
          "metadata": {},
          "output_type": "execute_result"
        }
      ],
      "source": [
        "import sympy as sp # import sympy library\n",
        "k1 = sp.Matrix([[2, 1, 2], [5, 3, 1], [1, 1, 5]]) # create matrix k1\n",
        "k1"
      ]
    },
    {
      "cell_type": "code",
      "execution_count": 33,
      "metadata": {},
      "outputs": [
        {
          "data": {
            "text/latex": [
              "$\\displaystyle \\left[\\begin{matrix}\\frac{7}{4} & - \\frac{3}{8} & - \\frac{5}{8}\\\\-3 & 1 & 1\\\\\\frac{1}{4} & - \\frac{1}{8} & \\frac{1}{8}\\end{matrix}\\right]$"
            ],
            "text/plain": [
              "Matrix([\n",
              "[7/4, -3/8, -5/8],\n",
              "[ -3,    1,    1],\n",
              "[1/4, -1/8,  1/8]])"
            ]
          },
          "execution_count": 33,
          "metadata": {},
          "output_type": "execute_result"
        }
      ],
      "source": [
        "inverse_k1 = k1.inv() # calculate the inverse of matrix k1\n",
        "inverse_k1"
      ]
    },
    {
      "cell_type": "code",
      "execution_count": 34,
      "metadata": {},
      "outputs": [
        {
          "data": {
            "text/latex": [
              "$\\displaystyle \\left[\\begin{matrix}1 & 0 & 0\\\\0 & 1 & 0\\\\0 & 0 & 1\\end{matrix}\\right]$"
            ],
            "text/plain": [
              "Matrix([\n",
              "[1, 0, 0],\n",
              "[0, 1, 0],\n",
              "[0, 0, 1]])"
            ]
          },
          "execution_count": 34,
          "metadata": {},
          "output_type": "execute_result"
        }
      ],
      "source": [
        "k1 * inverse_k1 # verify if multiplying the matrix by its inverse yields the identity matrix"
      ]
    },
    {
      "cell_type": "markdown",
      "metadata": {},
      "source": [
        "**Example 2:**"
      ]
    },
    {
      "cell_type": "code",
      "execution_count": 35,
      "metadata": {},
      "outputs": [
        {
          "data": {
            "text/latex": [
              "$\\displaystyle \\left[\\begin{matrix}\\frac{e i - f h}{a e i - a f h - b d i + b f g + c d h - c e g} & \\frac{- b i + c h}{a e i - a f h - b d i + b f g + c d h - c e g} & \\frac{b f - c e}{a e i - a f h - b d i + b f g + c d h - c e g}\\\\\\frac{- d i + f g}{a e i - a f h - b d i + b f g + c d h - c e g} & \\frac{a i - c g}{a e i - a f h - b d i + b f g + c d h - c e g} & \\frac{- a f + c d}{a e i - a f h - b d i + b f g + c d h - c e g}\\\\\\frac{d h - e g}{a e i - a f h - b d i + b f g + c d h - c e g} & \\frac{- a h + b g}{a e i - a f h - b d i + b f g + c d h - c e g} & \\frac{a e - b d}{a e i - a f h - b d i + b f g + c d h - c e g}\\end{matrix}\\right]$"
            ],
            "text/plain": [
              "Matrix([\n",
              "[ (e*i - f*h)/(a*e*i - a*f*h - b*d*i + b*f*g + c*d*h - c*e*g), (-b*i + c*h)/(a*e*i - a*f*h - b*d*i + b*f*g + c*d*h - c*e*g),  (b*f - c*e)/(a*e*i - a*f*h - b*d*i + b*f*g + c*d*h - c*e*g)],\n",
              "[(-d*i + f*g)/(a*e*i - a*f*h - b*d*i + b*f*g + c*d*h - c*e*g),  (a*i - c*g)/(a*e*i - a*f*h - b*d*i + b*f*g + c*d*h - c*e*g), (-a*f + c*d)/(a*e*i - a*f*h - b*d*i + b*f*g + c*d*h - c*e*g)],\n",
              "[ (d*h - e*g)/(a*e*i - a*f*h - b*d*i + b*f*g + c*d*h - c*e*g), (-a*h + b*g)/(a*e*i - a*f*h - b*d*i + b*f*g + c*d*h - c*e*g),  (a*e - b*d)/(a*e*i - a*f*h - b*d*i + b*f*g + c*d*h - c*e*g)]])"
            ]
          },
          "execution_count": 35,
          "metadata": {},
          "output_type": "execute_result"
        }
      ],
      "source": [
        "import sympy as sp\n",
        "a, b, c, d, e, f, g, h, i = sp.symbols('a b c d e f g h i') # define variables a-i\n",
        "k = sp.Matrix([[a, b, c], [d, e, f], [g, h, i]]) # create matrix k\n",
        "inverse_k = k.inv()    \n",
        "inverse_k"
      ]
    },
    {
      "cell_type": "markdown",
      "metadata": {},
      "source": [
        "This complex form results from the formula that allows for the calculation of the elements of the inverse matrix. Before we proceed, let's define a few concepts.\n",
        "\n",
        "**Matrix Transposition** is an operation that swaps rows with columns. The transpose of a matrix $A$ is a matrix $A^T$ such that $A^T_{ij} = A_{ji}$."
      ]
    },
    {
      "cell_type": "code",
      "execution_count": 36,
      "metadata": {},
      "outputs": [
        {
          "data": {
            "text/latex": [
              "$\\displaystyle \\left[\\begin{matrix}a & b & c\\\\d & e & f\\\\g & h & i\\end{matrix}\\right]$"
            ],
            "text/plain": [
              "Matrix([\n",
              "[a, b, c],\n",
              "[d, e, f],\n",
              "[g, h, i]])"
            ]
          },
          "execution_count": 36,
          "metadata": {},
          "output_type": "execute_result"
        }
      ],
      "source": [
        "k"
      ]
    },
    {
      "cell_type": "code",
      "execution_count": 37,
      "metadata": {},
      "outputs": [
        {
          "data": {
            "text/latex": [
              "$\\displaystyle \\left[\\begin{matrix}a & d & g\\\\b & e & h\\\\c & f & i\\end{matrix}\\right]$"
            ],
            "text/plain": [
              "Matrix([\n",
              "[a, d, g],\n",
              "[b, e, h],\n",
              "[c, f, i]])"
            ]
          },
          "execution_count": 37,
          "metadata": {},
          "output_type": "execute_result"
        }
      ],
      "source": [
        "k.transpose() # transpose matrix k"
      ]
    },
    {
      "cell_type": "markdown",
      "metadata": {},
      "source": [
        "**Minor** of a matrix $A$ is the determinant of the matrix obtained by removing the $i$-th row and $j$-th column. We denote it by $M_{ij}$."
      ]
    },
    {
      "cell_type": "code",
      "execution_count": 38,
      "metadata": {},
      "outputs": [
        {
          "data": {
            "text/latex": [
              "$\\displaystyle \\left[\\begin{matrix}1 & 2 & 3\\\\4 & 5 & 6\\\\7 & 8 & 9\\end{matrix}\\right]$"
            ],
            "text/plain": [
              "Matrix([\n",
              "[1, 2, 3],\n",
              "[4, 5, 6],\n",
              "[7, 8, 9]])"
            ]
          },
          "execution_count": 38,
          "metadata": {},
          "output_type": "execute_result"
        }
      ],
      "source": [
        "# Minor of matrix $A$ is the determinant of the matrix obtained by removing the $i$-th row and $j$-th column. We denote it by $M_{ij}$.\n",
        "k2 = sp.Matrix([[1, 2, 3], [4, 5, 6], [7, 8, 9]])\n",
        "k2"
      ]
    },
    {
      "cell_type": "code",
      "execution_count": 39,
      "metadata": {},
      "outputs": [
        {
          "data": {
            "text/latex": [
              "$\\displaystyle \\left[\\begin{matrix}4 & 6\\\\7 & 9\\end{matrix}\\right]$"
            ],
            "text/plain": [
              "Matrix([\n",
              "[4, 6],\n",
              "[7, 9]])"
            ]
          },
          "execution_count": 39,
          "metadata": {},
          "output_type": "execute_result"
        }
      ],
      "source": [
        "M01 = k2.minor_submatrix(0, 1) # calculate minor M01\n",
        "M01"
      ]
    },
    {
      "cell_type": "code",
      "execution_count": 40,
      "metadata": {},
      "outputs": [
        {
          "data": {
            "text/latex": [
              "$\\displaystyle \\left[\\begin{matrix}1 & 2\\\\4 & 5\\end{matrix}\\right]$"
            ],
            "text/plain": [
              "Matrix([\n",
              "[1, 2],\n",
              "[4, 5]])"
            ]
          },
          "execution_count": 40,
          "metadata": {},
          "output_type": "execute_result"
        }
      ],
      "source": [
        "M22 = k2.minor_submatrix(2, 2) # calculate minor M22\n",
        "M22"
      ]
    },
    {
      "cell_type": "markdown",
      "metadata": {},
      "source": [
        "**Cofactor** of element $a_{ij} = (-1)^{i+j} \\, M_{ij}$, which is the minor multiplied by $(-1)^{i+j}$.\n",
        "\n",
        "**Rank of a Matrix** is the largest degree of a non-zero minor of the matrix. The rank of a matrix is equal to the number of linearly independent rows or columns in the matrix."
      ]
    },
    {
      "cell_type": "code",
      "execution_count": 41,
      "metadata": {},
      "outputs": [
        {
          "data": {
            "text/plain": [
              "2"
            ]
          },
          "execution_count": 41,
          "metadata": {},
          "output_type": "execute_result"
        }
      ],
      "source": [
        "k2.rank() # calculate the rank of matrix k2"
      ]
    },
    {
      "cell_type": "markdown",
      "metadata": {},
      "source": [
        "### Inverse of a 3x3 Matrix\n",
        "\n",
        "Using the transpose of the cofactor matrix (minors):\n",
        "\n",
        "$$K^{-1} =\n",
        "\\begin{bmatrix}\n",
        "a & b & c \\\\\n",
        "d & e & f \\\\\n",
        "g & h & i\n",
        "\\end{bmatrix}^{-1} \n",
        "= \\frac{1}{\\det(\\mathbf{K})} \n",
        "\\begin{bmatrix}\n",
        "A & B & C \\\\\n",
        "D & E & F \\\\\n",
        "G & H & I\n",
        "\\end{bmatrix}^T\n",
        "= \\frac{1}{\\det(\\mathbf{A})} \n",
        "\\begin{bmatrix}\n",
        "A & D & G \\\\\n",
        "B & E & H \\\\\n",
        "C & F & I\n",
        "\\end{bmatrix}\n",
        "$$\n",
        "\n",
        "If the determinant is non-zero, the matrix is invertible, and the elements of the intermediate matrix on the right-hand side of the above formula are determined by:\n",
        "\n",
        "$$\n",
        "\\begin{aligned}\n",
        "A &= \\text{det} \\left( \\begin{bmatrix} e & f \\\\ h & i \\end{bmatrix} \\right) & B &= -\\text{det} \\left( \\begin{bmatrix} d & f \\\\ g & i \\end{bmatrix} \\right) & C &= \\text{det} \\left( \\begin{bmatrix} d & e \\\\ g & h \\end{bmatrix} \\right) \\\\\n",
        "D &= -\\text{det} \\left( \\begin{bmatrix} b & c \\\\ h & i \\end{bmatrix} \\right) & E &= \\text{det} \\left( \\begin{bmatrix} a & c \\\\ g & i \\end{bmatrix} \\right) & F &= -\\text{det} \\left( \\begin{bmatrix} a & b \\\\ g & h \\end{bmatrix} \\right) \\\\\n",
        "G &= \\text{det} \\left( \\begin{bmatrix} b & c \\\\ e & f \\end{bmatrix} \\right) & H &= -\\text{det} \\left( \\begin{bmatrix} a & c \\\\ d & f \\end{bmatrix} \\right) & I &= \\text{det} \\left( \\begin{bmatrix} a & b \\\\ d & e \\end{bmatrix} \\right)\n",
        "\\end{aligned}\n",
        "$$\n",
        "\n",
        "These are the determinants of 2x2 matrices formed by removing the appropriate rows and columns and taking into account the sign $(-1)^{i+j}$.\n",
        "\n",
        "### Inverse of a 2x2 Matrix\n",
        "\n",
        "Similarly, for a 2x2 matrix, the inverse can be calculated using the cofactor matrix:\n",
        "\n",
        "$$\n",
        "\\mathbf{L}^{-1} = \n",
        "\\begin{bmatrix}\n",
        "a & b \\\\\n",
        "c & d\n",
        "\\end{bmatrix}^{-1} \n",
        "= \\frac{1}{\\det(\\mathbf{L})} \n",
        "\\begin{bmatrix}\n",
        "D & C \\\\\n",
        "B & A\n",
        "\\end{bmatrix}^T\n",
        "= \\frac{1}{\\det(\\mathbf{L})} \n",
        "\\begin{bmatrix}\n",
        "D & B \\\\\n",
        "C & A\n",
        "\\end{bmatrix}\n",
        "$$\n",
        "\n",
        "where $\\det(\\mathbf{L}) = ad - bc$\n",
        "\n",
        "If the determinant is non-zero, the matrix is invertible, and the elements of the intermediate matrix are given as:\n",
        "\n",
        "$$\n",
        "\\begin{aligned}\n",
        "A &= \\text{det} \\begin{bmatrix} d \\end{bmatrix} = d, & B &= -\\text{det} \\begin{bmatrix} b \\end{bmatrix} = -b, & C &= -\\text{det} \\begin{bmatrix} c \\end{bmatrix} = -c, & \n",
        "D &= \\text{det} \\begin{bmatrix} a \\end{bmatrix} = a.\n",
        "\\end{aligned}\n",
        "$$\n",
        "\n",
        "These elements are determined by calculating the determinants of 1x1 matrices formed by removing the appropriate rows and columns from the original 2x2 matrix and applying the corresponding signs $(-1)^{i+j}$."
      ]
    },
    {
      "cell_type": "markdown",
      "metadata": {},
      "source": [
        "---\n",
        "\n",
        "## Exercises for Students\n",
        "\n",
        "1. Find the inverse matrix for\n",
        "\n",
        "$$\n",
        "\\begin{bmatrix}\n",
        "2 & 0 & 1 \\\\\n",
        "0 & 1 & 0 \\\\\n",
        "1 & 2 & 0\n",
        "\\end{bmatrix}\n",
        "$$\n",
        "\n",
        "and verify if the result is correct.\n",
        "\n",
        "2. Using the `det()` command, determine the rank of the matrix below\n",
        "$$\n",
        "A = \n",
        "\\begin{bmatrix}\n",
        "4 & -3 & 7 \\\\\n",
        "-1 & 6 & 3 \\\\\n",
        "2 & 9 & 1\n",
        "\\end{bmatrix}\n",
        "$$"
      ]
    },
    {
      "cell_type": "code",
      "execution_count": 5,
      "metadata": {},
      "outputs": [
        {
          "data": {
            "text/latex": [
              "$\\displaystyle \\left[\\begin{matrix}2 & 0 & 1\\\\0 & 1 & 0\\\\1 & 2 & 0\\end{matrix}\\right]$"
            ],
            "text/plain": [
              "Matrix([\n",
              "[2, 0, 1],\n",
              "[0, 1, 0],\n",
              "[1, 2, 0]])"
            ]
          },
          "execution_count": 5,
          "metadata": {},
          "output_type": "execute_result"
        }
      ],
      "source": [
        "#Exercises 1\n",
        "\n",
        "import sympy as sp\n",
        "\n",
        "A = sp.Matrix([[2,0,1], [0,1,0], [1,2,0]])  # created matrix\n",
        "\n",
        "A"
      ]
    },
    {
      "cell_type": "code",
      "execution_count": 7,
      "metadata": {},
      "outputs": [
        {
          "data": {
            "text/latex": [
              "$\\displaystyle \\left[\\begin{matrix}0 & -2 & 1\\\\0 & 1 & 0\\\\1 & 4 & -2\\end{matrix}\\right]$"
            ],
            "text/plain": [
              "Matrix([\n",
              "[0, -2,  1],\n",
              "[0,  1,  0],\n",
              "[1,  4, -2]])"
            ]
          },
          "execution_count": 7,
          "metadata": {},
          "output_type": "execute_result"
        }
      ],
      "source": [
        "inverse_k1 = A.inv()\n",
        "A.inv()"
      ]
    },
    {
      "cell_type": "code",
      "execution_count": 8,
      "metadata": {},
      "outputs": [
        {
          "data": {
            "text/latex": [
              "$\\displaystyle \\left[\\begin{matrix}1 & 0 & 0\\\\0 & 1 & 0\\\\0 & 0 & 1\\end{matrix}\\right]$"
            ],
            "text/plain": [
              "Matrix([\n",
              "[1, 0, 0],\n",
              "[0, 1, 0],\n",
              "[0, 0, 1]])"
            ]
          },
          "execution_count": 8,
          "metadata": {},
          "output_type": "execute_result"
        }
      ],
      "source": [
        "A * inverse_A"
      ]
    },
    {
      "cell_type": "markdown",
      "metadata": {},
      "source": [
        "## Exercises 1\n",
        "## Inverse Matrix Calculation\n",
        "\n",
        "### Given matrix:\n",
        "\n",
        "$$\n",
        "A = \\begin{bmatrix}\n",
        "2 & 0 & 1 \\\\\n",
        "0 & 1 & 0 \\\\\n",
        "1 & 2 & 0\n",
        "\\end{bmatrix}\n",
        "$$\n",
        "\n",
        "### Step 1: Determinant\n",
        "\n",
        "\n",
        "<span style=\"color: red;\">My Note : I calculated the determinant to check if the matrix has an inverse. If the determinant is non-zero, the matrix has an inverse.</span>\n",
        "\n",
        "\n",
        "$$\n",
        "A = \\begin{bmatrix}\n",
        "a & b & c \\\\\n",
        "d & e & f \\\\\n",
        "g & h & i\n",
        "\\end{bmatrix}\n",
        "$$\n",
        "\n",
        "$$\n",
        "\\det(A) = a \\cdot (e \\cdot i - f \\cdot h) - b \\cdot (d \\cdot i - f \\cdot g) + c \\cdot (d \\cdot h - e \\cdot g)\n",
        "$$\n",
        "\n",
        "### Calculate the Determinant\n",
        "\n",
        "$$\n",
        "A = \\begin{bmatrix}\n",
        "2 & 0 & 1 \\\\\n",
        "0 & 1 & 0 \\\\\n",
        "1 & 2 & 0\n",
        "\\end{bmatrix}\n",
        "$$\n",
        "$$\n",
        "\\det(A) = 2 \\cdot(1 \\cdot 0 - 0 \\cdot 2) - 0(0 \\cdot 0 - 0 \\cdot 1) + 1(0 \\cdot 2 - 1 \\cdot 1) \\\\\n",
        "\\\\\n",
        "\\det(A) = 2(0) - 0(0) + 1(0 - 1) = 0 - 1 = -1\\\\\n",
        "\\\\\n",
        "\\det(A) = -1\n",
        "$$\n",
        "\n",
        "\n",
        "### Step 2:Minor Matrix\n",
        "\n",
        "<span style=\"color: red;\">My Note : I calculated the minor matrix for each element to get the values needed to form the cofactor matrix.</span>\n",
        "\n",
        "\n",
        "#### Calculate Minor Matrix\n",
        "\n",
        "$$\n",
        "M=\n",
        "\\begin{bmatrix}\n",
        "\\begin{bmatrix}\n",
        "e & f  \\\\\n",
        "d & e \n",
        "\\end{bmatrix} &\n",
        "\\begin{bmatrix}\n",
        "d & f  \\\\\n",
        "g & i\n",
        "\\end{bmatrix} &\n",
        "\\begin{bmatrix}\n",
        "d & e  \\\\\n",
        "g & h\n",
        "\\end{bmatrix} \\\\\n",
        "\\begin{bmatrix}\n",
        "b & e  \\\\\n",
        "h & i\n",
        "\\end{bmatrix} &\n",
        "\\begin{bmatrix}\n",
        "a & c  \\\\\n",
        "g & i\n",
        "\\end{bmatrix} &\n",
        "\\begin{bmatrix}\n",
        "a & b  \\\\\n",
        "g & h\n",
        "\\end{bmatrix} \\\\\n",
        "\\begin{bmatrix}\n",
        "b & c  \\\\\n",
        "e & f\n",
        "\\end{bmatrix} &\n",
        "\\begin{bmatrix}\n",
        "a & c  \\\\\n",
        "d & f\n",
        "\\end{bmatrix} &\n",
        "\\begin{bmatrix}\n",
        "a & b  \\\\\n",
        "d & e\n",
        "\\end{bmatrix}\n",
        "\\end{bmatrix} = \n",
        "\n",
        "\\begin{bmatrix}\n",
        "(e \\cdot i - f \\cdot h) & , (d \\cdot i - f \\cdot g) & , (d \\cdot h - e \\cdot g) \\\\\n",
        "(b \\cdot i - c \\cdot h) & , (a \\cdot i - c \\cdot g) & , (a \\cdot h - b \\cdot g) \\\\\n",
        "(b \\cdot f - c \\cdot e) & , (a \\cdot f - c \\cdot d) & , (a \\cdot e - b \\cdot d)\n",
        "\\end{bmatrix}\n",
        "$$ \n",
        "\n",
        "\n",
        "\n",
        "####  Calculated Minor Matrix\n",
        "\n",
        "\n",
        "$$\n",
        "M=\n",
        "\\begin{bmatrix}\n",
        "\\begin{bmatrix}\n",
        "1 & 0  \\\\\n",
        "2 & 0 \n",
        "\\end{bmatrix} &\n",
        "\\begin{bmatrix}\n",
        "0 & 0  \\\\\n",
        "1 & 0\n",
        "\\end{bmatrix} &\n",
        "\\begin{bmatrix}\n",
        "0 & 1  \\\\\n",
        "1 & 2\n",
        "\\end{bmatrix} \\\\\n",
        "\\begin{bmatrix}\n",
        "0 & 1  \\\\\n",
        "2 & 0\n",
        "\\end{bmatrix} &\n",
        "\\begin{bmatrix}\n",
        "2 & 1  \\\\\n",
        "1 & 0\n",
        "\\end{bmatrix} &\n",
        "\\begin{bmatrix}\n",
        "2 & 0  \\\\\n",
        "1 & 2\n",
        "\\end{bmatrix} \\\\\n",
        "\\begin{bmatrix}\n",
        "0 & 1  \\\\\n",
        "1 & 0\n",
        "\\end{bmatrix} &\n",
        "\\begin{bmatrix}\n",
        "2 & 1  \\\\\n",
        "0 & 0\n",
        "\\end{bmatrix} &\n",
        "\\begin{bmatrix}\n",
        "2 & 0  \\\\\n",
        "0 & 1\n",
        "\\end{bmatrix}\n",
        "\\end{bmatrix} =\n",
        "\n",
        "\n",
        "\\begin{bmatrix}\n",
        "0 & 0 & -1 \\\\\n",
        "-2 & -1 & 4 \\\\\n",
        "-1 & 0 & 2\n",
        "\\end{bmatrix}\n",
        "\n",
        "\n",
        "$$\n",
        "\n",
        "### Step 3:Cofactor Matrix\n",
        "\n",
        "<span style=\"color: red;\">My Note : By applying signs to the minor matrix, I created the cofactor matrix, which is necessary for finding the inverse matrix.</span>\n",
        "\n",
        "\n",
        "### Sign Matrix\n",
        "\n",
        "$$\n",
        "\\begin{bmatrix}\n",
        "+ & - & + \\\\\n",
        "- & + & - \\\\\n",
        "+ & - & +\n",
        "\\end{bmatrix}\n",
        "$$\n",
        "\n",
        "#### Calculate Cofactor Matrix\n",
        "\n",
        "$$\n",
        "\\begin{bmatrix}\n",
        "+ & - & + \\\\\n",
        "- & + & - \\\\\n",
        "+ & - & +\n",
        "\\end{bmatrix} \\cdot\n",
        "\n",
        "\\begin{bmatrix}\n",
        "0 & 0 & -1 \\\\\n",
        "-2 & -1 & 4 \\\\\n",
        "-1 & 0 & 2\n",
        "\\end{bmatrix} =\n",
        "\n",
        "\\begin{bmatrix}\n",
        "0 & 0 & -1 \\\\\n",
        "2 & -1 & -4 \\\\\n",
        "-1 & 0 & 2\n",
        "\\end{bmatrix}\n",
        "$$\n",
        "\n",
        "$$\n",
        "C = \\begin{bmatrix}\n",
        "0 & 0 & -1 \\\\\n",
        "2 & -1 & -4 \\\\\n",
        "-1 & 0 & 2\n",
        "\\end{bmatrix}\n",
        "$$\n",
        "\n",
        "\n",
        "\n",
        "### Step 4: Transpoze\n",
        "\n",
        "<span style=\"color: red;\">My Note : I took the transpose of the cofactor matrix to find the adjoint matrix, which is the next step in calculating the inverse.</span>\n",
        "\n",
        "\n",
        "Kofaktör matrisinin transpozunu alarak adjoin matrisini buluruz:\n",
        "### Calculate the transpoze \n",
        "$$\n",
        "C = \\begin{bmatrix}\n",
        "a & b & c \\\\\n",
        "d & e & f \\\\\n",
        "g & h & i\n",
        "\\end{bmatrix}\n",
        "$$\n",
        "\n",
        "$$\n",
        "C^{T} = \\begin{bmatrix}\n",
        "a & d & g \\\\\n",
        "b & e & h \\\\\n",
        "c & f & i\n",
        "\\end{bmatrix}\n",
        "$$\n",
        "\n",
        "### Calculated the transpoze \n",
        "\n",
        "$$\n",
        "C^{T} = \\begin{bmatrix}\n",
        "0 & 2 & -1 \\\\\n",
        "0 & -1 & 0 \\\\\n",
        "-1 & -4 & 2\n",
        "\\end{bmatrix}\n",
        "$$\n",
        "\n",
        "### Step 5: Inverse\n",
        "\n",
        "<span style=\"color: red;\">My Note : By dividing the adjoint matrix by the determinant, I found the inverse of the given matrix.</span>\n",
        "\n",
        "\n",
        "### Calculate the Inverse\n",
        "\n",
        "\n",
        "$$\n",
        "A^{-1} = \\frac{1}{\\det(A)} \\cdot \\begin{bmatrix}\n",
        "0 & 2 & -1 \\\\\n",
        "0 & -1 & 0 \\\\\n",
        "-1 & -4 & 2\n",
        "\\end{bmatrix}\n",
        "$$\n",
        "\n",
        "$$\n",
        "A^{-1} =\n",
        "\\begin{bmatrix} \n",
        "0 \\cdot \\frac{1}{-1} & 2 \\cdot \\frac{1}{-1} & -1 \\cdot \\frac{1}{-1} \\\\\n",
        "0 \\cdot \\frac{1}{-1} & -1 \\cdot \\frac{1}{-1} & 0 \\cdot \\frac{1}{-1} \\\\\n",
        "-1 \\cdot \\frac{1}{-1} & -4 \\cdot \\frac{1}{-1} & 2 \\cdot \\frac{1}{-1}\n",
        "\\end{bmatrix}\n",
        "=\n",
        "\\begin{bmatrix}\n",
        "0 & -2 & 1 \\\\\n",
        "0 & 1 & 0 \\\\\n",
        "1 & 4 & -2\n",
        "\\end{bmatrix}\n",
        "\n",
        "\n",
        "$$\n",
        "\n",
        "### Result\n",
        "\n",
        "$$\n",
        "A^{-1} = \\begin{bmatrix}\n",
        "0 & -2 & 1 \\\\\n",
        "0 & 1 & 0 \\\\\n",
        "1 & 4 & -2\n",
        "\\end{bmatrix}\n",
        "$$\n"
      ]
    },
    {
      "cell_type": "code",
      "execution_count": null,
      "metadata": {},
      "outputs": [],
      "source": [
        "# Exercises 2\n",
        "\n",
        "A = sp.Matrix([[2,0,1], [0,1,0], [1,2,0]])\n",
        "\n",
        "A"
      ]
    }
  ],
  "metadata": {
    "kernelspec": {
      "display_name": "Python 3 (ipykernel)",
      "language": "python",
      "name": "python3"
    }
  },
  "nbformat": 4,
  "nbformat_minor": 4
}
