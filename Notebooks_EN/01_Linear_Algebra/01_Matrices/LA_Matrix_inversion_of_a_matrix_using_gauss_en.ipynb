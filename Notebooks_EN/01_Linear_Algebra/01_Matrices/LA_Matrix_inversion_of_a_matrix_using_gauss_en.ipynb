{
  "cells": [
    {
      "cell_type": "markdown",
      "metadata": {},
      "source": [
        "# Matrix Inversion using Gauss elimination method"
      ]
    },
    {
      "cell_type": "code",
      "execution_count": 1,
      "metadata": {},
      "outputs": [
        {
          "ename": "",
          "evalue": "",
          "output_type": "error",
          "traceback": [
            "\u001b[1;31mFailed to connect to remote Jupyter Server.\n",
            "\u001b[1;31mCheck that the Jupyter Server URL can be reached from a browser.\n",
            "\u001b[1;31mhttps://silver-goldfish-jjq7wrj7rg76c56p6-8888.app.github.dev/. Click <a href='https://aka.ms/vscjremoteweb'>here</a> for more information."
          ]
        }
      ],
      "source": [
        "from sympy import Matrix, Rational, latex\n",
        "from IPython.display import display, Markdown, Math, HTML\n",
        "\n",
        "class InvertibleMatrix:\n",
        "    def __init__(self, matrix):\n",
        "        \"\"\"\n",
        "        Initializes a matrix to be inverted using the Gauss-Jordan method.\n",
        "        \n",
        "        Parameters:\n",
        "        - matrix: The square matrix to be inverted.\n",
        "        \"\"\"\n",
        "        # Convert all entries to Rational numbers\n",
        "        self.matrix = Matrix(matrix).applyfunc(Rational)\n",
        "        self.operations = []\n",
        "        \n",
        "        # Check if the matrix is square\n",
        "        if self.matrix.rows != self.matrix.cols:\n",
        "            raise ValueError(\"The matrix must be square.\")\n",
        "        \n",
        "        # Create the augmented matrix with the identity matrix (with Rational entries)\n",
        "        identity = Matrix.eye(self.matrix.rows).applyfunc(Rational)\n",
        "        self.aug_matrix = self.matrix.row_join(identity)\n",
        "        \n",
        "        display(Markdown(\"**Initial Matrix (Starting matrix):**\"))\n",
        "        self.display_matrix()\n",
        "    \n",
        "    def __repr__(self):\n",
        "        return repr(self.aug_matrix)\n",
        "    \n",
        "    def __str__(self):\n",
        "        return str(self.aug_matrix)\n",
        "    \n",
        "    def _repr_latex_(self):\n",
        "        return self.aug_matrix._repr_latex_()\n",
        "    \n",
        "    def _validate_row_number(self, row):\n",
        "        if not isinstance(row, int):\n",
        "            raise TypeError(\"Row number must be an integer.\")\n",
        "        if row < 1 or row > self.aug_matrix.rows:\n",
        "            raise IndexError(f\"Row number must be in the range from 1 to {self.aug_matrix.rows}.\")\n",
        "        return row - 1\n",
        "    \n",
        "    def add_row(self, target_row, source_row, coefficient):\n",
        "        target_idx = self._validate_row_number(target_row)\n",
        "        source_idx = self._validate_row_number(source_row)\n",
        "        coefficient = Rational(coefficient)\n",
        "        \n",
        "        self.aug_matrix.row_op(target_idx, lambda v, j: v + coefficient * self.aug_matrix[source_idx, j])\n",
        "        \n",
        "        operation_str = f\"r{target_row} = r{target_row} + {coefficient}*r{source_row}\"\n",
        "        self.operations.append(operation_str)\n",
        "        display(Markdown(f\"**Operation:** {operation_str}\"))\n",
        "        self.display_matrix()\n",
        "    \n",
        "    def multiply_row(self, row, coefficient):\n",
        "        row_idx = self._validate_row_number(row)\n",
        "        coefficient = Rational(coefficient)\n",
        "        \n",
        "        self.aug_matrix.row_op(row_idx, lambda v, _: coefficient * v)\n",
        "        \n",
        "        operation_str = f\"r{row} = {coefficient}*r{row}\"\n",
        "        self.operations.append(operation_str)\n",
        "        display(Markdown(f\"**Operation:** {operation_str}\"))\n",
        "        self.display_matrix()\n",
        "    \n",
        "    def swap_rows(self, row1, row2):\n",
        "        row1_idx = self._validate_row_number(row1)\n",
        "        row2_idx = self._validate_row_number(row2)\n",
        "        \n",
        "        self.aug_matrix.row_swap(row1_idx, row2_idx)\n",
        "        \n",
        "        operation_str = f\"Swap r{row1} <-> r{row2}\"\n",
        "        self.operations.append(operation_str)\n",
        "        display(Markdown(f\"**Operation:** {operation_str}\"))\n",
        "        self.display_matrix()\n",
        "    \n",
        "    def display_matrix(self):\n",
        "        \"\"\"Displays the left and right matrix side by side in LaTeX format.\"\"\"\n",
        "        left_matrix = self.aug_matrix[:, :self.matrix.cols]\n",
        "        right_matrix = self.aug_matrix[:, self.matrix.cols:]\n",
        "        \n",
        "        # Generate LaTeX code for both matrices\n",
        "        left_latex = latex(left_matrix)\n",
        "        right_latex = latex(right_matrix)\n",
        "        \n",
        "        # Combine both matrices into a single display output\n",
        "        combined_latex = r\"\"\"\n",
        "        %s \n",
        "        \\quad\n",
        "        %s\n",
        "        \"\"\" % (left_latex, right_latex)\n",
        "        \n",
        "        display(Math(combined_latex))\n",
        "    \n",
        "    def print_operations(self):\n",
        "        display(Markdown(\"**Performed Operations:**\"))\n",
        "        for op in self.operations:\n",
        "            print(op)\n",
        "    \n",
        "    def get_inverse(self):\n",
        "        \"\"\"Returns the inverse of the matrix after performing Gauss-Jordan elimination.\"\"\"\n",
        "        # Check if the left part of the augmented matrix is the identity matrix\n",
        "        left_matrix = self.aug_matrix[:, :self.matrix.cols]\n",
        "        if not left_matrix == Matrix.eye(self.matrix.rows):\n",
        "            raise ValueError(\"The matrix has not been reduced to the identity matrix. Continue the operations.\")\n",
        "        # Return the right part of the augmented matrix as the inverse\n",
        "        inverse_matrix = self.aug_matrix[:, self.matrix.cols:]\n",
        "        display(Markdown(\"**Inverse Matrix:**\"))\n",
        "        display(Math(latex(inverse_matrix)))\n",
        "        return inverse_matrix"
      ]
    },
    {
      "cell_type": "markdown",
      "metadata": {},
      "source": [
        "**Example 1:**"
      ]
    },
    {
      "cell_type": "code",
      "execution_count": 2,
      "metadata": {},
      "outputs": [
        {
          "ename": "NameError",
          "evalue": "name 'InvertibleMatrix' is not defined",
          "output_type": "error",
          "traceback": [
            "\u001b[0;31m---------------------------------------------------------------------------\u001b[0m",
            "\u001b[0;31mNameError\u001b[0m                                 Traceback (most recent call last)",
            "Cell \u001b[0;32mIn[10], line 3\u001b[0m\n\u001b[1;32m      1\u001b[0m \u001b[38;5;66;03m# Create an instance of the class with a matrix to be inverted\u001b[39;00m\n\u001b[1;32m      2\u001b[0m initial_matrix \u001b[38;5;241m=\u001b[39m [[\u001b[38;5;241m2\u001b[39m, \u001b[38;5;241m1\u001b[39m], [\u001b[38;5;241m5\u001b[39m, \u001b[38;5;241m3\u001b[39m]] \u001b[38;5;66;03m# 2x2 matrix\u001b[39;00m\n\u001b[0;32m----> 3\u001b[0m m \u001b[38;5;241m=\u001b[39m \u001b[43mInvertibleMatrix\u001b[49m(initial_matrix) \u001b[38;5;66;03m# Create an instance of the class\u001b[39;00m\n",
            "\u001b[0;31mNameError\u001b[0m: name 'InvertibleMatrix' is not defined"
          ]
        }
      ],
      "source": [
        "# Create an instance of the class with a matrix to be inverted\n",
        "initial_matrix = [[2, 1], [5, 3]] # 2x2 matrix\n",
        "m = InvertibleMatrix(initial_matrix) # Create an instance of the class"
      ]
    },
    {
      "cell_type": "code",
      "execution_count": 3,
      "metadata": {},
      "outputs": [
        {
          "name": "stdout",
          "output_type": "stream",
          "text": [
            "The inverse matrix is:\n"
          ]
        },
        {
          "data": {
            "text/latex": [
              "$\\displaystyle \\left[\\begin{matrix}3 & -1\\\\-5 & 2\\end{matrix}\\right]$"
            ],
            "text/plain": [
              "Matrix([\n",
              "[ 3, -1],\n",
              "[-5,  2]])"
            ]
          },
          "execution_count": 3,
          "metadata": {},
          "output_type": "execute_result"
        }
      ],
      "source": [
        "import sympy as sp # import the sympy library\n",
        "a = sp.Matrix(initial_matrix) # create the initial matrix\n",
        "print(\"The inverse matrix is:\")\n",
        "a.inv() # calculate the inverse matrix"
      ]
    },
    {
      "cell_type": "code",
      "execution_count": 4,
      "metadata": {},
      "outputs": [
        {
          "data": {
            "text/markdown": [
              "**Operation:** r2 = r2 + -5/2*r1"
            ],
            "text/plain": [
              "<IPython.core.display.Markdown object>"
            ]
          },
          "metadata": {},
          "output_type": "display_data"
        },
        {
          "data": {
            "text/latex": [
              "$\\displaystyle \n",
              "        \\left[\\begin{matrix}2 & 1\\\\0 & \\frac{1}{2}\\end{matrix}\\right] \n",
              "        \\quad\n",
              "        \\left[\\begin{matrix}1 & 0\\\\- \\frac{5}{2} & 1\\end{matrix}\\right]\n",
              "        $"
            ],
            "text/plain": [
              "<IPython.core.display.Math object>"
            ]
          },
          "metadata": {},
          "output_type": "display_data"
        }
      ],
      "source": [
        "# Add -5/2 times \"row 1\" to \"row 2\"\n",
        "m.add_row(2, 1, -5/2)"
      ]
    },
    {
      "cell_type": "code",
      "execution_count": 5,
      "metadata": {},
      "outputs": [
        {
          "data": {
            "text/markdown": [
              "**Operation:** r1 = 1/2*r1"
            ],
            "text/plain": [
              "<IPython.core.display.Markdown object>"
            ]
          },
          "metadata": {},
          "output_type": "display_data"
        },
        {
          "data": {
            "text/latex": [
              "$\\displaystyle \n",
              "        \\left[\\begin{matrix}1 & \\frac{1}{2}\\\\0 & \\frac{1}{2}\\end{matrix}\\right] \n",
              "        \\quad\n",
              "        \\left[\\begin{matrix}\\frac{1}{2} & 0\\\\- \\frac{5}{2} & 1\\end{matrix}\\right]\n",
              "        $"
            ],
            "text/plain": [
              "<IPython.core.display.Math object>"
            ]
          },
          "metadata": {},
          "output_type": "display_data"
        }
      ],
      "source": [
        "# Multiply \"row 1\" by 1/2\n",
        "m.multiply_row(1, 1/2)"
      ]
    },
    {
      "cell_type": "code",
      "execution_count": 6,
      "metadata": {},
      "outputs": [
        {
          "data": {
            "text/markdown": [
              "**Operation:** r1 = r1 + -1*r2"
            ],
            "text/plain": [
              "<IPython.core.display.Markdown object>"
            ]
          },
          "metadata": {},
          "output_type": "display_data"
        },
        {
          "data": {
            "text/latex": [
              "$\\displaystyle \n",
              "        \\left[\\begin{matrix}1 & 0\\\\0 & \\frac{1}{2}\\end{matrix}\\right] \n",
              "        \\quad\n",
              "        \\left[\\begin{matrix}3 & -1\\\\- \\frac{5}{2} & 1\\end{matrix}\\right]\n",
              "        $"
            ],
            "text/plain": [
              "<IPython.core.display.Math object>"
            ]
          },
          "metadata": {},
          "output_type": "display_data"
        }
      ],
      "source": [
        "# Add -1 times \"row 2\" to \"row 1\"\n",
        "m.add_row(1, 2, -1)"
      ]
    },
    {
      "cell_type": "code",
      "execution_count": 7,
      "metadata": {},
      "outputs": [
        {
          "data": {
            "text/markdown": [
              "**Operation:** r2 = 2*r2"
            ],
            "text/plain": [
              "<IPython.core.display.Markdown object>"
            ]
          },
          "metadata": {},
          "output_type": "display_data"
        },
        {
          "data": {
            "text/latex": [
              "$\\displaystyle \n",
              "        \\left[\\begin{matrix}1 & 0\\\\0 & 1\\end{matrix}\\right] \n",
              "        \\quad\n",
              "        \\left[\\begin{matrix}3 & -1\\\\-5 & 2\\end{matrix}\\right]\n",
              "        $"
            ],
            "text/plain": [
              "<IPython.core.display.Math object>"
            ]
          },
          "metadata": {},
          "output_type": "display_data"
        }
      ],
      "source": [
        "# Multiply \"row 2\" by 2\n",
        "m.multiply_row(2, 2)"
      ]
    },
    {
      "cell_type": "markdown",
      "metadata": {},
      "source": [
        "The matrix has been correctly computed!\n",
        "\n",
        "**Example 2**"
      ]
    },
    {
      "cell_type": "code",
      "execution_count": 8,
      "metadata": {},
      "outputs": [
        {
          "data": {
            "text/markdown": [
              "**Initial Matrix (Starting matrix):**"
            ],
            "text/plain": [
              "<IPython.core.display.Markdown object>"
            ]
          },
          "metadata": {},
          "output_type": "display_data"
        },
        {
          "data": {
            "text/latex": [
              "$\\displaystyle \n",
              "        \\left[\\begin{matrix}2 & 1 & 2\\\\5 & 3 & 1\\\\1 & 1 & 5\\end{matrix}\\right] \n",
              "        \\quad\n",
              "        \\left[\\begin{matrix}1 & 0 & 0\\\\0 & 1 & 0\\\\0 & 0 & 1\\end{matrix}\\right]\n",
              "        $"
            ],
            "text/plain": [
              "<IPython.core.display.Math object>"
            ]
          },
          "metadata": {},
          "output_type": "display_data"
        }
      ],
      "source": [
        "initial_matrix = [[2, 1, 2], [5, 3, 1], [1, 1, 5]] # 3x3 matrix\n",
        "m = InvertibleMatrix(initial_matrix) # Create an instance of the class\n",
        "sympy_m = sp.Matrix(initial_matrix) # create the initial matrix"
      ]
    },
    {
      "cell_type": "code",
      "execution_count": 9,
      "metadata": {},
      "outputs": [
        {
          "data": {
            "text/latex": [
              "$\\displaystyle \\left[\\begin{matrix}\\frac{7}{4} & - \\frac{3}{8} & - \\frac{5}{8}\\\\-3 & 1 & 1\\\\\\frac{1}{4} & - \\frac{1}{8} & \\frac{1}{8}\\end{matrix}\\right]$"
            ],
            "text/plain": [
              "Matrix([\n",
              "[7/4, -3/8, -5/8],\n",
              "[ -3,    1,    1],\n",
              "[1/4, -1/8,  1/8]])"
            ]
          },
          "execution_count": 9,
          "metadata": {},
          "output_type": "execute_result"
        }
      ],
      "source": [
        "inverse = sympy_m.inv() # calculate the inverse matrix\n",
        "inverse"
      ]
    },
    {
      "cell_type": "code",
      "execution_count": 10,
      "metadata": {},
      "outputs": [
        {
          "data": {
            "text/markdown": [
              "**Operation:** r2 = r2 + -5*r3"
            ],
            "text/plain": [
              "<IPython.core.display.Markdown object>"
            ]
          },
          "metadata": {},
          "output_type": "display_data"
        },
        {
          "data": {
            "text/latex": [
              "$\\displaystyle \n",
              "        \\left[\\begin{matrix}2 & 1 & 2\\\\0 & -2 & -24\\\\1 & 1 & 5\\end{matrix}\\right] \n",
              "        \\quad\n",
              "        \\left[\\begin{matrix}1 & 0 & 0\\\\0 & 1 & -5\\\\0 & 0 & 1\\end{matrix}\\right]\n",
              "        $"
            ],
            "text/plain": [
              "<IPython.core.display.Math object>"
            ]
          },
          "metadata": {},
          "output_type": "display_data"
        }
      ],
      "source": [
        "m.add_row(2, 3, -5)"
      ]
    },
    {
      "cell_type": "code",
      "execution_count": 11,
      "metadata": {},
      "outputs": [
        {
          "data": {
            "text/markdown": [
              "**Operation:** r3 = r3 + -1/2*r1"
            ],
            "text/plain": [
              "<IPython.core.display.Markdown object>"
            ]
          },
          "metadata": {},
          "output_type": "display_data"
        },
        {
          "data": {
            "text/latex": [
              "$\\displaystyle \n",
              "        \\left[\\begin{matrix}2 & 1 & 2\\\\0 & -2 & -24\\\\0 & \\frac{1}{2} & 4\\end{matrix}\\right] \n",
              "        \\quad\n",
              "        \\left[\\begin{matrix}1 & 0 & 0\\\\0 & 1 & -5\\\\- \\frac{1}{2} & 0 & 1\\end{matrix}\\right]\n",
              "        $"
            ],
            "text/plain": [
              "<IPython.core.display.Math object>"
            ]
          },
          "metadata": {},
          "output_type": "display_data"
        }
      ],
      "source": [
        "m.add_row(3, 1, -1/2)"
      ]
    },
    {
      "cell_type": "code",
      "execution_count": 12,
      "metadata": {},
      "outputs": [
        {
          "data": {
            "text/markdown": [
              "**Operation:** r3 = 4*r3"
            ],
            "text/plain": [
              "<IPython.core.display.Markdown object>"
            ]
          },
          "metadata": {},
          "output_type": "display_data"
        },
        {
          "data": {
            "text/latex": [
              "$\\displaystyle \n",
              "        \\left[\\begin{matrix}2 & 1 & 2\\\\0 & -2 & -24\\\\0 & 2 & 16\\end{matrix}\\right] \n",
              "        \\quad\n",
              "        \\left[\\begin{matrix}1 & 0 & 0\\\\0 & 1 & -5\\\\-2 & 0 & 4\\end{matrix}\\right]\n",
              "        $"
            ],
            "text/plain": [
              "<IPython.core.display.Math object>"
            ]
          },
          "metadata": {},
          "output_type": "display_data"
        }
      ],
      "source": [
        "m.multiply_row(3, 4)"
      ]
    },
    {
      "cell_type": "code",
      "execution_count": 13,
      "metadata": {},
      "outputs": [
        {
          "data": {
            "text/markdown": [
              "**Operation:** r3 = r3 + 1*r2"
            ],
            "text/plain": [
              "<IPython.core.display.Markdown object>"
            ]
          },
          "metadata": {},
          "output_type": "display_data"
        },
        {
          "data": {
            "text/latex": [
              "$\\displaystyle \n",
              "        \\left[\\begin{matrix}2 & 1 & 2\\\\0 & -2 & -24\\\\0 & 0 & -8\\end{matrix}\\right] \n",
              "        \\quad\n",
              "        \\left[\\begin{matrix}1 & 0 & 0\\\\0 & 1 & -5\\\\-2 & 1 & -1\\end{matrix}\\right]\n",
              "        $"
            ],
            "text/plain": [
              "<IPython.core.display.Math object>"
            ]
          },
          "metadata": {},
          "output_type": "display_data"
        }
      ],
      "source": [
        "m.add_row(3, 2, 1)"
      ]
    },
    {
      "cell_type": "code",
      "execution_count": 14,
      "metadata": {},
      "outputs": [
        {
          "data": {
            "text/markdown": [
              "**Operation:** r3 = -1/8*r3"
            ],
            "text/plain": [
              "<IPython.core.display.Markdown object>"
            ]
          },
          "metadata": {},
          "output_type": "display_data"
        },
        {
          "data": {
            "text/latex": [
              "$\\displaystyle \n",
              "        \\left[\\begin{matrix}2 & 1 & 2\\\\0 & -2 & -24\\\\0 & 0 & 1\\end{matrix}\\right] \n",
              "        \\quad\n",
              "        \\left[\\begin{matrix}1 & 0 & 0\\\\0 & 1 & -5\\\\\\frac{1}{4} & - \\frac{1}{8} & \\frac{1}{8}\\end{matrix}\\right]\n",
              "        $"
            ],
            "text/plain": [
              "<IPython.core.display.Math object>"
            ]
          },
          "metadata": {},
          "output_type": "display_data"
        }
      ],
      "source": [
        "m.multiply_row(3, -1/8)"
      ]
    },
    {
      "cell_type": "code",
      "execution_count": 15,
      "metadata": {},
      "outputs": [
        {
          "data": {
            "text/markdown": [
              "**Operation:** r2 = -1/2*r2"
            ],
            "text/plain": [
              "<IPython.core.display.Markdown object>"
            ]
          },
          "metadata": {},
          "output_type": "display_data"
        },
        {
          "data": {
            "text/latex": [
              "$\\displaystyle \n",
              "        \\left[\\begin{matrix}2 & 1 & 2\\\\0 & 1 & 12\\\\0 & 0 & 1\\end{matrix}\\right] \n",
              "        \\quad\n",
              "        \\left[\\begin{matrix}1 & 0 & 0\\\\0 & - \\frac{1}{2} & \\frac{5}{2}\\\\\\frac{1}{4} & - \\frac{1}{8} & \\frac{1}{8}\\end{matrix}\\right]\n",
              "        $"
            ],
            "text/plain": [
              "<IPython.core.display.Math object>"
            ]
          },
          "metadata": {},
          "output_type": "display_data"
        }
      ],
      "source": [
        "m.multiply_row(2, -1/2)"
      ]
    },
    {
      "cell_type": "code",
      "execution_count": 16,
      "metadata": {},
      "outputs": [
        {
          "data": {
            "text/markdown": [
              "**Operation:** r2 = r2 + -12*r3"
            ],
            "text/plain": [
              "<IPython.core.display.Markdown object>"
            ]
          },
          "metadata": {},
          "output_type": "display_data"
        },
        {
          "data": {
            "text/latex": [
              "$\\displaystyle \n",
              "        \\left[\\begin{matrix}2 & 1 & 2\\\\0 & 1 & 0\\\\0 & 0 & 1\\end{matrix}\\right] \n",
              "        \\quad\n",
              "        \\left[\\begin{matrix}1 & 0 & 0\\\\-3 & 1 & 1\\\\\\frac{1}{4} & - \\frac{1}{8} & \\frac{1}{8}\\end{matrix}\\right]\n",
              "        $"
            ],
            "text/plain": [
              "<IPython.core.display.Math object>"
            ]
          },
          "metadata": {},
          "output_type": "display_data"
        }
      ],
      "source": [
        "m.add_row(2, 3, -12)"
      ]
    },
    {
      "cell_type": "code",
      "execution_count": 17,
      "metadata": {},
      "outputs": [
        {
          "data": {
            "text/markdown": [
              "**Operation:** r1 = r1 + -2*r3"
            ],
            "text/plain": [
              "<IPython.core.display.Markdown object>"
            ]
          },
          "metadata": {},
          "output_type": "display_data"
        },
        {
          "data": {
            "text/latex": [
              "$\\displaystyle \n",
              "        \\left[\\begin{matrix}2 & 1 & 0\\\\0 & 1 & 0\\\\0 & 0 & 1\\end{matrix}\\right] \n",
              "        \\quad\n",
              "        \\left[\\begin{matrix}\\frac{1}{2} & \\frac{1}{4} & - \\frac{1}{4}\\\\-3 & 1 & 1\\\\\\frac{1}{4} & - \\frac{1}{8} & \\frac{1}{8}\\end{matrix}\\right]\n",
              "        $"
            ],
            "text/plain": [
              "<IPython.core.display.Math object>"
            ]
          },
          "metadata": {},
          "output_type": "display_data"
        }
      ],
      "source": [
        "m.add_row(1, 3, -2)"
      ]
    },
    {
      "cell_type": "code",
      "execution_count": 18,
      "metadata": {},
      "outputs": [
        {
          "data": {
            "text/markdown": [
              "**Operation:** r1 = r1 + -1*r2"
            ],
            "text/plain": [
              "<IPython.core.display.Markdown object>"
            ]
          },
          "metadata": {},
          "output_type": "display_data"
        },
        {
          "data": {
            "text/latex": [
              "$\\displaystyle \n",
              "        \\left[\\begin{matrix}2 & 0 & 0\\\\0 & 1 & 0\\\\0 & 0 & 1\\end{matrix}\\right] \n",
              "        \\quad\n",
              "        \\left[\\begin{matrix}\\frac{7}{2} & - \\frac{3}{4} & - \\frac{5}{4}\\\\-3 & 1 & 1\\\\\\frac{1}{4} & - \\frac{1}{8} & \\frac{1}{8}\\end{matrix}\\right]\n",
              "        $"
            ],
            "text/plain": [
              "<IPython.core.display.Math object>"
            ]
          },
          "metadata": {},
          "output_type": "display_data"
        }
      ],
      "source": [
        "m.add_row(1, 2, -1)"
      ]
    },
    {
      "cell_type": "code",
      "execution_count": 19,
      "metadata": {},
      "outputs": [
        {
          "data": {
            "text/markdown": [
              "**Operation:** r1 = 1/2*r1"
            ],
            "text/plain": [
              "<IPython.core.display.Markdown object>"
            ]
          },
          "metadata": {},
          "output_type": "display_data"
        },
        {
          "data": {
            "text/latex": [
              "$\\displaystyle \n",
              "        \\left[\\begin{matrix}1 & 0 & 0\\\\0 & 1 & 0\\\\0 & 0 & 1\\end{matrix}\\right] \n",
              "        \\quad\n",
              "        \\left[\\begin{matrix}\\frac{7}{4} & - \\frac{3}{8} & - \\frac{5}{8}\\\\-3 & 1 & 1\\\\\\frac{1}{4} & - \\frac{1}{8} & \\frac{1}{8}\\end{matrix}\\right]\n",
              "        $"
            ],
            "text/plain": [
              "<IPython.core.display.Math object>"
            ]
          },
          "metadata": {},
          "output_type": "display_data"
        }
      ],
      "source": [
        "m.multiply_row(1, 1/2)"
      ]
    },
    {
      "cell_type": "markdown",
      "metadata": {},
      "source": [
        "---\n",
        "\n",
        "## Exercises for Students\n",
        "\n",
        "Find the inverse matrices using the Gauss method:\n",
        "\n",
        "$$\n",
        "A=\n",
        "\\begin{bmatrix}\n",
        "1 & 2\\\\\n",
        "3 & 4\n",
        "\\end{bmatrix}\n",
        ", \\qquad\n",
        "B=\n",
        "\\begin{bmatrix}\n",
        "1 & 2 & 3 \\\\\n",
        "4 & 5 & 1 \\\\\n",
        "2 & 3 & 2\n",
        "\\end{bmatrix}\n",
        ",\\qquad\n",
        "C=\n",
        "\\begin{bmatrix}\n",
        "0 & 0 & 1\\\\\n",
        "0 & 1 & 0\\\\\n",
        "1 & 0 & 0\n",
        "\\end{bmatrix}\n",
        "$$"
      ]
    },
    {
      "cell_type": "code",
      "execution_count": 21,
      "metadata": {},
      "outputs": [
        {
          "data": {
            "text/latex": [
              "$\\displaystyle \\left[\\begin{matrix}1 & 2\\\\3 & 4\\end{matrix}\\right]$"
            ],
            "text/plain": [
              "Matrix([\n",
              "[1, 2],\n",
              "[3, 4]])"
            ]
          },
          "execution_count": 21,
          "metadata": {},
          "output_type": "execute_result"
        }
      ],
      "source": [
        "import sympy as sp\n",
        "\n",
        "A = sp.Matrix([[1, 2], [3, 4]])\n",
        "\n",
        "A"
      ]
    },
    {
      "cell_type": "code",
      "execution_count": 22,
      "metadata": {},
      "outputs": [
        {
          "data": {
            "text/latex": [
              "$\\displaystyle \\left[\\begin{matrix}-2 & 1\\\\\\frac{3}{2} & - \\frac{1}{2}\\end{matrix}\\right]$"
            ],
            "text/plain": [
              "Matrix([\n",
              "[ -2,    1],\n",
              "[3/2, -1/2]])"
            ]
          },
          "execution_count": 22,
          "metadata": {},
          "output_type": "execute_result"
        }
      ],
      "source": [
        "A_inv = A.inv()\n",
        "\n",
        "A.inv()"
      ]
    },
    {
      "cell_type": "markdown",
      "metadata": {},
      "source": [
        "### Given Matrix $( A )$:\n",
        "$$\n",
        "A = \\begin{bmatrix}\n",
        "1 & 2 \\\\\n",
        "3 & 4\n",
        "\\end{bmatrix}\n",
        "$$\n",
        "\n",
        "### Step 1: Set up the augmented matrix\n",
        "I set up the augmented matrix $( [A \\mid I] )$, where $( I )$ is the identity matrix:\n",
        "\n",
        "$$\n",
        "\\left[ A \\mid I \\right] = \\left[ \\begin{bmatrix}\n",
        "1 & 2 \\\\\n",
        "3 & 4\n",
        "\\end{bmatrix} \\Bigg| \\begin{bmatrix}\n",
        "1 & 0 \\\\\n",
        "0 & 1\n",
        "\\end{bmatrix} \\right]\n",
        "$$\n",
        "\n",
        "### Step 2: Make the first pivot a 1\n",
        "\n",
        "The first pivot is already 1, so no changes are needed in the first row.\n",
        "\n",
        "### Step 3: Eliminate the element below the first pivot\n",
        "\n",
        "I perform the row operation to eliminate the element below the first pivot (3 in row 2):\n",
        "\n",
        "- **Operation**: $( R2 = R2 - 3 \\times R1 )$\n",
        "$$\n",
        "R2 = \\begin{bmatrix} 3 & 4 \\end{bmatrix} - 3 \\times \\begin{bmatrix} 1 & 2 \\end{bmatrix} = \\begin{bmatrix} 0 & -2 \\end{bmatrix}\n",
        "$$\n",
        "\n",
        "$$\n",
        "\\left[ \\begin{bmatrix}\n",
        "1 & 2 \\\\\n",
        "0 & -2\n",
        "\\end{bmatrix} \\Bigg| \\begin{bmatrix}\n",
        "1 & 0 \\\\\n",
        "-3 & 1\n",
        "\\end{bmatrix} \\right]\n",
        "$$\n",
        "\n",
        "### Step 4: Make the second pivot a 1\n",
        "\n",
        "To make the second pivot (currently -2) a 1, I divide the second row by -2:\n",
        "\n",
        "- **Operation**: $( R2 = R2 \\div (-2) )$\n",
        "$$\n",
        "R2 = \\frac{1}{-2} \\times \\begin{bmatrix} 0 & -2 \\end{bmatrix} = \\begin{bmatrix} 0 & 1 \\end{bmatrix}\n",
        "$$\n",
        "\n",
        "$$\n",
        "\\left[ \\begin{bmatrix}\n",
        "1 & 2 \\\\\n",
        "0 & 1\n",
        "\\end{bmatrix} \\Bigg| \\begin{bmatrix}\n",
        "1 & 0 \\\\\n",
        "\\frac{3}{2} & -\\frac{1}{2}\n",
        "\\end{bmatrix} \\right]\n",
        "$$\n",
        "\n",
        "### Step 5: Eliminate the element above the second pivot\n",
        "\n",
        "Now I eliminate the element above the second pivot (2 in row 1):\n",
        "\n",
        "- **Operation**: $( R1 = R1 - 2 \\times R2 )$\n",
        "\n",
        "$$\n",
        "R1 = \\begin{bmatrix} 1 & 2 \\end{bmatrix} - 2 \\times \\begin{bmatrix} 0 & 1 \\end{bmatrix} = \\begin{bmatrix} 1 & 0 \\end{bmatrix}\n",
        "$$\n",
        "\n",
        "$$\n",
        "\\left[ \\begin{bmatrix}\n",
        "1 & 0 \\\\\n",
        "0 & 1\n",
        "\\end{bmatrix} \\Bigg| \\begin{bmatrix}\n",
        "-2 & 1 \\\\\n",
        "\\frac{3}{2} & -\\frac{1}{2}\n",
        "\\end{bmatrix} \\right]\n",
        "$$\n",
        "\n",
        "### Step 6: Conclusion\n",
        "\n",
        "The left-hand side of the augmented matrix is now the identity matrix, and the right-hand side is the inverse of matrix $( A )$.\n",
        "\n",
        "Thus, the inverse of matrix $( A )$ is:\n",
        "\n",
        "$$\n",
        "A^{-1} = \\begin{bmatrix}\n",
        "-2 & 1 \\\\\n",
        "\\frac{3}{2} & -\\frac{1}{2}\n",
        "\\end{bmatrix}\n",
        "$$\n"
      ]
    },
    {
      "cell_type": "code",
      "execution_count": 7,
      "metadata": {},
      "outputs": [
        {
          "data": {
            "text/latex": [
              "$\\displaystyle \\left[\\begin{matrix}1 & 2 & 3\\\\4 & 5 & 1\\\\2 & 3 & 2\\end{matrix}\\right]$"
            ],
            "text/plain": [
              "Matrix([\n",
              "[1, 2, 3],\n",
              "[4, 5, 1],\n",
              "[2, 3, 2]])"
            ]
          },
          "execution_count": 7,
          "metadata": {},
          "output_type": "execute_result"
        }
      ],
      "source": [
        "import sympy as sp\n",
        "\n",
        "B = sp.Matrix([[1,2,3], [4,5,1], [2,3,2]])\n",
        "\n",
        "B"
      ]
    },
    {
      "cell_type": "code",
      "execution_count": 8,
      "metadata": {},
      "outputs": [
        {
          "data": {
            "text/latex": [
              "$\\displaystyle \\left[\\begin{matrix}7 & 5 & -13\\\\-6 & -4 & 11\\\\2 & 1 & -3\\end{matrix}\\right]$"
            ],
            "text/plain": [
              "Matrix([\n",
              "[ 7,  5, -13],\n",
              "[-6, -4,  11],\n",
              "[ 2,  1,  -3]])"
            ]
          },
          "execution_count": 8,
          "metadata": {},
          "output_type": "execute_result"
        }
      ],
      "source": [
        "B_inv = B.inv()\n",
        "\n",
        "B.inv()"
      ]
    },
    {
      "cell_type": "markdown",
      "metadata": {},
      "source": [
        "### Given Matrix $( B )$:\n",
        "\n",
        "$$\n",
        "B = \\begin{bmatrix}\n",
        "1 & 2 & 3 \\\\\n",
        "4 & 5 & 1 \\\\\n",
        "2 & 3 & 2\n",
        "\\end{bmatrix}\n",
        "$$\n",
        "\n",
        "Starting with the augmented matrix:\n",
        "\n",
        "$$\n",
        "\\left[ B \\mid I \\right] = \\left[ \\begin{bmatrix} \n",
        "1 & 2 & 3 \\\\\n",
        "4 & 5 & 1 \\\\\n",
        "2 & 3 & 2\n",
        "\\end{bmatrix} \\Bigg| \\begin{bmatrix}\n",
        "1 & 0 & 0 \\\\\n",
        "0 & 1 & 0 \\\\\n",
        "0 & 0 & 1\n",
        "\\end{bmatrix} \\right]\n",
        "$$\n",
        "\n",
        "### Step 1: Making the First Column a Unit\n",
        "The first element of the first column is 1, so we do not perform any operation here. However, we need to eliminate the 4 in the second row and the 2 in the third row:\n",
        "\n",
        "- **Operation $( R2 - 4 \\times R1 )$**:\n",
        "\n",
        "$$\n",
        "R2 = \\begin{bmatrix} 4 & 5 & 1 \\end{bmatrix} - 4 \\times \\begin{bmatrix} 1 & 2 & 3 \\end{bmatrix} = \\begin{bmatrix} 0 & -3 & -11 \\end{bmatrix}\n",
        "$$\n",
        "\n",
        "\n",
        "$$\n",
        "\\left[ B \\mid I \\right] = \\left[ \\begin{bmatrix} \n",
        "1 & 2 & 3 \\\\\n",
        "0 & -3 & -11 \\\\\n",
        "2 & 3 & 2\n",
        "\\end{bmatrix} \\Bigg| \\begin{bmatrix}\n",
        "1 & 0 & 0 \\\\\n",
        "-4 & 1 & 0 \\\\\n",
        "0 & 0 & 1\n",
        "\\end{bmatrix} \\right]\n",
        "$$\n",
        "\n",
        "- **Operation $( R3 - 2 \\times R1 )$**:\n",
        "\n",
        "$$\n",
        "R3 = \\begin{bmatrix} 2 & 3 & 2 \\end{bmatrix} - 2 \\times \\begin{bmatrix} 1 & 2 & 3 \\end{bmatrix} = \\begin{bmatrix} 0 & -1 & -4 \\end{bmatrix}\n",
        "$$\n",
        "\n",
        "The matrix then becomes:\n",
        "\n",
        "$$\n",
        "\\left[ \\begin{bmatrix} \n",
        "1 & 2 & 3 \\\\\n",
        "0 & -3 & -11 \\\\\n",
        "0 & -1 & -4\n",
        "\\end{bmatrix} \\Bigg| \\begin{bmatrix}\n",
        "1 & 0 & 0 \\\\\n",
        "-4 & 1 & 0 \\\\\n",
        "-2 & 0 & 1\n",
        "\\end{bmatrix} \\right]\n",
        "$$\n",
        "\n",
        "### Step 2: Making the Second Column a Unit\n",
        "To make the $( -3 )$ in the second column a 1, we divide the second row by $( -3 )$:\n",
        "\n",
        "- **Operation $( R2 \\div -3 )$**:\n",
        "\n",
        "$$\n",
        "R2 = \\frac{1}{-3} \\times \\begin{bmatrix} 0 & -3 & -11 \\end{bmatrix} = \\begin{bmatrix} 0 & 1 & \\frac{11}{3} \\end{bmatrix}\n",
        "$$\n",
        "\n",
        "$$\n",
        "\\left[ \\begin{bmatrix} \n",
        "1 & 2 & 3 \\\\\n",
        "0 & 1 & \\frac{11}{3} \\\\\n",
        "0 & -1 & -4\n",
        "\\end{bmatrix} \\Bigg| \\begin{bmatrix}\n",
        "1 & 0 & 0 \\\\\n",
        "\\frac{4}{3} & -\\frac{1}{3} & 0 \\\\\n",
        "-2 & 0 & 1\n",
        "\\end{bmatrix} \\right]\n",
        "$$\n",
        "\n",
        "- **Operation $( R1 - 2 \\times R2 )$**:\n",
        "\n",
        "$$\n",
        "R1 = \\begin{bmatrix} 1 & 2 & 3 \\end{bmatrix} - 2 \\times \\begin{bmatrix} 0 & 1 & \\frac{11}{3} \\end{bmatrix} = \\begin{bmatrix} 1 & 0 & -\\frac{13}{3} \\end{bmatrix}\n",
        "$$\n",
        "\n",
        "$$\n",
        "\\left[ \\begin{bmatrix} \n",
        "1 & 0 & -\\frac{13}{3} \\\\\n",
        "0 & 1 & \\frac{11}{3} \\\\\n",
        "0 & -1 & -4\n",
        "\\end{bmatrix} \\Bigg| \\begin{bmatrix}\n",
        "\\frac{5}{3} & -\\frac{2}{3} & 0 \\\\\n",
        "\\frac{4}{3} & -\\frac{1}{3} & 0 \\\\\n",
        "-2 & 0 & 1\n",
        "\\end{bmatrix} \\right]\n",
        "$$\n",
        "\n",
        "\n",
        "- **Operation $( R3 + R2 )$**:\n",
        "\n",
        "$$\n",
        "R3 = \\begin{bmatrix} 0 & -1 & -4 \\end{bmatrix} + \\begin{bmatrix} 0 & 1 & \\frac{11}{3} \\end{bmatrix} = \\begin{bmatrix} 0 & 0 & -\\frac{1}{3} \\end{bmatrix}\n",
        "$$\n",
        "\n",
        "$$\n",
        "\\left[ \\begin{bmatrix} \n",
        "1 & 0 & -\\frac{13}{3} \\\\\n",
        "0 & 1 & \\frac{11}{3} \\\\\n",
        "0 & 0 & -\\frac{1}{3}\n",
        "\\end{bmatrix} \\Bigg| \\begin{bmatrix}\n",
        "\\frac{5}{3} & -\\frac{2}{3} & 0 \\\\\n",
        "\\frac{4}{3} & -\\frac{1}{3} & 0 \\\\\n",
        "-2 & 0 & 1\n",
        "\\end{bmatrix} \\right]\n",
        "$$\n",
        "\n",
        "### Step 3: Making the Third Column a Unit\n",
        "To make the $( -\\frac{1}{3} )$ in the third column a 1, we will divide the third row by $( -\\frac{1}{3} )$:\n",
        "\n",
        "- **Operation $( R3 \\div -\\frac{1}{3} )$**:\n",
        "\n",
        "$$\n",
        "R3 = \\frac{1}{-\\frac{1}{3}} \\times \\begin{bmatrix} 0 & 0 & -\\frac{1}{3} \\end{bmatrix} = \\begin{bmatrix} 0 & 0 & 1 \\end{bmatrix}\n",
        "$$\n",
        "\n",
        "$$\n",
        "\\left[ \\begin{bmatrix} \n",
        "1 & 0 & -\\frac{13}{3} \\\\\n",
        "0 & 1 & \\frac{11}{3} \\\\\n",
        "0 & 0 & 1\n",
        "\\end{bmatrix} \\Bigg| \\begin{bmatrix}\n",
        "\\frac{5}{3} & -\\frac{2}{3} & 0 \\\\\n",
        "\\frac{4}{3} & -\\frac{1}{3} & 0 \\\\\n",
        "2 & -1 & -3\n",
        "\\end{bmatrix} \\right]\n",
        "$$\n",
        "\n",
        "Finally, we will eliminate the third column elements in the first and second rows:\n",
        "\n",
        "- **Operation $( R1 + \\frac{13}{3} \\times R3 )$**:\n",
        "\n",
        "$$\n",
        "R1 = \\begin{bmatrix} 1 & 0 & -\\frac{13}{3} \\end{bmatrix} + \\frac{13}{3} \\times \\begin{bmatrix} 0 & 0 & 1 \\end{bmatrix} = \\begin{bmatrix} 1 & 0 & 0 \\end{bmatrix}\n",
        "$$\n",
        "\n",
        "$$\n",
        "\\left[ \\begin{bmatrix} \n",
        "1 & 0 & 0 \\\\\n",
        "0 & 1 & \\frac{11}{3} \\\\\n",
        "0 & 0 & 1\n",
        "\\end{bmatrix} \\Bigg| \\begin{bmatrix}\n",
        "7 & 5 & -13 \\\\\n",
        "\\frac{4}{3} & -\\frac{1}{3} & 0 \\\\\n",
        "2 & -1 & -3\n",
        "\\end{bmatrix} \\right]\n",
        "$$\n",
        "\n",
        "\n",
        "- **Operation $( R2 - \\frac{11}{3} \\times R3 )$**:\n",
        "\n",
        "$$\n",
        "R2 = \\begin{bmatrix} 0 & 1 & \\frac{11}{3} \\end{bmatrix} - \\frac{11}{3} \\times \\begin{bmatrix} 0 & 0 & 1 \\end{bmatrix} = \\begin{bmatrix} 0 & 1 & 0 \\end{bmatrix}\n",
        "$$\n",
        "\n",
        "$$\n",
        "\\left[ \\begin{bmatrix} \n",
        "1 & 0 & 0 \\\\\n",
        "0 & 1 & 0 \\\\\n",
        "0 & 0 & 1\n",
        "\\end{bmatrix} \\Bigg| \\begin{bmatrix}\n",
        "7 & 5 & -13 \\\\\n",
        "-6 & -4 & 11 \\\\\n",
        "2 & 1 & -3\n",
        "\\end{bmatrix} \\right]\n",
        "$$\n",
        "\n",
        "### Result: The Inverse of $( B )$\n",
        "$$\n",
        "B^{-1} = \\begin{bmatrix}\n",
        "7 & 5 & -13 \\\\\n",
        "-6 & -4 & 11 \\\\\n",
        "2 & 1 & -3\n",
        "\\end{bmatrix}\n",
        "$$\n"
      ]
    },
    {
      "cell_type": "code",
      "execution_count": 4,
      "metadata": {},
      "outputs": [
        {
          "data": {
            "text/latex": [
              "$\\displaystyle \\left[\\begin{matrix}0 & 0 & 1\\\\0 & 1 & 0\\\\1 & 0 & 0\\end{matrix}\\right]$"
            ],
            "text/plain": [
              "Matrix([\n",
              "[0, 0, 1],\n",
              "[0, 1, 0],\n",
              "[1, 0, 0]])"
            ]
          },
          "execution_count": 4,
          "metadata": {},
          "output_type": "execute_result"
        }
      ],
      "source": [
        "import sympy as sp\n",
        "\n",
        "C = sp.Matrix([[0,0,1], [0,1,0], [1,0,0]])\n",
        "\n",
        "C"
      ]
    },
    {
      "cell_type": "code",
      "execution_count": 5,
      "metadata": {},
      "outputs": [
        {
          "data": {
            "text/latex": [
              "$\\displaystyle \\left[\\begin{matrix}0 & 0 & 1\\\\0 & 1 & 0\\\\1 & 0 & 0\\end{matrix}\\right]$"
            ],
            "text/plain": [
              "Matrix([\n",
              "[0, 0, 1],\n",
              "[0, 1, 0],\n",
              "[1, 0, 0]])"
            ]
          },
          "execution_count": 5,
          "metadata": {},
          "output_type": "execute_result"
        }
      ],
      "source": [
        "C_inv = C.inv()\n",
        "\n",
        "C.inv()"
      ]
    },
    {
      "cell_type": "markdown",
      "metadata": {},
      "source": [
        "### Given Matrix $( C )$:\n",
        "$$\n",
        "C = \\begin{bmatrix}\n",
        "0 & 0 & 1 \\\\\n",
        "0 & 1 & 0 \\\\\n",
        "1 & 0 & 0\n",
        "\\end{bmatrix}\n",
        "$$\n",
        "\n",
        "### Step 1: Set up the augmented matrix\n",
        "\n",
        "I set up the augmented matrix $( [C \\mid I] )$, where $( I )$ is the identity matrix:\n",
        "\n",
        "$$\n",
        "\\left[ C \\mid I \\right] = \\left[ \\begin{bmatrix}\n",
        "0 & 0 & 1 \\\\\n",
        "0 & 1 & 0 \\\\\n",
        "1 & 0 & 0\n",
        "\\end{bmatrix} \\Bigg| \\begin{bmatrix}\n",
        "1 & 0 & 0 \\\\\n",
        "0 & 1 & 0 \\\\\n",
        "0 & 0 & 1\n",
        "\\end{bmatrix} \\right]\n",
        "$$\n",
        "\n",
        "### Step 2: Row operations to get identity matrix\n",
        "\n",
        "I aim to transform the left side of the augmented matrix into the identity matrix using elementary row operations.\n",
        "\n",
        "#### Swap Row 1 with Row 3\n",
        "\n",
        "The first pivot is currently 0, so we swap the first and third rows:\n",
        "\n",
        "- **Operation**: $( R1 \\leftrightarrow R3 )$\n",
        "\n",
        "$$\n",
        "\\left[ \\begin{bmatrix}\n",
        "1 & 0 & 0 \\\\\n",
        "0 & 1 & 0 \\\\\n",
        "0 & 0 & 1\n",
        "\\end{bmatrix} \\Bigg| \\begin{bmatrix}\n",
        "0 & 0 & 1 \\\\\n",
        "0 & 1 & 0 \\\\\n",
        "1 & 0 & 0\n",
        "\\end{bmatrix} \\right]\n",
        "$$\n",
        "\n",
        "### Step 3: Conclusion\n",
        "\n",
        "After swapping, the left-hand side is already the identity matrix. Therefore, the right-hand side of the augmented matrix is the inverse of matrix $( C )$.\n",
        "\n",
        "Thus, the inverse of matrix $( C )$ is:\n",
        "\n",
        "$$\n",
        "C^{-1} = \\begin{bmatrix}\n",
        "0 & 0 & 1 \\\\\n",
        "0 & 1 & 0 \\\\\n",
        "1 & 0 & 0\n",
        "\\end{bmatrix}\n",
        "$$\n"
      ]
    }
  ],
  "metadata": {
    "kernelspec": {
      "display_name": "Python 3 (ipykernel)",
      "language": "python",
      "name": "python3"
    },
    "language_info": {
      "codemirror_mode": {
        "name": "ipython",
        "version": 3
      },
      "file_extension": ".py",
      "mimetype": "text/x-python",
      "name": "python",
      "nbconvert_exporter": "python",
      "pygments_lexer": "ipython3",
      "version": "3.12.1"
    }
  },
  "nbformat": 4,
  "nbformat_minor": 4
}
