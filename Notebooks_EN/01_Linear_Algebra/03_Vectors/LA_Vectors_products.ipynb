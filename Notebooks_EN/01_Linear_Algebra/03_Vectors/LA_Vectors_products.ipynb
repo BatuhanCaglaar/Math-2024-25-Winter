{
  "cells": [
    {
      "cell_type": "markdown",
      "metadata": {
        "id": "LBNl6bBkbVPP"
      },
      "source": [
        "# Vectors - Scalar, Vector, Mixed Products\n",
        "\n",
        "## Scalar Product\n",
        "\n",
        "The scalar product (also called the dot product) of two vectors is an operation that returns a scalar value. It is defined as the sum of the products of the corresponding components of two vectors.\n",
        "\n",
        "For two vectors $\\mathbf{a}$ and $\\mathbf{b}$ in the space $\\mathbb{R}^n$, where:\n",
        "\n",
        "$$\n",
        "\\mathbf{a} = [a_1, a_2, \\dots, a_n], \\quad \\mathbf{b} = [b_1, b_2, \\dots, b_n]\n",
        "$$\n",
        "\n",
        "The scalar product is defined as follows:\n",
        "\n",
        "$$\n",
        "\\mathbf{a} \\cdot \\mathbf{b} = a_1b_1 + a_2b_2 + \\dots + a_nb_n = \\sum_{i=1}^{n} a_i b_i\n",
        "$$\n",
        "\n",
        "Example for three-dimensional space ($ \\mathbb{R}^3 $):\n",
        "\n",
        "For vectors $\\mathbf{a} = [a_1, a_2, a_3]$ and $\\mathbf{b} = [b_1, b_2, b_3]$, the scalar product is:\n",
        "\n",
        "$$\n",
        "\\mathbf{a} \\cdot \\mathbf{b} = a_1b_1 + a_2b_2 + a_3b_3\n",
        "$$\n",
        "\n",
        "The scalar product returns a number that measures the \"similarity of direction\" between two vectors. If $\\mathbf{a} \\cdot \\mathbf{b} = 0$, the vectors are perpendicular.\n",
        "\n",
        "Alternatively, the scalar product can be expressed as:\n",
        "\n",
        "$$\n",
        "\\mathbf{a} \\cdot \\mathbf{b} = \\|\\mathbf{a}\\| \\|\\mathbf{b}\\| \\cos(\\theta),\n",
        "$$\n",
        "which is the product of the magnitudes of vectors $\\mathbf{a}$ and $\\mathbf{b}$ multiplied by the cosine of the angle between them.\n",
        "\n",
        "## Vector Product\n",
        "\n",
        "The vector product (also called the cross product) is an operation that returns a new vector perpendicular to the two input vectors. It is defined only in three-dimensional space $ \\mathbb{R}^3 $.\n",
        "\n",
        "For two vectors $ \\mathbf{a} = [a_1, a_2, a_3] $ and $ \\mathbf{b} = [b_1, b_2, b_3] $, the vector product $ \\mathbf{a} \times \\mathbf{b} $ is defined as:\n",
        "\n",
        "$$ \\mathbf{a} \t\\times \\mathbf{b} =\n",
        "\\begin{vmatrix}\n",
        "\\mathbf{i} & \\mathbf{j} & \\mathbf{k} \\\\\n",
        "a_1 & a_2 & a_3 \\\\\n",
        "b_1 & b_2 & b_3\n",
        "\\end{vmatrix}\n",
        "$$\n",
        "\n",
        "Where $ \\mathbf{i}, \\mathbf{j}, \\mathbf{k} $ are unit vectors along the $ x, y, z $ axes. Interestingly, to calculate the vector product and obtain the resulting vector, we use the determinant (a scalar) of the matrix (a second-order tensor) whose rows are the basis vectors (vectors) and the components of the vectors (scalars).\n",
        "\n",
        "The vector product can be expressed in expanded form:\n",
        "\n",
        "$$ \\mathbf{a} \t\\times \\mathbf{b} = \\left( a_2b_3 - a_3b_2 \\right)\\mathbf{i} - \\left( a_1b_3 - a_3b_1 \\right)\\mathbf{j} + \\left( a_1b_2 - a_2b_1 \\right)\\mathbf{k} $$\n",
        "\n",
        "The result of the vector product is a new vector:\n",
        "\n",
        "$$ \\mathbf{c} = \\mathbf{a} \t\\times \\mathbf{b} = [a_2b_3 - a_3b_2, a_3b_1 - a_1b_3, a_1b_2 - a_2b_1] $$\n",
        "\n",
        "The vector product returns a vector $\\mathbf{c}$ perpendicular to the plane defined by $ \\mathbf{a} $ and $ \\mathbf{b} $, and its magnitude is equal to the area of the parallelogram whose sides are defined by the vectors $ \\mathbf{a} $ and $ \\mathbf{b} $\n",
        "$$\n",
        "|\\mathbf{c}| = |\\mathbf{a}| |\\mathbf{b}| \\sin \\theta\n",
        "$$\n",
        "\n",
        "where $\theta$ is the angle between the vectors. The direction of vector $\\vec{c}$ is determined by the right-hand rule.\n",
        "\n",
        "## Mixed Product\n",
        "\n",
        "The mixed product of three vectors $\\mathbf{a}, \\mathbf{b}, \\mathbf{c}$ is defined as:\n",
        "\n",
        "$$\n",
        "\\mathbf{a} \\cdot \\left( \\mathbf{b} \\times \\mathbf{c} \\right)\n",
        "$$\n",
        "\n",
        "This is equivalent to the scalar product $\\mathbf{a} \\times \\left( \\mathbf{b} \\times \\mathbf{c} \\right)$.\n",
        "\n",
        "The mixed product is equal to zero if the vectors $\\mathbf{a}, \\mathbf{b}, \\mathbf{c}$ are collinear or parallel.\n",
        "\n",
        "The volume of the parallelepiped defined by three vectors $\\mathbf{a}, \\mathbf{b}, \\mathbf{c}$ is equal to the absolute value of the mixed product of these vectors.\n",
        "\n",
        "## Implementation"
      ]
    },
    {
      "cell_type": "code",
      "execution_count": null,
      "metadata": {
        "id": "Oyq4NyLvbVPQ"
      },
      "outputs": [],
      "source": [
        "import sympy as sp\n",
        "# Vector definitions\n",
        "a = sp.Matrix([1, 2, 3])\n",
        "b = sp.Matrix([4, 5, 6])\n",
        "c = sp.Matrix([7, 0, 9])\n",
        "d = sp.Matrix([0, 2, 0])"
      ]
    },
    {
      "cell_type": "code",
      "execution_count": null,
      "metadata": {
        "id": "DZAdsxcabVPR"
      },
      "outputs": [],
      "source": [
        "# Display vector c\n",
        "c"
      ]
    },
    {
      "cell_type": "code",
      "execution_count": null,
      "metadata": {
        "id": "lg9AMsLkbVPR"
      },
      "outputs": [],
      "source": [
        "# Adding vectors a and b\n",
        "a + b"
      ]
    },
    {
      "cell_type": "code",
      "execution_count": null,
      "metadata": {
        "id": "mOf2N6TlbVPR"
      },
      "outputs": [],
      "source": [
        "# Dot product of a and b\n",
        "(1*4 + 2*5 + 3*6) == a.dot(b)"
      ]
    },
    {
      "cell_type": "code",
      "execution_count": null,
      "metadata": {
        "id": "NfXI1tHfbVPR"
      },
      "outputs": [],
      "source": [
        "# Cross product of a and c\n",
        "# a = [1, 2, 3]\n",
        "# c = [7, 0, 9]\n",
        "\n",
        "# As an aid, write the vectors as 3x3 matrices\n",
        "# i, j, k\n",
        "# 1, 2, 3\n",
        "# 7, 0, 9\n",
        "\n",
        "# Now\n",
        "comp1 = (2*9 - 3*0)\n",
        "comp2 = -(1*9 - 3*7)\n",
        "comp3 = (1*0 - 2*7)\n",
        "\n",
        "# Result\n",
        "sp.Matrix([comp1, comp2, comp3]) == a.cross(c)"
      ]
    },
    {
      "cell_type": "code",
      "execution_count": null,
      "metadata": {
        "id": "P6g45apIbVPR"
      },
      "outputs": [],
      "source": [
        "# Perpendicularity of vectors\n",
        "# c = [7, 0, 9]\n",
        "# d = [0, 2, 0]\n",
        "\n",
        "# If the dot product of vectors is equal to 0, they are perpendicular\n",
        "dot_product = 7*0 + 0*2 + 9*0\n",
        "dot_product == 0"
      ]
    },
    {
      "cell_type": "markdown",
      "metadata": {
        "id": "Zp4Ko8O6bVPR"
      },
      "source": [
        "## Applications\n",
        "\n",
        "### Calculating the Angle Between Vectors\n",
        "\n",
        "$$\n",
        "\\cos \\theta = \\frac{\\mathbf{a} \\cdot \\mathbf{b}}{\\|\\mathbf{a}\\| \\|\\mathbf{b}\\|}\n",
        "$$\n",
        "\n",
        "### Checking Vector Perpendicularity\n",
        "\n",
        "Vectors $\\mathbf{a}$ and $\\mathbf{b}$ are perpendicular if their dot product is zero:\n",
        "$$\n",
        "\\mathbf{a} \\cdot \\mathbf{b} = 0\n",
        "\\quad \\Leftrightarrow \\quad\n",
        " \\mathbf{a} \\perp \\mathbf{b}\n",
        "$$\n",
        "\n",
        "### Finding Projections of Vectors onto Other Vectors\n",
        "\n",
        "$$\n",
        "\\text{Projection} = \\frac{\\mathbf{a} \\cdot \\mathbf{b}}{\\|\\mathbf{b}\\|}\n",
        "$$\n",
        "\n",
        "### Calculating Work Done by a Force in Physics\n",
        "\n",
        "For a force $\\mathbf{F} = (F_x, F_y, F_z)$ acting along a displacement $\\mathbf{d} = (d_x, d_y, d_z)$, work is calculated as:\n",
        "\n",
        "$$\n",
        "W = \\mathbf{F} \\cdot \\mathbf{d} = |\\mathbf{F}| |\\mathbf{d}| \\cos \\theta = F_x d_x + F_y d_y + F_z d_z\n",
        "$$\n",
        "\n",
        "### Torque\n",
        "\n",
        "In physics: torque is the vector product of the force vector and the arm of the force:\n",
        "\n",
        "$$\n",
        "\\mathbf{M} = \\mathbf{r} \\times \\mathbf{F}\n",
        "$$\n",
        "\n",
        "### Calculating the Area of a Parallelogram\n",
        "\n",
        "The area of a parallelogram spanned by two vectors:\n",
        "\n",
        "$$\n",
        "\\text{Area}_{r} = \\mathbf{a} \\times \\mathbf{b} = |\\mathbf{a}| |\\mathbf{b}| \\sin \\theta\n",
        "$$\n",
        "\n",
        "### Calculating the Area of a Triangle\n",
        "\n",
        "The area of a triangle spanned by two vectors $\\mathbf{a}$ and $\\mathbf{b}$:\n",
        "\n",
        "$$\n",
        "\\text{Area}_{t} = \\frac{1}{2} |\\mathbf{a} \\times \\mathbf{b}|\n",
        "$$\n",
        "\n",
        "### Calculating the Volume of Parallelepipeds and Tetrahedrons\n",
        "\n",
        "The mixed product of vectors is used to calculate the volume of parallelepipeds and tetrahedrons. For three vectors **$\\mathbf{a}$**, **$\\mathbf{b}$**, and **$\\mathbf{c}$**, the volume of the parallelepiped is given by:\n",
        "\n",
        "$$\n",
        "V = |\\mathbf{a} \\cdot (\\mathbf{b} \\times \\mathbf{c})|\n",
        "$$\n",
        "(Note: **| |** here denotes the absolute value, not the magnitude!)\n",
        "\n",
        "### Checking Coplanarity of Three Vectors\n",
        "\n",
        "If the mixed product of three vectors is equal to zero, it means that the vectors are coplanar. Otherwise, they form a tetrahedron.\n",
        "\n",
        "---\n",
        "\n",
        "## Student Exercises\n",
        "\n",
        "A. Perform the addition of vector $[2, 1]$ to vector $[-1, 1]$. Plot both vectors and their sum on a graph.\n",
        "\n",
        "B. Calculate the area of the triangle spanned by vectors $[2, 1]$ and $[-1, 1]$.\n",
        "\n",
        "C. Calculate the volume of the parallelepiped spanned by vectors $[2, 1]$, $[-1, 1]$, and $[1, 2]$.\n",
        "\n",
        "D. Check if vectors $[2, 1]$ and $[-1, 1]$ are perpendicular.\n",
        "\n",
        "E. Calculate the angle in degrees between vectors $[4,2,1]$ and $[1,3,2]$.\n",
        "\n",
        "F. For three-dimensional vectors: $\\mathbf{a}=[a_x, a_y, a_z]$, $\\mathbf{b}=[b_x, b_y, b_z]$, $\\mathbf{c}=[c_x, c_y, c_z]$, prove that the following identity is satisfied:\n",
        "\n",
        "$$\n",
        "\\mathbf{a} \\times (\\mathbf{b} \\times \\mathbf{c}) = (\\mathbf{a} \\cdot \\mathbf{c}) \\mathbf{b} - (\\mathbf{a} \\cdot \\mathbf{b}) \\mathbf{c}.\n",
        "$$"
      ]
    },
    {
      "cell_type": "code",
      "source": [
        "import matplotlib.pyplot as plt  #Exercise A\n",
        "import numpy as np\n",
        "\n",
        "\n",
        "a = np.array([2, 1])\n",
        "b = np.array([-1, 1])\n",
        "sum_ab = a + b\n",
        "\n",
        "\n",
        "plt.figure(figsize=(8, 8))\n",
        "plt.axhline(0, color='grey', lw=0.5)\n",
        "plt.axvline(0, color='grey', lw=0.5)\n",
        "plt.grid(True, which='both')\n",
        "\n",
        "\n",
        "plt.quiver(0, 0, a[0], a[1], angles='xy', scale_units='xy', scale=1, color='blue', label=\"Vector [2, 1]\")\n",
        "\n",
        "plt.quiver(0, 0, b[0], b[1], angles='xy', scale_units='xy', scale=1, color='green', label=\"Vector [-1, 1]\")\n",
        "\n",
        "plt.quiver(0, 0, sum_ab[0], sum_ab[1], angles='xy', scale_units='xy', scale=1, color='red', label=\"Sum [1, 2]\")\n",
        "\n",
        "plt.xlim(-2, 3)\n",
        "plt.ylim(-1, 3)\n",
        "\n",
        "\n",
        "plt.xlabel('X')\n",
        "plt.ylabel('Y')\n",
        "plt.title('Vector Addition of [2, 1] and [-1, 1]')\n",
        "plt.legend()\n",
        "\n",
        "plt.show()"
      ],
      "metadata": {
        "colab": {
          "base_uri": "https://localhost:8080/",
          "height": 718
        },
        "id": "fhWVoeSldD1B",
        "outputId": "aa2e944c-c852-498d-fd58-bf55673607b3"
      },
      "execution_count": 4,
      "outputs": [
        {
          "output_type": "display_data",
          "data": {
            "text/plain": [
              "<Figure size 800x800 with 1 Axes>"
            ],
            "image/png": "[encoded data removed]"
          },
          "metadata": {}
        }
      ]
    },
    {
      "cell_type": "markdown",
      "source": [
        "### Solution in Detail\n",
        "\n",
        "To perform the addition of the vectors $[2, 1]$ and $[-1, 1]$, I go through each step as follows.\n",
        "\n",
        "### Step 1: Add the Vectors\n",
        "When adding vectors, I simply add their corresponding components.\n",
        "\n",
        "Given:\n",
        "$$\n",
        "\\mathbf{a} = [2, 1]\n",
        "$$\n",
        "$$\n",
        "\\mathbf{b} = [-1, 1]\n",
        "$$\n",
        "\n",
        "The sum of the vectors $\\mathbf{a} + \\mathbf{b}$ is:\n",
        "$$\n",
        "[2 + (-1), 1 + 1] = [1, 2]\n",
        "$$\n",
        "\n",
        "So, the resulting vector from adding $\\mathbf{a}$ and $\\mathbf{b}$ is:\n",
        "$$\n",
        "\\mathbf{a} + \\mathbf{b} = [1, 2]\n",
        "$$\n",
        "\n",
        "### Step 2: Explanation\n",
        "In vector addition, each component of one vector is added to the corresponding component of the other vector. Here:\n",
        "- The $x$-components $2$ and $-1$ are added to get $1$.\n",
        "- The $y$-components $1$ and $1$ are added to get $2$.\n",
        "\n",
        "### Step 3: Plot the Vectors\n",
        "\n",
        "- **Vector $\\mathbf{a} = [2, 1]$** starts from the origin $(0, 0)$ and ends at point $(2, 1)$.\n",
        "- **Vector $\\mathbf{b} = [-1, 1]$** also starts from the origin and ends at point $(-1, 1)$.\n",
        "- **The sum $\\mathbf{a} + \\mathbf{b} = [1, 2]$** starts from the origin and ends at point $(1, 2)$.\n",
        "\n",
        "On the graph, I plot each vector with different colors for clarity.\n",
        "\n"
      ],
      "metadata": {
        "id": "TP88zNBRftzg"
      }
    },
    {
      "cell_type": "code",
      "source": [
        "import sympy as sp #Exercise B\n",
        "a = sp.Matrix([2, 1])\n",
        "b = sp.Matrix([-1, 1])"
      ],
      "metadata": {
        "id": "A9rL8WCJgbPE"
      },
      "execution_count": 5,
      "outputs": []
    },
    {
      "cell_type": "code",
      "source": [
        "cross_product = a[0] * b[1] - a[1] * b[0]\n",
        "cross_product"
      ],
      "metadata": {
        "colab": {
          "base_uri": "https://localhost:8080/",
          "height": 37
        },
        "id": "UgnLowezgpVU",
        "outputId": "e0e8d387-1771-49c1-a5a4-021c8194be52"
      },
      "execution_count": 6,
      "outputs": [
        {
          "output_type": "execute_result",
          "data": {
            "text/plain": [
              "3"
            ],
            "text/latex": "$\\displaystyle 3$"
          },
          "metadata": {},
          "execution_count": 6
        }
      ]
    },
    {
      "cell_type": "code",
      "source": [
        "area = sp.Abs(cross_product) / 2\n",
        "area"
      ],
      "metadata": {
        "colab": {
          "base_uri": "https://localhost:8080/",
          "height": 51
        },
        "id": "g2kSkEt5gtx3",
        "outputId": "1b832d0f-1754-4091-e1ac-0a3034c23edc"
      },
      "execution_count": 7,
      "outputs": [
        {
          "output_type": "execute_result",
          "data": {
            "text/plain": [
              "3/2"
            ],
            "text/latex": "$\\displaystyle \\frac{3}{2}$"
          },
          "metadata": {},
          "execution_count": 7
        }
      ]
    },
    {
      "cell_type": "code",
      "source": [
        "cross_product, area"
      ],
      "metadata": {
        "colab": {
          "base_uri": "https://localhost:8080/"
        },
        "id": "S2AtUWY2gv1p",
        "outputId": "52669ad5-ec33-45b9-93bc-8622e8fa7f72"
      },
      "execution_count": 10,
      "outputs": [
        {
          "output_type": "execute_result",
          "data": {
            "text/plain": [
              "(3, 3/2)"
            ]
          },
          "metadata": {},
          "execution_count": 10
        }
      ]
    },
    {
      "cell_type": "markdown",
      "source": [
        "### Solution in Detail\n",
        "\n",
        "To calculate the area of the triangle spanned by the vectors $[2, 1]$ and $[-1, 1]$, I proceed as follows:\n",
        "\n",
        "### Step 1: Define the Given Vectors\n",
        "\n",
        "The vectors we are working with are:\n",
        "$$\n",
        "\\mathbf{a} = [2, 1]\n",
        "$$\n",
        "$$\n",
        "\\mathbf{b} = [-1, 1]\n",
        "$$\n",
        "\n",
        "### Step 2: Calculate the Cross Product (Determinant)\n",
        "\n",
        "The area of the triangle formed by two vectors in a 2D space can be found using the magnitude of their cross product. For two-dimensional vectors $\\mathbf{a} = [a_x, a_y]$ and $\\mathbf{b} = [b_x, b_y]$, the cross product is calculated as:\n",
        "$$\n",
        "|\\mathbf{a} \\times \\mathbf{b}| = |a_x \\cdot b_y - a_y \\cdot b_x|\n",
        "$$\n",
        "\n",
        "Substituting the values of our vectors:\n",
        "- $a_x = 2$, $a_y = 1$\n",
        "- $b_x = -1$, $b_y = 1$\n",
        "\n",
        "I plug these values into the formula:\n",
        "$$\n",
        "|\\mathbf{a} \\times \\mathbf{b}| = |(2 \\cdot 1) - (1 \\cdot -1)|\n",
        "$$\n",
        "$$\n",
        "|\\mathbf{a} \\times \\mathbf{b}| = |2 + 1| = |3| = 3\n",
        "$$\n",
        "\n",
        "### Step 3: Calculate the Area of the Triangle\n",
        "\n",
        "The area of the triangle is equal to half of the magnitude of the cross product of the vectors:\n",
        "$$\n",
        "\\text{Area} = \\frac{1}{2} |\\mathbf{a} \\times \\mathbf{b}|\n",
        "$$\n",
        "Thus, in this case:\n",
        "$$\n",
        "\\text{Area} = \\frac{1}{2} \\cdot 3 = 1.5\n",
        "$$\n",
        "\n",
        "### Conclusion\n",
        "\n",
        "The area of the triangle formed by the vectors $\\mathbf{a} = [2, 1]$ and $\\mathbf{b} = [-1, 1]$ is $1.5$ square units.\n"
      ],
      "metadata": {
        "id": "Y2RrkIGHgbbb"
      }
    },
    {
      "cell_type": "code",
      "source": [
        "import sympy as sp #Exercise C\n",
        "\n",
        "a = sp.Matrix([2, 1, 0])\n",
        "b = sp.Matrix([-1, 1, 0])\n",
        "c = sp.Matrix([1, 2, 0])"
      ],
      "metadata": {
        "id": "rLZ4jhupmvT9"
      },
      "execution_count": 11,
      "outputs": []
    },
    {
      "cell_type": "code",
      "source": [
        "cross_product = b.cross(c)\n",
        "cross_product"
      ],
      "metadata": {
        "colab": {
          "base_uri": "https://localhost:8080/",
          "height": 78
        },
        "id": "ZqOWTg6hm7pO",
        "outputId": "094def12-5cec-40ab-a7e0-16a7fec49edc"
      },
      "execution_count": 12,
      "outputs": [
        {
          "output_type": "execute_result",
          "data": {
            "text/plain": [
              "Matrix([\n",
              "[ 0],\n",
              "[ 0],\n",
              "[-3]])"
            ],
            "text/latex": "$\\displaystyle \\left[\\begin{matrix}0\\\\0\\\\-3\\end{matrix}\\right]$"
          },
          "metadata": {},
          "execution_count": 12
        }
      ]
    },
    {
      "cell_type": "code",
      "source": [
        "volume = abs(a.dot(cross_product))\n",
        "volume"
      ],
      "metadata": {
        "colab": {
          "base_uri": "https://localhost:8080/",
          "height": 37
        },
        "id": "P9PBNehAm_Hj",
        "outputId": "3c30581e-c733-4892-eb4d-7dbc3e3475dd"
      },
      "execution_count": 13,
      "outputs": [
        {
          "output_type": "execute_result",
          "data": {
            "text/plain": [
              "0"
            ],
            "text/latex": "$\\displaystyle 0$"
          },
          "metadata": {},
          "execution_count": 13
        }
      ]
    },
    {
      "cell_type": "markdown",
      "source": [
        "### Problem Overview\n",
        "\n",
        "I am asked to calculate the volume of the parallelepiped formed by three vectors:\n",
        "\n",
        "- $\\mathbf{a} = [2, 1]$\n",
        "- $\\mathbf{b} = [-1, 1]$\n",
        "- $\\mathbf{c} = [1, 2]$\n",
        "\n",
        "### Step 1: Understanding the Volume Formula\n",
        "\n",
        "The volume of a parallelepiped formed by three vectors $\\mathbf{a}$, $\\mathbf{b}$, and $\\mathbf{c}$ is given by the scalar triple product:\n",
        "\n",
        "$$\n",
        "V = |\\mathbf{a} \\cdot (\\mathbf{b} \\times \\mathbf{c})|\n",
        "$$\n",
        "\n",
        "Where:\n",
        "- $\\mathbf{a} \\cdot (\\mathbf{b} \\times \\mathbf{c})$ represents the scalar triple product, which involves the dot product of vector $\\mathbf{a}$ with the cross product of vectors $\\mathbf{b}$ and $\\mathbf{c}$.\n",
        "- The absolute value of the scalar triple product gives the volume.\n",
        "\n",
        "### Step 2: Compute the Cross Product $\\mathbf{b} \\times \\mathbf{c}$\n",
        "\n",
        "For 3D vectors, the cross product of vectors $\\mathbf{b} = [b_x, b_y, b_z]$ and $\\mathbf{c} = [c_x, c_y, c_z]$ is given by the determinant of a matrix:\n",
        "\n",
        "$$\n",
        "\\mathbf{b} \\times \\mathbf{c} = \\begin{vmatrix} \\mathbf{i} & \\mathbf{j} & \\mathbf{k} \\\\ b_x & b_y & b_z \\\\ c_x & c_y & c_z \\end{vmatrix}\n",
        "$$\n",
        "\n",
        "Since $\\mathbf{b}$ and $\\mathbf{c}$ are in 2D, I treat them as 3D vectors by adding a $0$ for the $z$-coordinate (as there is no $z$ component). Thus:\n",
        "$$\n",
        "\\mathbf{b} = [-1, 1, 0], \\quad \\mathbf{c} = [1, 2, 0]\n",
        "$$\n",
        "\n",
        "Now, I compute the cross product:\n",
        "$$\n",
        "\\mathbf{b} \\times \\mathbf{c} = \\begin{vmatrix} \\mathbf{i} & \\mathbf{j} & \\mathbf{k} \\\\ -1 & 1 & 0 \\\\ 1 & 2 & 0 \\end{vmatrix}\n",
        "$$\n",
        "\n",
        "This simplifies to:\n",
        "$$\n",
        "\\mathbf{b} \\times \\mathbf{c} = \\mathbf{k} \\left( (-1)(2) - (1)(1) \\right) = \\mathbf{k} \\cdot (-2 - 1) = \\mathbf{k} \\cdot (-3)\n",
        "$$\n",
        "\n",
        "Thus:\n",
        "$$\n",
        "\\mathbf{b} \\times \\mathbf{c} = [0, 0, -3]\n",
        "$$\n",
        "\n",
        "### Step 3: Compute the Dot Product $\\mathbf{a} \\cdot (\\mathbf{b} \\times \\mathbf{c})$\n",
        "\n",
        "Next, I calculate the dot product of $\\mathbf{a} = [2, 1]$ with the cross product $\\mathbf{b} \\times \\mathbf{c} = [0, 0, -3]$. Since $\\mathbf{a}$ is a 2D vector, I treat it as a 3D vector by adding a $0$ for the $z$-coordinate:\n",
        "$$\n",
        "\\mathbf{a} = [2, 1, 0]\n",
        "$$\n",
        "\n",
        "Now, I compute the dot product:\n",
        "$$\n",
        "\\mathbf{a} \\cdot (\\mathbf{b} \\times \\mathbf{c}) = (2)(0) + (1)(0) + (0)(-3) = 0\n",
        "$$\n",
        "\n",
        "### Step 4: Conclusion\n",
        "\n",
        "Since the dot product is $0$, this means the three vectors are **coplanar**, and therefore, the volume of the parallelepiped is **zero**. This indicates that the three vectors lie on the same plane, and hence no 3D volume is formed.\n",
        "\n",
        "### Final Answer:\n",
        "$$\n",
        "V = 0\n",
        "$$\n",
        "\n",
        "The volume of the parallelepiped is $0$.\n"
      ],
      "metadata": {
        "id": "B1R6Dw2Smvgs"
      }
    },
    {
      "cell_type": "code",
      "source": [
        "import sympy as sp #Exercise D\n",
        "\n",
        "a = sp.Matrix([2, 1])\n",
        "b = sp.Matrix([-1, 1])"
      ],
      "metadata": {
        "id": "Hw7JWWMYnjEQ"
      },
      "execution_count": 16,
      "outputs": []
    },
    {
      "cell_type": "code",
      "source": [
        "dot_product = a.dot(b)\n",
        "dot_product"
      ],
      "metadata": {
        "colab": {
          "base_uri": "https://localhost:8080/",
          "height": 37
        },
        "id": "jq2LIEDvnkAm",
        "outputId": "65eb517d-b334-44fd-9893-1bc8b19e13d7"
      },
      "execution_count": 15,
      "outputs": [
        {
          "output_type": "execute_result",
          "data": {
            "text/plain": [
              "-1"
            ],
            "text/latex": "$\\displaystyle -1$"
          },
          "metadata": {},
          "execution_count": 15
        }
      ]
    },
    {
      "cell_type": "markdown",
      "source": [
        "### Problem Overview\n",
        "\n",
        "I am tasked with checking if the vectors:\n",
        "\n",
        "- $\\mathbf{a} = [2, 1]$\n",
        "- $\\mathbf{b} = [-1, 1]$\n",
        "\n",
        "are perpendicular.\n",
        "\n",
        "### Step 1: Understanding Perpendicular Vectors\n",
        "\n",
        "Two vectors are perpendicular (or orthogonal) if and only if their **dot product** is equal to zero. The dot product of two 2D vectors $\\mathbf{a} = [a_1, a_2]$ and $\\mathbf{b} = [b_1, b_2]$ is calculated as:\n",
        "\n",
        "$$\n",
        "\\mathbf{a} \\cdot \\mathbf{b} = a_1 \\cdot b_1 + a_2 \\cdot b_2\n",
        "$$\n",
        "\n",
        "If the result of the dot product is zero, the vectors are perpendicular.\n",
        "\n",
        "### Step 2: Calculate the Dot Product\n",
        "\n",
        "The dot product of the vectors $\\mathbf{a} = [2, 1]$ and $\\mathbf{b} = [-1, 1]$ is calculated as follows:\n",
        "\n",
        "$$\n",
        "\\mathbf{a} \\cdot \\mathbf{b} = 2 \\cdot (-1) + 1 \\cdot 1\n",
        "$$\n",
        "\n",
        "This simplifies to:\n",
        "\n",
        "$$\n",
        "\\mathbf{a} \\cdot \\mathbf{b} = -2 + 1 = -1\n",
        "$$\n",
        "\n",
        "### Step 3: Conclusion\n",
        "\n",
        "Since the dot product is $-1$, which is not equal to zero, the vectors **are not perpendicular**.\n",
        "\n",
        "### Final Answer:\n",
        "The vectors $\\mathbf{a}$ and $\\mathbf{b}$ are not perpendicular because their dot product is $-1$.\n"
      ],
      "metadata": {
        "id": "Qr96fs10n1N2"
      }
    },
    {
      "cell_type": "code",
      "source": [
        "import numpy as np\n",
        "\n",
        "a = np.array([4, 2, 1])\n",
        "b = np.array([1, 3, 2])"
      ],
      "metadata": {
        "id": "NEnJdyYQ8REr"
      },
      "execution_count": 34,
      "outputs": []
    },
    {
      "cell_type": "code",
      "source": [
        "dot_product = np.dot(a, b) #4*1+2*3+1*2= 12\n",
        "dot_product"
      ],
      "metadata": {
        "colab": {
          "base_uri": "https://localhost:8080/"
        },
        "id": "3mj-Cy4O8SS3",
        "outputId": "a0fc0e74-9801-4762-9d27-ed1b7c0e4d02"
      },
      "execution_count": 35,
      "outputs": [
        {
          "output_type": "execute_result",
          "data": {
            "text/plain": [
              "12"
            ]
          },
          "metadata": {},
          "execution_count": 35
        }
      ]
    },
    {
      "cell_type": "code",
      "source": [
        "magnitude_a = np.linalg.norm(a) #sqrt(4^2+2^2+1^2) = sqrt(21)\n",
        "magnitude_b = np.linalg.norm(b) #sqrt(1^2+3^2+2^2) = sqrt(14)\n",
        "magnitude_a , magnitude_b"
      ],
      "metadata": {
        "colab": {
          "base_uri": "https://localhost:8080/"
        },
        "id": "M7iYWzAp8WZg",
        "outputId": "c4c26ae7-f0f6-4f7c-a3f7-328b42f0e207"
      },
      "execution_count": 36,
      "outputs": [
        {
          "output_type": "execute_result",
          "data": {
            "text/plain": [
              "(4.58257569495584, 3.7416573867739413)"
            ]
          },
          "metadata": {},
          "execution_count": 36
        }
      ]
    },
    {
      "cell_type": "code",
      "source": [
        "cos_theta = dot_product / (magnitude_a * magnitude_b) #12/sqrt(21)*sqrt(14)\n",
        "cos_theta"
      ],
      "metadata": {
        "colab": {
          "base_uri": "https://localhost:8080/"
        },
        "id": "CQwoDqtw8a0X",
        "outputId": "a5ce495c-2b1e-4ef4-9876-cdb505109709"
      },
      "execution_count": 38,
      "outputs": [
        {
          "output_type": "execute_result",
          "data": {
            "text/plain": [
              "0.6998542122237653"
            ]
          },
          "metadata": {},
          "execution_count": 38
        }
      ]
    },
    {
      "cell_type": "code",
      "source": [
        "theta_rad = np.arccos(cos_theta) #I calculated the inverse cosine, giving the angle in radians.\n",
        "theta_rad"
      ],
      "metadata": {
        "colab": {
          "base_uri": "https://localhost:8080/"
        },
        "id": "OiYO1hWK8eGV",
        "outputId": "15eaf338-8c86-4ca7-c539-532f212bc82e"
      },
      "execution_count": 39,
      "outputs": [
        {
          "output_type": "execute_result",
          "data": {
            "text/plain": [
              "0.7956029534845351"
            ]
          },
          "metadata": {},
          "execution_count": 39
        }
      ]
    },
    {
      "cell_type": "code",
      "source": [
        "theta_deg = np.degrees(theta_rad) #I converted radians to degrees\n",
        "theta_deg"
      ],
      "metadata": {
        "colab": {
          "base_uri": "https://localhost:8080/"
        },
        "id": "GIsMYR8m8hqN",
        "outputId": "300deab2-7367-4779-f70d-d72cc520b44a"
      },
      "execution_count": 43,
      "outputs": [
        {
          "output_type": "execute_result",
          "data": {
            "text/plain": [
              "45.58469140280702"
            ]
          },
          "metadata": {},
          "execution_count": 43
        }
      ]
    },
    {
      "cell_type": "markdown",
      "source": [
        "### Problem: Calculate the angle in degrees between vectors $[4, 2, 1]$ and $[1, 3, 2]$.\n",
        "\n",
        "To find the angle between two vectors, we use the formula for the cosine of the angle:\n",
        "\n",
        "$$\n",
        "\\cos(\\theta) = \\frac{\\mathbf{a} \\cdot \\mathbf{b}}{|\\mathbf{a}| |\\mathbf{b}|}\n",
        "$$\n",
        "\n",
        "Where:\n",
        "- $\\mathbf{a} = [4, 2, 1]$\n",
        "- $\\mathbf{b} = [1, 3, 2]$\n",
        "- $\\mathbf{a} \\cdot \\mathbf{b}$ is the dot product of the vectors\n",
        "- $|\\mathbf{a}|$ and $|\\mathbf{b}|$ are the magnitudes (norms) of the vectors\n",
        "\n",
        "#### Step 1: Calculate the Dot Product\n",
        "\n",
        "The dot product of vectors $\\mathbf{a}$ and $\\mathbf{b}$ is calculated as:\n",
        "\n",
        "$$\n",
        "\\mathbf{a} \\cdot \\mathbf{b} = a_1 \\cdot b_1 + a_2 \\cdot b_2 + a_3 \\cdot b_3\n",
        "$$\n",
        "\n",
        "For $\\mathbf{a} = [4, 2, 1]$ and $\\mathbf{b} = [1, 3, 2]$, we compute:\n",
        "\n",
        "$$\n",
        "\\mathbf{a} \\cdot \\mathbf{b} = 4 \\cdot 1 + 2 \\cdot 3 + 1 \\cdot 2 = 4 + 6 + 2 = 12\n",
        "$$\n",
        "\n",
        "#### Step 2: Calculate the Magnitudes of the Vectors\n",
        "\n",
        "The magnitude of a vector $\\mathbf{a} = [a_1, a_2, a_3]$ is given by:\n",
        "\n",
        "$$\n",
        "|\\mathbf{a}| = \\sqrt{a_1^2 + a_2^2 + a_3^2}\n",
        "$$\n",
        "\n",
        "For vector $\\mathbf{a} = [4, 2, 1]$, the magnitude is:\n",
        "\n",
        "$$\n",
        "|\\mathbf{a}| = \\sqrt{4^2 + 2^2 + 1^2} = \\sqrt{16 + 4 + 1} = \\sqrt{21}\n",
        "$$\n",
        "\n",
        "Similarly, for vector $\\mathbf{b} = [1, 3, 2]$, the magnitude is:\n",
        "\n",
        "$$\n",
        "|\\mathbf{b}| = \\sqrt{1^2 + 3^2 + 2^2} = \\sqrt{1 + 9 + 4} = \\sqrt{14}\n",
        "$$\n",
        "\n",
        "#### Step 3: Calculate $\\cos(\\theta)$\n",
        "\n",
        "Now, we can calculate $\\cos(\\theta)$ using the formula:\n",
        "\n",
        "$$\n",
        "\\cos(\\theta) = \\frac{\\mathbf{a} \\cdot \\mathbf{b}}{|\\mathbf{a}| |\\mathbf{b}|}\n",
        "$$\n",
        "\n",
        "Substitute the values:\n",
        "\n",
        "$$\n",
        "\\cos(\\theta) = \\frac{12}{\\sqrt{21} \\times \\sqrt{14}} = \\frac{12}{\\sqrt{294}}\n",
        "$$\n",
        "\n",
        "#### Step 4: Calculate the Angle in Radians\n",
        "\n",
        "Next, we compute the angle $\\theta$ by taking the inverse cosine (arccos) of $\\cos(\\theta)$:\n",
        "\n",
        "$$\n",
        "\\theta = \\cos^{-1}\\left(\\frac{12}{\\sqrt{294}}\\right)\n",
        "$$\n",
        "\n",
        "This will give us the angle in radians.\n",
        "\n",
        "#### Step 5: Convert Radians to Degrees\n",
        "\n",
        "Finally, we convert the angle from radians to degrees using the formula:\n",
        "\n",
        "$$\n",
        "\\theta_{\\text{degrees}} = \\frac{180}{\\pi} \\times \\theta_{\\text{radians}}\n",
        "$$\n"
      ],
      "metadata": {
        "id": "fW8-px-wBu7S"
      }
    },
    {
      "cell_type": "code",
      "source": [
        "import numpy as np #Exercise E\n",
        "\n",
        "a = np.array([1, 2, 3])\n",
        "b = np.array([4, 5, 6])\n",
        "c = np.array([7, 8, 9])"
      ],
      "metadata": {
        "id": "x1tmL_uLDuEb"
      },
      "execution_count": 44,
      "outputs": []
    },
    {
      "cell_type": "code",
      "source": [
        "b_cross_c = np.cross(b, c)\n",
        "b_cross_c"
      ],
      "metadata": {
        "colab": {
          "base_uri": "https://localhost:8080/"
        },
        "id": "nrowYAe3D2fC",
        "outputId": "dd6314e2-fae2-4a08-80fe-c68fc787be12"
      },
      "execution_count": 45,
      "outputs": [
        {
          "output_type": "execute_result",
          "data": {
            "text/plain": [
              "array([-3,  6, -3])"
            ]
          },
          "metadata": {},
          "execution_count": 45
        }
      ]
    },
    {
      "cell_type": "code",
      "source": [
        "left_side = np.cross(a, b_cross_c)\n",
        "left_side"
      ],
      "metadata": {
        "colab": {
          "base_uri": "https://localhost:8080/"
        },
        "id": "4MSr4RFWD8Zr",
        "outputId": "af7ccc8d-0e36-49f9-a399-dbc77064097a"
      },
      "execution_count": 46,
      "outputs": [
        {
          "output_type": "execute_result",
          "data": {
            "text/plain": [
              "array([-24,  -6,  12])"
            ]
          },
          "metadata": {},
          "execution_count": 46
        }
      ]
    },
    {
      "cell_type": "code",
      "source": [
        "dot_a_c = np.dot(a, c)\n",
        "dot_a_c"
      ],
      "metadata": {
        "colab": {
          "base_uri": "https://localhost:8080/"
        },
        "id": "aITP5TJ0D_ZS",
        "outputId": "270dc21d-10fa-4110-e2fc-8c61f50cc6f1"
      },
      "execution_count": 47,
      "outputs": [
        {
          "output_type": "execute_result",
          "data": {
            "text/plain": [
              "50"
            ]
          },
          "metadata": {},
          "execution_count": 47
        }
      ]
    },
    {
      "cell_type": "code",
      "source": [
        "dot_a_b = np.dot(a, b)\n",
        "dot_a_b"
      ],
      "metadata": {
        "colab": {
          "base_uri": "https://localhost:8080/"
        },
        "id": "qfD8GgDqEBBD",
        "outputId": "36d7d1c9-fce7-4c18-dd44-2f313be92c8c"
      },
      "execution_count": 48,
      "outputs": [
        {
          "output_type": "execute_result",
          "data": {
            "text/plain": [
              "32"
            ]
          },
          "metadata": {},
          "execution_count": 48
        }
      ]
    },
    {
      "cell_type": "code",
      "source": [
        "right_side = dot_a_c * b - dot_a_b * c\n",
        "right_side"
      ],
      "metadata": {
        "colab": {
          "base_uri": "https://localhost:8080/"
        },
        "id": "sTPKWHvUEEHl",
        "outputId": "ff285dce-534b-448a-d1f7-8732e119cd88"
      },
      "execution_count": 49,
      "outputs": [
        {
          "output_type": "execute_result",
          "data": {
            "text/plain": [
              "array([-24,  -6,  12])"
            ]
          },
          "metadata": {},
          "execution_count": 49
        }
      ]
    },
    {
      "cell_type": "code",
      "source": [
        "left_side, right_side, np.allclose(left_side, right_side)"
      ],
      "metadata": {
        "colab": {
          "base_uri": "https://localhost:8080/"
        },
        "id": "CWzde6g4EKcj",
        "outputId": "a033944a-0e43-4858-fa6c-1106eaf1ac75"
      },
      "execution_count": 50,
      "outputs": [
        {
          "output_type": "execute_result",
          "data": {
            "text/plain": [
              "(array([-24,  -6,  12]), array([-24,  -6,  12]), True)"
            ]
          },
          "metadata": {},
          "execution_count": 50
        }
      ]
    },
    {
      "cell_type": "markdown",
      "source": [
        "### Problem: Prove the identity\n",
        "\n",
        "We are given three vectors in 3-dimensional space:\n",
        "\n",
        "$$\n",
        "\\mathbf{a} = [4, 2, 1], \\quad \\mathbf{b} = [1, 3, 2], \\quad \\mathbf{c} = [2, 1, 3]\n",
        "$$\n",
        "\n",
        "We need to prove the identity:\n",
        "\n",
        "$$\n",
        "\\mathbf{a} \\times (\\mathbf{b} \\times \\mathbf{c}) = (\\mathbf{a} \\cdot \\mathbf{c}) \\mathbf{b} - (\\mathbf{a} \\cdot \\mathbf{b}) \\mathbf{c}\n",
        "$$\n",
        "\n",
        "### Step 1: Calculate the cross product $\\mathbf{b} \\times \\mathbf{c}$\n",
        "\n",
        "First, I calculated the cross product of vectors $\\mathbf{b}$ and $\\mathbf{c}$ using the determinant formula:\n",
        "\n",
        "$$\n",
        "\\mathbf{b} \\times \\mathbf{c} =\n",
        "\\begin{vmatrix}\n",
        "\\mathbf{i} & \\mathbf{j} & \\mathbf{k} \\\\\n",
        "1 & 3 & 2 \\\\\n",
        "2 & 1 & 3\n",
        "\\end{vmatrix}\n",
        "$$\n",
        "\n",
        "Expanding the determinant, I got:\n",
        "\n",
        "$$\n",
        "\\mathbf{b} \\times \\mathbf{c} = \\left( (3 \\times 3 - 2 \\times 1) \\right) \\mathbf{i} - \\left( (1 \\times 3 - 2 \\times 2) \\right) \\mathbf{j} + \\left( (1 \\times 1 - 3 \\times 2) \\right) \\mathbf{k}\n",
        "$$\n",
        "\n",
        "Simplifying the terms:\n",
        "\n",
        "$$\n",
        "\\mathbf{b} \\times \\mathbf{c} = \\left( 9 - 2 \\right) \\mathbf{i} - \\left( 3 - 4 \\right) \\mathbf{j} + \\left( 1 - 6 \\right) \\mathbf{k}\n",
        "$$\n",
        "\n",
        "$$\n",
        "\\mathbf{b} \\times \\mathbf{c} = 7 \\mathbf{i} + \\mathbf{j} - 5 \\mathbf{k}\n",
        "$$\n",
        "\n",
        "Thus, the cross product of $\\mathbf{b}$ and $\\mathbf{c}$ is:\n",
        "\n",
        "$$\n",
        "\\mathbf{b} \\times \\mathbf{c} = [7, 1, -5]\n",
        "$$\n",
        "\n",
        "### Step 2: Calculate $\\mathbf{a} \\times (\\mathbf{b} \\times \\mathbf{c})$\n",
        "\n",
        "Next, I calculated the cross product of $\\mathbf{a}$ and the result from the previous step, $\\mathbf{b} \\times \\mathbf{c}$. This gave me:\n",
        "\n",
        "$$\n",
        "\\mathbf{a} \\times (\\mathbf{b} \\times \\mathbf{c}) =\n",
        "\\begin{vmatrix}\n",
        "\\mathbf{i} & \\mathbf{j} & \\mathbf{k} \\\\\n",
        "4 & 2 & 1 \\\\\n",
        "7 & 1 & -5\n",
        "\\end{vmatrix}\n",
        "$$\n",
        "\n",
        "Expanding the determinant:\n",
        "\n",
        "$$\n",
        "\\mathbf{a} \\times (\\mathbf{b} \\times \\mathbf{c}) = \\left( (2 \\times -5 - 1 \\times 1) \\right) \\mathbf{i} - \\left( (4 \\times -5 - 1 \\times 7) \\right) \\mathbf{j} + \\left( (4 \\times 1 - 2 \\times 7) \\right) \\mathbf{k}\n",
        "$$\n",
        "\n",
        "Simplifying the terms:\n",
        "\n",
        "$$\n",
        "\\mathbf{a} \\times (\\mathbf{b} \\times \\mathbf{c}) = \\left( -10 - 1 \\right) \\mathbf{i} - \\left( -20 - 7 \\right) \\mathbf{j} + \\left( 4 - 14 \\right) \\mathbf{k}\n",
        "$$\n",
        "\n",
        "$$\n",
        "\\mathbf{a} \\times (\\mathbf{b} \\times \\mathbf{c}) = -11 \\mathbf{i} + 27 \\mathbf{j} - 10 \\mathbf{k}\n",
        "$$\n",
        "\n",
        "Thus, the cross product $\\mathbf{a} \\times (\\mathbf{b} \\times \\mathbf{c})$ is:\n",
        "\n",
        "$$\n",
        "\\mathbf{a} \\times (\\mathbf{b} \\times \\mathbf{c}) = [-11, 27, -10]\n",
        "$$\n",
        "\n",
        "### Step 3: Calculate the right-hand side of the identity\n",
        "\n",
        "Then, I computed the right-hand side of the identity:\n",
        "\n",
        "$$\n",
        "(\\mathbf{a} \\cdot \\mathbf{c}) \\mathbf{b} - (\\mathbf{a} \\cdot \\mathbf{b}) \\mathbf{c}\n",
        "$$\n",
        "\n",
        "First, I calculated the dot products:\n",
        "\n",
        "$$\n",
        "\\mathbf{a} \\cdot \\mathbf{c} = (4 \\times 2 + 2 \\times 1 + 1 \\times 3) = 8 + 2 + 3 = 13\n",
        "$$\n",
        "\n",
        "$$\n",
        "\\mathbf{a} \\cdot \\mathbf{b} = (4 \\times 1 + 2 \\times 3 + 1 \\times 2) = 4 + 6 + 2 = 12\n",
        "$$\n",
        "\n",
        "Next, I multiplied the dot products by the vectors $\\mathbf{b}$ and $\\mathbf{c}$:\n",
        "\n",
        "$$\n",
        "(\\mathbf{a} \\cdot \\mathbf{c}) \\mathbf{b} = 13 \\times [1, 3, 2] = [13, 39, 26]\n",
        "$$\n",
        "\n",
        "$$\n",
        "(\\mathbf{a} \\cdot \\mathbf{b}) \\mathbf{c} = 12 \\times [2, 1, 3] = [24, 12, 36]\n",
        "$$\n",
        "\n",
        "Now, I subtracted the second result from the first:\n",
        "\n",
        "$$\n",
        "(\\mathbf{a} \\cdot \\mathbf{c}) \\mathbf{b} - (\\mathbf{a} \\cdot \\mathbf{b}) \\mathbf{c} = [13, 39, 26] - [24, 12, 36]\n",
        "$$\n",
        "\n",
        "This gave me:\n",
        "\n",
        "$$\n",
        "(\\mathbf{a} \\cdot \\mathbf{c}) \\mathbf{b} - (\\mathbf{a} \\cdot \\mathbf{b}) \\mathbf{c} = [-11, 27, -10]\n",
        "$$\n",
        "\n",
        "### Step 4: Compare both sides\n",
        "\n",
        "Finally, I compared both sides of the identity:\n",
        "\n",
        "$$\n",
        "\\mathbf{a} \\times (\\mathbf{b} \\times \\mathbf{c}) = (\\mathbf{a} \\cdot \\mathbf{c}) \\mathbf{b} - (\\mathbf{a} \\cdot \\mathbf{b}) \\mathbf{c}\n",
        "$$\n",
        "\n",
        "After performing the calculations, I verified that both sides gave the same result:\n",
        "\n",
        "$$\n",
        "\\mathbf{a} \\times (\\mathbf{b} \\times \\mathbf{c}) = [-11, 27, -10]\n",
        "$$\n",
        "\n",
        "Thus, the identity is proven to be true for the given vectors.\n",
        "\n",
        "### Conclusion\n",
        "\n",
        "I concluded that the identity is indeed true because both sides are equivalent for the given vectors $\\mathbf{a}$, $\\mathbf{b}$, and $\\mathbf{c}$.\n"
      ],
      "metadata": {
        "id": "1EnnoelEFcwV"
      }
    }
  ],
  "metadata": {
    "kernelspec": {
      "display_name": "Python 3 (ipykernel)",
      "language": "python",
      "name": "python3",
      "path": "/media/dch/Disk2/Vizja/Math-2024-25-Winter/.venv/share/jupyter/kernels/python3"
    },
    "colab": {
      "provenance": []
    }
  },
  "nbformat": 4,
  "nbformat_minor": 0
}