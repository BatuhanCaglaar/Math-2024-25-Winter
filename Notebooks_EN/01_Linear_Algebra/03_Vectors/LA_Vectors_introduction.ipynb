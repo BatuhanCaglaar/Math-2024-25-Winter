{
  "cells": [
    {
      "cell_type": "markdown",
      "metadata": {
        "id": "9noBaC2KhISC"
      },
      "source": [
        "# Vectors - Introduction\n",
        "\n",
        "**Vectors** are quantities that have both magnitude and direction in space. They are used to describe various physical quantities such as velocity, force, or electric field intensity. Unlike scalars, which have only magnitude (e.g., mass, temperature), vectors require a direction to be specified.\n",
        "\n",
        "A vector is represented with an arrow above the symbol $\\vec{a}$ or in bold type $\\mathbf{a}$.\n",
        "- The magnitude of a vector can be written as $\\vec{a}|$ or $a$.\n",
        "- A vector of length 1 is called a unit vector and is denoted by $\\hat{\\mathbf{a}} = \\frac{\\vec{a}}{|\\vec{a}|}$.\n",
        "\n",
        "**Example:**\n",
        "\n",
        "The vector $\\mathbf{a}= [3, 4]$ has a magnitude $a = 5$, and the corresponding unit vector (unit vector along the direction of vector $\\mathbf{a}$) is expressed as $\\hat{\\mathbf{a}} = \\left[\\frac{3}{5}, \\frac{4}{5}\\right]$.\n"
      ]
    },
    {
      "cell_type": "code",
      "execution_count": null,
      "metadata": {
        "id": "578MBmp2hISD",
        "outputId": "b61ad73d-bcf2-4250-ca40-4405197b6036"
      },
      "outputs": [
        {
          "data": {
            "text/latex": [
              "$\\displaystyle \\sqrt{a_{x}^{2} + a_{y}^{2}}$"
            ],
            "text/plain": [
              "sqrt(a_x**2 + a_y**2)"
            ]
          },
          "execution_count": 2,
          "metadata": {},
          "output_type": "execute_result"
        }
      ],
      "source": [
        "import sympy as sp  # import the sympy module\n",
        "\n",
        "# For vector $\\mathbf{a} = [a_x, a_y]$, the magnitude is given by the formula:\n",
        "# $$ |\\mathbf{a}| = a = \\sqrt{a_x^2 + a_y^2} $$\n",
        "\n",
        "a_x, a_y = sp.symbols('a_x a_y')  # Step 1: Define symbolic variables a_x and a_y\n",
        "magnitude_a = sp.sqrt(a_x**2 + a_y**2)  # Step 2: Create the formula for the magnitude of vector a\n",
        "magnitude_a  # Step 3: Display the result"
      ]
    },
    {
      "cell_type": "code",
      "execution_count": null,
      "metadata": {
        "id": "fljolTHehISD",
        "outputId": "ced224e2-018c-4d81-e254-afdbfb8931a9"
      },
      "outputs": [
        {
          "data": {
            "text/latex": [
              "$\\displaystyle 5.0$"
            ],
            "text/plain": [
              "5.00000000000000"
            ]
          },
          "execution_count": 3,
          "metadata": {},
          "output_type": "execute_result"
        }
      ],
      "source": [
        "# Assign values to a_x and a_y\n",
        "a_x = 3  # x component of the vector\n",
        "a_y = 4  # y component of the vector\n",
        "\n",
        "magnitude_a = sp.sqrt(a_x**2 + a_y**2)  # Calculate the magnitude of the vector for a_x = 3 and a_y = 4\n",
        "magnitude_a.evalf()  # Numerically calculate the magnitude of the vector (expected result: 5)"
      ]
    },
    {
      "cell_type": "markdown",
      "metadata": {
        "id": "C2AlWxyOhISE"
      },
      "source": [
        "## Vector Addition\n",
        "\n",
        "Vector addition involves adding the corresponding components of vectors of the same length.\n",
        "\n",
        "For two vectors $\\mathbf{a}$ and $\\mathbf{b}$ in the space $\\mathbb{R}^n$, where:\n",
        "\n",
        "$$\n",
        "\\mathbf{a} = [a_1, a_2, \\dots, a_n], \\quad \\mathbf{b} = [b_1, b_2, \\dots, b_n]\n",
        "$$\n",
        "\n",
        "Vector addition is defined as follows:\n",
        "\n",
        "$$\n",
        "\\mathbf{a} + \\mathbf{b} = [a_1 + b_1, a_2 + b_2, \\dots, a_n + b_n]\n",
        "$$\n",
        "\n",
        "## Scalar Multiplication of a Vector\n",
        "\n",
        "Scalar multiplication of a vector involves multiplying each component of the vector by the same number.\n",
        "\n",
        "For a vector $\\mathbf{a}$ and a scalar $k$:\n",
        "\n",
        "$$\n",
        "k \\mathbf{a} = [k a_1, k a_2, \\dots, k a_n]\n",
        "$$\n",
        "\n",
        "## Vectors in the Plane and Space\n",
        "\n",
        "**Vectors in 2D:**\n",
        "\n",
        "If $\\mathbf{a} = [a_x, a_y]$, then the magnitude is given by the formula $|\\mathbf{a}| = a = \\sqrt{a_x^2 + a_y^2}$.\n",
        "\n",
        "**Vectors in 3D:**\n",
        "\n",
        "If $\\mathbf{a} = [a_x, a_y, a_z]$, then the magnitude of the vector is $|\\mathbf{a}| = a = \\sqrt{a_x^2 + a_y^2 + a_z^2}$.\n",
        "\n",
        "## Plotting a Vector"
      ]
    },
    {
      "cell_type": "code",
      "execution_count": null,
      "metadata": {
        "id": "cmSG_7ydhISE",
        "outputId": "4a4f1aa1-df16-4e07-f3b6-31f1306cfc22"
      },
      "outputs": [
        {
          "data": {
            "image/png": "[encoded data removed]",
            "text/plain": [
              "<Figure size 640x480 with 1 Axes>"
            ]
          },
          "metadata": {},
          "output_type": "display_data"
        }
      ],
      "source": [
        "import matplotlib.pyplot as plt # import the matplotlib.pyplot module\n",
        "\n",
        "plt.figure() # create a new figure\n",
        "plt.quiver(0, 0, 3, 4, angles='xy', scale_units='xy', scale=1, color='r') # quick way to plot a vector quiver(x_start, y_start, x_end, y_end)\n",
        "plt.xlim(0, 5) # set x-axis range\n",
        "plt.ylim(0, 5) # set y-axis range\n",
        "plt.grid(True) # enable grid\n",
        "plt.gca().set_aspect('equal') # set equal scaling on x and y axes\n",
        "plt.show()"
      ]
    },
    {
      "cell_type": "markdown",
      "metadata": {
        "id": "rLnrGOqUhISE"
      },
      "source": [
        "## Example of Simple Vector Implementation in Python\n",
        "\n",
        "Given vectors $\\mathbf{a}=[1, 2]$ and $\\mathbf{b}=[3, 4]$, we want to calculate their sum $\\mathbf{c}=\\mathbf{a}+\\mathbf{b}= [1+3, 2+4] = [4, 6]$"
      ]
    },
    {
      "cell_type": "code",
      "execution_count": null,
      "metadata": {
        "id": "qXCeU4M1hISE",
        "outputId": "8355d48a-68ed-441f-875e-a9e98906ad2a"
      },
      "outputs": [
        {
          "data": {
            "text/plain": [
              "[4, 6]"
            ]
          },
          "execution_count": 5,
          "metadata": {},
          "output_type": "execute_result"
        }
      ],
      "source": [
        "import sympy as sp # import the sympy module\n",
        "\n",
        "a=[1, 2] # vector a\n",
        "b=[3, 4] # vector b\n",
        "c = [a[0] + b[0], a[1] + b[1]] # sum of vectors a and b\n",
        "c # display the result"
      ]
    },
    {
      "cell_type": "markdown",
      "metadata": {
        "id": "JVx2NfTXhISE"
      },
      "source": [
        "## Example of Better Vector Implementation in Python\n",
        "\n",
        "Vectors are represented as column matrices. Then vector addition is the same as matrix addition."
      ]
    },
    {
      "cell_type": "code",
      "execution_count": null,
      "metadata": {
        "id": "grtMLIm1hISE",
        "outputId": "e8497312-91d0-4a98-d337-73cf5270870b"
      },
      "outputs": [
        {
          "data": {
            "text/latex": [
              "$\\displaystyle \\left[\\begin{matrix}12\\\\5\\\\18\\end{matrix}\\right]$"
            ],
            "text/plain": [
              "Matrix([\n",
              "[12],\n",
              "[ 5],\n",
              "[18]])"
            ]
          },
          "execution_count": 6,
          "metadata": {},
          "output_type": "execute_result"
        }
      ],
      "source": [
        "import sympy as sp\n",
        "\n",
        "# Vector definitions\n",
        "a = sp.Matrix([1, 2, 3])\n",
        "b = sp.Matrix([4, 5, 6])\n",
        "c = sp.Matrix([7, 0, 9])\n",
        "d = sp.Matrix([0, 2, 0])\n",
        "\n",
        "a + b + c - d # An operation involving addition and subtraction of vectors"
      ]
    },
    {
      "cell_type": "markdown",
      "metadata": {
        "id": "jwCpRHfqhISE"
      },
      "source": [
        "## Plotting Vector Addition\n",
        "\n",
        "Example: $\\mathbf{a}=[2,1]$ and $\\mathbf{b}=[1,2]$ results in vector $\\mathbf{c}=\\mathbf{a}+\\mathbf{b}=[3,3]$."
      ]
    },
    {
      "cell_type": "code",
      "execution_count": null,
      "metadata": {
        "id": "x-kcSF9LhISF",
        "outputId": "a8d9acf0-9880-467e-971d-8b08b5db4ede"
      },
      "outputs": [
        {
          "data": {
            "image/png": "[encoded data removed]",
            "text/plain": [
              "<Figure size 640x480 with 1 Axes>"
            ]
          },
          "metadata": {},
          "output_type": "display_data"
        }
      ],
      "source": [
        "import matplotlib.pyplot as plt # import the matplotlib.pyplot module #example of vector addition in two-dimensional space\n",
        "\n",
        "plt.figure() # create a new figure\n",
        "plt.quiver(0, 0, 2, 1, angles='xy', scale_units='xy', scale=1, color='r') # quick way to plot vectors quiver(x_start, y_start, x_end, y_end)\n",
        "plt.quiver(0, 0, 1, 2, angles='xy', scale_units='xy', scale=1, color='b') # quick way to plot vectors quiver(x_start, y_start, x_end, y_end)\n",
        "plt.quiver(0, 0, 3, 3, angles='xy', scale_units='xy', scale=1, color='g') # quick way to plot vectors quiver(x_start, y_start, x_end, y_end)\n",
        "plt.xlim(-1, 4) # set x-axis range\n",
        "plt.ylim(-1, 4) # set y-axis range\n",
        "plt.grid(True) # enable grid\n",
        "plt.gca().set_aspect('equal') # set equal scaling on x and y axes\n",
        "plt.show()"
      ]
    },
    {
      "cell_type": "markdown",
      "metadata": {
        "id": "Evm5xDsphISF"
      },
      "source": [
        "## Coordinate Systems in the Plane and Space\n",
        "\n",
        "**Cartesian Coordinate System** is the basic coordinate system in which points in space are specified by their distances from fixed axes: $x$, $y$ (for 2D) and $z$ (for 3D).\n",
        "\n",
        "- In 2D, each point can be written as $(x, y)$.\n",
        "- In 3D, points are of the form $(x, y, z)$.\n",
        "\n",
        "**Polar Coordinate System** is used in 2D and defines a point by its distance from the origin (r) and the angle (θ) relative to the reference axis.\n",
        "\n",
        "**Spherical Coordinate System** is used in 3D and defines a point by its distance from the origin (r), azimuth angle (θ), and elevation angle (φ).\n",
        "\n",
        "Vectors can be represented using components in the Cartesian coordinate system, where each component corresponds to the distance of the point from the respective coordinate axis.\n",
        "\n",
        "- For a vector in two-dimensional space: $\\mathbf{a} = [a_x, a_y] = a_x\\hat{\\mathbf{i}} + a_y\\hat{\\mathbf{j}}$\n",
        "- For a vector in three-dimensional space: $\\mathbf{a} = [a_x, a_y, a_z] = a_x\\hat{\\mathbf{i}} + a_y\\hat{\\mathbf{j}} + a_z\\hat{\\mathbf{k}}$\n",
        "\n",
        "## Basis\n",
        "\n",
        "**Basis** of vectors is a set of vectors that spans a vector space. In Cartesian space, the standard basis vectors are $\\hat{\\mathbf{i}}, \\hat{\\mathbf{j}}, \\hat{\\mathbf{k}}$.\n",
        "\n",
        "For 2D:\n",
        "\n",
        "$$\n",
        "\\hat{\\mathbf{i}} = [1, 0], \\quad \\hat{\\mathbf{j}} = [0, 1]\n",
        "$$\n",
        "\n",
        "For 3D:\n",
        "\n",
        "$$\n",
        "\\hat{\\mathbf{i}} = [1, 0, 0], \\quad \\hat{\\mathbf{j}} = [0, 1, 0], \\quad \\hat{\\mathbf{k}} = [0, 0, 1]\n",
        "$$\n",
        "\n",
        "These basis vectors are unit vectors and are perpendicular to each other.\n",
        "\n",
        "### Finding the Coordinates of a Vector in a New Basis\n",
        "\n",
        "To find the coordinates of vector $\\mathbf{v}$ in a new basis $\\{\\mathbf{b_1}, \\mathbf{b_2}, \\mathbf{b_3}\\}$, express $\\mathbf{v}$ as a linear combination of the basis vectors.\n",
        "\n",
        "$$\n",
        "\\mathbf{v} = c_1 \\mathbf{b_1} + c_2 \\mathbf{b_2} + c_3 \\mathbf{b_3}\n",
        "$$\n",
        "\n",
        "The coefficients $c_1, c_2, c_3$ are the coordinates of vector $\\mathbf{v}$ in the new basis.\n",
        "\n",
        "---\n",
        "\n",
        "## Student Exercises\n",
        "\n",
        "A. By what number should vector $\\mathbf{a} = [3, 4]$ be multiplied so that its length is equal to 1?\n",
        "\n",
        "B. Calculate the length of vector $\\mathbf{b} = [1, 1]$ and find the unit vector of this vector.\n",
        "\n",
        "C. Plot the vector and the unit vector from the previous exercise.\n",
        "\n",
        "D. Calculate the length of vector $\\mathbf{c} = [1, 2, 3]$ and find the unit vector of this vector.\n",
        "\n",
        "E. Find the Cartesian coordinates of vector $\\mathbf{v} = [2, 3, 4]$ in the basis $\\{\\mathbf{b_1} = [1, 0, 1], \\mathbf{b_2} = [0, 1, 0], \\mathbf{b_3} = [1, 0, -1]\\}$."
      ]
    },
    {
      "cell_type": "code",
      "source": [
        "from sympy import symbols, Matrix, sqrt  # Exercise A\n",
        "\n",
        "a = sp.Matrix([3, 4])\n",
        "a"
      ],
      "metadata": {
        "id": "eQ7QjQ_2h-X5",
        "outputId": "1b37f868-9da4-4d8e-fa94-74b36edc9510",
        "colab": {
          "base_uri": "https://localhost:8080/",
          "height": 58
        }
      },
      "execution_count": null,
      "outputs": [
        {
          "output_type": "execute_result",
          "data": {
            "text/plain": [
              "Matrix([\n",
              "[3],\n",
              "[4]])"
            ],
            "text/latex": "$\\displaystyle \\left[\\begin{matrix}3\\\\4\\end{matrix}\\right]$"
          },
          "metadata": {},
          "execution_count": 12
        }
      ]
    },
    {
      "cell_type": "code",
      "source": [
        "magnitude_a = sqrt(a.dot(a)) #sqrt(3^2 + 4^2) = sqrt(9 + 16) = sqrt(25) = 5\n",
        "magnitude_a"
      ],
      "metadata": {
        "id": "XL686sSujKwm",
        "outputId": "fa6a1539-73f8-4f84-b6d6-ffda0ce4a4ff",
        "colab": {
          "base_uri": "https://localhost:8080/",
          "height": 37
        }
      },
      "execution_count": null,
      "outputs": [
        {
          "output_type": "execute_result",
          "data": {
            "text/plain": [
              "5"
            ],
            "text/latex": "$\\displaystyle 5$"
          },
          "metadata": {},
          "execution_count": 13
        }
      ]
    },
    {
      "cell_type": "code",
      "source": [
        "scalar = 1 / magnitude_a\n",
        "scalar"
      ],
      "metadata": {
        "id": "UUCvvKv2gaDe",
        "outputId": "b90af6ac-fbee-4e97-e8fa-303858c78de0",
        "colab": {
          "base_uri": "https://localhost:8080/",
          "height": 51
        }
      },
      "execution_count": null,
      "outputs": [
        {
          "output_type": "execute_result",
          "data": {
            "text/plain": [
              "1/5"
            ],
            "text/latex": "$\\displaystyle \\frac{1}{5}$"
          },
          "metadata": {},
          "execution_count": 16
        }
      ]
    },
    {
      "cell_type": "code",
      "source": [
        "unit_vector = scalar * a\n",
        "unit_vector"
      ],
      "metadata": {
        "id": "r4y_jHG8lrLK",
        "outputId": "cd595941-ceb6-41de-c722-8a65a6adbf21",
        "colab": {
          "base_uri": "https://localhost:8080/",
          "height": 58
        }
      },
      "execution_count": null,
      "outputs": [
        {
          "output_type": "execute_result",
          "data": {
            "text/plain": [
              "Matrix([\n",
              "[3/5],\n",
              "[4/5]])"
            ],
            "text/latex": "$\\displaystyle \\left[\\begin{matrix}\\frac{3}{5}\\\\\\frac{4}{5}\\end{matrix}\\right]$"
          },
          "metadata": {},
          "execution_count": 17
        }
      ]
    },
    {
      "cell_type": "code",
      "source": [
        "unit_vector_magnitude = sqrt(unit_vector.dot(unit_vector)).evalf() #sqrt((3/5)^2 + (4/5)^2) = sqrt(9/25 + 16/25) = 1\n",
        "unit_vector_magnitude"
      ],
      "metadata": {
        "id": "RZ8om6oCgtKH",
        "outputId": "41d83265-7bbc-497d-905d-b282c423dc4e",
        "colab": {
          "base_uri": "https://localhost:8080/",
          "height": 37
        }
      },
      "execution_count": null,
      "outputs": [
        {
          "output_type": "execute_result",
          "data": {
            "text/plain": [
              "1.00000000000000"
            ],
            "text/latex": "$\\displaystyle 1.0$"
          },
          "metadata": {},
          "execution_count": 19
        }
      ]
    },
    {
      "cell_type": "code",
      "source": [
        "scalar_numeric = scalar.evalf() #1/5\n",
        "scalar_numeric"
      ],
      "metadata": {
        "id": "eVXKRhN_gk1L",
        "outputId": "c78255e5-70a8-4ade-9a1b-52bde56ad228",
        "colab": {
          "base_uri": "https://localhost:8080/",
          "height": 37
        }
      },
      "execution_count": null,
      "outputs": [
        {
          "output_type": "execute_result",
          "data": {
            "text/plain": [
              "0.200000000000000"
            ],
            "text/latex": "$\\displaystyle 0.2$"
          },
          "metadata": {},
          "execution_count": 18
        }
      ]
    },
    {
      "cell_type": "markdown",
      "source": [
        "### 1. Finding the Length (Norm) of the Vector\n",
        "\n",
        "To find the length (or norm) of a vector, I took the square root of the sum of the squares of each component. This calculation gave me the magnitude of the vector.\n",
        "\n",
        "**Given vector:**\n",
        "$$\n",
        "\\mathbf{a} = [3, 4]\n",
        "$$\n",
        "\n",
        "$$\n",
        "\\|\\mathbf{a}\\| = \\sqrt{3^2 + 4^2}\n",
        "$$\n",
        "\n",
        "  $$\n",
        "  3^2 = 9 \\quad \\text{and} \\quad 4^2 = 16\n",
        "  $$\n",
        "\n",
        "  $$\n",
        "  9 + 16 = 25\n",
        "  $$\n",
        "\n",
        "  $$\n",
        "  \\|\\mathbf{a}\\| = \\sqrt{25} = 5\n",
        "  $$\n",
        "\n",
        "The length (norm) of the vector is $5$.\n",
        "\n",
        "### 2. Finding the Scalar to Make the Vector a Unit Vector\n",
        "\n",
        "\n",
        "$$\n",
        "\\mathbf{a} = [\\frac{3}{5}, \\frac{4}{5}]\n",
        "$$\n",
        "\n",
        "\n",
        "$$\n",
        "\\sqrt{\\left(\\frac{3}{5}\\right)^2 + \\left(\\frac{4}{5}\\right)^2} = \\sqrt{\\frac{9}{25} + \\frac{16}{25}} = \\sqrt{\\frac{25}{25}} = \\sqrt{1} = 1\n",
        "$$\n",
        "\n",
        "The required scalar is:\n",
        "$$\n",
        "\\text{Scalar} = \\frac{1}{\\|\\mathbf{a}\\|}\n",
        "$$\n",
        "\n",
        "Substitute the value of the norm:\n",
        "$$\n",
        "\\text{Scalar} = \\frac{1}{5} = 0.2\n",
        "$$\n"
      ],
      "metadata": {
        "id": "DfiEmXVVi7Bg"
      }
    },
    {
      "cell_type": "code",
      "source": [
        "# Exercise B\n",
        "import sympy as sp\n",
        "from sympy import symbols, Matrix, sqrt\n",
        "\n",
        "b = sp.Matrix([1, 1])\n",
        "b"
      ],
      "metadata": {
        "id": "SOl__xZOewqi",
        "outputId": "799d7b84-9d37-41d4-be76-27049cb6cc36",
        "colab": {
          "base_uri": "https://localhost:8080/",
          "height": 58
        }
      },
      "execution_count": null,
      "outputs": [
        {
          "output_type": "execute_result",
          "data": {
            "text/plain": [
              "Matrix([\n",
              "[1],\n",
              "[1]])"
            ],
            "text/latex": "$\\displaystyle \\left[\\begin{matrix}1\\\\1\\end{matrix}\\right]$"
          },
          "metadata": {},
          "execution_count": 5
        }
      ]
    },
    {
      "cell_type": "code",
      "source": [
        "magnitude_b = sqrt(b.dot(b)) #sqrt(1^2 + 1^2) = sqrt(2)\n",
        "magnitude_b"
      ],
      "metadata": {
        "id": "6xYQTVyWfPws",
        "outputId": "568ab1f2-9848-4ee8-c407-11993799fdad",
        "colab": {
          "base_uri": "https://localhost:8080/",
          "height": 38
        }
      },
      "execution_count": null,
      "outputs": [
        {
          "output_type": "execute_result",
          "data": {
            "text/plain": [
              "sqrt(2)"
            ],
            "text/latex": "$\\displaystyle \\sqrt{2}$"
          },
          "metadata": {},
          "execution_count": 23
        }
      ]
    },
    {
      "cell_type": "code",
      "source": [
        "scalar = 1/magnitude_b\n",
        "scalar"
      ],
      "metadata": {
        "id": "ux7GT8wEgROe",
        "outputId": "0cf885b2-faea-48dd-f09c-d1834a3fc2c8",
        "colab": {
          "base_uri": "https://localhost:8080/",
          "height": 55
        }
      },
      "execution_count": null,
      "outputs": [
        {
          "output_type": "execute_result",
          "data": {
            "text/plain": [
              "sqrt(2)/2"
            ],
            "text/latex": "$\\displaystyle \\frac{\\sqrt{2}}{2}$"
          },
          "metadata": {},
          "execution_count": 28
        }
      ]
    },
    {
      "cell_type": "code",
      "source": [
        "unit_vector = scalar * b\n",
        "unit_vector"
      ],
      "metadata": {
        "id": "DypNFE0ihCrw",
        "outputId": "e5f3a548-5471-486a-b797-7a77952bbe63",
        "colab": {
          "base_uri": "https://localhost:8080/",
          "height": 68
        }
      },
      "execution_count": null,
      "outputs": [
        {
          "output_type": "execute_result",
          "data": {
            "text/plain": [
              "Matrix([\n",
              "[sqrt(2)/2],\n",
              "[sqrt(2)/2]])"
            ],
            "text/latex": "$\\displaystyle \\left[\\begin{matrix}\\frac{\\sqrt{2}}{2}\\\\\\frac{\\sqrt{2}}{2}\\end{matrix}\\right]$"
          },
          "metadata": {},
          "execution_count": 25
        }
      ]
    },
    {
      "cell_type": "code",
      "source": [
        "unit_vector_magnitude = sqrt(unit_vector.dot(unit_vector)).evalf()\n",
        "unit_vector_magnitude"
      ],
      "metadata": {
        "id": "2Z64Qfl3hOOK",
        "outputId": "efb36d37-d747-4037-8bc2-fef37cc89f65",
        "colab": {
          "base_uri": "https://localhost:8080/",
          "height": 37
        }
      },
      "execution_count": null,
      "outputs": [
        {
          "output_type": "execute_result",
          "data": {
            "text/plain": [
              "1.00000000000000"
            ],
            "text/latex": "$\\displaystyle 1.0$"
          },
          "metadata": {},
          "execution_count": 26
        }
      ]
    },
    {
      "cell_type": "markdown",
      "source": [
        "\n",
        "### 1. Calculating the Length of the Vector\n",
        "\n",
        "To find the length, I used the formula:\n",
        "$$\n",
        "\\|\\mathbf{b}\\| = \\sqrt{1^2 + 1^2}\n",
        "$$\n",
        "\n",
        "\n",
        "  $$\n",
        "  1^2 = 1 \\quad \\text{and} \\quad 1^2 = 1\n",
        "  $$\n",
        "\n",
        "  $$\n",
        "  1 + 1 = 2\n",
        "  $$\n",
        "\n",
        "  $$\n",
        "  \\|\\mathbf{b}\\| = \\sqrt{2}\n",
        "  $$\n",
        "\n",
        "So, the length (norm) of the vector $\\mathbf{b}$ is $\\sqrt{2}$.\n",
        "\n",
        "---\n",
        "\n",
        "### 2. Finding the Unit Vector\n",
        "\n",
        "To create a unit vector, I divided each component of the original vector by its length, $\\sqrt{2}$.\n",
        "\n",
        "Using the formula:\n",
        "$$\n",
        "\\mathbf{u} = \\frac{\\mathbf{b}}{\\|\\mathbf{b}\\|}\n",
        "$$\n",
        "\n",
        "\n",
        "\n",
        "   $$\n",
        "   \\frac{1}{\\sqrt{2}} = \\frac{\\sqrt{2}}{2}\n",
        "   $$\n",
        "\n",
        "   $$\n",
        "   \\frac{1}{\\sqrt{2}} = \\frac{\\sqrt{2}}{2}\n",
        "   $$\n",
        "\n",
        "\n",
        "$$\n",
        "\\mathbf{u} = \\left[\\frac{\\sqrt{2}}{2}, \\frac{\\sqrt{2}}{2}\\right]\n",
        "$$\n",
        "\n",
        "This unit vector $\\mathbf{u}$ has a length of $1$ and points in the same direction as the original vector $\\mathbf{b} = [1, 1]$.\n"
      ],
      "metadata": {
        "id": "8YYwW0R8i99V"
      }
    },
    {
      "cell_type": "code",
      "source": [
        "import matplotlib.pyplot as plt #Exercise C\n",
        "import numpy as np\n",
        "vector_b = np.array([1, 1])\n",
        "unit_vector_b = vector_b / np.linalg.norm(vector_b)\n",
        "plt.figure(figsize=(8, 8))\n",
        "plt.axhline(0, color='grey', lw=0.5)\n",
        "plt.axvline(0, color='grey', lw=0.5)\n",
        "plt.grid(True, which='both')\n",
        "plt.quiver(0, 0, vector_b[0], vector_b[1], angles='xy', scale_units='xy', scale=1, color='blue', label=\"Original Vector [1, 1]\")\n",
        "plt.quiver(0, 0, unit_vector_b[0], unit_vector_b[1], angles='xy', scale_units='xy', scale=1, color='red', label=\"Unit Vector [√2/2, √2/2]\")\n",
        "plt.xlim(-0.5, 1.5)\n",
        "plt.ylim(-0.5, 1.5)\n",
        "plt.xlabel('X')\n",
        "plt.ylabel('Y')\n",
        "plt.title('Plot of Original Vector and Unit Vector')\n",
        "plt.legend()\n",
        "\n",
        "plt.show()"
      ],
      "metadata": {
        "id": "NpSqX0_AjNqF",
        "outputId": "cd5acf78-107d-47ec-873d-497aa5f1fd88",
        "colab": {
          "base_uri": "https://localhost:8080/",
          "height": 718
        }
      },
      "execution_count": null,
      "outputs": [
        {
          "output_type": "display_data",
          "data": {
            "text/plain": [
              "<Figure size 800x800 with 1 Axes>"
            ],
            "image/png": "[encoded data removed]"
          },
          "metadata": {}
        }
      ]
    },
    {
      "cell_type": "markdown",
      "source": [
        "### Plot of the Original Vector and the Unit Vector\n",
        "\n",
        "In this plot, I show both the original vector $\\mathbf{b} = [1, 1]$ and its unit vector $\\mathbf{u} = \\left[\\frac{\\sqrt{2}}{2}, \\frac{\\sqrt{2}}{2}\\right]$.\n",
        "\n",
        "- **The original vector** is displayed in **blue** and has coordinates $[1, 1]$.\n",
        "- **The unit vector** is displayed in **red**. It points in the same direction as $\\mathbf{b}$ but has a length of $1$, as required for a unit vector.\n",
        "\n",
        "Both vectors originate from the origin $(0, 0)$, but the unit vector is scaled to a length of $1$."
      ],
      "metadata": {
        "id": "4XeP0-Y8W3pl"
      }
    },
    {
      "cell_type": "code",
      "source": [
        "# Exercise D\n",
        "import sympy as sp\n",
        "from sympy import symbols, Matrix, sqrt\n",
        "\n",
        "c = sp.Matrix([1, 2, 3])\n",
        "c"
      ],
      "metadata": {
        "id": "lvkmeSGksCrb",
        "outputId": "353308e2-efa9-4cc2-a8d8-82097aa19971",
        "colab": {
          "base_uri": "https://localhost:8080/",
          "height": 78
        }
      },
      "execution_count": null,
      "outputs": [
        {
          "output_type": "execute_result",
          "data": {
            "text/plain": [
              "Matrix([\n",
              "[1],\n",
              "[2],\n",
              "[3]])"
            ],
            "text/latex": "$\\displaystyle \\left[\\begin{matrix}1\\\\2\\\\3\\end{matrix}\\right]$"
          },
          "metadata": {},
          "execution_count": 1
        }
      ]
    },
    {
      "cell_type": "code",
      "source": [
        "magnitude_c = sqrt(c.dot(c)) #sqrt(1^2 + 2^2 + 3^2) = sqrt(1+4+9) =sqrt(14)\n",
        "magnitude_c"
      ],
      "metadata": {
        "id": "2zr1Wt7ksSSF",
        "outputId": "4fb5f365-ba5f-41f4-fa22-55c08e169780",
        "colab": {
          "base_uri": "https://localhost:8080/",
          "height": 38
        }
      },
      "execution_count": null,
      "outputs": [
        {
          "output_type": "execute_result",
          "data": {
            "text/plain": [
              "sqrt(14)"
            ],
            "text/latex": "$\\displaystyle \\sqrt{14}$"
          },
          "metadata": {},
          "execution_count": 2
        }
      ]
    },
    {
      "cell_type": "code",
      "source": [
        "scalar = c /magnitude_c\n",
        "scalar"
      ],
      "metadata": {
        "id": "wgVdTD73svE3",
        "outputId": "a1955ed6-3917-41c6-c4fb-618b2caa3cf3",
        "colab": {
          "base_uri": "https://localhost:8080/",
          "height": 88
        }
      },
      "execution_count": null,
      "outputs": [
        {
          "output_type": "execute_result",
          "data": {
            "text/plain": [
              "Matrix([\n",
              "[  sqrt(14)/14],\n",
              "[   sqrt(14)/7],\n",
              "[3*sqrt(14)/14]])"
            ],
            "text/latex": "$\\displaystyle \\left[\\begin{matrix}\\frac{\\sqrt{14}}{14}\\\\\\frac{\\sqrt{14}}{7}\\\\\\frac{3 \\sqrt{14}}{14}\\end{matrix}\\right]$"
          },
          "metadata": {},
          "execution_count": 3
        }
      ]
    },
    {
      "cell_type": "code",
      "source": [
        "scalar_numeric = scalar.evalf()\n",
        "scalar_numeric"
      ],
      "metadata": {
        "colab": {
          "base_uri": "https://localhost:8080/",
          "height": 78
        },
        "id": "SmupHCCVLY-Y",
        "outputId": "9427c79b-5174-467e-acd3-30dfabdb03c3"
      },
      "execution_count": null,
      "outputs": [
        {
          "output_type": "execute_result",
          "data": {
            "text/plain": [
              "Matrix([\n",
              "[0.267261241912424],\n",
              "[0.534522483824849],\n",
              "[0.801783725737273]])"
            ],
            "text/latex": "$\\displaystyle \\left[\\begin{matrix}0.267261241912424\\\\0.534522483824849\\\\0.801783725737273\\end{matrix}\\right]$"
          },
          "metadata": {},
          "execution_count": 4
        }
      ]
    },
    {
      "cell_type": "markdown",
      "source": [
        "### Given vector:\n",
        "\n",
        "$\\mathbf{c} = [1, 2, 3]$\n",
        "\n",
        "1. **I calculated the length (magnitude) of the vector:**\n",
        "The formula is:\n",
        "   $$\n",
        "   |\\mathbf{c}| = \\sqrt{x^2 + y^2 + z^2}\n",
        "   $$\n",
        "\n",
        "   $$\n",
        "   |\\mathbf{c}| = \\sqrt{1^2 + 2^2 + 3^2} = \\sqrt{1 + 4 + 9} = \\sqrt{14}\n",
        "   $$\n",
        "\n",
        "   $$\n",
        "   |\\mathbf{c}| = \\sqrt{14}\n",
        "   $$\n",
        "\n",
        "2. **I found the unit vector:**\n",
        "The formula is:\n",
        "   $$\n",
        "   \\hat{\\mathbf{c}} = \\frac{\\mathbf{c}}{|\\mathbf{c}|}\n",
        "   $$\n",
        "\n",
        "   $$\n",
        "   \\hat{\\mathbf{c}} = \\frac{[1, 2, 3]}{\\sqrt{14}} = \\left[\\frac{1}{\\sqrt{14}}, \\frac{2}{\\sqrt{14}}, \\frac{3}{\\sqrt{14}}\\right]\n",
        "   $$\n",
        "\n",
        "   $$\n",
        "   \\hat{\\mathbf{c}} = \\left[\\frac{1}{\\sqrt{14}}, \\frac{2}{\\sqrt{14}}, \\frac{3}{\\sqrt{14}}\\right]\n",
        "   $$\n",
        "\n",
        "   $$\n",
        "   \\hat{\\mathbf{c}} \\approx [0.267, 0.534, 0.802]\n",
        "   $$\n",
        "\n",
        "### Summary:\n",
        "- The length of the vector is $( |\\mathbf{c}| = \\sqrt{14} \\approx 3.742 )$.\n",
        "- The unit vector is $( \\hat{\\mathbf{c}} = \\left[\\frac{1}{\\sqrt{14}}, \\frac{2}{\\sqrt{14}}, \\frac{3}{\\sqrt{14}}\\right] \\approx [0.267, 0.534, 0.802] )$.\n",
        "\n"
      ],
      "metadata": {
        "id": "oZQmKc8stG8J"
      }
    },
    {
      "cell_type": "code",
      "source": [
        "import sympy as sp #Exercise E\n",
        "\n",
        "x1, x2, x3 = sp.symbols('x1 x2 x3')\n"
      ],
      "metadata": {
        "id": "6ynFEm3hXYZp"
      },
      "execution_count": null,
      "outputs": []
    },
    {
      "cell_type": "code",
      "source": [
        "v = sp.Matrix([2, 3, 4])\n",
        "b1 = sp.Matrix([1, 0, 1])\n",
        "b2 = sp.Matrix([0, 1, 0])\n",
        "b3 = sp.Matrix([1, 0, -1])"
      ],
      "metadata": {
        "id": "IBM-2FNAXcia"
      },
      "execution_count": null,
      "outputs": []
    },
    {
      "cell_type": "code",
      "source": [
        "equations = [\n",
        "    sp.Eq(x1 + x3, 2),  # x1 + x3 = 2\n",
        "    sp.Eq(x2, 3),        # x2 = 3\n",
        "    sp.Eq(x1 - x3, 4)     # x1 - x3 = 4\n",
        "]"
      ],
      "metadata": {
        "colab": {
          "base_uri": "https://localhost:8080/"
        },
        "id": "g5pmpvlHXfdI",
        "outputId": "064fa771-9709-4a24-e2dd-fe26a4d758a3"
      },
      "execution_count": null,
      "outputs": [
        {
          "output_type": "execute_result",
          "data": {
            "text/plain": [
              "[Eq(x1 + x3, 2), Eq(x2, 3), Eq(x1 - x3, 4)]"
            ]
          },
          "metadata": {},
          "execution_count": 8
        }
      ]
    },
    {
      "cell_type": "code",
      "source": [
        "solution = sp.solve(equations, (x1, x2, x3))\n",
        "solution"
      ],
      "metadata": {
        "colab": {
          "base_uri": "https://localhost:8080/"
        },
        "id": "78IeMx_xXtLW",
        "outputId": "afdf0186-123c-4558-d2b1-c93dd9af2628"
      },
      "execution_count": null,
      "outputs": [
        {
          "output_type": "execute_result",
          "data": {
            "text/plain": [
              "{x1: 3, x2: 3, x3: -1}"
            ]
          },
          "metadata": {},
          "execution_count": 10
        }
      ]
    },
    {
      "cell_type": "markdown",
      "source": [
        "### Solution in Detail\n",
        "\n",
        "Given a vector:\n",
        "$$\n",
        "\\mathbf{v} = [2, 3, 4]\n",
        "$$\n",
        "and a set of basis vectors:\n",
        "$$\n",
        "\\mathbf{b_1} = [1, 0, 1], \\quad \\mathbf{b_2} = [0, 1, 0], \\quad \\mathbf{b_3} = [1, 0, -1]\n",
        "$$\n",
        "\n",
        "$$\n",
        "\\mathbf{v} = x_1 \\mathbf{b_1} + x_2 \\mathbf{b_2} + x_3 \\mathbf{b_3}\n",
        "$$\n",
        "\n",
        "$$\n",
        "[2, 3, 4] = x_1 [1, 0, 1] + x_2 [0, 1, 0] + x_3 [1, 0, -1]\n",
        "$$\n",
        "$$\n",
        "[2, 3, 4] = [x_1 + x_3, x_2, x_1 - x_3]\n",
        "$$\n",
        "\n",
        "### Step 1: Set Up the System of Equations\n",
        "\n",
        "\n",
        "1. $( x_1 + x_3 = 2 )$\n",
        "2. $( x_2 = 3 )$\n",
        "3. $( x_1 - x_3 = 4 )$\n",
        "\n",
        "### Step 2: Solve the System of Equations\n",
        "\n",
        "\n",
        "$$\n",
        "x_2 = 3\n",
        "$$\n",
        "\n",
        "$$\n",
        "(x_1 + x_3) + (x_1 - x_3) = 2 + 4\n",
        "$$\n",
        "$$\n",
        "2x_1 = 6 \\Rightarrow x_1 = 3\n",
        "$$\n",
        "\n",
        "$$\n",
        "3 + x_3 = 2 \\Rightarrow x_3 = -1\n",
        "$$\n",
        "\n",
        "### Final Solution\n",
        "\n",
        "$$\n",
        "x_1 = 3, \\quad x_2 = 3, \\quad x_3 = -1\n",
        "$$\n",
        "So, the vector $(\\mathbf{v} = [2, 3, 4])$ in terms of the basis vectors $(\\{\\mathbf{b_1}, \\mathbf{b_2}, \\mathbf{b_3}\\})$ is:\n",
        "$$\n",
        "\\mathbf{v} = 3 \\mathbf{b_1} + 3 \\mathbf{b_2} - 1 \\mathbf{b_3}\n",
        "$$\n"
      ],
      "metadata": {
        "id": "95NCn23yYWrI"
      }
    }
  ],
  "metadata": {
    "kernelspec": {
      "display_name": ".venv",
      "language": "python",
      "name": "python3"
    },
    "language_info": {
      "codemirror_mode": {
        "name": "ipython",
        "version": 3
      },
      "file_extension": ".py",
      "mimetype": "text/x-python",
      "name": "python",
      "nbconvert_exporter": "python",
      "pygments_lexer": "ipython3",
      "version": "3.11.9"
    },
    "colab": {
      "provenance": []
    }
  },
  "nbformat": 4,
  "nbformat_minor": 0
}