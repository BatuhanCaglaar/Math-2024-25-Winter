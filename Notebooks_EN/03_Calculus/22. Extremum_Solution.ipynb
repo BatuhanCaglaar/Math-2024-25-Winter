{
  "nbformat": 4,
  "nbformat_minor": 0,
  "metadata": {
    "colab": {
      "provenance": []
    },
    "kernelspec": {
      "name": "python3",
      "display_name": "Python 3"
    },
    "language_info": {
      "name": "python"
    }
  },
  "cells": [
    {
      "cell_type": "markdown",
      "source": [
        "## 22. Extremum\n",
        "\n",
        "6. The profit function is $P(u) = -2u^2 + 50u - 300$, where $u$ is the number of units sold. Find the number of units that maximize profit.\n",
        "\n",
        "7. You have 10 meters of string, and you need to use it to enclose the largest possible rectangular. Find the dimensions of the rectangle.\n",
        "\n",
        "8. Find extremum od $f(x) = x^2 + 3x - 5$.\n",
        "\n",
        "9. Find extremum of $f(x) =\\frac{x^2+2x+1}{x-1}$."
      ],
      "metadata": {
        "id": "SVa9rLOXgzJe"
      }
    },
    {
      "cell_type": "markdown",
      "source": [
        "#Solutions\n"
      ],
      "metadata": {
        "id": "4m88avMWTSof"
      }
    },
    {
      "cell_type": "code",
      "source": [
        "from sympy import symbols, solve, diff #Exercise 1\n",
        "\n",
        "u = symbols('u')\n",
        "P = -2*u**2 + 50*u - 300"
      ],
      "metadata": {
        "id": "rCV4pxulVxPp"
      },
      "execution_count": 1,
      "outputs": []
    },
    {
      "cell_type": "code",
      "source": [
        "P_prime = diff(P, u)\n",
        "u_max = solve(P_prime, u)[0]"
      ],
      "metadata": {
        "id": "rDNWSMRIVy6U"
      },
      "execution_count": 2,
      "outputs": []
    },
    {
      "cell_type": "code",
      "source": [
        "P_max = P.subs(u, u_max)\n",
        "\n",
        "u_max, P_max"
      ],
      "metadata": {
        "id": "BNR6EScgVypO",
        "outputId": "e5060442-f5b8-4fe5-e0e8-a76494fde9b6",
        "colab": {
          "base_uri": "https://localhost:8080/"
        }
      },
      "execution_count": 3,
      "outputs": [
        {
          "output_type": "execute_result",
          "data": {
            "text/plain": [
              "(25/2, 25/2)"
            ]
          },
          "metadata": {},
          "execution_count": 3
        }
      ]
    },
    {
      "cell_type": "markdown",
      "source": [
        "#Exercise 1\n",
        "\n",
        "## Problem:\n",
        "Given;\n",
        "\n",
        "$$\n",
        "P(u) = -2u^2 + 50u - 300\n",
        "$$\n",
        "\n",
        "\n",
        "\n",
        "\n",
        "## Solution Steps:\n",
        "\n",
        "### Step 1: Find the critical point\n",
        "\n",
        "The derivative of $P(u)$ is:\n",
        "\n",
        "$$\n",
        "P'(u) = \\frac{d}{du} \\big(-2u^2 + 50u - 300\\big) = -4u + 50\n",
        "$$\n",
        "\n",
        "Set $P'(u) = 0$:\n",
        "\n",
        "$$\n",
        "-4u + 50 = 0\n",
        "$$\n",
        "\n",
        "Solve for $u$:\n",
        "\n",
        "$$\n",
        "u = \\frac{50}{4} = 12.5\n",
        "$$\n",
        "\n",
        "\n",
        "\n",
        "### Step 2: Calculate the maximum profit\n",
        "\n",
        "$$\n",
        "P(12.5) = -2(12.5)^2 + 50(12.5) - 300\n",
        "$$\n",
        "\n",
        "Simplify:\n",
        "1. Compute $(12.5)^2 = 156.25$\n",
        "2. Multiply: $-2 \\cdot 156.25 = -312.5$\n",
        "3. Multiply: $50 \\cdot 12.5 = 625$\n",
        "4. Add/Subtract: $-312.5 + 625 - 300 = 12.5$\n",
        "\n",
        "\n",
        "$$\n",
        "P(12.5) = 12.5\n",
        "$$\n",
        "\n",
        "## Final Answer:\n",
        "1. The number of units that maximizes profit is $u = 12.5$.\n",
        "2. The maximum profit is $12.5$.\n",
        "\n",
        "\n",
        "## Geogebra Solution\n",
        "\n",
        "https://www.geogebra.org/calculator/huyaudyv"
      ],
      "metadata": {
        "id": "4Eqj-HFpWj9I"
      }
    },
    {
      "cell_type": "code",
      "source": [
        "from sympy import symbols, solve, diff #Exercise 2\n",
        "\n",
        "x, y = symbols('x y')"
      ],
      "metadata": {
        "id": "PtPaQ7D-Xa_f"
      },
      "execution_count": 4,
      "outputs": []
    },
    {
      "cell_type": "code",
      "source": [
        "perimeter_eq = x + y - 5  # x + y = 5\n",
        "area_eq = x * y           # Area of the rectangle"
      ],
      "metadata": {
        "id": "dnMcGwhwf1SP"
      },
      "execution_count": 5,
      "outputs": []
    },
    {
      "cell_type": "code",
      "source": [
        "y_expr = solve(perimeter_eq, y)[0]  # y = 5 - x"
      ],
      "metadata": {
        "id": "3GTrTurnf1Lo"
      },
      "execution_count": 6,
      "outputs": []
    },
    {
      "cell_type": "code",
      "source": [
        "area_sub = area_eq.subs(y, y_expr)  # A = x * (5 - x)"
      ],
      "metadata": {
        "id": "QhhC0Fxjf08r"
      },
      "execution_count": 7,
      "outputs": []
    },
    {
      "cell_type": "code",
      "source": [
        "area_prime = diff(area_sub, x)  # Derivative of the area\n",
        "x_max = solve(area_prime, x)[0]  # Solve for x"
      ],
      "metadata": {
        "id": "y5Gst2VYf4_z"
      },
      "execution_count": 8,
      "outputs": []
    },
    {
      "cell_type": "code",
      "source": [
        "y_max = y_expr.subs(x, x_max)\n",
        "max_area = area_sub.subs(x, x_max)\n",
        "\n",
        "(x_max, y_max, max_area)"
      ],
      "metadata": {
        "id": "i0HWcr6Uf7DL",
        "outputId": "ce3666df-a9e1-455f-c535-03a0b07a2b4b",
        "colab": {
          "base_uri": "https://localhost:8080/"
        }
      },
      "execution_count": 9,
      "outputs": [
        {
          "output_type": "execute_result",
          "data": {
            "text/plain": [
              "(5/2, 5/2, 25/4)"
            ]
          },
          "metadata": {},
          "execution_count": 9
        }
      ]
    },
    {
      "cell_type": "markdown",
      "source": [
        "#Exercise 2\n",
        "\n",
        "\n",
        "### Definitions:\n",
        "Let:\n",
        "- $x$ = length of the rectangle\n",
        "- $y$ = width of the rectangle\n",
        "\n",
        "The perimeter constraint is:\n",
        "$$\n",
        "2x + 2y = 10 \\quad \\text{or equivalently} \\quad x + y = 5\n",
        "$$\n",
        "\n",
        "The area of the rectangle is given by:\n",
        "$$\n",
        "A = x \\cdot y\n",
        "$$\n",
        "\n",
        "I need to maximize $A$ under the constraint $x + y = 5$.\n",
        "\n",
        "\n",
        "## Solution Steps:\n",
        "\n",
        "### Step 1: Express $y$ in terms of $x$\n",
        "$$\n",
        "y = 5 - x\n",
        "$$\n",
        "\n",
        "$$\n",
        "A = x \\cdot (5 - x)\n",
        "$$\n",
        "Simplify:\n",
        "$$\n",
        "A = 5x - x^2\n",
        "$$\n",
        "\n",
        "\n",
        "### Step 2: Find the critical point\n",
        "$$\n",
        "\\frac{dA}{dx} = 5 - 2x\n",
        "$$\n",
        "Solve $\\frac{dA}{dx} = 0$:\n",
        "$$\n",
        "5 - 2x = 0 \\quad \\Rightarrow \\quad x = 2.5\n",
        "$$\n",
        "\n",
        "\n",
        "### Step 3: Calculate $y$ and verify the result\n",
        "$$\n",
        "y = 5 - 2.5 = 2.5\n",
        "$$\n",
        "\n",
        "### Step 4: Calculate the maximum area\n",
        "$$\n",
        "A = x \\cdot y = 2.5 \\cdot 2.5 = 6.25 \\, \\text{m}^2\n",
        "$$\n",
        "\n",
        "\n",
        "## Final Answer:\n",
        "- The dimensions of the rectangle are:\n",
        "  $$\n",
        "  x = 2.5 \\, \\text{m}, \\, y = 2.5 \\, \\text{m}\n",
        "  $$\n",
        "- The maximum area is:\n",
        "  $$\n",
        "  A = 6.25 \\, \\text{m}^2\n",
        "  $$\n",
        "\n",
        "\n",
        "  ## Geogebra Solution\n",
        "  https://www.geogebra.org/calculator/ackwpzby"
      ],
      "metadata": {
        "id": "iXeYVqI9jQWr"
      }
    },
    {
      "cell_type": "code",
      "source": [
        "from sympy import symbols, diff, solve # Exercise 3\n",
        "\n",
        "x = symbols('x')"
      ],
      "metadata": {
        "id": "DSWMYU9cmhbv"
      },
      "execution_count": 10,
      "outputs": []
    },
    {
      "cell_type": "code",
      "source": [
        "f = x**2 + 3*x - 5"
      ],
      "metadata": {
        "id": "sqKsJeu2mjL8"
      },
      "execution_count": 11,
      "outputs": []
    },
    {
      "cell_type": "code",
      "source": [
        "f_prime = diff(f, x)"
      ],
      "metadata": {
        "id": "45LyEFZpmjEO"
      },
      "execution_count": 12,
      "outputs": []
    },
    {
      "cell_type": "code",
      "source": [
        "critical_points = solve(f_prime, x)"
      ],
      "metadata": {
        "id": "PlHBFY4cmi8u"
      },
      "execution_count": 13,
      "outputs": []
    },
    {
      "cell_type": "code",
      "source": [
        "f_double_prime = diff(f_prime, x)\n"
      ],
      "metadata": {
        "id": "OurXRJ8xmmB6"
      },
      "execution_count": 14,
      "outputs": []
    },
    {
      "cell_type": "code",
      "source": [
        "for point in critical_points:\n",
        "    extremum_value = f.subs(x, point)  # Function value at the extremum point\n",
        "    second_derivative_value = f_double_prime.subs(x, point)  # Second derivative value\n",
        "    if second_derivative_value > 0:\n",
        "        extremum_type = \"Minimum\"\n",
        "    elif second_derivative_value < 0:\n",
        "        extremum_type = \"Maximum\"\n",
        "    else:\n",
        "        extremum_type = \"Saddle Point\"\n",
        "\n",
        "    print(f\"Extremum Type: {extremum_type}\")\n",
        "    print(f\"Extremum Point: x = {point}\")\n",
        "    print(f\"Extremum Value: f(x) = {extremum_value}\")"
      ],
      "metadata": {
        "id": "_XYUkszcml_H",
        "outputId": "28680b61-fbbc-4cc9-82b6-5ec79d560a85",
        "colab": {
          "base_uri": "https://localhost:8080/"
        }
      },
      "execution_count": 16,
      "outputs": [
        {
          "output_type": "stream",
          "name": "stdout",
          "text": [
            "Extremum Type: Minimum\n",
            "Extremum Point: x = -3/2\n",
            "Extremum Value: f(x) = -29/4\n"
          ]
        }
      ]
    },
    {
      "cell_type": "markdown",
      "source": [
        "#Exercise 3\n",
        "\n",
        "### Solution\n",
        "\n",
        "### Step 1: Take the derivative of the function\n",
        "\n",
        "$$f'(x) = 2x + 3$$\n",
        "\n",
        "### Step 2: Set the derivative to zero\n",
        "\n",
        "$$2x + 3 = 0$$  \n",
        "$$x = -\\frac{3}{2}$$\n",
        "\n",
        "### Step 3: Perform the second derivative test\n",
        "\n",
        "$$f''(x) = 2$$\n",
        "\n",
        "Since $f''(x) > 0$, the critical point $x = -\\frac{3}{2}$ is a **minimum**.\n",
        "\n",
        "### Step 4: Calculate the minimum value\n",
        "\n",
        "$$f\\left(-\\frac{3}{2}\\right) = \\left(-\\frac{3}{2}\\right)^2 + 3\\left(-\\frac{3}{2}\\right) - 5$$  \n",
        "$$f\\left(-\\frac{3}{2}\\right) = \\frac{9}{4} - \\frac{9}{2} - 5$$  \n",
        "$$f\\left(-\\frac{3}{2}\\right) = \\frac{9}{4} - \\frac{18}{4} - \\frac{20}{4}$$  \n",
        "$$f\\left(-\\frac{3}{2}\\right) = -\\frac{29}{4}$$\n",
        "\n",
        "### Result\n",
        "- **Minimum Point**:  \n",
        "  $$x = -\\frac{3}{2}$$\n",
        "- **Minimum Value**:  \n",
        "  $$f(x) = -\\frac{29}{4}$$\n",
        "\n",
        "## Geogebra Solution\n",
        "\n",
        "  https://www.geogebra.org/calculator/nt9tc7u4"
      ],
      "metadata": {
        "id": "9Xgm74e_nLmN"
      }
    },
    {
      "cell_type": "code",
      "source": [
        "from sympy import symbols, diff, solve #Exercise 4\n",
        "\n",
        "x = symbols('x')"
      ],
      "metadata": {
        "id": "EM7aB-4EqEPY"
      },
      "execution_count": 17,
      "outputs": []
    },
    {
      "cell_type": "code",
      "source": [
        "f = (x**2 + 2*x + 1) / (x - 1)"
      ],
      "metadata": {
        "id": "W6Oqpo_0qF4C"
      },
      "execution_count": 18,
      "outputs": []
    },
    {
      "cell_type": "code",
      "source": [
        "f_prime = diff(f, x)"
      ],
      "metadata": {
        "id": "TLcZUaYQqFxu"
      },
      "execution_count": 19,
      "outputs": []
    },
    {
      "cell_type": "code",
      "source": [
        "critical_points = solve(f_prime, x)"
      ],
      "metadata": {
        "id": "BqKiTJmbqFrc"
      },
      "execution_count": 20,
      "outputs": []
    },
    {
      "cell_type": "code",
      "source": [
        "for point in critical_points:\n",
        "    print(f\"Critical Point: x = {point}\")"
      ],
      "metadata": {
        "id": "U_b-LTuUqIUc",
        "outputId": "e71875a3-c001-40d3-d304-ad99a7236ae6",
        "colab": {
          "base_uri": "https://localhost:8080/"
        }
      },
      "execution_count": 24,
      "outputs": [
        {
          "output_type": "stream",
          "name": "stdout",
          "text": [
            "Critical Point: x = -1\n",
            "Critical Point: x = 3\n"
          ]
        }
      ]
    },
    {
      "cell_type": "code",
      "source": [
        "    extremum_value = f.subs(x, point)\n",
        "    print(f\"f(x) at x = {point}: {extremum_value}\")"
      ],
      "metadata": {
        "id": "-3kjk9N9qKR2",
        "outputId": "a2c76760-8106-4804-e30f-293aaf9c40c5",
        "colab": {
          "base_uri": "https://localhost:8080/"
        }
      },
      "execution_count": 25,
      "outputs": [
        {
          "output_type": "stream",
          "name": "stdout",
          "text": [
            "f(x) at x = 3: 8\n"
          ]
        }
      ]
    },
    {
      "cell_type": "markdown",
      "source": [
        "# Exercise 4\n",
        "\n",
        "### Solution\n",
        "\n",
        "#### Step 1: Take the derivative of the function\n",
        "\n",
        "$$\\left( \\frac{u(x)}{v(x)} \\right)' = \\frac{u'(x)v(x) - u(x)v'(x)}{[v(x)]^2}$$\n",
        "\n",
        "Let:\n",
        "- $u(x) = x^2 + 2x + 1$\n",
        "- $v(x) = x - 1$\n",
        "\n",
        "\n",
        "$$u'(x) = 2x + 2$$  \n",
        "$$v'(x) = 1$$\n",
        "\n",
        "\n",
        "$$f'(x) = \\frac{(2x + 2)(x - 1) - (x^2 + 2x + 1)(1)}{(x - 1)^2}$$  \n",
        "Simplify;\n",
        "$$f'(x) = \\frac{(2x^2 + 2x - 2x - 2) - (x^2 + 2x + 1)}{(x - 1)^2}$$  \n",
        "$$f'(x) = \\frac{2x^2 - 2 - x^2 - 2x - 1}{(x - 1)^2}$$  \n",
        "$$f'(x) = \\frac{x^2 - 2x - 3}{(x - 1)^2}$$\n",
        "\n",
        "#### Step 2: Solve $f'(x) = 0$\n",
        "\n",
        "$$\\frac{x^2 - 2x - 3}{(x - 1)^2} = 0$$\n",
        "\n",
        "\n",
        "$$x^2 - 2x - 3 = 0$$\n",
        "\n",
        "\n",
        "$$(x - 3)(x + 1) = 0$$\n",
        "\n",
        "\n",
        "$$x = 3 \\quad \\text{and} \\quad x = -1$$\n",
        "\n",
        "#### Step 3: Evaluate the function at the critical points\n",
        "\n",
        "\n",
        "For $x = 3$:\n",
        "$$f(3) = \\frac{3^2 + 2(3) + 1}{3 - 1} = \\frac{9 + 6 + 1}{2} = \\frac{16}{2} = 8$$\n",
        "\n",
        "For $x = -1$:\n",
        "$$f(-1) = \\frac{(-1)^2 + 2(-1) + 1}{-1 - 1} = \\frac{1 - 2 + 1}{-2} = \\frac{0}{-2} = 0$$\n",
        "\n",
        "#### Step 4: Conclusion\n",
        "- The extremum points are at $x = 3$ and $x = -1$.\n",
        "- The function value at $x = 3$ is $f(3) = 8$.\n",
        "- The function value at $x = -1$ is $f(-1) = 0$.\n",
        "\n",
        "Thus, the extremum values are:\n",
        "- At $x = 3$, $f(x) = 8$.\n",
        "- At $x = -1$, $f(x) = 0$.\n",
        "\n",
        "## Geogebra Solution\n",
        "\n",
        "https://www.geogebra.org/calculator/dertwdsc\n"
      ],
      "metadata": {
        "id": "XXYNeYOKq-dy"
      }
    }
  ]
}