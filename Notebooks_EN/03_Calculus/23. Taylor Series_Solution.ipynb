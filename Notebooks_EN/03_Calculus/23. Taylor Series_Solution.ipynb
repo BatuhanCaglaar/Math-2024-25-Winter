{
  "nbformat": 4,
  "nbformat_minor": 0,
  "metadata": {
    "colab": {
      "provenance": []
    },
    "kernelspec": {
      "name": "python3",
      "display_name": "Python 3"
    },
    "language_info": {
      "name": "python"
    }
  },
  "cells": [
    {
      "cell_type": "markdown",
      "source": [
        "## 23. Taylor Series\n",
        "\n",
        "1. Find the Taylor series and visualize obtained functions in Geogebra:\n",
        "   - $f(x) = \\cos(x)$ around $x = 0$ up to the 4th degree.\n",
        "   - $h(x) = 1/(1-x)$ around $x = 0$ up to the 4rd degree.\n",
        "   - $g(x) = \\sin(x)$ around $x = \\pi$ up to the 4rd degree.\n",
        "\n",
        "2. Find a tangent line $y = f'(x_0) (x-x_0) + f(x_0)$ to the function $f(x) = e^{\\sin(x)}$ at $x_0 = \\pi$. Hints for Geogebra visualization: define f(x), include slider s, define y = f'(s) (x-s) + f(s), and include point P(s, f(s)).\n"
      ],
      "metadata": {
        "id": "SVa9rLOXgzJe"
      }
    },
    {
      "cell_type": "markdown",
      "source": [
        "#Solutions"
      ],
      "metadata": {
        "id": "xl9yQ5Y7TumF"
      }
    },
    {
      "cell_type": "code",
      "source": [
        "import sympy as sp  #Exercise 1\n",
        "import math\n",
        "\n",
        "x = sp.Symbol('x')\n",
        "pi = sp.pi\n",
        "\n",
        "\n",
        "f = sp.cos(x)\n",
        "taylor_cos = sp.series(f, x, 0, 5)\n",
        "\n",
        "\n",
        "h = 1 / (1 - x)\n",
        "taylor_h = sp.series(h, x, 0, 5)\n",
        "\n",
        "\n",
        "g = sp.sin(x)\n",
        "taylor_sin = sp.series(g, x, pi, 5)\n",
        "\n",
        "\n",
        "print(\"Taylor Series for cos(x) around x=0:\")\n",
        "print(taylor_cos)\n",
        "print(\"\\nTaylor Series for 1/(1-x) around x=0:\")\n",
        "print(taylor_h)\n",
        "print(\"\\nTaylor Series for sin(x) around x=pi:\")\n",
        "print(taylor_sin)"
      ],
      "metadata": {
        "id": "AhVF1ahrVPKV",
        "outputId": "cbad8044-45f8-41b6-e3d8-218d5374433a",
        "colab": {
          "base_uri": "https://localhost:8080/"
        }
      },
      "execution_count": 1,
      "outputs": [
        {
          "output_type": "stream",
          "name": "stdout",
          "text": [
            "Taylor Series for cos(x) around x=0:\n",
            "1 - x**2/2 + x**4/24 + O(x**5)\n",
            "\n",
            "Taylor Series for 1/(1-x) around x=0:\n",
            "1 + x + x**2 + x**3 + x**4 + O(x**5)\n",
            "\n",
            "Taylor Series for sin(x) around x=pi:\n",
            "pi + (x - pi)**3/6 - x + O((x - pi)**5, (x, pi))\n"
          ]
        }
      ]
    },
    {
      "cell_type": "markdown",
      "source": [
        "# Exercise 1\n",
        "\n",
        "The general formula for the Taylor series of a function $f(x)$ around a point $a$ is:\n",
        "$$\n",
        "f(x) = \\sum_{n=0}^\\infty \\frac{f^{(n)}(a)}{n!} (x-a)^n\n",
        "$$\n",
        "Here, $f^{(n)}(a)$ is the $n$-th derivative of $f(x)$ evaluated at $x = a$.\n",
        "\n",
        "\n",
        "### 1. Taylor Series for $f(x) = \\cos(x)$ around $x = 0$\n",
        "\n",
        "#### Step 1: Compute derivatives of $\\cos(x)$\n",
        "- $f(x) = \\cos(x)$\n",
        "- $f'(x) = -\\sin(x)$\n",
        "- $f''(x) = -\\cos(x)$\n",
        "- $f^{(3)}(x) = \\sin(x)$\n",
        "- $f^{(4)}(x) = \\cos(x)$ (repeats every four terms)\n",
        "\n",
        "#### Step 2: Evaluate derivatives at $x = 0$\n",
        "- $f(0) = \\cos(0) = 1$\n",
        "- $f'(0) = -\\sin(0) = 0$\n",
        "- $f''(0) = -\\cos(0) = -1$\n",
        "- $f^{(3)}(0) = \\sin(0) = 0$\n",
        "- $f^{(4)}(0) = \\cos(0) = 1$\n",
        "\n",
        "#### Step 3: Write the Taylor series\n",
        "\n",
        "$$\n",
        "\\cos(x) \\approx 1 - \\frac{x^2}{2!} + \\frac{x^4}{4!}\n",
        "$$\n",
        "Simplify:\n",
        "$$\n",
        "\\cos(x) \\approx 1 - \\frac{x^2}{2} + \\frac{x^4}{24}\n",
        "$$\n",
        "\n",
        "#Geogebra Solution:\n",
        "\n",
        "https://www.geogebra.org/calculator/qzvpfjgz\n",
        "\n",
        "### 2. Taylor Series for $h(x) = \\frac{1}{1-x}$ around $x = 0$\n",
        "\n",
        "$$\n",
        "\\frac{1}{1-x} = \\sum_{n=0}^\\infty x^n\n",
        "$$\n",
        "\n",
        "#### Step 1: Write the first four terms\n",
        "For $n = 0, 1, 2, 3$, the terms are:\n",
        "$$\n",
        "\\frac{1}{1-x} \\approx 1 + x + x^2 + x^3\n",
        "$$\n",
        "\n",
        "#Geogebra Solution\n",
        "\n",
        "https://www.geogebra.org/calculator/x46jtwa5\n",
        "\n",
        "\n",
        "### 3. Taylor Series for $g(x) = \\sin(x)$ around $x = \\pi$\n",
        "\n",
        "#### Step 1: Compute derivatives of $\\sin(x)$\n",
        "- $g(x) = \\sin(x)$\n",
        "- $g'(x) = \\cos(x)$\n",
        "- $g''(x) = -\\sin(x)$\n",
        "- $g^{(3)}(x) = -\\cos(x)$\n",
        "- $g^{(4)}(x) = \\sin(x)$ (repeats every four terms)\n",
        "\n",
        "#### Step 2: Evaluate derivatives at $x = \\pi$\n",
        "- $g(\\pi) = \\sin(\\pi) = 0$\n",
        "- $g'(\\pi) = \\cos(\\pi) = -1$\n",
        "- $g''(\\pi) = -\\sin(\\pi) = 0$\n",
        "- $g^{(3)}(\\pi) = -\\cos(\\pi) = 1$\n",
        "\n",
        "#### Step 3: Write the Taylor series\n",
        "\n",
        "$$\n",
        "\\sin(x) \\approx g(\\pi) + g'(\\pi)(x-\\pi) + \\frac{g''(\\pi)}{2!}(x-\\pi)^2 + \\frac{g^{(3)}(\\pi)}{3!}(x-\\pi)^3\n",
        "$$\n",
        "Simplify:\n",
        "$$\n",
        "\\sin(x) \\approx 0 - (x-\\pi) + \\frac{(x-\\pi)^3}{6}\n",
        "$$\n",
        "\n",
        "#Geogebra Solution\n",
        "\n",
        "https://www.geogebra.org/calculator/sp4bypkc\n",
        "\n",
        "\n",
        "### Final Results\n",
        "\n",
        "1. **Taylor Series for $\\cos(x)$ around $x = 0$:**\n",
        "   $$\n",
        "   \\cos(x) \\approx 1 - \\frac{x^2}{2} + \\frac{x^4}{24}\n",
        "   $$\n",
        "\n",
        "2. **Taylor Series for $\\frac{1}{1-x}$ around $x = 0$:**\n",
        "   $$\n",
        "   \\frac{1}{1-x} \\approx 1 + x + x^2 + x^3\n",
        "   $$\n",
        "\n",
        "3. **Taylor Series for $\\sin(x)$ around $x = \\pi$:**\n",
        "   $$\n",
        "   \\sin(x) \\approx -(x-\\pi) + \\frac{(x-\\pi)^3}{6}\n",
        "   $$\n",
        "\n",
        "\n"
      ],
      "metadata": {
        "id": "tutNfYrdVc5f"
      }
    }
  ]
}