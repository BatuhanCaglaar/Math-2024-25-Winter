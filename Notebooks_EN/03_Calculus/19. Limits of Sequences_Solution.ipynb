{
  "nbformat": 4,
  "nbformat_minor": 0,
  "metadata": {
    "colab": {
      "provenance": []
    },
    "kernelspec": {
      "name": "python3",
      "display_name": "Python 3"
    },
    "language_info": {
      "name": "python"
    }
  },
  "cells": [
    {
      "cell_type": "markdown",
      "source": [
        "# 19. Limits of Sequences\n",
        "\n",
        "1. Calculate:\n",
        "   - $\\displaystyle \\lim_{n \\to \\infty} \\frac{n^2 + 3n}{2 n^2 - 2n}$\n",
        "\n",
        "   - $\\displaystyle \\lim_{n \\to \\infty} \\frac{(2n+3)^3}{n^3-1}$\n",
        "\n",
        "2. Prove using the squeeze theorem:\n",
        "   - $\\displaystyle\\lim_{n \\to \\infty} \\frac{\\sin(n)}{n}$\n",
        "\n",
        "4. Find the limit of the sequence:\n",
        "   - $a_n = (1+\\frac{1}{n})^n$\n"
      ],
      "metadata": {
        "id": "SVa9rLOXgzJe"
      }
    },
    {
      "cell_type": "markdown",
      "source": [
        "#Solutions\n",
        "\n",
        "##Exercise 1\n",
        "\n",
        "### Given,\n",
        "\n",
        "$$\n",
        "\\lim_{n \\to \\infty} \\frac{n^2 + 3n}{2n^2 - 2n}.\n",
        "$$\n",
        "\n",
        "\n",
        "## Solution:\n",
        "$$\n",
        "\\frac{n^2 + 3n}{2n^2 - 2n} = \\frac{n^2(1 + \\frac{3}{n})}{n^2(2 - \\frac{2}{n})}.\n",
        "$$\n",
        "\\\n",
        "$$\n",
        "\\frac{n^2(1 + \\frac{3}{n})}{n^2(2 - \\frac{2}{n})} = \\frac{1 + \\frac{3}{n}}{2 - \\frac{2}{n}}.\n",
        "$$\n",
        "\\\n",
        "$$\n",
        "\\lim_{n \\to \\infty} \\frac{1 + \\frac{3}{n}}{2 - \\frac{2}{n}} = \\frac{1 + 0}{2 - 0} = \\frac{1}{2}.\n",
        "$$\n",
        "\\\n",
        "$$\n",
        "\\lim_{n \\to \\infty} \\frac{n^2 + 3n}{2n^2 - 2n} = \\frac{1}{2}.\n",
        "$$\n"
      ],
      "metadata": {
        "id": "6_mtEh1AX5rQ"
      }
    },
    {
      "cell_type": "markdown",
      "source": [
        "#Exercise 1.1\n",
        "\n",
        "### Give,\n",
        "\n",
        "$$\n",
        "\\lim_{n \\to \\infty} \\frac{(2n+3)^3}{n^3 - 1}.\n",
        "$$\n",
        "\n",
        "\n",
        "## Solution:\n",
        "\n",
        "$$\n",
        "\\frac{(2n+3)^3}{n^3 - 1} = \\frac{8n^3 + 36n^2 + 54n + 27}{n^3 - 1}.\n",
        "$$\n",
        "\n",
        "\n",
        "\n",
        "$$\n",
        "\\frac{8n^3 + 36n^2 + 54n + 27}{n^3 - 1} = \\frac{n^3 \\left(8 + \\frac{36}{n} + \\frac{54}{n^2} + \\frac{27}{n^3}\\right)}{n^3 \\left(1 - \\frac{1}{n^3}\\right)}.\n",
        "$$\n",
        "\n",
        "\n",
        "$$\n",
        "\\frac{8 + \\frac{36}{n} + \\frac{54}{n^2} + \\frac{27}{n^3}}{1 - \\frac{1}{n^3}}.\n",
        "$$\n",
        "\n",
        "$$\n",
        "\\frac{8 + 0 + 0 + 0}{1 - 0} = \\frac{8}{1} = 8.\n",
        "$$\n",
        "\n",
        "\n",
        "$$\n",
        "\\lim_{n \\to \\infty} \\frac{(2n+3)^3}{n^3 - 1} = 8.\n",
        "$$\n"
      ],
      "metadata": {
        "id": "iLRBNDevd7Yf"
      }
    },
    {
      "cell_type": "markdown",
      "source": [
        "#Exercise 2\n",
        "\n",
        "\n",
        "## Solution:\n",
        "\n",
        "\n",
        "1. **Inequality for $\\sin(n)$:**\n",
        "\n",
        "   Since $-1 \\leq \\sin(n) \\leq 1$, we divide through by $n > 0$:\n",
        "   $$\n",
        "   -\\frac{1}{n} \\leq \\frac{\\sin(n)}{n} \\leq \\frac{1}{n}.\n",
        "   $$\n",
        "\n",
        "\n",
        "\n",
        "2. **Limits of the bounds:**\n",
        "\n",
        "   Evaluate the limits of $-\\frac{1}{n}$ and $\\frac{1}{n}$ as $n \\to \\infty$:\n",
        "   $$\n",
        "   \\lim_{n \\to \\infty} -\\frac{1}{n} = 0 \\quad \\text{and} \\quad \\lim_{n \\to \\infty} \\frac{1}{n} = 0.\n",
        "   $$\n",
        "\n",
        "   Therefore, by the Squeeze Theorem:\n",
        "   $$\n",
        "   \\lim_{n \\to \\infty} \\frac{\\sin(n)}{n} = 0.\n",
        "   $$\n",
        "\n",
        "\n",
        "## Final Answer:\n",
        "$$\n",
        "\\lim_{n \\to \\infty} \\frac{\\sin(n)}{n} = 0.\n",
        "$$\n"
      ],
      "metadata": {
        "id": "mvDBq4Bvbs1I"
      }
    },
    {
      "cell_type": "markdown",
      "source": [
        "#Exercise 3\n",
        "\n",
        "### Given,\n",
        "$$\n",
        "a_n = \\left( 1 + \\frac{1}{n} \\right)^n.\n",
        "$$\n",
        "\n",
        "\n",
        "\n",
        "## Solution:\n",
        "\n",
        "### Step 1: Recognize the definition of \\( e \\)\n",
        "\n",
        "The expression $( \\left( 1 + \\frac{1}{n} \\right)^n )$ is a well-known limit and is closely related to the definition of the number $( e )$.\n",
        "\n",
        "$$\n",
        "\\lim_{n \\to \\infty} \\left( 1 + \\frac{1}{n} \\right)^n = e.\n",
        "$$\n",
        "\n"
      ],
      "metadata": {
        "id": "H3-9ly8hcmvp"
      }
    }
  ]
}
