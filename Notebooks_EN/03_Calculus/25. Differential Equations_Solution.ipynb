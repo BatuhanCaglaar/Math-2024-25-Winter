{
  "nbformat": 4,
  "nbformat_minor": 0,
  "metadata": {
    "colab": {
      "provenance": []
    },
    "kernelspec": {
      "name": "python3",
      "display_name": "Python 3"
    },
    "language_info": {
      "name": "python"
    }
  },
  "cells": [
    {
      "cell_type": "markdown",
      "source": [
        "## 25. Differential Equations\n",
        "\n",
        "1. Solve the following first-order ordinary differential equations:\n",
        "   - $y'(x)= y$\n",
        "   - $y'(x) = \\frac{1}{2y(x)}$\n",
        "  \n",
        "2. Solve the first-order ordinary differential equations using the method of separation of variables for $x$ and $y=y(x)$:\n",
        "\n",
        "   - $\\frac{dy}{dx} = \\frac{x}{y}$\n",
        "   - $\\frac{dy}{dx} = \\frac{y}{x}$\n",
        "   - $\\frac{dy}{dx} = xy$\n",
        "\n",
        "3. Solve the second-order ordinary differential equations:\n",
        "\n",
        "   * $y''(x) + y'(x) = 0$, with boundary conditions $y(0) = 2$ and $y'(0) = -1$\n",
        "\n",
        "   * $y''(x) - y(x)= 0$, with boundary conditions $y(0) = 2$ and $y'(0) = 0$\n",
        "\n",
        "   * $\\frac{d^2\\,y(x)}{dx^2} = -\\omega^2 y(x)$.\n",
        "\n",
        "4. Check if the function $\\psi(t, x) = A \\cos(\\omega t + kx)$ is a solution of the second-order partial differential equation (the so-called \"wave equation\"), where $v = \\frac{\\omega}{k} = \\frac{2\\pi / T}{2\\pi / \\lambda}$:\n",
        "\n",
        "$$\n",
        "\\frac{\\partial^2 \\psi(t, x)}{\\partial t^2} - v^2 \\frac{\\partial^2 \\psi(t, x)}{\\partial x^2} = 0.\n",
        "$$\n"
      ],
      "metadata": {
        "id": "SVa9rLOXgzJe"
      }
    },
    {
      "cell_type": "markdown",
      "source": [
        "#Solutions"
      ],
      "metadata": {
        "id": "ORvG1zJnUi4H"
      }
    },
    {
      "cell_type": "code",
      "source": [
        "from sympy import symbols, Function, Eq, dsolve  #Exercise 1\n",
        "\n",
        "x = symbols('x')\n",
        "y = Function('y')(x)\n",
        "\n",
        "# equation 1: y'(x) = y\n",
        "ode1 = Eq(y.diff(x), y)\n",
        "sol1 = dsolve(ode1)\n",
        "\n",
        "# equation 2: y'(x) = 1 / (2 * y(x))\n",
        "ode2 = Eq(y.diff(x), 1 / (2 * y))\n",
        "sol2 = dsolve(ode2)\n",
        "\n",
        "# solutions\n",
        "print(\"Solution 1: \", sol1)\n",
        "print(\"Solution 2: \", sol2)\n",
        "\n"
      ],
      "metadata": {
        "id": "vJA6j4m7z5Ko",
        "outputId": "3d5ac5f3-f884-4648-995f-45ef87a2bda1",
        "colab": {
          "base_uri": "https://localhost:8080/"
        }
      },
      "execution_count": 2,
      "outputs": [
        {
          "output_type": "stream",
          "name": "stdout",
          "text": [
            "Solution 1:  Eq(y(x), C1*exp(x))\n",
            "Solution 2:  [Eq(y(x), -sqrt(C1 + x)), Eq(y(x), sqrt(C1 + x))]\n"
          ]
        }
      ]
    },
    {
      "cell_type": "markdown",
      "source": [
        "# Exercise 1\n",
        "\n",
        "## 1. First Equation: $$ y'(x) = y $$\n",
        "\n",
        "### Steps:\n",
        "1. Rewrite the equation:\n",
        "   $$\n",
        "   \\frac{dy}{dx} = y\n",
        "   $$\n",
        "2. Separate the variables:\n",
        "   $$\n",
        "   \\frac{1}{y} \\, dy = dx\n",
        "   $$\n",
        "3. Integrate both sides:\n",
        "   $$\n",
        "   \\int \\frac{1}{y} \\, dy = \\int dx\n",
        "   $$\n",
        "   Result:\n",
        "   $$\n",
        "   \\ln|y| = x + C\n",
        "   $$\n",
        "4. Solve for $y$:\n",
        "   $$\n",
        "   y = Ce^x\n",
        "   $$\n",
        "\n",
        "**Solution:**\n",
        "$$\n",
        "y(x) = C e^x\n",
        "$$\n",
        "\n",
        "---\n",
        "\n",
        "## 2. Second Equation: $$ y'(x) = \\frac{1}{2y} $$\n",
        "\n",
        "### Steps:\n",
        "1. Rewrite the equation:\n",
        "   $$\n",
        "   2y \\frac{dy}{dx} = 1\n",
        "   $$\n",
        "2. Separate the variables:\n",
        "   $$\n",
        "   2y \\, dy = dx\n",
        "   $$\n",
        "3. Integrate both sides:\n",
        "   $$\n",
        "   \\int 2y \\, dy = \\int dx\n",
        "   $$\n",
        "   Result:\n",
        "   $$\n",
        "   y^2 = x + C\n",
        "   $$\n",
        "4. Solve for $y$:\n",
        "   $$\n",
        "   y = \\pm\\sqrt{x + C}\n",
        "   $$\n",
        "\n",
        "**Solution:**\n",
        "$$\n",
        "y(x) = \\pm\\sqrt{x + C}\n",
        "$$\n",
        "\n",
        "\n",
        "\n",
        "## Geogebra Graphic\n",
        "\n",
        "https://www.geogebra.org/calculator/rmtqczts"
      ],
      "metadata": {
        "id": "ir09parb1e3r"
      }
    },
    {
      "cell_type": "code",
      "source": [
        "import sympy as sp #Exercise 2\n",
        "x = sp.symbols('x')\n",
        "y = sp.Function('y')(x)\n",
        "\n",
        "# 1. Equation: dy/dx = x/y\n",
        "dy_dx1 = sp.diff(y, x) - (x / y)\n",
        "solution1 = sp.dsolve(dy_dx1, y)\n",
        "print(\"Solution 1:\", solution1)\n",
        "\n",
        "# 2. Equation: dy/dx = y/x\n",
        "dy_dx2 = sp.diff(y, x) - (y / x)\n",
        "solution2 = sp.dsolve(dy_dx2, y)\n",
        "print(\"Solution 2:\", solution2)\n",
        "\n",
        "# 3. Equation: dy/dx = x * y\n",
        "dy_dx3 = sp.diff(y, x) - (x * y)\n",
        "solution3 = sp.dsolve(dy_dx3, y)\n",
        "print(\"Solution 3:\", solution3)\n"
      ],
      "metadata": {
        "id": "tNsEe60k_C1j",
        "outputId": "5c197ebf-f09f-4f70-bf78-29bfe29333b9",
        "colab": {
          "base_uri": "https://localhost:8080/"
        }
      },
      "execution_count": 6,
      "outputs": [
        {
          "output_type": "stream",
          "name": "stdout",
          "text": [
            "Solution 1: [Eq(y(x), -sqrt(C1 + x**2)), Eq(y(x), sqrt(C1 + x**2))]\n",
            "Solution 2: Eq(y(x), C1*x)\n",
            "Solution 3: Eq(y(x), C1*exp(x**2/2))\n"
          ]
        }
      ]
    },
    {
      "cell_type": "markdown",
      "source": [
        "#Exercise 2\n",
        "\n",
        "\n",
        "### 1. Equation:\n",
        "$$\n",
        "\\frac{dy}{dx} = \\frac{x}{y}\n",
        "$$\n",
        "\n",
        "**Step 1:** Separate the variables.\n",
        "$$\n",
        "y \\, dy = x \\, dx\n",
        "$$\n",
        "\n",
        "**Step 2:** Integrate both sides.\n",
        "$$\n",
        "\\int y \\, dy = \\int x \\, dx\n",
        "$$\n",
        "The integrals give:\n",
        "$$\n",
        "\\frac{y^2}{2} = \\frac{x^2}{2} + C\n",
        "$$\n",
        "\n",
        "**Step 3:** Multiply through by 2 to simplify.\n",
        "$$\n",
        "y^2 = x^2 + 2C\n",
        "$$\n",
        "So, the solution is:\n",
        "$$\n",
        "y = \\pm \\sqrt{x^2 + 2C}\n",
        "$$\n",
        "\n",
        "---\n",
        "\n",
        "### 2. Equation:\n",
        "$$\n",
        "\\frac{dy}{dx} = \\frac{y}{x}\n",
        "$$\n",
        "\n",
        "**Step 1:** Separate the variables.\n",
        "$$\n",
        "\\frac{dy}{y} = \\frac{dx}{x}\n",
        "$$\n",
        "\n",
        "**Step 2:** Integrate both sides.\n",
        "$$\n",
        "\\int \\frac{dy}{y} = \\int \\frac{dx}{x}\n",
        "$$\n",
        "The integrals give:\n",
        "$$\n",
        "\\ln |y| = \\ln |x| + C\n",
        "$$\n",
        "\n",
        "**Step 3:** Exponentiate both sides to solve for \\( y \\).\n",
        "$$\n",
        "|y| = e^{\\ln |x| + C} = |x| e^C\n",
        "$$\n",
        "Let \\( A = e^C \\), so the solution is:\n",
        "$$\n",
        "y = A x\n",
        "$$\n",
        "where \\( A \\) is a constant.\n",
        "\n",
        "---\n",
        "\n",
        "### 3. Equation:\n",
        "$$\n",
        "\\frac{dy}{dx} = xy\n",
        "$$\n",
        "\n",
        "**Step 1:** Separate the variables.\n",
        "$$\n",
        "\\frac{dy}{y} = x \\, dx\n",
        "$$\n",
        "\n",
        "**Step 2:** Integrate both sides.\n",
        "$$\n",
        "\\int \\frac{dy}{y} = \\int x \\, dx\n",
        "$$\n",
        "The integrals give:\n",
        "$$\n",
        "\\ln |y| = \\frac{x^2}{2} + C\n",
        "$$\n",
        "\n",
        "**Step 3:** Exponentiate both sides to solve for \\( y \\).\n",
        "$$\n",
        "|y| = e^{\\frac{x^2}{2} + C} = e^{\\frac{x^2}{2}} e^C\n",
        "$$\n",
        "Let \\( B = e^C \\), so the solution is:\n",
        "$$\n",
        "y = B e^{\\frac{x^2}{2}}\n",
        "$$\n",
        "where \\( B \\) is a constant.\n",
        "\n",
        "---\n",
        "\n",
        "### Summary of Solutions:\n",
        "1. $$ y = \\pm \\sqrt{x^2 + 2C} $$\n",
        "2. $$ y = A x $$\n",
        "3. $$ y = B e^{\\frac{x^2}{2}} $$\n"
      ],
      "metadata": {
        "id": "HwuDMNLA_DCc"
      }
    },
    {
      "cell_type": "code",
      "source": [
        "from sympy import symbols, Function, Eq, dsolve, Derivative, sin, cos #Exercise 3\n",
        "x = symbols('x')\n",
        "C1, C2, omega = symbols('C1 C2 omega')\n",
        "y = Function('y')"
      ],
      "metadata": {
        "id": "VcIk82dxDuOa"
      },
      "execution_count": 7,
      "outputs": []
    },
    {
      "cell_type": "code",
      "source": [
        "# 1. Solve y''(x) + y'(x) = 0 with initial conditions y(0) = 2, y'(0) = -1\n",
        "eq1 = Eq(Derivative(y(x), x, x) + Derivative(y(x), x), 0)\n",
        "solution1 = dsolve(eq1, y(x), ics={y(0): 2, y(x).diff(x).subs(x, 0): -1})\n",
        "print(\"1. Solution:\", solution1)"
      ],
      "metadata": {
        "id": "hQ6TWDPsJiQ5",
        "outputId": "77f08382-3e71-4c64-9fa7-98824e2035fc",
        "colab": {
          "base_uri": "https://localhost:8080/"
        }
      },
      "execution_count": 8,
      "outputs": [
        {
          "output_type": "stream",
          "name": "stdout",
          "text": [
            "1. Solution: Eq(y(x), 1 + exp(-x))\n"
          ]
        }
      ]
    },
    {
      "cell_type": "code",
      "source": [
        "# 2. Solve y''(x) - y(x) = 0 with initial conditions y(0) = 2, y'(0) = 0\n",
        "eq2 = Eq(Derivative(y(x), x, x) - y(x), 0)\n",
        "solution2 = dsolve(eq2, y(x), ics={y(0): 2, y(x).diff(x).subs(x, 0): 0})\n",
        "print(\"2. Solution:\", solution2)"
      ],
      "metadata": {
        "id": "EgCzUIIKJhp3",
        "outputId": "495b270e-9ede-4088-8db9-6c3d9f4d1aed",
        "colab": {
          "base_uri": "https://localhost:8080/"
        }
      },
      "execution_count": 9,
      "outputs": [
        {
          "output_type": "stream",
          "name": "stdout",
          "text": [
            "2. Solution: Eq(y(x), exp(x) + exp(-x))\n"
          ]
        }
      ]
    },
    {
      "cell_type": "code",
      "source": [
        "# 3. Solve y''(x) + omega^2 * y(x) = 0 (no initial conditions specified)\n",
        "eq3 = Eq(Derivative(y(x), x, x) + omega**2 * y(x), 0)\n",
        "solution3 = dsolve(eq3, y(x))\n",
        "print(\"3. Solution:\", solution3)"
      ],
      "metadata": {
        "id": "emfeHHLCJhgp",
        "outputId": "40ac33f7-9b6f-4c15-f764-3995cf753f47",
        "colab": {
          "base_uri": "https://localhost:8080/"
        }
      },
      "execution_count": 10,
      "outputs": [
        {
          "output_type": "stream",
          "name": "stdout",
          "text": [
            "3. Solution: Eq(y(x), C1*exp(-I*omega*x) + C2*exp(I*omega*x))\n"
          ]
        }
      ]
    },
    {
      "cell_type": "markdown",
      "source": [
        "# Exercise 3\n",
        "\n",
        "#### **1. Equation**  \n",
        "$y''(x) + y'(x) = 0, \\quad y(0) = 2, \\, y'(0) = -1$\n",
        "\n",
        "##### Step 1: The homogeneous solution  \n",
        "The characteristic equation of the differential equation is:  \n",
        "$r^2 + r = 0$  \n",
        "$r(r + 1) = 0 \\implies r = 0 \\, \\text{and} \\, r = -1$\n",
        "\n",
        "The general solution is:  \n",
        "$y(x) = C_1 + C_2 e^{-x}$\n",
        "\n",
        "##### Step 2: Initial conditions  \n",
        "- For $y(0) = 2$:  \n",
        "  $y(0) = C_1 + C_2 e^0 = C_1 + C_2 = 2$\n",
        "\n",
        "- The derivative is $y'(x) = -C_2 e^{-x}$. For $y'(0) = -1$:  \n",
        "  $y'(0) = -C_2 e^0 = -C_2 = -1 \\implies C_2 = 1$\n",
        "\n",
        "Substitute $C_2 = 1$:  \n",
        "$C_1 + 1 = 2 \\implies C_1 = 1$\n",
        "\n",
        "##### Final Solution:  \n",
        "$y(x) = 1 + e^{-x}$\n",
        "\n",
        "---\n",
        "\n",
        "#### **2. Equation**  \n",
        "$y''(x) - y(x) = 0, \\quad y(0) = 2, \\, y'(0) = 0$\n",
        "\n",
        "##### Step 1: The homogeneous solution  \n",
        "The characteristic equation of the differential equation is:  \n",
        "$r^2 - 1 = 0$  \n",
        "$r = \\pm 1$\n",
        "\n",
        "The general solution is:  \n",
        "$y(x) = C_1 e^x + C_2 e^{-x}$\n",
        "\n",
        "##### Step 2: Initial conditions  \n",
        "- For $y(0) = 2$:  \n",
        "  $y(0) = C_1 e^0 + C_2 e^0 = C_1 + C_2 = 2$\n",
        "\n",
        "- The derivative is $y'(x) = C_1 e^x - C_2 e^{-x}$. For $y'(0) = 0$:  \n",
        "  $y'(0) = C_1 e^0 - C_2 e^0 = C_1 - C_2 = 0 \\implies C_1 = C_2$\n",
        "\n",
        "Substitute $C_1 = C_2$:  \n",
        "$C_1 + C_1 = 2 \\implies 2C_1 = 2 \\implies C_1 = 1 \\, \\text{and} \\, C_2 = 1$\n",
        "\n",
        "##### Final Solution:  \n",
        "$y(x) = e^x + e^{-x}$\n",
        "\n",
        "---\n",
        "\n",
        "#### **3. Equation**  \n",
        "$\\frac{d^2 y(x)}{dx^2} = -\\omega^2 y(x)$\n",
        "\n",
        "##### Step 1: The homogeneous solution  \n",
        "The characteristic equation of the differential equation is:  \n",
        "$r^2 + \\omega^2 = 0$  \n",
        "$r = \\pm i\\omega$\n",
        "\n",
        "The general solution (converted to trigonometric form) is:  \n",
        "$y(x) = C_1 \\cos(\\omega x) + C_2 \\sin(\\omega x)$\n",
        "\n",
        "##### Final Solution:  \n",
        "$y(x) = C_1 \\cos(\\omega x) + C_2 \\sin(\\omega x)$\n",
        "\n",
        "---\n",
        "\n",
        "### Final Solutions:\n",
        "\n",
        "1. $y(x) = 1 + e^{-x}$  \n",
        "2. $y(x) = e^x + e^{-x}$  \n",
        "3. $y(x) = C_1 \\cos(\\omega x) + C_2 \\sin(\\omega x)$\n"
      ],
      "metadata": {
        "id": "qMCyb_6wD01a"
      }
    },
    {
      "cell_type": "code",
      "source": [
        "import sympy as sp  # Exercise 4\n",
        "\n",
        "t, x, A, omega, k = sp.symbols('t x A omega k')\n",
        "\n",
        "# Define the function psi(t, x)\n",
        "psi = A * sp.cos(omega * t + k * x)\n",
        "\n",
        "# Compute the second partial derivatives\n",
        "psi_t2 = sp.diff(psi, t, 2)  # Second derivative with respect to t\n",
        "psi_x2 = sp.diff(psi, x, 2)  # Second derivative with respect to x\n",
        "\n",
        "# Define v^2 as omega^2 / k^2\n",
        "v_squared = omega**2 / k**2\n",
        "\n",
        "# Wave equation: (d^2/dt^2)psi - v^2 * (d^2/dx^2)psi\n",
        "wave_eq = psi_t2 - v_squared * psi_x2\n",
        "\n",
        "# Simplify the equation to check if it is zero\n",
        "simplified_eq = sp.simplify(wave_eq)\n",
        "\n",
        "# Print the second derivatives and the simplified wave equation\n",
        "print(\"Second derivative with respect to t:\")\n",
        "print(psi_t2)\n",
        "\n",
        "print(\"\\nSecond derivative with respect to x:\")\n",
        "print(psi_x2)\n",
        "\n",
        "print(\"\\nSimplified wave equation:\")\n",
        "print(simplified_eq)\n",
        "\n"
      ],
      "metadata": {
        "id": "jiKlqAWiMl8x",
        "outputId": "1ab6c64c-259e-429c-9851-be5ae3cbebcb",
        "colab": {
          "base_uri": "https://localhost:8080/"
        }
      },
      "execution_count": 12,
      "outputs": [
        {
          "output_type": "stream",
          "name": "stdout",
          "text": [
            "Second derivative with respect to t:\n",
            "-A*omega**2*cos(k*x + omega*t)\n",
            "\n",
            "Second derivative with respect to x:\n",
            "-A*k**2*cos(k*x + omega*t)\n",
            "\n",
            "Simplified wave equation:\n",
            "0\n"
          ]
        }
      ]
    },
    {
      "cell_type": "markdown",
      "source": [
        "#Exercise 4\n",
        "\n",
        "\n",
        "### Checking if the Function $\\psi(t, x) = A \\cos(\\omega t + kx)$ is a Solution of the Wave Equation\n",
        "\n",
        "$$\n",
        "\\psi(t, x) = A \\cos(\\omega t + kx)\n",
        "$$  \n",
        "is a solution of the **wave equation**:  \n",
        "$$\n",
        "\\frac{\\partial^2 \\psi(t, x)}{\\partial t^2} - v^2 \\frac{\\partial^2 \\psi(t, x)}{\\partial x^2} = 0,\n",
        "$$  \n",
        "where $v = \\frac{\\omega}{k}$.\n",
        "\n",
        "---\n",
        "\n",
        "### Step 1: Compute $\\frac{\\partial^2 \\psi}{\\partial t^2}$\n",
        "The given function is:  \n",
        "$$\n",
        "\\psi(t, x) = A \\cos(\\omega t + kx).\n",
        "$$  \n",
        "\n",
        "**First derivative with respect to $t$:**  \n",
        "$$\n",
        "\\frac{\\partial \\psi}{\\partial t} = -A \\omega \\sin(\\omega t + kx).\n",
        "$$  \n",
        "\n",
        "**Second derivative with respect to $t$:**  \n",
        "$$\n",
        "\\frac{\\partial^2 \\psi}{\\partial t^2} = -A \\omega^2 \\cos(\\omega t + kx).\n",
        "$$  \n",
        "\n",
        "---\n",
        "\n",
        "### Step 2: Compute $\\frac{\\partial^2 \\psi}{\\partial x^2}$\n",
        "**First derivative with respect to $x$:**  \n",
        "$$\n",
        "\\frac{\\partial \\psi}{\\partial x} = -A k \\sin(\\omega t + kx).\n",
        "$$  \n",
        "\n",
        "**Second derivative with respect to $x$:**  \n",
        "$$\n",
        "\\frac{\\partial^2 \\psi}{\\partial x^2} = -A k^2 \\cos(\\omega t + kx).\n",
        "$$  \n",
        "\n",
        "---\n",
        "\n",
        "### Step 3: Substitute into the Wave Equation\n",
        "The wave equation is:  \n",
        "$$\n",
        "\\frac{\\partial^2 \\psi}{\\partial t^2} - v^2 \\frac{\\partial^2 \\psi}{\\partial x^2} = 0.\n",
        "$$  \n",
        "\n",
        "Substitute $\\frac{\\partial^2 \\psi}{\\partial t^2}$ and $\\frac{\\partial^2 \\psi}{\\partial x^2}$:  \n",
        "$$\n",
        "-A \\omega^2 \\cos(\\omega t + kx) - v^2 (-A k^2 \\cos(\\omega t + kx)) = 0.\n",
        "$$  \n",
        "\n",
        "Factor out $-A \\cos(\\omega t + kx)$:  \n",
        "$$\n",
        "-A \\cos(\\omega t + kx) \\left(\\omega^2 - v^2 k^2 \\right) = 0.\n",
        "$$  \n",
        "\n",
        "Since $-A \\cos(\\omega t + kx) \\neq 0$, we require:  \n",
        "$$\n",
        "\\omega^2 - v^2 k^2 = 0.\n",
        "$$  \n",
        "\n",
        "---\n",
        "\n",
        "### Step 4: Check the Wave Speed Relation\n",
        "\n",
        "$$\n",
        "\\omega^2 - \\frac{\\omega^2}{k^2} k^2 = 0.\n",
        "$$  \n",
        "\n",
        "Simplify:  \n",
        "$$\n",
        "\\omega^2 - \\omega^2 = 0.\n",
        "$$  \n",
        "\n",
        "This is satisfied, confirming that the wave speed $v = \\frac{\\omega}{k}$ holds.\n",
        "\n",
        "---\n",
        "\n",
        "### Conclusion\n",
        "The function $\\psi(t, x) = A \\cos(\\omega t + kx)$ satisfies the wave equation:  \n",
        "$$\n",
        "\\frac{\\partial^2 \\psi(t, x)}{\\partial t^2} - v^2 \\frac{\\partial^2 \\psi(t, x)}{\\partial x^2} = 0.\n",
        "$$  \n",
        "Hence, it is a solution.\n"
      ],
      "metadata": {
        "id": "Umlf5_piMmK-"
      }
    }
  ]
}