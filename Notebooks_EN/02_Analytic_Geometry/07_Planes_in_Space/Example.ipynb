{
  "nbformat": 4,
  "nbformat_minor": 0,
  "metadata": {
    "colab": {
      "provenance": []
    },
    "kernelspec": {
      "name": "python3",
      "display_name": "Python 3"
    },
    "language_info": {
      "name": "python"
    }
  },
  "cells": [
    {
      "cell_type": "markdown",
      "source": [
        "# Exercises\n",
        "\n",
        "* The plane passes through points $A(1, 2, 3)$, $B(3, 4, 5)$, and $C(2, 1, 4)$. Find the equation of the plane.\n",
        "* The plane passes through point $A(1, 2, 3)$ and is parallel to the plane $2x + 3y + 4z = 5$. Find the equation of the plane.\n",
        "* The plane passes through point $A(1, 2, 3)$ and is perpendicular to the normal vector $\\vec{n} = [2, 3, 4]$. Find the equation of the plane.\n",
        "* We have two planes $2x + 3y + 4z = 5$ and $3x + 4y + 2z = 6$. Find the line of intersection of these planes.\n",
        "* Write the equation of the plane passing through point $A(1, 2, 3)$ and parallel to vectors $\\vec{v_1} = [1, 0, 1]$ and $\\vec{v_2} = [0, 1, -1]$.\n",
        "* We have the plane $2x + 3y + 4z = 5$. Find an example of a plane parallel and perpendicular to it.\n",
        "* We have the plane $2x + 3y + 4z = 5$ and point $A(1, 2, 3)$. Find the distance from point $A$ to this plane.\n",
        "* The plane intersects the coordinate axes at points $A(2, 0, 0)$, $B(0, 3, 0)$, and $C(0, 0, 4)$. Find the equation of the plane.\n",
        "* Calculate the angle between the plane $x + y + z = 1$ and the plane $x = 0$ (i.e., the $yz$ plane).\n",
        "* Find the vector perpendicular to the plane $x + y + z = 1$."
      ],
      "metadata": {
        "id": "3wgcdwT5hFQH"
      }
    },
    {
      "cell_type": "code",
      "source": [
        "import numpy as np   #Exercise 1\n",
        "\n",
        "A = np.array([1, 2, 3])\n",
        "B = np.array([3, 4, 5])\n",
        "C = np.array([2, 1, 4])"
      ],
      "metadata": {
        "id": "LqItIWt0g7mb"
      },
      "execution_count": 1,
      "outputs": []
    },
    {
      "cell_type": "code",
      "source": [
        "AB = B - A\n",
        "AC = C - A"
      ],
      "metadata": {
        "id": "V0HvoosCY8HB"
      },
      "execution_count": 2,
      "outputs": []
    },
    {
      "cell_type": "code",
      "source": [
        "normal_vector = np.cross(AB, AC)"
      ],
      "metadata": {
        "id": "yQR_0IZ1Y8Ah"
      },
      "execution_count": 3,
      "outputs": []
    },
    {
      "cell_type": "code",
      "source": [
        "A_coef, B_coef, C_coef = normal_vector\n",
        "D_coef = -np.dot(normal_vector, A)"
      ],
      "metadata": {
        "id": "Sum5zr_Ga0-4"
      },
      "execution_count": 4,
      "outputs": []
    },
    {
      "cell_type": "code",
      "source": [
        "print(f\"The equation of the plane is: {A_coef}x + {B_coef}y + {C_coef}z + {D_coef} = 0\")"
      ],
      "metadata": {
        "id": "2sOhv5r-a00q",
        "outputId": "1b44fda6-3d13-456e-d297-41a68f8d6335",
        "colab": {
          "base_uri": "https://localhost:8080/"
        }
      },
      "execution_count": 5,
      "outputs": [
        {
          "output_type": "stream",
          "name": "stdout",
          "text": [
            "The equation of the plane is: 4x + 0y + -4z + 8 = 0\n"
          ]
        }
      ]
    },
    {
      "cell_type": "markdown",
      "source": [
        "### Problem\n",
        "\n",
        "We are tasked to find the equation of a plane that passes through three points:  \n",
        "$ A(1, 2, 3), \\ B(3, 4, 5), \\ C(2, 1, 4). $\n",
        "\n",
        "### Solution\n",
        "\n",
        "The equation of a plane is given by:\n",
        "$$\n",
        "a(x - x_0) + b(y - y_0) + c(z - z_0) = 0\n",
        "$$\n",
        "where $(x_0, y_0, z_0)$ is a point on the plane, and $(a, b, c)$ is a normal vector to the plane.\n",
        "\n",
        "#### Step 1: Find two vectors on the plane\n",
        "Vectors $\\vec{AB}$ and $\\vec{AC}$ lie on the plane:\n",
        "$$\n",
        "\\vec{AB} = \\langle 3 - 1, 4 - 2, 5 - 3 \\rangle = \\langle 2, 2, 2 \\rangle\n",
        "$$\n",
        "$$\n",
        "\\vec{AC} = \\langle 2 - 1, 1 - 2, 4 - 3 \\rangle = \\langle 1, -1, 1 \\rangle\n",
        "$$\n",
        "\n",
        "#### Step 2: Compute the normal vector\n",
        "The normal vector to the plane, $\\vec{n}$, is the cross product of $\\vec{AB}$ and $\\vec{AC}$:\n",
        "$$\n",
        "\\vec{n} = \\vec{AB} \\times \\vec{AC}\n",
        "$$\n",
        "Using the determinant formula for the cross product:\n",
        "$$\n",
        "\\vec{n} = \\begin{vmatrix}\n",
        "\\mathbf{i} & \\mathbf{j} & \\mathbf{k} \\\\\n",
        "2 & 2 & 2 \\\\\n",
        "1 & -1 & 1\n",
        "\\end{vmatrix}\n",
        "$$\n",
        "Expand the determinant:\n",
        "$$\n",
        "\\vec{n} = \\mathbf{i} \\begin{vmatrix} 2 & 2 \\\\ -1 & 1 \\end{vmatrix} - \\mathbf{j} \\begin{vmatrix} 2 & 2 \\\\ 1 & 1 \\end{vmatrix} + \\mathbf{k} \\begin{vmatrix} 2 & 2 \\\\ 1 & -1 \\end{vmatrix}\n",
        "$$\n",
        "$$\n",
        "\\vec{n} = \\mathbf{i} (2 - (-2)) - \\mathbf{j} (2 - 2) + \\mathbf{k} (-2 - 2)\n",
        "$$\n",
        "$$\n",
        "\\vec{n} = \\mathbf{i}(4) - \\mathbf{j}(0) + \\mathbf{k}(-4)\n",
        "$$\n",
        "$$\n",
        "\\vec{n} = \\langle 4, 0, -4 \\rangle\n",
        "$$\n",
        "\n",
        "#### Step 3: Write the equation of the plane\n",
        "The normal vector is $\\vec{n} = \\langle 4, 0, -4 \\rangle$, and the plane passes through point $A(1, 2, 3)$. Substituting into the plane equation:\n",
        "$$\n",
        "4(x - 1) + 0(y - 2) - 4(z - 3) = 0\n",
        "$$\n",
        "Simplify:\n",
        "$$\n",
        "4x - 4 - 4z + 12 = 0\n",
        "$$\n",
        "$$\n",
        "4x - 4z + 8 = 0\n",
        "$$\n",
        "\n",
        "#### Final Answer\n",
        "The equation of the plane is:\n",
        "$$\n",
        "4x - 4z + 8 = 0\n",
        "$$\n"
      ],
      "metadata": {
        "id": "wRMUfc0HZcxu"
      }
    },
    {
      "cell_type": "code",
      "source": [
        "import sympy as sp #Exercise 2\n",
        "\n",
        "# Define variables\n",
        "x, y, z = sp.symbols('x y z')"
      ],
      "metadata": {
        "id": "sX6nuAtHbTcB"
      },
      "execution_count": 18,
      "outputs": []
    },
    {
      "cell_type": "code",
      "source": [
        "A = (1, 2, 3)  # Point on the plane\n",
        "normal_vector = (2, 3, 4)  # Normal vector to the plane"
      ],
      "metadata": {
        "id": "onTvG0PibTXN"
      },
      "execution_count": 19,
      "outputs": []
    },
    {
      "cell_type": "code",
      "source": [
        "x0, y0, z0 = A\n",
        "a, b, c = normal_vector"
      ],
      "metadata": {
        "id": "mV4tLE9AbTP9"
      },
      "execution_count": 20,
      "outputs": []
    },
    {
      "cell_type": "code",
      "source": [
        "plane_eq = a * (x - x0) + b * (y - y0) + c * (z - z0)"
      ],
      "metadata": {
        "id": "6_kWUli9bifj"
      },
      "execution_count": 21,
      "outputs": []
    },
    {
      "cell_type": "code",
      "source": [
        "plane_eq_simplified = sp.expand(plane_eq)\n",
        "plane_eq_simplified"
      ],
      "metadata": {
        "id": "15NhqA0Ybk2v",
        "outputId": "683484ae-8ab2-446f-9254-468ec7cfa34c",
        "colab": {
          "base_uri": "https://localhost:8080/",
          "height": 38
        }
      },
      "execution_count": 23,
      "outputs": [
        {
          "output_type": "execute_result",
          "data": {
            "text/plain": [
              "2*x + 3*y + 4*z - 20"
            ],
            "text/latex": "$\\displaystyle 2 x + 3 y + 4 z - 20$"
          },
          "metadata": {},
          "execution_count": 23
        }
      ]
    },
    {
      "cell_type": "markdown",
      "source": [
        "### Problem\n",
        "\n",
        "We are tasked with finding the equation of a plane that passes through the point \\(A(1, 2, 3)\\) and is parallel to the plane:\n",
        "\n",
        "$$\n",
        "2x + 3y + 4z = 5\n",
        "$$\n",
        "\n",
        "### Solution\n",
        "\n",
        "#### Step 1: General Form of the Plane\n",
        "The general equation of a plane is:\n",
        "\n",
        "$$\n",
        "2x + 3y + 4z + D = 0\n",
        "$$\n",
        "\n",
        "Since the required plane is parallel to the given plane, it shares the same normal vector. The normal vector of the plane is \\(\\vec{n} = [2, 3, 4]\\).\n",
        "\n",
        "#### Step 2: Substitute Point \\(A(1, 2, 3)\\) into the Plane Equation\n",
        "The point \\(A(1, 2, 3)\\) satisfies the equation of the plane. Substitute \\(x = 1\\), \\(y = 2\\), and \\(z = 3\\) into the general equation to find \\(D\\):\n",
        "\n",
        "$$\n",
        "2(1) + 3(2) + 4(3) + D = 0\n",
        "$$\n",
        "\n",
        "Simplify:\n",
        "$$\n",
        "2 + 6 + 12 + D = 0\n",
        "$$\n",
        "$$\n",
        "20 + D = 0\n",
        "$$\n",
        "$$\n",
        "D = -20\n",
        "$$\n",
        "\n",
        "#### Step 3: Write the Equation of the Plane\n",
        "Substitute \\(D = -20\\) back into the general form of the plane:\n",
        "\n",
        "$$\n",
        "2x + 3y + 4z - 20 = 0\n",
        "$$\n",
        "\n",
        "### Final Answer\n",
        "The equation of the plane is:\n",
        "\n",
        "$$\n",
        "2x + 3y + 4z - 20 = 0\n",
        "$$\n"
      ],
      "metadata": {
        "id": "oDuyjsc3bTod"
      }
    },
    {
      "cell_type": "code",
      "source": [
        "import sympy as sp  #Exercise 3\n",
        "x, y, z = sp.symbols('x y z')"
      ],
      "metadata": {
        "id": "fncTXoVUwpyY"
      },
      "execution_count": 24,
      "outputs": []
    },
    {
      "cell_type": "code",
      "source": [
        "point = (1, 2, 3)  # A point on the plane\n",
        "normal_vector = (2, 3, 4)  # Normal vector to the plane"
      ],
      "metadata": {
        "id": "iivewgKPwpt-"
      },
      "execution_count": 25,
      "outputs": []
    },
    {
      "cell_type": "code",
      "source": [
        "x1, y1, z1 = point\n",
        "A, B, C = normal_vector"
      ],
      "metadata": {
        "id": "AX8-lRkUwpn7"
      },
      "execution_count": 26,
      "outputs": []
    },
    {
      "cell_type": "code",
      "source": [
        "plane_equation = A * (x - x1) + B * (y - y1) + C * (z - z1)\n"
      ],
      "metadata": {
        "id": "aK-H70TpxBSM"
      },
      "execution_count": 27,
      "outputs": []
    },
    {
      "cell_type": "code",
      "source": [
        "plane_equation = sp.simplify(plane_equation)"
      ],
      "metadata": {
        "id": "k2HWLIZvxBHQ"
      },
      "execution_count": 28,
      "outputs": []
    },
    {
      "cell_type": "code",
      "source": [
        "print(f\"The equation of the plane is: {plane_equation} = 0\")"
      ],
      "metadata": {
        "id": "2G74hFYnxASP",
        "outputId": "caa3705e-d77f-48e3-cd68-abb04e8cc04e",
        "colab": {
          "base_uri": "https://localhost:8080/"
        }
      },
      "execution_count": 29,
      "outputs": [
        {
          "output_type": "stream",
          "name": "stdout",
          "text": [
            "The equation of the plane is: 2*x + 3*y + 4*z - 20 = 0\n"
          ]
        }
      ]
    },
    {
      "cell_type": "markdown",
      "source": [
        "**Step 1: Writing the General Equation of the Plane**\n",
        "\n",
        "The general equation of a plane is:\n",
        "\n",
        "$Ax + By + Cz = D$\n",
        "\n",
        "Here, $[A, B, C]$ is the normal vector to the plane, and $D$ is a constant that can be determined using a point on the plane.\n",
        "\n",
        "**Step 2: Substituting the Given Information**\n",
        "\n",
        "Given:\n",
        "- The plane passes through the point $A(1, 2, 3)$.\n",
        "- The normal vector to the plane is $\\vec{n} = [2, 3, 4]$.\n",
        "\n",
        "Substituting the components of the normal vector into the general equation:\n",
        "\n",
        "$2x + 3y + 4z = D$\n",
        "\n",
        "**Step 3: Using the Point to Find $D$**\n",
        "\n",
        "The point $A(1, 2, 3)$ lies on the plane, so substitute $x = 1$, $y = 2$, and $z = 3$ into the equation:\n",
        "\n",
        "$2(1) + 3(2) + 4(3) = D$\n",
        "\n",
        "$2 + 6 + 12 = D$\n",
        "\n",
        "$D = 20$\n",
        "\n",
        "**Step 4: Final Equation of the Plane**\n",
        "\n",
        "Substitute $D = 20$ into the plane's equation:\n",
        "\n",
        "$2x + 3y + 4z = 20$\n",
        "\n",
        "**Final Answer:**\n",
        "\n",
        "The equation of the plane is:\n",
        "\n",
        "$2x + 3y + 4z = 20$\n"
      ],
      "metadata": {
        "id": "1f1dfMlWwp_l"
      }
    },
    {
      "cell_type": "code",
      "source": [
        "import sympy as sp  # Exercise 4\n",
        "x, y, z, t = sp.symbols('x y z t')"
      ],
      "metadata": {
        "id": "E3YkJFQ2z0SN"
      },
      "execution_count": 30,
      "outputs": []
    },
    {
      "cell_type": "code",
      "source": [
        "plane1 = 2 * x + 3 * y + 4 * z - 5\n",
        "plane2 = 3 * x + 4 * y + 2 * z - 6"
      ],
      "metadata": {
        "id": "0sjmRa_yz0Or"
      },
      "execution_count": 31,
      "outputs": []
    },
    {
      "cell_type": "code",
      "source": [
        "n1 = sp.Matrix([2, 3, 4])  # Normal vector of plane 1\n",
        "n2 = sp.Matrix([3, 4, 2])  # Normal vector of plane 2\n",
        "direction_vector = n1.cross(n2)"
      ],
      "metadata": {
        "id": "7eQf4NeQz0K9"
      },
      "execution_count": 32,
      "outputs": []
    },
    {
      "cell_type": "code",
      "source": [
        "solution = sp.solve([plane1.subs(z, 0), plane2.subs(z, 0)], [x, y])\n",
        "point_on_line = (solution[x], solution[y], 0)"
      ],
      "metadata": {
        "id": "P5U79WyO1HK3"
      },
      "execution_count": 33,
      "outputs": []
    },
    {
      "cell_type": "code",
      "source": [
        "parametric_line = (\n",
        "    point_on_line[0] + t * direction_vector[0],\n",
        "    point_on_line[1] + t * direction_vector[1],\n",
        "    point_on_line[2] + t * direction_vector[2],\n",
        ")\n"
      ],
      "metadata": {
        "id": "JSdIurXZ1HEg"
      },
      "execution_count": 34,
      "outputs": []
    },
    {
      "cell_type": "code",
      "source": [
        "print(f\"Direction vector of the line: {direction_vector}\")\n",
        "print(f\"Point on the line: {point_on_line}\")\n",
        "print(f\"Parametric equation of the line: x = {parametric_line[0]}, y = {parametric_line[1]}, z = {parametric_line[2]}\")"
      ],
      "metadata": {
        "id": "L-nh9-Cx1HB0",
        "outputId": "a65ba8c0-d5ee-4cdc-faa9-8c932d75cf66",
        "colab": {
          "base_uri": "https://localhost:8080/"
        }
      },
      "execution_count": 35,
      "outputs": [
        {
          "output_type": "stream",
          "name": "stdout",
          "text": [
            "Direction vector of the line: Matrix([[-10], [8], [-1]])\n",
            "Point on the line: (-2, 3, 0)\n",
            "Parametric equation of the line: x = -10*t - 2, y = 8*t + 3, z = -t\n"
          ]
        }
      ]
    },
    {
      "cell_type": "markdown",
      "source": [
        "### Finding the Line of Intersection of Two Planes\n",
        "\n",
        "#### Given Planes:\n",
        "1. $$2x + 3y + 4z = 5$$\n",
        "2. $$3x + 4y + 2z = 6$$\n",
        "\n",
        "\n",
        "\n",
        "### Step 1: Direction Vector of the Line\n",
        "The direction vector $\\vec{d}$ is perpendicular to the normal vectors of the planes:\n",
        "- Normal vector of plane 1: $\\vec{n_1} = [2, 3, 4]$\n",
        "- Normal vector of plane 2: $\\vec{n_2} = [3, 4, 2]$\n",
        "\n",
        "The direction vector $\\vec{d}$ is given by the cross product $\\vec{n_1} \\times \\vec{n_2}$:\n",
        "\n",
        "$$\n",
        "\\vec{d} = \\begin{vmatrix}\n",
        "\\hat{i} & \\hat{j} & \\hat{k} \\\\\n",
        "2 & 3 & 4 \\\\\n",
        "3 & 4 & 2\n",
        "\\end{vmatrix}\n",
        "$$\n",
        "\n",
        "Expanding the determinant:\n",
        "\n",
        "$$\n",
        "\\vec{d} = \\hat{i} \\begin{vmatrix} 3 & 4 \\\\ 4 & 2 \\end{vmatrix}\n",
        "- \\hat{j} \\begin{vmatrix} 2 & 4 \\\\ 3 & 2 \\end{vmatrix}\n",
        "+ \\hat{k} \\begin{vmatrix} 2 & 3 \\\\ 3 & 4 \\end{vmatrix}\n",
        "$$\n",
        "\n",
        "$$\n",
        "\\vec{d} = \\hat{i} (3 \\cdot 2 - 4 \\cdot 4) - \\hat{j} (2 \\cdot 2 - 4 \\cdot 3) + \\hat{k} (2 \\cdot 4 - 3 \\cdot 3)\n",
        "$$\n",
        "\n",
        "$$\n",
        "\\vec{d} = \\hat{i} (-10) - \\hat{j} (-8) + \\hat{k} (-1)\n",
        "$$\n",
        "\n",
        "$$\n",
        "\\vec{d} = [-10, 8, -1]\n",
        "$$\n",
        "\n",
        "The direction vector of the line is $\\vec{d} = [-10, 8, -1]$.\n",
        "\n",
        "\n",
        "### Step 2: Finding a Point on the Line\n",
        "To find a point on the line, solve the plane equations simultaneously. Assume $z = 0$ for simplicity.\n",
        "\n",
        "#### Substituting $z = 0$:\n",
        "1. From the first plane: $$2x + 3y = 5$$\n",
        "2. From the second plane: $$3x + 4y = 6$$\n",
        "\n",
        "Solve the linear system:\n",
        "$$\n",
        "2x + 3y = 5 \\tag{1}\n",
        "$$\n",
        "$$\n",
        "3x + 4y = 6 \\tag{2}\n",
        "$$\n",
        "\n",
        "Multiply (1) by 3 and (2) by 2:\n",
        "$$\n",
        "6x + 9y = 15 \\tag{3}\n",
        "$$\n",
        "$$\n",
        "6x + 8y = 12 \\tag{4}\n",
        "$$\n",
        "\n",
        "Subtract (4) from (3):\n",
        "$$\n",
        "y = 3\n",
        "$$\n",
        "\n",
        "Substitute $y = 3$ into (1):\n",
        "$$\n",
        "2x + 3(3) = 5\n",
        "$$\n",
        "$$\n",
        "2x + 9 = 5\n",
        "$$\n",
        "$$\n",
        "2x = -4 \\implies x = -2\n",
        "$$\n",
        "\n",
        "Thus, a point on the line is $(-2, 3, 0)$.\n",
        "\n",
        "\n",
        "### Step 3: Parametric Equation of the Line\n",
        "The parametric equation of the line is:\n",
        "$$\n",
        "\\vec{r}(t) = \\vec{p} + t \\vec{d}\n",
        "$$\n",
        "where $\\vec{p} = (-2, 3, 0)$ is a point on the line, and $\\vec{d} = [-10, 8, -1]$ is the direction vector.\n",
        "\n",
        "Substitute the values:\n",
        "$$\n",
        "x = -2 - 10t, \\quad y = 3 + 8t, \\quad z = -t\n",
        "$$\n",
        "\n",
        "\n",
        "\n",
        "### Final Answer:\n",
        "The line of intersection of the planes is:\n",
        "$$\n",
        "x = -2 - 10t, \\quad y = 3 + 8t, \\quad z = -t, \\quad t \\in \\mathbb{R}.\n",
        "$$\n"
      ],
      "metadata": {
        "id": "EZ7ZIvMIz0eu"
      }
    },
    {
      "cell_type": "code",
      "source": [
        "import sympy as sp\n",
        "x, y, z = sp.symbols('x y z')"
      ],
      "metadata": {
        "id": "ZPmS7bN63Flx"
      },
      "execution_count": 36,
      "outputs": []
    },
    {
      "cell_type": "code",
      "source": [
        "v1 = sp.Matrix([1, 0, 1])\n",
        "v2 = sp.Matrix([0, 1, -1])"
      ],
      "metadata": {
        "id": "brLpdoFV3GFv"
      },
      "execution_count": 37,
      "outputs": []
    },
    {
      "cell_type": "code",
      "source": [
        "normal_vector = v1.cross(v2)"
      ],
      "metadata": {
        "id": "wDC2Ar0V3Fi3"
      },
      "execution_count": 38,
      "outputs": []
    },
    {
      "cell_type": "code",
      "source": [
        "A = sp.Matrix([1, 2, 3])"
      ],
      "metadata": {
        "id": "yNcR0w274xD9"
      },
      "execution_count": 39,
      "outputs": []
    },
    {
      "cell_type": "code",
      "source": [
        "plane_eq = normal_vector[0] * (x - A[0]) + normal_vector[1] * (y - A[1]) + normal_vector[2] * (z - A[2])"
      ],
      "metadata": {
        "id": "TpAW1BQ84xBF"
      },
      "execution_count": 40,
      "outputs": []
    },
    {
      "cell_type": "code",
      "source": [
        "plane_eq_simplified = sp.simplify(plane_eq)"
      ],
      "metadata": {
        "id": "_whz_Dhk411N"
      },
      "execution_count": 41,
      "outputs": []
    },
    {
      "cell_type": "code",
      "source": [
        "print(f\"Normal vector: {normal_vector}\")\n",
        "print(f\"Equation of the plane: {plane_eq_simplified}\")"
      ],
      "metadata": {
        "id": "wziTQv7g41y3",
        "outputId": "990a76a1-55eb-4b1e-b630-f45c22ff5d50",
        "colab": {
          "base_uri": "https://localhost:8080/"
        }
      },
      "execution_count": 42,
      "outputs": [
        {
          "output_type": "stream",
          "name": "stdout",
          "text": [
            "Normal vector: Matrix([[-1], [1], [1]])\n",
            "Equation of the plane: -x + y + z - 4\n"
          ]
        }
      ]
    },
    {
      "cell_type": "markdown",
      "source": [
        "### Problem:\n",
        "Find the equation of the plane passing through the point $A(1, 2, 3)$ and parallel to the vectors $\\vec{v_1} = [1, 0, 1]$ and $\\vec{v_2} = [0, 1, -1]$.\n",
        "\n",
        "---\n",
        "\n",
        "### Step 1: Normal Vector of the Plane\n",
        "The plane is parallel to $\\vec{v_1}$ and $\\vec{v_2}$. A vector perpendicular to both $\\vec{v_1}$ and $\\vec{v_2}$ can be found using the **cross product**:\n",
        "$$\n",
        "\\vec{n} = \\vec{v_1} \\times \\vec{v_2}\n",
        "$$\n",
        "\n",
        "$$\n",
        "\\vec{n} = \\begin{vmatrix}\n",
        "\\hat{i} & \\hat{j} & \\hat{k} \\\\\n",
        "1 & 0 & 1 \\\\\n",
        "0 & 1 & -1\n",
        "\\end{vmatrix}\n",
        "$$\n",
        "\n",
        "Expanding the determinant:\n",
        "$$\n",
        "\\vec{n} = \\hat{i} \\begin{vmatrix} 0 & 1 \\\\ 1 & -1 \\end{vmatrix}\n",
        "- \\hat{j} \\begin{vmatrix} 1 & 1 \\\\ 0 & -1 \\end{vmatrix}\n",
        "+ \\hat{k} \\begin{vmatrix} 1 & 0 \\\\ 0 & 1 \\end{vmatrix}\n",
        "$$\n",
        "\n",
        "$$\n",
        "\\vec{n} = \\hat{i} (0 \\cdot -1 - 1 \\cdot 1) - \\hat{j} (1 \\cdot -1 - 1 \\cdot 0) + \\hat{k} (1 \\cdot 1 - 0 \\cdot 0)\n",
        "$$\n",
        "\n",
        "$$\n",
        "\\vec{n} = \\hat{i} (-1) - \\hat{j} (-1) + \\hat{k} (1)\n",
        "$$\n",
        "\n",
        "$$\n",
        "\\vec{n} = [-1, 1, 1]\n",
        "$$\n",
        "\n",
        "The normal vector of the plane is $\\vec{n} = [-1, 1, 1]$.\n",
        "\n",
        "---\n",
        "\n",
        "### Step 2: Equation of the Plane\n",
        "The equation of a plane is given by:\n",
        "$$\n",
        "n_1(x - x_1) + n_2(y - y_1) + n_3(z - z_1) = 0\n",
        "$$\n",
        "where $\\vec{n} = [n_1, n_2, n_3]$ is the normal vector, and $(x_1, y_1, z_1)$ is a point on the plane.\n",
        "\n",
        "Substitute:\n",
        "- $\\vec{n} = [-1, 1, 1]$\n",
        "- $A(1, 2, 3)$\n",
        "\n",
        "$$\n",
        "-1(x - 1) + 1(y - 2) + 1(z - 3) = 0\n",
        "$$\n",
        "\n",
        "Simplify:\n",
        "$$\n",
        "-x + 1 + y - 2 + z - 3 = 0\n",
        "$$\n",
        "\n",
        "$$\n",
        "-x + y + z - 4 = 0\n",
        "$$\n",
        "\n",
        "---\n",
        "\n",
        "### Final Answer:\n",
        "The equation of the plane is:\n",
        "$$\n",
        "x - y - z + 4 = 0\n",
        "$$\n"
      ],
      "metadata": {
        "id": "o2ihNZuN3GVe"
      }
    }
  ]
}