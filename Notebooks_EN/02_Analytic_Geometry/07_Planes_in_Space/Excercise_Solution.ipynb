{
  "nbformat": 4,
  "nbformat_minor": 0,
  "metadata": {
    "colab": {
      "provenance": []
    },
    "kernelspec": {
      "name": "python3",
      "display_name": "Python 3"
    },
    "language_info": {
      "name": "python"
    }
  },
  "cells": [
    {
      "cell_type": "markdown",
      "source": [
        "# Exercises\n",
        "\n",
        "* The plane passes through points $A(1, 2, 3)$, $B(3, 4, 5)$, and $C(2, 1, 4)$. Find the equation of the plane.\n",
        "* The plane passes through point $A(1, 2, 3)$ and is parallel to the plane $2x + 3y + 4z = 5$. Find the equation of the plane.\n",
        "* The plane passes through point $A(1, 2, 3)$ and is perpendicular to the normal vector $\\vec{n} = [2, 3, 4]$. Find the equation of the plane.\n",
        "* We have two planes $2x + 3y + 4z = 5$ and $3x + 4y + 2z = 6$. Find the line of intersection of these planes.\n",
        "* Write the equation of the plane passing through point $A(1, 2, 3)$ and parallel to vectors $\\vec{v_1} = [1, 0, 1]$ and $\\vec{v_2} = [0, 1, -1]$.\n",
        "* We have the plane $2x + 3y + 4z = 5$. Find an example of a plane parallel and perpendicular to it.\n",
        "* We have the plane $2x + 3y + 4z = 5$ and point $A(1, 2, 3)$. Find the distance from point $A$ to this plane.\n",
        "* The plane intersects the coordinate axes at points $A(2, 0, 0)$, $B(0, 3, 0)$, and $C(0, 0, 4)$. Find the equation of the plane.\n",
        "* Calculate the angle between the plane $x + y + z = 1$ and the plane $x = 0$ (i.e., the $yz$ plane).\n",
        "* Find the vector perpendicular to the plane $x + y + z = 1$."
      ],
      "metadata": {
        "id": "3wgcdwT5hFQH"
      }
    },
    {
      "cell_type": "code",
      "source": [
        "import numpy as np   #Exercise 1\n",
        "\n",
        "A = np.array([1, 2, 3])\n",
        "B = np.array([3, 4, 5])\n",
        "C = np.array([2, 1, 4])"
      ],
      "metadata": {
        "id": "LqItIWt0g7mb"
      },
      "execution_count": null,
      "outputs": []
    },
    {
      "cell_type": "code",
      "source": [
        "AB = B - A\n",
        "AC = C - A"
      ],
      "metadata": {
        "id": "V0HvoosCY8HB"
      },
      "execution_count": null,
      "outputs": []
    },
    {
      "cell_type": "code",
      "source": [
        "normal_vector = np.cross(AB, AC)"
      ],
      "metadata": {
        "id": "yQR_0IZ1Y8Ah"
      },
      "execution_count": null,
      "outputs": []
    },
    {
      "cell_type": "code",
      "source": [
        "A_coef, B_coef, C_coef = normal_vector\n",
        "D_coef = -np.dot(normal_vector, A)"
      ],
      "metadata": {
        "id": "Sum5zr_Ga0-4"
      },
      "execution_count": null,
      "outputs": []
    },
    {
      "cell_type": "code",
      "source": [
        "print(f\"The equation of the plane is: {A_coef}x + {B_coef}y + {C_coef}z + {D_coef} = 0\")"
      ],
      "metadata": {
        "id": "2sOhv5r-a00q",
        "outputId": "1b44fda6-3d13-456e-d297-41a68f8d6335",
        "colab": {
          "base_uri": "https://localhost:8080/"
        }
      },
      "execution_count": null,
      "outputs": [
        {
          "output_type": "stream",
          "name": "stdout",
          "text": [
            "The equation of the plane is: 4x + 0y + -4z + 8 = 0\n"
          ]
        }
      ]
    },
    {
      "cell_type": "markdown",
      "source": [
        "### Solution\n",
        "\n",
        "\n",
        "$$\n",
        "a(x - x_0) + b(y - y_0) + c(z - z_0) = 0\n",
        "$$\n",
        "\n",
        "#### Step 1: Find two vectors on the plane\n",
        "\n",
        "$$\n",
        "\\vec{AB} = \\langle 3 - 1, 4 - 2, 5 - 3 \\rangle = \\langle 2, 2, 2 \\rangle\n",
        "$$\n",
        "$$\n",
        "\\vec{AC} = \\langle 2 - 1, 1 - 2, 4 - 3 \\rangle = \\langle 1, -1, 1 \\rangle\n",
        "$$\n",
        "\n",
        "#### Step 2: Compute the normal vector\n",
        "\n",
        "$$\n",
        "\\vec{n} = \\vec{AB} \\times \\vec{AC}\n",
        "$$\n",
        "\n",
        "$$\n",
        "\\vec{n} = \\begin{vmatrix}\n",
        "\\mathbf{i} & \\mathbf{j} & \\mathbf{k} \\\\\n",
        "2 & 2 & 2 \\\\\n",
        "1 & -1 & 1\n",
        "\\end{vmatrix}\n",
        "$$\n",
        "\n",
        "$$\n",
        "\\vec{n} = \\mathbf{i} \\begin{vmatrix} 2 & 2 \\\\ -1 & 1 \\end{vmatrix} - \\mathbf{j} \\begin{vmatrix} 2 & 2 \\\\ 1 & 1 \\end{vmatrix} + \\mathbf{k} \\begin{vmatrix} 2 & 2 \\\\ 1 & -1 \\end{vmatrix}\n",
        "$$\n",
        "$$\n",
        "\\vec{n} = \\mathbf{i} (2 - (-2)) - \\mathbf{j} (2 - 2) + \\mathbf{k} (-2 - 2)\n",
        "$$\n",
        "$$\n",
        "\\vec{n} = \\mathbf{i}(4) - \\mathbf{j}(0) + \\mathbf{k}(-4)\n",
        "$$\n",
        "$$\n",
        "\\vec{n} = \\langle 4, 0, -4 \\rangle\n",
        "$$\n",
        "\n",
        "#### Step 3: Write the equation of the plane\n",
        "\n",
        "$$\n",
        "4(x - 1) + 0(y - 2) - 4(z - 3) = 0\n",
        "$$\n",
        "Simplify:\n",
        "$$\n",
        "4x - 4 - 4z + 12 = 0\n",
        "$$\n",
        "$$\n",
        "4x - 4z + 8 = 0\n",
        "$$\n",
        "\n",
        "#### Final Answer\n",
        "\n",
        "$$\n",
        "4x - 4z + 8 = 0\n",
        "$$\n"
      ],
      "metadata": {
        "id": "wRMUfc0HZcxu"
      }
    },
    {
      "cell_type": "code",
      "source": [
        "import sympy as sp #Exercise 2\n",
        "\n",
        "# Define variables\n",
        "x, y, z = sp.symbols('x y z')"
      ],
      "metadata": {
        "id": "sX6nuAtHbTcB"
      },
      "execution_count": null,
      "outputs": []
    },
    {
      "cell_type": "code",
      "source": [
        "A = (1, 2, 3)  # Point on the plane\n",
        "normal_vector = (2, 3, 4)  # Normal vector to the plane"
      ],
      "metadata": {
        "id": "onTvG0PibTXN"
      },
      "execution_count": null,
      "outputs": []
    },
    {
      "cell_type": "code",
      "source": [
        "x0, y0, z0 = A\n",
        "a, b, c = normal_vector"
      ],
      "metadata": {
        "id": "mV4tLE9AbTP9"
      },
      "execution_count": null,
      "outputs": []
    },
    {
      "cell_type": "code",
      "source": [
        "plane_eq = a * (x - x0) + b * (y - y0) + c * (z - z0)"
      ],
      "metadata": {
        "id": "6_kWUli9bifj"
      },
      "execution_count": null,
      "outputs": []
    },
    {
      "cell_type": "code",
      "source": [
        "plane_eq_simplified = sp.expand(plane_eq)\n",
        "plane_eq_simplified"
      ],
      "metadata": {
        "id": "15NhqA0Ybk2v",
        "outputId": "683484ae-8ab2-446f-9254-468ec7cfa34c",
        "colab": {
          "base_uri": "https://localhost:8080/",
          "height": 38
        }
      },
      "execution_count": null,
      "outputs": [
        {
          "output_type": "execute_result",
          "data": {
            "text/plain": [
              "2*x + 3*y + 4*z - 20"
            ],
            "text/latex": "$\\displaystyle 2 x + 3 y + 4 z - 20$"
          },
          "metadata": {},
          "execution_count": 23
        }
      ]
    },
    {
      "cell_type": "markdown",
      "source": [
        "### Solution\n",
        "\n",
        "#### Step 1: General Form of the Plane\n",
        "\n",
        "$$\n",
        "2x + 3y + 4z + D = 0\n",
        "$$\n",
        "\n",
        "#### Step 2: Substitute Point \\(A(1, 2, 3)\\) into the Plane Equation\n",
        "\n",
        "$$\n",
        "2(1) + 3(2) + 4(3) + D = 0\n",
        "$$\n",
        "\n",
        "\n",
        "$$\n",
        "2 + 6 + 12 + D = 0\n",
        "$$\n",
        "$$\n",
        "20 + D = 0\n",
        "$$\n",
        "$$\n",
        "D = -20\n",
        "$$\n",
        "\n",
        "#### Step 3: Write the Equation of the Plane\n",
        "\n",
        "$$\n",
        "2x + 3y + 4z - 20 = 0\n",
        "$$\n",
        "\n",
        "### Final Answer\n",
        "\n",
        "\n",
        "$$\n",
        "2x + 3y + 4z - 20 = 0\n",
        "$$\n"
      ],
      "metadata": {
        "id": "oDuyjsc3bTod"
      }
    },
    {
      "cell_type": "code",
      "source": [
        "import sympy as sp  #Exercise 3\n",
        "x, y, z = sp.symbols('x y z')"
      ],
      "metadata": {
        "id": "fncTXoVUwpyY"
      },
      "execution_count": null,
      "outputs": []
    },
    {
      "cell_type": "code",
      "source": [
        "point = (1, 2, 3)  # A point on the plane\n",
        "normal_vector = (2, 3, 4)  # Normal vector to the plane"
      ],
      "metadata": {
        "id": "iivewgKPwpt-"
      },
      "execution_count": null,
      "outputs": []
    },
    {
      "cell_type": "code",
      "source": [
        "x1, y1, z1 = point\n",
        "A, B, C = normal_vector"
      ],
      "metadata": {
        "id": "AX8-lRkUwpn7"
      },
      "execution_count": null,
      "outputs": []
    },
    {
      "cell_type": "code",
      "source": [
        "plane_equation = A * (x - x1) + B * (y - y1) + C * (z - z1)\n"
      ],
      "metadata": {
        "id": "aK-H70TpxBSM"
      },
      "execution_count": null,
      "outputs": []
    },
    {
      "cell_type": "code",
      "source": [
        "plane_equation = sp.simplify(plane_equation)"
      ],
      "metadata": {
        "id": "k2HWLIZvxBHQ"
      },
      "execution_count": null,
      "outputs": []
    },
    {
      "cell_type": "code",
      "source": [
        "print(f\"The equation of the plane is: {plane_equation} = 0\")"
      ],
      "metadata": {
        "id": "2G74hFYnxASP",
        "outputId": "caa3705e-d77f-48e3-cd68-abb04e8cc04e",
        "colab": {
          "base_uri": "https://localhost:8080/"
        }
      },
      "execution_count": null,
      "outputs": [
        {
          "output_type": "stream",
          "name": "stdout",
          "text": [
            "The equation of the plane is: 2*x + 3*y + 4*z - 20 = 0\n"
          ]
        }
      ]
    },
    {
      "cell_type": "markdown",
      "source": [
        "**Step 1: Writing the General Equation of the Plane**\n",
        "\n",
        "\n",
        "$Ax + By + Cz = D$\n",
        "\n",
        "\n",
        "**Step 2: Substituting the Given Information**\n",
        "\n",
        "Given:\n",
        "- The plane passes through the point $A(1, 2, 3)$.\n",
        "- The normal vector to the plane is $\\vec{n} = [2, 3, 4]$.\n",
        "\n",
        "$2x + 3y + 4z = D$\n",
        "\n",
        "**Step 3: Using the Point to Find $D$**\n",
        "\n",
        "\n",
        "$2(1) + 3(2) + 4(3) = D$\n",
        "\n",
        "$2 + 6 + 12 = D$\n",
        "\n",
        "$D = 20$\n",
        "\n",
        "**Step 4: Final Equation of the Plane**\n",
        "\n",
        "\n",
        "$2x + 3y + 4z = 20$\n",
        "\n",
        "**Final Answer:**\n",
        "\n",
        "$2x + 3y + 4z = 20$\n"
      ],
      "metadata": {
        "id": "1f1dfMlWwp_l"
      }
    },
    {
      "cell_type": "code",
      "source": [
        "import sympy as sp  # Exercise 4\n",
        "x, y, z, t = sp.symbols('x y z t')"
      ],
      "metadata": {
        "id": "E3YkJFQ2z0SN"
      },
      "execution_count": null,
      "outputs": []
    },
    {
      "cell_type": "code",
      "source": [
        "plane1 = 2 * x + 3 * y + 4 * z - 5\n",
        "plane2 = 3 * x + 4 * y + 2 * z - 6"
      ],
      "metadata": {
        "id": "0sjmRa_yz0Or"
      },
      "execution_count": null,
      "outputs": []
    },
    {
      "cell_type": "code",
      "source": [
        "n1 = sp.Matrix([2, 3, 4])  # Normal vector of plane 1\n",
        "n2 = sp.Matrix([3, 4, 2])  # Normal vector of plane 2\n",
        "direction_vector = n1.cross(n2)"
      ],
      "metadata": {
        "id": "7eQf4NeQz0K9"
      },
      "execution_count": null,
      "outputs": []
    },
    {
      "cell_type": "code",
      "source": [
        "solution = sp.solve([plane1.subs(z, 0), plane2.subs(z, 0)], [x, y])\n",
        "point_on_line = (solution[x], solution[y], 0)"
      ],
      "metadata": {
        "id": "P5U79WyO1HK3"
      },
      "execution_count": null,
      "outputs": []
    },
    {
      "cell_type": "code",
      "source": [
        "parametric_line = (\n",
        "    point_on_line[0] + t * direction_vector[0],\n",
        "    point_on_line[1] + t * direction_vector[1],\n",
        "    point_on_line[2] + t * direction_vector[2],\n",
        ")\n"
      ],
      "metadata": {
        "id": "JSdIurXZ1HEg"
      },
      "execution_count": null,
      "outputs": []
    },
    {
      "cell_type": "code",
      "source": [
        "print(f\"Direction vector of the line: {direction_vector}\")\n",
        "print(f\"Point on the line: {point_on_line}\")\n",
        "print(f\"Parametric equation of the line: x = {parametric_line[0]}, y = {parametric_line[1]}, z = {parametric_line[2]}\")"
      ],
      "metadata": {
        "id": "L-nh9-Cx1HB0",
        "outputId": "a65ba8c0-d5ee-4cdc-faa9-8c932d75cf66",
        "colab": {
          "base_uri": "https://localhost:8080/"
        }
      },
      "execution_count": null,
      "outputs": [
        {
          "output_type": "stream",
          "name": "stdout",
          "text": [
            "Direction vector of the line: Matrix([[-10], [8], [-1]])\n",
            "Point on the line: (-2, 3, 0)\n",
            "Parametric equation of the line: x = -10*t - 2, y = 8*t + 3, z = -t\n"
          ]
        }
      ]
    },
    {
      "cell_type": "markdown",
      "source": [
        "### Finding the Line of Intersection of Two Planes\n",
        "\n",
        "#### Given Planes:\n",
        "1. $$2x + 3y + 4z = 5$$\n",
        "2. $$3x + 4y + 2z = 6$$\n",
        "\n",
        "### Step 1: Direction Vector of the Line\n",
        "\n",
        "$$\n",
        "\\vec{d} = \\begin{vmatrix}\n",
        "\\hat{i} & \\hat{j} & \\hat{k} \\\\\n",
        "2 & 3 & 4 \\\\\n",
        "3 & 4 & 2\n",
        "\\end{vmatrix}\n",
        "$$\n",
        "\n",
        "\n",
        "$$\n",
        "\\vec{d} = \\hat{i} \\begin{vmatrix} 3 & 4 \\\\ 4 & 2 \\end{vmatrix}\n",
        "- \\hat{j} \\begin{vmatrix} 2 & 4 \\\\ 3 & 2 \\end{vmatrix}\n",
        "+ \\hat{k} \\begin{vmatrix} 2 & 3 \\\\ 3 & 4 \\end{vmatrix}\n",
        "$$\n",
        "\n",
        "$$\n",
        "\\vec{d} = \\hat{i} (3 \\cdot 2 - 4 \\cdot 4) - \\hat{j} (2 \\cdot 2 - 4 \\cdot 3) + \\hat{k} (2 \\cdot 4 - 3 \\cdot 3)\n",
        "$$\n",
        "\n",
        "$$\n",
        "\\vec{d} = \\hat{i} (-10) - \\hat{j} (-8) + \\hat{k} (-1)\n",
        "$$\n",
        "\n",
        "$$\n",
        "\\vec{d} = [-10, 8, -1]\n",
        "$$\n",
        "\n",
        "\n",
        "### Step 2: Finding a Point on the Line\n",
        "Assume $z = 0$ for simplicity.\n",
        "\n",
        "#### Substituting $z = 0$:\n",
        "1. From the first plane: $$2x + 3y = 5$$\n",
        "2. From the second plane: $$3x + 4y = 6$$\n",
        "\n",
        "\n",
        "$$\n",
        "2x + 3y = 5\n",
        "$$\n",
        "$$\n",
        "3x + 4y = 6\n",
        "$$\n",
        "\n",
        "$$\n",
        "6x + 9y = 15\n",
        "$$\n",
        "$$\n",
        "6x + 8y = 12\n",
        "$$\n",
        "\n",
        "\n",
        "$$\n",
        "y = 3\n",
        "$$\n",
        "\n",
        "\n",
        "$$\n",
        "2x + 3(3) = 5\n",
        "$$\n",
        "$$\n",
        "2x + 9 = 5\n",
        "$$\n",
        "$$\n",
        "2x = -4 \\implies x = -2\n",
        "$$\n",
        "\n",
        "Thus, a point on the line is $(-2, 3, 0)$.\n",
        "\n",
        "\n",
        "### Step 3: Parametric Equation of the Line\n",
        "\n",
        "$$\n",
        "\\vec{r}(t) = \\vec{p} + t \\vec{d}\n",
        "$$\n",
        "\n",
        "$$\n",
        "x = -2 - 10t, \\quad y = 3 + 8t, \\quad z = -t\n",
        "$$\n",
        "\n",
        "\n",
        "\n",
        "### Final Answer:\n",
        "$$\n",
        "x = -2 - 10t, \\quad y = 3 + 8t, \\quad z = -t, \\quad t \\in \\mathbb{R}.\n",
        "$$\n"
      ],
      "metadata": {
        "id": "EZ7ZIvMIz0eu"
      }
    },
    {
      "cell_type": "code",
      "source": [
        "import sympy as sp #Exercise 5\n",
        "x, y, z = sp.symbols('x y z')"
      ],
      "metadata": {
        "id": "ZPmS7bN63Flx"
      },
      "execution_count": null,
      "outputs": []
    },
    {
      "cell_type": "code",
      "source": [
        "v1 = sp.Matrix([1, 0, 1])\n",
        "v2 = sp.Matrix([0, 1, -1])"
      ],
      "metadata": {
        "id": "brLpdoFV3GFv"
      },
      "execution_count": null,
      "outputs": []
    },
    {
      "cell_type": "code",
      "source": [
        "normal_vector = v1.cross(v2)"
      ],
      "metadata": {
        "id": "wDC2Ar0V3Fi3"
      },
      "execution_count": null,
      "outputs": []
    },
    {
      "cell_type": "code",
      "source": [
        "A = sp.Matrix([1, 2, 3])"
      ],
      "metadata": {
        "id": "yNcR0w274xD9"
      },
      "execution_count": null,
      "outputs": []
    },
    {
      "cell_type": "code",
      "source": [
        "plane_eq = normal_vector[0] * (x - A[0]) + normal_vector[1] * (y - A[1]) + normal_vector[2] * (z - A[2])"
      ],
      "metadata": {
        "id": "TpAW1BQ84xBF"
      },
      "execution_count": null,
      "outputs": []
    },
    {
      "cell_type": "code",
      "source": [
        "plane_eq_simplified = sp.simplify(plane_eq)"
      ],
      "metadata": {
        "id": "_whz_Dhk411N"
      },
      "execution_count": null,
      "outputs": []
    },
    {
      "cell_type": "code",
      "source": [
        "print(f\"Normal vector: {normal_vector}\")\n",
        "print(f\"Equation of the plane: {plane_eq_simplified}\")"
      ],
      "metadata": {
        "id": "wziTQv7g41y3",
        "outputId": "990a76a1-55eb-4b1e-b630-f45c22ff5d50",
        "colab": {
          "base_uri": "https://localhost:8080/"
        }
      },
      "execution_count": null,
      "outputs": [
        {
          "output_type": "stream",
          "name": "stdout",
          "text": [
            "Normal vector: Matrix([[-1], [1], [1]])\n",
            "Equation of the plane: -x + y + z - 4\n"
          ]
        }
      ]
    },
    {
      "cell_type": "markdown",
      "source": [
        "### Step 1: Normal Vector of the Plane\n",
        "\n",
        "$$\n",
        "\\vec{n} = \\vec{v_1} \\times \\vec{v_2}\n",
        "$$\n",
        "\n",
        "$$\n",
        "\\vec{n} = \\begin{vmatrix}\n",
        "\\hat{i} & \\hat{j} & \\hat{k} \\\\\n",
        "1 & 0 & 1 \\\\\n",
        "0 & 1 & -1\n",
        "\\end{vmatrix}\n",
        "$$\n",
        "\n",
        "\n",
        "$$\n",
        "\\vec{n} = \\hat{i} \\begin{vmatrix} 0 & 1 \\\\ 1 & -1 \\end{vmatrix}\n",
        "- \\hat{j} \\begin{vmatrix} 1 & 1 \\\\ 0 & -1 \\end{vmatrix}\n",
        "+ \\hat{k} \\begin{vmatrix} 1 & 0 \\\\ 0 & 1 \\end{vmatrix}\n",
        "$$\n",
        "\n",
        "$$\n",
        "\\vec{n} = \\hat{i} (0 \\cdot -1 - 1 \\cdot 1) - \\hat{j} (1 \\cdot -1 - 1 \\cdot 0) + \\hat{k} (1 \\cdot 1 - 0 \\cdot 0)\n",
        "$$\n",
        "\n",
        "$$\n",
        "\\vec{n} = \\hat{i} (-1) - \\hat{j} (-1) + \\hat{k} (1)\n",
        "$$\n",
        "\n",
        "$$\n",
        "\\vec{n} = [-1, 1, 1]\n",
        "$$\n",
        "\n",
        "\n",
        "### Step 2: Equation of the Plane\n",
        ":\n",
        "$$\n",
        "n_1(x - x_1) + n_2(y - y_1) + n_3(z - z_1) = 0\n",
        "$$\n",
        "\n",
        "- $\\vec{n} = [-1, 1, 1]$\n",
        "- $A(1, 2, 3)$\n",
        "\n",
        "$$\n",
        "-1(x - 1) + 1(y - 2) + 1(z - 3) = 0\n",
        "$$\n",
        "\n",
        "\n",
        "$$\n",
        "-x + 1 + y - 2 + z - 3 = 0\n",
        "$$\n",
        "\n",
        "$$\n",
        "-x + y + z - 4 = 0\n",
        "$$\n",
        "\n",
        "\n",
        "### Final Answer:\n",
        "\n",
        "$$\n",
        "x - y - z + 4 = 0\n",
        "$$\n"
      ],
      "metadata": {
        "id": "o2ihNZuN3GVe"
      }
    },
    {
      "cell_type": "code",
      "source": [
        "import sympy as sp #Exercise 6\n",
        "x, y, z = sp.symbols('x y z')"
      ],
      "metadata": {
        "id": "QERIiFmXt9Sw"
      },
      "execution_count": null,
      "outputs": []
    },
    {
      "cell_type": "code",
      "source": [
        "parallel_plane = 2 * x + 3 * y + 4 * z - 10"
      ],
      "metadata": {
        "id": "-4oXWklYt9Ms"
      },
      "execution_count": null,
      "outputs": []
    },
    {
      "cell_type": "code",
      "source": [
        "a, b, c = sp.symbols('a b c')\n",
        "orthogonality_condition = 2 * a + 3 * b + 4 * c"
      ],
      "metadata": {
        "id": "QNYUmLicwYnU"
      },
      "execution_count": null,
      "outputs": []
    },
    {
      "cell_type": "code",
      "source": [
        "c_expr = sp.solve(orthogonality_condition, c)[0]"
      ],
      "metadata": {
        "id": "RIccrMy3wYik"
      },
      "execution_count": null,
      "outputs": []
    },
    {
      "cell_type": "code",
      "source": [
        "a_value = 2\n",
        "b_value = 0\n",
        "c_value = c_expr.subs({a: a_value, b: b_value})"
      ],
      "metadata": {
        "id": "aYwX-ROXwYgM"
      },
      "execution_count": null,
      "outputs": []
    },
    {
      "cell_type": "code",
      "source": [
        "perpendicular_plane = a_value * x + b_value * y + c_value * z"
      ],
      "metadata": {
        "id": "M-YSp4VIt9JY"
      },
      "execution_count": null,
      "outputs": []
    },
    {
      "cell_type": "code",
      "source": [
        "perpendicular_plane_simplified = sp.simplify(perpendicular_plane)"
      ],
      "metadata": {
        "id": "6Yuz6q14whod"
      },
      "execution_count": null,
      "outputs": []
    },
    {
      "cell_type": "code",
      "source": [
        "print(f\"Parallel plane: {parallel_plane} = 0\")\n",
        "print(f\"Perpendicular plane: {perpendicular_plane_simplified} = 0\")"
      ],
      "metadata": {
        "id": "3XukHABPwhk5",
        "outputId": "bf51240b-af38-4777-9028-b60d2a6afeaa",
        "colab": {
          "base_uri": "https://localhost:8080/"
        }
      },
      "execution_count": null,
      "outputs": [
        {
          "output_type": "stream",
          "name": "stdout",
          "text": [
            "Parallel plane: 2*x + 3*y + 4*z - 10 = 0\n",
            "Perpendicular plane: 2*x - z = 0\n"
          ]
        }
      ]
    },
    {
      "cell_type": "markdown",
      "source": [
        "### Step 1: Parallel Plane\n",
        "\n",
        "$$\n",
        "2x + 3y + 4z = d\n",
        "$$\n",
        "\n",
        "\n",
        "### Step 2: Perpendicular Plane\n",
        "\n",
        "$$\n",
        "2a + 3b + 4c = 0\n",
        "$$\n",
        "\n",
        "  $$\n",
        "  2(1) + 3(0) + 4c = 0\n",
        "  $$\n",
        "  $$\n",
        "  2 + 4c = 0 \\implies c = -\\frac{1}{2}\n",
        "  $$\n",
        "\n",
        "\n",
        "$$\n",
        "x - \\frac{1}{2}z = 0\n",
        "$$\n",
        "\n",
        "$$\n",
        "2x - z = 0\n",
        "$$\n",
        "\n",
        "---\n",
        "\n",
        "### Final Answer:\n",
        "1. A parallel plane is:\n",
        "   $$\n",
        "   2x + 3y + 4z = 10\n",
        "   $$\n",
        "2. A perpendicular plane is:\n",
        "   $$\n",
        "   2x - z = 0\n",
        "   $$\n"
      ],
      "metadata": {
        "id": "rWFk5Kcjt9eW"
      }
    },
    {
      "cell_type": "code",
      "source": [
        "import sympy as sp #Exercise 7\n",
        "x, y, z = sp.symbols('x y z')\n"
      ],
      "metadata": {
        "id": "R0iune1-zGR-"
      },
      "execution_count": null,
      "outputs": []
    },
    {
      "cell_type": "code",
      "source": [
        "A = sp.Matrix([1, 2, 3])"
      ],
      "metadata": {
        "id": "B826G9fPzGLA"
      },
      "execution_count": null,
      "outputs": []
    },
    {
      "cell_type": "code",
      "source": [
        "a, b, c, d = 2, 3, 4, -5"
      ],
      "metadata": {
        "id": "575X4thPzGIZ"
      },
      "execution_count": null,
      "outputs": []
    },
    {
      "cell_type": "code",
      "source": [
        "distance = sp.Abs(a * A[0] + b * A[1] + c * A[2] + d) / sp.sqrt(a**2 + b**2 + c**2)"
      ],
      "metadata": {
        "id": "wKreX3Ghz2Ha"
      },
      "execution_count": null,
      "outputs": []
    },
    {
      "cell_type": "code",
      "source": [
        "distance_simplified = sp.simplify(distance)"
      ],
      "metadata": {
        "id": "duyuwFSmz2E0"
      },
      "execution_count": null,
      "outputs": []
    },
    {
      "cell_type": "code",
      "source": [
        "print(f\"Distance from point A(1, 2, 3) to the plane 2x + 3y + 4z = 5 is: {distance_simplified}\")"
      ],
      "metadata": {
        "id": "8e9PwUANz2Cd",
        "outputId": "07262b75-5154-4cfb-cf79-c31829a9adb8",
        "colab": {
          "base_uri": "https://localhost:8080/"
        }
      },
      "execution_count": null,
      "outputs": [
        {
          "output_type": "stream",
          "name": "stdout",
          "text": [
            "Distance from point A(1, 2, 3) to the plane 2x + 3y + 4z = 5 is: 15*sqrt(29)/29\n"
          ]
        }
      ]
    },
    {
      "cell_type": "markdown",
      "source": [
        "### Formula for Distance from a Point to a Plane:\n",
        "\n",
        "$$\n",
        "D = \\frac{|a x_1 + b y_1 + c z_1 + d|}{\\sqrt{a^2 + b^2 + c^2}}\n",
        "$$\n",
        "\n",
        "### Step 1: Rearrange the Plane Equation\n",
        "\n",
        "$$\n",
        "2x + 3y + 4z - 5 = 0\n",
        "$$\n",
        "\n",
        "- $a = 2$, $b = 3$, $c = 4$, and $d = -5$.\n",
        "\n",
        "\n",
        "### Step 2: Substitute Point $A(1, 2, 3)$ into the Formula\n",
        "\n",
        "$$\n",
        "D = \\frac{|2(1) + 3(2) + 4(3) - 5|}{\\sqrt{2^2 + 3^2 + 4^2}}\n",
        "$$\n",
        "\n",
        "\n",
        "\n",
        "### Step 3: Simplify the Numerator\n",
        "\n",
        "$$\n",
        "2(1) + 3(2) + 4(3) - 5 = 2 + 6 + 12 - 5 = 15\n",
        "$$\n",
        "\n",
        "$$\n",
        "|15| = 15\n",
        "$$\n",
        "\n",
        "\n",
        "\n",
        "### Step 4: Simplify the Denominator\n",
        "$$\n",
        "\\sqrt{2^2 + 3^2 + 4^2} = \\sqrt{4 + 9 + 16} = \\sqrt{29}\n",
        "$$\n",
        "\n",
        "\n",
        "\n",
        "### Step 5: Compute the Distance\n",
        "\n",
        "$$\n",
        "D = \\frac{15}{\\sqrt{29}}\n",
        "$$\n",
        "\n",
        "$$\n",
        "D = \\frac{15\\sqrt{29}}{29}\n",
        "$$\n",
        "\n",
        "\n",
        "### Final Answer:\n",
        "The distance from the point $A(1, 2, 3)$ to the plane $2x + 3y + 4z = 5$ is:\n",
        "$$\n",
        "D = \\frac{15}{\\sqrt{29}} \\text{ or } D = \\frac{15\\sqrt{29}}{29}.\n",
        "$$\n"
      ],
      "metadata": {
        "id": "kmr7-HbbzGh1"
      }
    },
    {
      "cell_type": "code",
      "source": [
        "import sympy as sp #Exercise 8\n",
        "x, y, z = sp.symbols('x y z')"
      ],
      "metadata": {
        "id": "PLeYa7nKATuz"
      },
      "execution_count": null,
      "outputs": []
    },
    {
      "cell_type": "code",
      "source": [
        "x0, y0, z0 = 2, 3, 4"
      ],
      "metadata": {
        "id": "gN4flrZQATox"
      },
      "execution_count": null,
      "outputs": []
    },
    {
      "cell_type": "code",
      "source": [
        "plane_eq = (x / x0) + (y / y0) + (z / z0) - 1"
      ],
      "metadata": {
        "id": "2sj5X20bAThf"
      },
      "execution_count": null,
      "outputs": []
    },
    {
      "cell_type": "code",
      "source": [
        "lcd = 12\n",
        "plane_eq_lcd = sp.simplify(plane_eq * lcd)"
      ],
      "metadata": {
        "id": "GsE6TeseAbXW"
      },
      "execution_count": null,
      "outputs": []
    },
    {
      "cell_type": "code",
      "source": [
        "print(f\"Equation of the plane: {plane_eq_lcd}\")"
      ],
      "metadata": {
        "id": "soPY4KNkAc83",
        "outputId": "5eb5cb84-d086-4866-d906-d9edb5d2fbbe",
        "colab": {
          "base_uri": "https://localhost:8080/"
        }
      },
      "execution_count": null,
      "outputs": [
        {
          "output_type": "stream",
          "name": "stdout",
          "text": [
            "Equation of the plane: 6*x + 4*y + 3*z - 12\n"
          ]
        }
      ]
    },
    {
      "cell_type": "markdown",
      "source": [
        "### Step 1: General Form of Plane Equation\n",
        "\n",
        "$$\n",
        "ax + by + cz = d\n",
        "$$\n",
        "\n",
        "\n",
        "### Step 2: Use the intercept form\n",
        "\n",
        "$$\n",
        "\\frac{x}{x_0} + \\frac{y}{y_0} + \\frac{z}{z_0} = 1\n",
        "$$\n",
        "\n",
        "\n",
        "### Step 3: Substitute the intercepts\n",
        "For the given points:\n",
        "- $A(2, 0, 0)$ gives the x-intercept $x_0 = 2$,\n",
        "- $B(0, 3, 0)$ gives the y-intercept $y_0 = 3$,\n",
        "- $C(0, 0, 4)$ gives the z-intercept $z_0 = 4$.\n",
        "\n",
        "$$\n",
        "\\frac{x}{2} + \\frac{y}{3} + \\frac{z}{4} = 1\n",
        "$$\n",
        "\n",
        "\n",
        "\n",
        "### Step 4: Multiply through by the least common denominator (LCD)\n",
        "\n",
        "$$\n",
        "12 \\left( \\frac{x}{2} + \\frac{y}{3} + \\frac{z}{4} \\right) = 12\n",
        "$$\n",
        "\n",
        "$$\n",
        "6x + 4y + 3z = 12\n",
        "$$\n",
        "\n",
        "\n",
        "### Final Answer:\n",
        "\n",
        "$$\n",
        "6x + 4y + 3z = 12\n",
        "$$\n"
      ],
      "metadata": {
        "id": "NGW6qrQRAR-H"
      }
    },
    {
      "cell_type": "code",
      "source": [
        "import sympy as sp #Exercise 9\n",
        "\n",
        "n1 = sp.Matrix([1, 1, 1])  # Normal vector of the plane x + y + z = 1\n",
        "n2 = sp.Matrix([1, 0, 0])  # Normal vector of the plane x = 0\n"
      ],
      "metadata": {
        "id": "Jp8pahjGCeNM"
      },
      "execution_count": null,
      "outputs": []
    },
    {
      "cell_type": "code",
      "source": [
        "dot_product = n1.dot(n2)"
      ],
      "metadata": {
        "id": "SlD1UI6PCeCZ"
      },
      "execution_count": null,
      "outputs": []
    },
    {
      "cell_type": "code",
      "source": [
        "magnitude_n1 = n1.norm()\n",
        "magnitude_n2 = n2.norm()"
      ],
      "metadata": {
        "id": "1gPtcmOqCd_i"
      },
      "execution_count": null,
      "outputs": []
    },
    {
      "cell_type": "code",
      "source": [
        "cos_theta = dot_product / (magnitude_n1 * magnitude_n2)"
      ],
      "metadata": {
        "id": "OQ-vg9D8CmCr"
      },
      "execution_count": null,
      "outputs": []
    },
    {
      "cell_type": "code",
      "source": [
        "theta_radians = sp.acos(cos_theta)\n",
        "theta_degrees = sp.deg(theta_radians)"
      ],
      "metadata": {
        "id": "DcX0L6VbCl9q"
      },
      "execution_count": null,
      "outputs": []
    },
    {
      "cell_type": "code",
      "source": [
        "print(f\"Angle between the planes in radians: {theta_radians}\")\n",
        "print(f\"Angle between the planes in degrees: {theta_degrees}\")"
      ],
      "metadata": {
        "id": "1rpXTzfRCl1h",
        "outputId": "437eb84c-d441-4a9c-b253-d23b80cb85e9",
        "colab": {
          "base_uri": "https://localhost:8080/"
        }
      },
      "execution_count": null,
      "outputs": [
        {
          "output_type": "stream",
          "name": "stdout",
          "text": [
            "Angle between the planes in radians: acos(sqrt(3)/3)\n",
            "Angle between the planes in degrees: 180*acos(sqrt(3)/3)/pi\n"
          ]
        }
      ]
    },
    {
      "cell_type": "markdown",
      "source": [
        "### Step 1: Find the Normal Vectors\n",
        "\n",
        "  $$\n",
        "  \\vec{n_1} = [1, 1, 1]\n",
        "  $$\n",
        "\n",
        "  $$\n",
        "  \\vec{n_2} = [1, 0, 0]\n",
        "  $$\n",
        "\n",
        "\n",
        "### Step 2: Calculate the Angle Between the Normal Vectors\n",
        "\n",
        "$$\n",
        "\\cos \\theta = \\frac{\\vec{n_1} \\cdot \\vec{n_2}}{|\\vec{n_1}| |\\vec{n_2}|}\n",
        "$$\n",
        "\n",
        "\n",
        "\n",
        "\n",
        "### Step 3: Compute the Dot Product\n",
        "\n",
        "$$\n",
        "\\vec{n_1} \\cdot \\vec{n_2} = 1 \\times 1 + 1 \\times 0 + 1 \\times 0 = 1\n",
        "$$\n",
        "\n",
        "---\n",
        "\n",
        "### Step 4: Compute the Magnitudes\n",
        "The magnitudes of the normal vectors are:\n",
        "$$\n",
        "|\\vec{n_1}| = \\sqrt{1^2 + 1^2 + 1^2} = \\sqrt{3}\n",
        "$$\n",
        "\n",
        "$$\n",
        "|\\vec{n_2}| = \\sqrt{1^2 + 0^2 + 0^2} = 1\n",
        "$$\n",
        "\n",
        "---\n",
        "\n",
        "### Step 5: Calculate the Angle\n",
        "\n",
        "$$\n",
        "\\cos \\theta = \\frac{1}{\\sqrt{3} \\times 1} = \\frac{1}{\\sqrt{3}}\n",
        "$$\n",
        "\n",
        "$$\n",
        "\\theta = \\cos^{-1} \\left( \\frac{1}{\\sqrt{3}} \\right)\n",
        "$$\n",
        "\n",
        "---\n",
        "\n",
        "### Step 6: Final Answer\n",
        "\n",
        "$$\n",
        "\\theta = \\cos^{-1} \\left( \\frac{1}{\\sqrt{3}} \\right) \\approx 54.74^\\circ\n",
        "$$\n",
        "\n"
      ],
      "metadata": {
        "id": "NtRA2cXmCebX"
      }
    },
    {
      "cell_type": "code",
      "source": [
        "import sympy as sp #Exercise 10\n",
        "a, b, c = 1, 1, 1"
      ],
      "metadata": {
        "id": "vxlVQ2iBC6dA"
      },
      "execution_count": null,
      "outputs": []
    },
    {
      "cell_type": "code",
      "source": [
        "normal_vector = sp.Matrix([a, b, c])"
      ],
      "metadata": {
        "id": "Im6VdnBlC6Yw"
      },
      "execution_count": null,
      "outputs": []
    },
    {
      "cell_type": "code",
      "source": [
        "print(f\"The vector perpendicular to the plane x + y + z = 1 is: {normal_vector}\")"
      ],
      "metadata": {
        "id": "qMIAn1PdC6Vr",
        "outputId": "db99075c-98f8-40ab-96f8-0809c7cb500e",
        "colab": {
          "base_uri": "https://localhost:8080/"
        }
      },
      "execution_count": null,
      "outputs": [
        {
          "output_type": "stream",
          "name": "stdout",
          "text": [
            "The vector perpendicular to the plane x + y + z = 1 is: Matrix([[1], [1], [1]])\n"
          ]
        }
      ]
    },
    {
      "cell_type": "markdown",
      "source": [
        "### Step 1: General Form of Plane Equation\n",
        "$$\n",
        "ax + by + cz + d = 0\n",
        "$$\n",
        "\n",
        "$$\n",
        "x + y + z - 1 = 0\n",
        "$$\n",
        "\n",
        "- $a = 1$, $b = 1$, and $c = 1$.\n",
        "\n",
        "$$\n",
        "\\vec{n} = [1, 1, 1]\n",
        "$$\n",
        "\n",
        "\n",
        "### Final Answer:\n",
        "$$\n",
        "\\vec{n} = [1, 1, 1]\n",
        "$$\n",
        "\n",
        "https://www.geogebra.org/calculator/jvbfspxz\n"
      ],
      "metadata": {
        "id": "Yh1RA1BoC6p-"
      }
    }
  ]
}