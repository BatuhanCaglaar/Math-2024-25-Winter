{
  "nbformat": 4,
  "nbformat_minor": 0,
  "metadata": {
    "colab": {
      "provenance": []
    },
    "kernelspec": {
      "name": "python3",
      "display_name": "Python 3"
    },
    "language_info": {
      "name": "python"
    }
  },
  "cells": [
    {
      "cell_type": "markdown",
      "source": [
        "# Exercises\n",
        "\n",
        "* Write the equation of a sphere with center at point $P=(1,2,3)$ and radius $r=3$.\n",
        "* Do the spheres with equations $x^2 + y^2 + z^2 = 1$ and $x^2 + y^2 + z^2 = 2$ have any common points?\n",
        "* What curve in space is formed by the intersection of the sphere $x^2 + y^2 + z^2 = 1$ with the sphere $(x-1)^2 + y^2 + z^2 = 1$? Find the equation of this curve.\n",
        "* Write the equation of the tangent plane to the paraboloid $z=(x-1)^2+y^2+1$ at point $P=(1,0,1)$.\n",
        "\n"
      ],
      "metadata": {
        "id": "3wgcdwT5hFQH"
      }
    },
    {
      "cell_type": "code",
      "source": [
        "from sympy import symbols, Eq #Exercise 1\n",
        "x, y, z = symbols('x y z')"
      ],
      "metadata": {
        "id": "LqItIWt0g7mb"
      },
      "execution_count": 4,
      "outputs": []
    },
    {
      "cell_type": "code",
      "source": [
        "center = (1, 2, 3)\n",
        "radius = 3"
      ],
      "metadata": {
        "id": "HYHs9zwhIYjv"
      },
      "execution_count": 5,
      "outputs": []
    },
    {
      "cell_type": "code",
      "source": [
        "sphere_eq = Eq((x - center[0])**2 + (y - center[1])**2 + (z - center[2])**2, radius**2)"
      ],
      "metadata": {
        "id": "tws1Nd4qIYdr"
      },
      "execution_count": 6,
      "outputs": []
    },
    {
      "cell_type": "code",
      "source": [
        "sphere_eq\n"
      ],
      "metadata": {
        "id": "icJ-_FjII4t3",
        "outputId": "f1374893-1feb-40d3-b368-dfafcb68b8b2",
        "colab": {
          "base_uri": "https://localhost:8080/",
          "height": 40
        }
      },
      "execution_count": 7,
      "outputs": [
        {
          "output_type": "execute_result",
          "data": {
            "text/plain": [
              "Eq((x - 1)**2 + (y - 2)**2 + (z - 3)**2, 9)"
            ],
            "text/latex": "$\\displaystyle \\left(x - 1\\right)^{2} + \\left(y - 2\\right)^{2} + \\left(z - 3\\right)^{2} = 9$"
          },
          "metadata": {},
          "execution_count": 7
        }
      ]
    },
    {
      "cell_type": "markdown",
      "source": [
        "### Solution\n",
        "\n",
        "$$\n",
        "(x - x_0)^2 + (y - y_0)^2 + (z - z_0)^2 = r^2\n",
        "$$\n",
        "\n",
        "$$\n",
        "(x - 1)^2 + (y - 2)^2 + (z - 3)^2 = 9\n",
        "$$\n",
        "\n",
        "### Answer\n",
        "\n",
        "$$\n",
        "(x - 1)^2 + (y - 2)^2 + (z - 3)^2 = 9\n",
        "$$\n"
      ],
      "metadata": {
        "id": "uK1hWQyjIi_W"
      }
    },
    {
      "cell_type": "code",
      "source": [
        "from sympy import symbols, Eq, simplify #Exercise 2\n",
        "x, y, z = symbols('x y z')"
      ],
      "metadata": {
        "id": "_7tWsl7lPDeD"
      },
      "execution_count": 12,
      "outputs": []
    },
    {
      "cell_type": "code",
      "source": [
        "sphere1 = Eq(x**2 + y**2 + z**2, 1)\n",
        "sphere2 = Eq(x**2 + y**2 + z**2, 2)"
      ],
      "metadata": {
        "id": "rIPtVvL8PDV6"
      },
      "execution_count": 13,
      "outputs": []
    },
    {
      "cell_type": "code",
      "source": [
        "difference = simplify(sphere1.lhs - sphere2.lhs)\n",
        "difference"
      ],
      "metadata": {
        "id": "2B7aYA0TPDTE",
        "outputId": "4ce30485-9b6f-4f35-aa65-5feab5ea1533",
        "colab": {
          "base_uri": "https://localhost:8080/",
          "height": 37
        }
      },
      "execution_count": 16,
      "outputs": [
        {
          "output_type": "execute_result",
          "data": {
            "text/plain": [
              "0"
            ],
            "text/latex": "$\\displaystyle 0$"
          },
          "metadata": {},
          "execution_count": 16
        }
      ]
    },
    {
      "cell_type": "code",
      "source": [
        "if difference == 0:\n",
        "    print(\"The spheres coincide and share all points.\")\n",
        "else:\n",
        "    print(\"The spheres do not have any common points.\")\n"
      ],
      "metadata": {
        "id": "NmHfthOTPQry",
        "outputId": "66397c1c-c302-4a21-9b7a-fe2a2891f7f2",
        "colab": {
          "base_uri": "https://localhost:8080/"
        }
      },
      "execution_count": 15,
      "outputs": [
        {
          "output_type": "stream",
          "name": "stdout",
          "text": [
            "The spheres coincide and share all points.\n"
          ]
        }
      ]
    },
    {
      "cell_type": "markdown",
      "source": [
        "### Solution\n",
        "\n",
        "#### Step 1: Analyze the Sphere Equations\n",
        "$$\n",
        "x^2 + y^2 + z^2 = r^2\n",
        "$$\n",
        "\n",
        "#### Step 2: Determine Relative Positions of the Spheres\n",
        "\n",
        "$$\n",
        "\\text{Distance} = \\sqrt{(0 - 0)^2 + (0 - 0)^2 + (0 - 0)^2} = 0\n",
        "$$\n",
        "\n",
        "#### Step 3: Check for Intersection\n",
        "For two concentric spheres, they only intersect if they are identical. However:\n",
        "- Sphere 1 has radius $1$,\n",
        "- Sphere 2 has radius $\\sqrt{2}$.\n",
        "\n",
        "Since the radii are different, the spheres do not intersect, and they have no common points.\n",
        "\n",
        "\n",
        "### Final Answer\n",
        "The spheres $x^2 + y^2 + z^2 = 1$ and $x^2 + y^2 + z^2 = 2$ do **not** have any common points.\n"
      ],
      "metadata": {
        "id": "u888aWhmPDuw"
      }
    },
    {
      "cell_type": "code",
      "source": [
        "from sympy import symbols, Eq, solve #Exercise 3\n",
        "x, y, z = symbols('x y z')"
      ],
      "metadata": {
        "id": "CT0QohJHQvF_"
      },
      "execution_count": 17,
      "outputs": []
    },
    {
      "cell_type": "code",
      "source": [
        "sphere1 = Eq(x**2 + y**2 + z**2, 1)\n",
        "sphere2 = Eq((x - 1)**2 + y**2 + z**2, 1)"
      ],
      "metadata": {
        "id": "GcpB5n6yQvB0"
      },
      "execution_count": 18,
      "outputs": []
    },
    {
      "cell_type": "code",
      "source": [
        "sphere2_expanded = Eq(x**2 - 2*x + 1 + y**2 + z**2, 1)"
      ],
      "metadata": {
        "id": "6gdDgGMxQu_b"
      },
      "execution_count": 19,
      "outputs": []
    },
    {
      "cell_type": "code",
      "source": [
        "plane = Eq((x**2 + y**2 + z**2) - (x**2 + y**2 + z**2), (2*x - 1))\n",
        "plane_simplified = Eq(2*x, 1)"
      ],
      "metadata": {
        "id": "gkHxXGFsQ8mv"
      },
      "execution_count": 20,
      "outputs": []
    },
    {
      "cell_type": "code",
      "source": [
        "x_plane = solve(plane_simplified, x)[0]"
      ],
      "metadata": {
        "id": "tkcZm7obQ8kK"
      },
      "execution_count": 21,
      "outputs": []
    },
    {
      "cell_type": "code",
      "source": [
        "circle_eq = sphere1.subs(x, x_plane)"
      ],
      "metadata": {
        "id": "KFiNv0I0Q8hU"
      },
      "execution_count": 22,
      "outputs": []
    },
    {
      "cell_type": "code",
      "source": [
        "circle_simplified = Eq(y**2 + z**2, solve(circle_eq, y**2 + z**2)[0])"
      ],
      "metadata": {
        "id": "Wx326_wvQ_D3"
      },
      "execution_count": 23,
      "outputs": []
    },
    {
      "cell_type": "code",
      "source": [
        "print(\"Equation of the plane of intersection:\", plane_simplified)\n",
        "print(\"Equation of the circle in the plane:\", circle_simplified)"
      ],
      "metadata": {
        "id": "4NHNDqprQ_BE",
        "outputId": "39bb5a0d-b709-418f-f140-0b9a7775c116",
        "colab": {
          "base_uri": "https://localhost:8080/"
        }
      },
      "execution_count": 24,
      "outputs": [
        {
          "output_type": "stream",
          "name": "stdout",
          "text": [
            "Equation of the plane of intersection: Eq(2*x, 1)\n",
            "Equation of the circle in the plane: Eq(y**2 + z**2, 3/4)\n"
          ]
        }
      ]
    },
    {
      "cell_type": "markdown",
      "source": [
        "### Step 1: Write the equations of the spheres\n",
        "1. Sphere 1: $x^2 + y^2 + z^2 = 1$\n",
        "2. Sphere 2: $(x-1)^2 + y^2 + z^2 = 1$\n",
        "\n",
        "\n",
        "$$\n",
        "(x-1)^2 + y^2 + z^2 = x^2 - 2x + 1 + y^2 + z^2 = 1\n",
        "$$\n",
        "\n",
        "\n",
        "$$\n",
        "x^2 - 2x + 1 + y^2 + z^2 = 1 \\implies x^2 + y^2 + z^2 - 2x = 0\n",
        "$$\n",
        "\n",
        "\n",
        "$$\n",
        "x^2 + y^2 + z^2 = 2x\n",
        "$$\n",
        "\n",
        "\n",
        "### Step 2: Subtract the equations of the spheres\n",
        "\n",
        "$$\n",
        "(x^2 + y^2 + z^2) - (x^2 + y^2 + z^2) = 2x - 1\n",
        "$$\n",
        "\n",
        "\n",
        "$$\n",
        "2x = 1 \\implies x = \\frac{1}{2}\n",
        "$$\n",
        "\n",
        "---\n",
        "\n",
        "### Step 3: Find the equation of the curve\n",
        "\n",
        "$$\n",
        "\\left(\\frac{1}{2}\\right)^2 + y^2 + z^2 = 1\n",
        "$$\n",
        "\n",
        "\n",
        "$$\n",
        "\\frac{1}{4} + y^2 + z^2 = 1 \\implies y^2 + z^2 = \\frac{3}{4}\n",
        "$$\n",
        "\n",
        "This is the equation of a circle in the plane $x = \\frac{1}{2}$ with center at $\\left(\\frac{1}{2}, 0, 0\\right)$ and radius $\\sqrt{\\frac{3}{4}} = \\frac{\\sqrt{3}}{2}$.\n",
        "\n",
        "---\n",
        "\n",
        "### Final Answer:\n",
        "- **Center**: $\\left(\\frac{1}{2}, 0, 0\\right)$\n",
        "- **Radius**: $\\frac{\\sqrt{3}}{2}$\n",
        "- **Equation**:\n",
        "$$\n",
        "x = \\frac{1}{2}, \\quad y^2 + z^2 = \\frac{3}{4}\n",
        "$$\n"
      ],
      "metadata": {
        "id": "ooQINCWAQunp"
      }
    },
    {
      "cell_type": "code",
      "source": [
        "from sympy import symbols, diff, Eq\n",
        "x, y, z = symbols('x y z')"
      ],
      "metadata": {
        "id": "Kkev-udmTMIA"
      },
      "execution_count": 25,
      "outputs": []
    },
    {
      "cell_type": "code",
      "source": [
        "f = z - ((x - 1)**2 + y**2 + 1)"
      ],
      "metadata": {
        "id": "20xIdob7TMFo"
      },
      "execution_count": 26,
      "outputs": []
    },
    {
      "cell_type": "code",
      "source": [
        "f_x = diff(f, x)\n",
        "f_y = diff(f, y)\n",
        "f_z = diff(f, z)\n"
      ],
      "metadata": {
        "id": "PejvMfnvTMDT"
      },
      "execution_count": 27,
      "outputs": []
    },
    {
      "cell_type": "code",
      "source": [
        "f_x_at_P = f_x.subs({x: 1, y: 0, z: 1})\n",
        "f_y_at_P = f_y.subs({x: 1, y: 0, z: 1})\n",
        "f_z_at_P = f_z.subs({x: 1, y: 0, z: 1})\n"
      ],
      "metadata": {
        "id": "ajPyiJCbTY9L"
      },
      "execution_count": 28,
      "outputs": []
    },
    {
      "cell_type": "code",
      "source": [
        "tangent_plane = Eq(f_x_at_P * (x - 1) + f_y_at_P * (y - 0) + f_z_at_P * (z - 1), 0)"
      ],
      "metadata": {
        "id": "ob5Bb4SuTY60"
      },
      "execution_count": 29,
      "outputs": []
    },
    {
      "cell_type": "code",
      "source": [
        "tangent_plane_simplified = tangent_plane.simplify()\n",
        "tangent_plane_simplified"
      ],
      "metadata": {
        "id": "uB9SiJBTTY4c",
        "outputId": "d2f3ce92-9624-4195-e22f-bc004c2c071c",
        "colab": {
          "base_uri": "https://localhost:8080/",
          "height": 38
        }
      },
      "execution_count": 30,
      "outputs": [
        {
          "output_type": "execute_result",
          "data": {
            "text/plain": [
              "Eq(z, 1)"
            ],
            "text/latex": "$\\displaystyle z = 1$"
          },
          "metadata": {},
          "execution_count": 30
        }
      ]
    },
    {
      "cell_type": "markdown",
      "source": [
        "### Solution:\n",
        "\n",
        "$$\n",
        "F_x(x_0, y_0, z_0)(x - x_0) + F_y(x_0, y_0, z_0)(y - y_0) + F_z(x_0, y_0, z_0)(z - z_0) = 0\n",
        "$$\n",
        "\n",
        "\n",
        "\n",
        "#### Step 1: Rewrite the surface equation\n",
        "\n",
        "$$\n",
        "F(x, y, z) = z - (x-1)^2 - y^2 - 1 = 0\n",
        "$$\n",
        "\n",
        "#### Step 2: Compute partial derivatives\n",
        "\n",
        "\n",
        "- $( F_x = \\frac{\\partial}{\\partial x}(z - (x-1)^2 - y^2 - 1) = -2(x-1) )$\n",
        "- $( F_y = \\frac{\\partial}{\\partial y}(z - (x-1)^2 - y^2 - 1) = -2y )$\n",
        "- $( F_z = \\frac{\\partial}{\\partial z}(z - (x-1)^2 - y^2 - 1) = 1 )$\n",
        "\n",
        "\n",
        "#### Step 3: Evaluate partial derivatives at $( P = (1, 0, 1) )$\n",
        "\n",
        "- $( F_x(1, 0, 1) = -2(1-1) = 0 )$\n",
        "- $( F_y(1, 0, 1) = -2(0) = 0 )$\n",
        "- $( F_z(1, 0, 1) = 1 )$\n",
        "\n",
        "---\n",
        "\n",
        "#### Step 4: Write the tangent plane equation\n",
        "\n",
        "$$\n",
        "F_x(1, 0, 1)(x - 1) + F_y(1, 0, 1)(y - 0) + F_z(1, 0, 1)(z - 1) = 0\n",
        "$$\n",
        "\n",
        "\n",
        "$$\n",
        "0(x - 1) + 0(y - 0) + 1(z - 1) = 0\n",
        "$$\n",
        "\n",
        "\n",
        "$$\n",
        "z - 1 = 0\n",
        "$$\n",
        "\n",
        "\n",
        "\n",
        "### Final Answer:\n",
        "\n",
        "$$\n",
        "z = 1\n",
        "$$\n"
      ],
      "metadata": {
        "id": "rBYWY5IaTMW3"
      }
    }
  ]
}
